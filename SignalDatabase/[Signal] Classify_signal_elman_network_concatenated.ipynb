{
 "cells": [
  {
   "cell_type": "code",
   "execution_count": 2,
   "metadata": {},
   "outputs": [
    {
     "name": "stderr",
     "output_type": "stream",
     "text": [
      "Using TensorFlow backend.\n"
     ]
    }
   ],
   "source": [
    "import tensorflow\n",
    "import numpy as np\n",
    "from keras.models import Sequential\n",
    "from keras.layers import Dense, Flatten\n",
    "from keras.layers import TimeDistributed\n",
    "from keras.layers import SimpleRNN"
   ]
  },
  {
   "cell_type": "code",
   "execution_count": 3,
   "metadata": {},
   "outputs": [],
   "source": [
    "f50 = np.load(\"f50.npy\")\n",
    "f100 = np.load(\"f100.npy\")\n",
    "f150 = np.load(\"f150.npy\")\n",
    "f200 = np.load(\"f200.npy\")\n",
    "f50_100 = np.load(\"f50_100.npy\")"
   ]
  },
  {
   "cell_type": "code",
   "execution_count": 4,
   "metadata": {},
   "outputs": [],
   "source": [
    "f50_100_target = []\n",
    "for i in range(100):\n",
    "    for j in range(1000):\n",
    "        zero_um = (0,1)\n",
    "        f50_100_target.append(zero_um)\n",
    "\n",
    "for i in range(100):\n",
    "    for j in range(1000):\n",
    "        um_zero = (1,0)\n",
    "        f50_100_target.append(um_zero)"
   ]
  },
  {
   "cell_type": "code",
   "execution_count": 4,
   "metadata": {},
   "outputs": [],
   "source": [
    "# f50_100_target"
   ]
  },
  {
   "cell_type": "code",
   "execution_count": 5,
   "metadata": {},
   "outputs": [],
   "source": [
    "X = np.reshape(f50_100, (200000, 1, 1))\n",
    "y = np.array(f50_100_target)"
   ]
  },
  {
   "cell_type": "code",
   "execution_count": 17,
   "metadata": {},
   "outputs": [
    {
     "data": {
      "text/plain": [
       "(200000, 1, 1)"
      ]
     },
     "execution_count": 17,
     "metadata": {},
     "output_type": "execute_result"
    }
   ],
   "source": [
    "X.shape"
   ]
  },
  {
   "cell_type": "code",
   "execution_count": 92,
   "metadata": {},
   "outputs": [],
   "source": [
    "f_test = np.concatenate((f50[0], f100[0]))"
   ]
  },
  {
   "cell_type": "code",
   "execution_count": 95,
   "metadata": {},
   "outputs": [
    {
     "data": {
      "text/plain": [
       "2000"
      ]
     },
     "execution_count": 95,
     "metadata": {},
     "output_type": "execute_result"
    }
   ],
   "source": [
    "f_test.size"
   ]
  },
  {
   "cell_type": "code",
   "execution_count": 127,
   "metadata": {},
   "outputs": [],
   "source": [
    "f_target = []\n",
    "for j in range(1000):\n",
    "    zero_um = (0,1)\n",
    "    f_target.append(zero_um)\n",
    "\n",
    "for j in range(1000):\n",
    "    um_zero = (1,0)\n",
    "    f_target.append(um_zero)\n",
    "    \n",
    "f_target = np.array(f_target)"
   ]
  },
  {
   "cell_type": "code",
   "execution_count": 128,
   "metadata": {},
   "outputs": [
    {
     "data": {
      "text/plain": [
       "array([1, 1, 1, ..., 1, 1, 1])"
      ]
     },
     "execution_count": 128,
     "metadata": {},
     "output_type": "execute_result"
    }
   ],
   "source": [
    "np.sum(f_target,axis=1)"
   ]
  },
  {
   "cell_type": "code",
   "execution_count": 137,
   "metadata": {},
   "outputs": [
    {
     "name": "stdout",
     "output_type": "stream",
     "text": [
      "1000\n",
      "1000\n"
     ]
    }
   ],
   "source": [
    "su_01=sum([i[0] for i in f_target])\n",
    "su_10=sum([i[1] for i in f_target])\n",
    "print (su_01)\n",
    "print (su_10)"
   ]
  },
  {
   "cell_type": "code",
   "execution_count": 97,
   "metadata": {},
   "outputs": [
    {
     "data": {
      "text/plain": [
       "array([0.34744393, 0.33874101, 0.330009  , ..., 0.41109657, 0.3941345 ,\n",
       "       0.3770371 ])"
      ]
     },
     "execution_count": 97,
     "metadata": {},
     "output_type": "execute_result"
    }
   ],
   "source": [
    "f_test"
   ]
  },
  {
   "cell_type": "code",
   "execution_count": 147,
   "metadata": {},
   "outputs": [],
   "source": [
    "f_test_5 = np.array([f_test, f_test, f_test, f_test, f_test])\n",
    "f_target_5 = np.array([f_target, f_target, f_target, f_target, f_target])"
   ]
  },
  {
   "cell_type": "code",
   "execution_count": 151,
   "metadata": {},
   "outputs": [
    {
     "data": {
      "text/plain": [
       "(5, 2000)"
      ]
     },
     "execution_count": 151,
     "metadata": {},
     "output_type": "execute_result"
    }
   ],
   "source": [
    "f_test_5.shape"
   ]
  },
  {
   "cell_type": "code",
   "execution_count": null,
   "metadata": {},
   "outputs": [],
   "source": []
  },
  {
   "cell_type": "code",
   "execution_count": 150,
   "metadata": {},
   "outputs": [
    {
     "data": {
      "text/plain": [
       "(5, 2000, 2)"
      ]
     },
     "execution_count": 150,
     "metadata": {},
     "output_type": "execute_result"
    }
   ],
   "source": [
    "f_target_5.shape"
   ]
  },
  {
   "cell_type": "code",
   "execution_count": 160,
   "metadata": {},
   "outputs": [],
   "source": [
    "X = np.reshape(f_test_5, (5, 2000, 1))\n",
    "y = np.array(f_target_5)"
   ]
  },
  {
   "cell_type": "code",
   "execution_count": 157,
   "metadata": {},
   "outputs": [
    {
     "data": {
      "text/plain": [
       "(5, 2000, 1)"
      ]
     },
     "execution_count": 157,
     "metadata": {},
     "output_type": "execute_result"
    }
   ],
   "source": [
    "X.shape"
   ]
  },
  {
   "cell_type": "code",
   "execution_count": 158,
   "metadata": {},
   "outputs": [
    {
     "data": {
      "text/plain": [
       "(5, 2000, 2)"
      ]
     },
     "execution_count": 158,
     "metadata": {},
     "output_type": "execute_result"
    }
   ],
   "source": [
    "y.shape"
   ]
  },
  {
   "cell_type": "code",
   "execution_count": 20,
   "metadata": {},
   "outputs": [],
   "source": [
    "X = np.reshape(f50_100, (200000, 1, 1))\n",
    "y = np.array(f50_100_target)"
   ]
  },
  {
   "cell_type": "code",
   "execution_count": 6,
   "metadata": {},
   "outputs": [
    {
     "name": "stdout",
     "output_type": "stream",
     "text": [
      "nro de neurônios na hidden layer: 32\n"
     ]
    }
   ],
   "source": [
    "import math\n",
    "n_input_layer = 1000\n",
    "n_output_layer = 1\n",
    "n_hidden_layer = round(math.sqrt((n_input_layer*n_output_layer)))\n",
    "print(\"nro de neurônios na hidden layer:\", n_hidden_layer)"
   ]
  },
  {
   "cell_type": "code",
   "execution_count": 7,
   "metadata": {},
   "outputs": [],
   "source": [
    "from keras.callbacks import EarlyStopping\n",
    "from matplotlib import pyplot"
   ]
  },
  {
   "cell_type": "code",
   "execution_count": 8,
   "metadata": {
    "scrolled": true
   },
   "outputs": [
    {
     "name": "stdout",
     "output_type": "stream",
     "text": [
      "Model: \"sequential_1\"\n",
      "_________________________________________________________________\n",
      "Layer (type)                 Output Shape              Param #   \n",
      "=================================================================\n",
      "simple_rnn_1 (SimpleRNN)     (1, 32)                   1088      \n",
      "_________________________________________________________________\n",
      "dense_1 (Dense)              (1, 2)                    66        \n",
      "=================================================================\n",
      "Total params: 1,154\n",
      "Trainable params: 1,154\n",
      "Non-trainable params: 0\n",
      "_________________________________________________________________\n"
     ]
    }
   ],
   "source": [
    "model=Sequential()\n",
    "model.add(SimpleRNN(n_hidden_layer, \n",
    "                    input_shape=(None,1), \n",
    "                    kernel_initializer='random_normal',\n",
    "                    stateful = True,\n",
    "                    batch_size = 1\n",
    "                    ))\n",
    "model.add(Dense(2, activation='softmax'))\n",
    "model.compile(loss = 'mse', optimizer = 'adam')\n",
    "model.summary()"
   ]
  },
  {
   "cell_type": "code",
   "execution_count": 9,
   "metadata": {
    "scrolled": true
   },
   "outputs": [
    {
     "data": {
      "image/png": "[encoded data removed]",
      "text/plain": [
       "<IPython.core.display.Image object>"
      ]
     },
     "execution_count": 9,
     "metadata": {},
     "output_type": "execute_result"
    }
   ],
   "source": [
    "from keras.utils.vis_utils import plot_model\n",
    "import graphviz\n",
    "from interface import implements, Interface\n",
    "plot_model(model, to_file='model_plot.png', show_shapes=True, show_layer_names=True)"
   ]
  },
  {
   "cell_type": "code",
   "execution_count": 10,
   "metadata": {},
   "outputs": [],
   "source": [
    "# simple early stopping\n",
    "es = EarlyStopping(monitor='val_loss', mode='min', verbose=1)"
   ]
  },
  {
   "cell_type": "code",
   "execution_count": 19,
   "metadata": {},
   "outputs": [
    {
     "ename": "ValueError",
     "evalue": "Error when checking input: expected simple_rnn_1_input to have 3 dimensions, but got array with shape (200000, 1)",
     "output_type": "error",
     "traceback": [
      "\u001b[0;31m---------------------------------------------------------------------------\u001b[0m",
      "\u001b[0;31mValueError\u001b[0m                                Traceback (most recent call last)",
      "\u001b[0;32m<timed exec>\u001b[0m in \u001b[0;36m<module>\u001b[0;34m\u001b[0m\n",
      "\u001b[0;32m~/miniconda/lib/python3.7/site-packages/keras/engine/training.py\u001b[0m in \u001b[0;36mfit\u001b[0;34m(self, x, y, batch_size, epochs, verbose, callbacks, validation_split, validation_data, shuffle, class_weight, sample_weight, initial_epoch, steps_per_epoch, validation_steps, validation_freq, max_queue_size, workers, use_multiprocessing, **kwargs)\u001b[0m\n\u001b[1;32m   1152\u001b[0m             \u001b[0msample_weight\u001b[0m\u001b[0;34m=\u001b[0m\u001b[0msample_weight\u001b[0m\u001b[0;34m,\u001b[0m\u001b[0;34m\u001b[0m\u001b[0;34m\u001b[0m\u001b[0m\n\u001b[1;32m   1153\u001b[0m             \u001b[0mclass_weight\u001b[0m\u001b[0;34m=\u001b[0m\u001b[0mclass_weight\u001b[0m\u001b[0;34m,\u001b[0m\u001b[0;34m\u001b[0m\u001b[0;34m\u001b[0m\u001b[0m\n\u001b[0;32m-> 1154\u001b[0;31m             batch_size=batch_size)\n\u001b[0m\u001b[1;32m   1155\u001b[0m \u001b[0;34m\u001b[0m\u001b[0m\n\u001b[1;32m   1156\u001b[0m         \u001b[0;31m# Prepare validation data.\u001b[0m\u001b[0;34m\u001b[0m\u001b[0;34m\u001b[0m\u001b[0;34m\u001b[0m\u001b[0m\n",
      "\u001b[0;32m~/miniconda/lib/python3.7/site-packages/keras/engine/training.py\u001b[0m in \u001b[0;36m_standardize_user_data\u001b[0;34m(self, x, y, sample_weight, class_weight, check_array_lengths, batch_size)\u001b[0m\n\u001b[1;32m    577\u001b[0m             \u001b[0mfeed_input_shapes\u001b[0m\u001b[0;34m,\u001b[0m\u001b[0;34m\u001b[0m\u001b[0;34m\u001b[0m\u001b[0m\n\u001b[1;32m    578\u001b[0m             \u001b[0mcheck_batch_axis\u001b[0m\u001b[0;34m=\u001b[0m\u001b[0;32mFalse\u001b[0m\u001b[0;34m,\u001b[0m  \u001b[0;31m# Don't enforce the batch size.\u001b[0m\u001b[0;34m\u001b[0m\u001b[0;34m\u001b[0m\u001b[0m\n\u001b[0;32m--> 579\u001b[0;31m             exception_prefix='input')\n\u001b[0m\u001b[1;32m    580\u001b[0m \u001b[0;34m\u001b[0m\u001b[0m\n\u001b[1;32m    581\u001b[0m         \u001b[0;32mif\u001b[0m \u001b[0my\u001b[0m \u001b[0;32mis\u001b[0m \u001b[0;32mnot\u001b[0m \u001b[0;32mNone\u001b[0m\u001b[0;34m:\u001b[0m\u001b[0;34m\u001b[0m\u001b[0;34m\u001b[0m\u001b[0m\n",
      "\u001b[0;32m~/miniconda/lib/python3.7/site-packages/keras/engine/training_utils.py\u001b[0m in \u001b[0;36mstandardize_input_data\u001b[0;34m(data, names, shapes, check_batch_axis, exception_prefix)\u001b[0m\n\u001b[1;32m    133\u001b[0m                         \u001b[0;34m': expected '\u001b[0m \u001b[0;34m+\u001b[0m \u001b[0mnames\u001b[0m\u001b[0;34m[\u001b[0m\u001b[0mi\u001b[0m\u001b[0;34m]\u001b[0m \u001b[0;34m+\u001b[0m \u001b[0;34m' to have '\u001b[0m \u001b[0;34m+\u001b[0m\u001b[0;34m\u001b[0m\u001b[0;34m\u001b[0m\u001b[0m\n\u001b[1;32m    134\u001b[0m                         \u001b[0mstr\u001b[0m\u001b[0;34m(\u001b[0m\u001b[0mlen\u001b[0m\u001b[0;34m(\u001b[0m\u001b[0mshape\u001b[0m\u001b[0;34m)\u001b[0m\u001b[0;34m)\u001b[0m \u001b[0;34m+\u001b[0m \u001b[0;34m' dimensions, but got array '\u001b[0m\u001b[0;34m\u001b[0m\u001b[0;34m\u001b[0m\u001b[0m\n\u001b[0;32m--> 135\u001b[0;31m                         'with shape ' + str(data_shape))\n\u001b[0m\u001b[1;32m    136\u001b[0m                 \u001b[0;32mif\u001b[0m \u001b[0;32mnot\u001b[0m \u001b[0mcheck_batch_axis\u001b[0m\u001b[0;34m:\u001b[0m\u001b[0;34m\u001b[0m\u001b[0;34m\u001b[0m\u001b[0m\n\u001b[1;32m    137\u001b[0m                     \u001b[0mdata_shape\u001b[0m \u001b[0;34m=\u001b[0m \u001b[0mdata_shape\u001b[0m\u001b[0;34m[\u001b[0m\u001b[0;36m1\u001b[0m\u001b[0;34m:\u001b[0m\u001b[0;34m]\u001b[0m\u001b[0;34m\u001b[0m\u001b[0;34m\u001b[0m\u001b[0m\n",
      "\u001b[0;31mValueError\u001b[0m: Error when checking input: expected simple_rnn_1_input to have 3 dimensions, but got array with shape (200000, 1)"
     ]
    }
   ],
   "source": [
    "%%time\n",
    "history = model.fit(X, y, epochs = 5, batch_size = 1)"
   ]
  },
  {
   "cell_type": "code",
   "execution_count": 141,
   "metadata": {},
   "outputs": [
    {
     "name": "stdout",
     "output_type": "stream",
     "text": [
      "dict_keys(['loss'])\n"
     ]
    }
   ],
   "source": [
    "# list all data in history\n",
    "print(history.history.keys())"
   ]
  },
  {
   "cell_type": "code",
   "execution_count": 142,
   "metadata": {},
   "outputs": [
    {
     "data": {
      "text/plain": [
       "[<matplotlib.lines.Line2D at 0x7fbc21cf1810>]"
      ]
     },
     "execution_count": 142,
     "metadata": {},
     "output_type": "execute_result"
    },
    {
     "data": {
      "image/png": "[encoded data removed]",
      "text/plain": [
       "<Figure size 432x288 with 1 Axes>"
      ]
     },
     "metadata": {
      "needs_background": "light"
     },
     "output_type": "display_data"
    }
   ],
   "source": [
    "import matplotlib.pyplot as plt\n",
    "# summarize history for accuracy\n",
    "plt.plot(history.history['loss'], label='train')\n",
    "# plt.plot(history.history['accuracy'], label='test')"
   ]
  },
  {
   "cell_type": "code",
   "execution_count": 15,
   "metadata": {},
   "outputs": [
    {
     "name": "stdout",
     "output_type": "stream",
     "text": [
      "Saved model to disk\n"
     ]
    }
   ],
   "source": [
    "# serialize model to JSON\n",
    "model_json = model.to_json()\n",
    "with open(\"model.json\", \"w\") as json_file:\n",
    "    json_file.write(model_json)\n",
    "# serialize weights to HDF5\n",
    "model.save_weights(\"model.h5\")\n",
    "print(\"Saved model to disk\")"
   ]
  },
  {
   "cell_type": "code",
   "execution_count": 16,
   "metadata": {},
   "outputs": [],
   "source": [
    "pi = 3.1415\n",
    "N = 1000\n",
    "t = np.arange(0,N)\n",
    "f = 100"
   ]
  },
  {
   "cell_type": "code",
   "execution_count": 17,
   "metadata": {},
   "outputs": [],
   "source": [
    "qtd_amostras = 20\n",
    "test = []\n",
    "test_target = []\n",
    "\n",
    "f = 50\n",
    "for onda_da_frequencia in range(qtd_amostras):\n",
    "    x=np.sin(2*pi*f*t+np.random.rand(1)) \n",
    "    test_target.append(zero_um)\n",
    "    test.append(x)\n",
    "    \n",
    "f = 100\n",
    "for onda_da_frequencia in range(qtd_amostras):\n",
    "    x=np.sin(2*pi*f*t+np.random.rand(1))    \n",
    "    test_target.append(um_zero)\n",
    "    test.append(x)\n",
    "    \n",
    "test = np.reshape(test, (40, 1000, 1))"
   ]
  },
  {
   "cell_type": "code",
   "execution_count": 18,
   "metadata": {},
   "outputs": [
    {
     "data": {
      "text/plain": [
       "[<matplotlib.lines.Line2D at 0x7fbc546b8dd0>]"
      ]
     },
     "execution_count": 18,
     "metadata": {},
     "output_type": "execute_result"
    },
    {
     "data": {
      "image/png": "[encoded data removed]",
      "text/plain": [
       "<Figure size 432x288 with 1 Axes>"
      ]
     },
     "metadata": {
      "needs_background": "light"
     },
     "output_type": "display_data"
    }
   ],
   "source": [
    "plt.plot(test[20])"
   ]
  },
  {
   "cell_type": "code",
   "execution_count": 19,
   "metadata": {},
   "outputs": [
    {
     "data": {
      "text/plain": [
       "array([0.72571769])"
      ]
     },
     "execution_count": 19,
     "metadata": {},
     "output_type": "execute_result"
    }
   ],
   "source": [
    "test[20][0]"
   ]
  },
  {
   "cell_type": "code",
   "execution_count": 20,
   "metadata": {},
   "outputs": [
    {
     "name": "stdout",
     "output_type": "stream",
     "text": [
      "[[0.6617731  0.33822688]]\n",
      "[[0.70202476 0.29797524]]\n",
      "[[0.6912589  0.30874112]]\n",
      "[[0.70168984 0.29831016]]\n",
      "[[0.6909892  0.30901077]]\n",
      "[[0.70177644 0.29822353]]\n",
      "[[0.69095427 0.30904567]]\n",
      "[[0.7017766 0.2982234]]\n",
      "[[0.6909336  0.30906636]]\n",
      "[[0.7017409  0.29825905]]\n",
      "[[0.6908996  0.30910033]]\n",
      "[[0.7016681  0.29833192]]\n",
      "[[0.6908423  0.30915767]]\n",
      "[[0.7015494  0.29845056]]\n",
      "[[0.6907503  0.30924964]]\n",
      "[[0.7013721  0.29862794]]\n",
      "[[0.6906077  0.30939227]]\n",
      "[[0.7011168 0.2988832]]\n",
      "[[0.6903912  0.30960876]]\n",
      "[[0.7007546  0.29924536]]\n",
      "[[0.6900665  0.30993348]]\n",
      "[[0.7002387  0.29976133]]\n",
      "[[0.68958104 0.3104189 ]]\n",
      "[[0.69948846 0.30051148]]\n",
      "[[0.6888498  0.31115016]]\n",
      "[[0.69835305 0.30164692]]\n",
      "[[0.68772364 0.31227633]]\n",
      "[[0.6965168  0.30348316]]\n",
      "[[0.6859169  0.31408307]]\n",
      "[[0.69323516 0.3067648 ]]\n",
      "[[0.6828637 0.3171362]]\n",
      "[[0.6866388  0.31336126]]\n",
      "[[0.6778226  0.32217732]]\n",
      "[[0.6737499  0.32625002]]\n",
      "[[0.67197233 0.3280277 ]]\n",
      "[[0.6596915 0.3403085]]\n",
      "[[0.66837543 0.33162454]]\n",
      "[[0.65488696 0.34511304]]\n",
      "[[0.6671797  0.33282024]]\n",
      "[[0.6559681  0.34403187]]\n",
      "[[0.6674499  0.33255008]]\n",
      "[[0.6589456  0.34105438]]\n",
      "[[0.66593736 0.33406264]]\n",
      "[[0.6562731  0.34372684]]\n",
      "[[0.6647955 0.3352044]]\n",
      "[[0.66160744 0.33839256]]\n",
      "[[0.6836321  0.31636795]]\n",
      "[[0.6867304  0.31326962]]\n",
      "[[0.67297196 0.32702807]]\n",
      "[[0.6499532  0.35004678]]\n",
      "[[0.66561025 0.33438975]]\n",
      "[[0.68818176 0.31181827]]\n",
      "[[0.6892111 0.3107889]]\n",
      "[[0.6446036  0.35539642]]\n",
      "[[0.6351931  0.36480677]]\n",
      "[[0.70869225 0.2913078 ]]\n",
      "[[0.64363486 0.3563651 ]]\n",
      "[[0.59667516 0.40332484]]\n",
      "[[0.64614576 0.3538542 ]]\n",
      "[[0.6528729  0.34712708]]\n",
      "[[0.66985416 0.33014587]]\n",
      "[[0.68582344 0.3141766 ]]\n",
      "[[0.65969896 0.34030107]]\n",
      "[[0.6420409 0.3579591]]\n",
      "[[0.6351652  0.36483476]]\n",
      "[[0.60524225 0.3947577 ]]\n",
      "[[0.5516136  0.44838637]]\n",
      "[[0.6386189 0.3613811]]\n",
      "[[0.562251   0.43774897]]\n",
      "[[0.6613432 0.3386568]]\n",
      "[[0.6242225 0.3757775]]\n",
      "[[0.57551605 0.4244839 ]]\n",
      "[[0.6069304  0.39306962]]\n",
      "[[0.57831126 0.42168877]]\n",
      "[[0.6661751 0.3338249]]\n",
      "[[0.6445865  0.35541356]]\n",
      "[[0.64944035 0.35055965]]\n",
      "[[0.64257723 0.3574227 ]]\n",
      "[[0.5361964  0.46380356]]\n",
      "[[0.51677305 0.4832269 ]]\n",
      "[[0.5559261  0.44407392]]\n",
      "[[0.6395324  0.36046776]]\n",
      "[[0.5818331  0.41816702]]\n",
      "[[0.5121606  0.48783955]]\n",
      "[[0.67476684 0.32523313]]\n",
      "[[0.56069267 0.43930733]]\n",
      "[[0.4931201 0.5068798]]\n",
      "[[0.5778328  0.42216715]]\n",
      "[[0.63451564 0.36548436]]\n",
      "[[0.62285113 0.37714893]]\n",
      "[[0.54267555 0.4573243 ]]\n",
      "[[0.5679138  0.43208626]]\n",
      "[[0.5268028  0.47319725]]\n",
      "[[0.54763544 0.45236447]]\n",
      "[[0.60486615 0.39513385]]\n",
      "[[0.54113734 0.45886266]]\n",
      "[[0.4777955  0.52220446]]\n",
      "[[0.5357524  0.46424755]]\n",
      "[[0.53818154 0.4618184 ]]\n",
      "[[0.53224576 0.4677542 ]]\n",
      "[[0.5532615 0.4467385]]\n",
      "[[0.5412759  0.45872396]]\n",
      "[[0.45236844 0.5476315 ]]\n",
      "[[0.48096398 0.519036  ]]\n",
      "[[0.40107596 0.5989241 ]]\n",
      "[[0.5252288 0.4747712]]\n",
      "[[0.48391867 0.51608145]]\n",
      "[[0.4295872 0.5704128]]\n",
      "[[0.49224022 0.5077598 ]]\n",
      "[[0.434555 0.565445]]\n",
      "[[0.42709392 0.572906  ]]\n",
      "[[0.46407318 0.5359269 ]]\n",
      "[[0.49068916 0.5093109 ]]\n",
      "[[0.44174665 0.55825335]]\n",
      "[[0.4413754  0.55862457]]\n",
      "[[0.37786087 0.62213916]]\n",
      "[[0.44318813 0.55681187]]\n",
      "[[0.44496915 0.5550308 ]]\n",
      "[[0.4610865 0.5389135]]\n",
      "[[0.48062998 0.5193701 ]]\n",
      "[[0.45568013 0.5443199 ]]\n",
      "[[0.45037064 0.5496294 ]]\n",
      "[[0.35883704 0.64116293]]\n",
      "[[0.47900996 0.5209901 ]]\n",
      "[[0.49937066 0.50062937]]\n",
      "[[0.46612644 0.5338736 ]]\n",
      "[[0.425237   0.57476294]]\n",
      "[[0.46544912 0.5345509 ]]\n",
      "[[0.3835865 0.6164135]]\n",
      "[[0.401337   0.59866303]]\n",
      "[[0.4302796  0.56972045]]\n",
      "[[0.37419525 0.6258047 ]]\n",
      "[[0.40756536 0.5924347 ]]\n",
      "[[0.40625057 0.59374946]]\n",
      "[[0.40006852 0.5999314 ]]\n",
      "[[0.41863495 0.58136505]]\n",
      "[[0.36892378 0.6310762 ]]\n",
      "[[0.44376782 0.5562322 ]]\n",
      "[[0.43294212 0.56705785]]\n",
      "[[0.41547525 0.58452475]]\n",
      "[[0.38351333 0.61648667]]\n",
      "[[0.38665503 0.613345  ]]\n",
      "[[0.43660492 0.56339514]]\n",
      "[[0.4062908  0.59370923]]\n",
      "[[0.38267165 0.6173284 ]]\n",
      "[[0.37149906 0.62850106]]\n",
      "[[0.37125772 0.6287423 ]]\n",
      "[[0.40117678 0.59882325]]\n",
      "[[0.39377254 0.6062275 ]]\n",
      "[[0.3700063 0.6299937]]\n",
      "[[0.39459893 0.6054011 ]]\n",
      "[[0.3704001 0.6296   ]]\n",
      "[[0.36278656 0.63721347]]\n",
      "[[0.38965455 0.6103455 ]]\n",
      "[[0.36806923 0.6319309 ]]\n",
      "[[0.36313778 0.6368622 ]]\n",
      "[[0.38033637 0.61966366]]\n",
      "[[0.36646992 0.63353014]]\n",
      "[[0.3583118 0.6416882]]\n",
      "[[0.38434488 0.6156551 ]]\n",
      "[[0.36171496 0.6382851 ]]\n",
      "[[0.34790358 0.6520964 ]]\n",
      "[[0.35379058 0.6462095 ]]\n",
      "[[0.33271646 0.6672836 ]]\n",
      "[[0.34108758 0.6589125 ]]\n",
      "[[0.34299377 0.6570063 ]]\n",
      "[[0.34492865 0.6550714 ]]\n",
      "[[0.34548658 0.6545135 ]]\n",
      "[[0.34503147 0.65496856]]\n",
      "[[0.34326002 0.65674   ]]\n",
      "[[0.34107488 0.6589251 ]]\n",
      "[[0.3391358  0.66086423]]\n",
      "[[0.33796737 0.66203266]]\n",
      "[[0.33726528 0.6627348 ]]\n",
      "[[0.33655557 0.66344446]]\n",
      "[[0.33560956 0.66439044]]\n",
      "[[0.33446372 0.6655363 ]]\n",
      "[[0.33320862 0.66679144]]\n",
      "[[0.3319675 0.6680325]]\n",
      "[[0.33085877 0.6691413 ]]\n",
      "[[0.3299536  0.67004645]]\n",
      "[[0.3292547 0.6707453]]\n",
      "[[0.32872704 0.67127293]]\n",
      "[[0.32832602 0.671674  ]]\n",
      "[[0.32801813 0.6719819 ]]\n",
      "[[0.32777804 0.67222196]]\n",
      "[[0.3275913 0.6724087]]\n",
      "[[0.32744512 0.6725549 ]]\n",
      "[[0.3273332 0.6726669]]\n",
      "[[0.32724756 0.6727525 ]]\n",
      "[[0.32718545 0.6728146 ]]\n",
      "[[0.32714087 0.6728592 ]]\n",
      "[[0.32711288 0.67288715]]\n",
      "[[0.32709673 0.6729033 ]]\n",
      "[[0.3270926 0.6729074]]\n",
      "[[0.32709625 0.6729038 ]]\n",
      "[[0.32710877 0.67289126]]\n",
      "[[0.32712635 0.6728736 ]]\n",
      "[[0.3271503 0.6728497]]\n",
      "[[0.32717758 0.6728225 ]]\n",
      "[[0.32720926 0.67279077]]\n",
      "[[0.3272431  0.67275697]]\n",
      "[[0.3272799  0.67272013]]\n",
      "[[0.32731795 0.6726821 ]]\n",
      "[[0.32735792 0.67264205]]\n",
      "[[0.32739854 0.6726015 ]]\n",
      "[[0.32744023 0.6725598 ]]\n",
      "[[0.3274821  0.67251796]]\n",
      "[[0.32752445 0.6724756 ]]\n",
      "[[0.32756668 0.6724333 ]]\n",
      "[[0.32760888 0.6723911 ]]\n",
      "[[0.32765076 0.6723493 ]]\n",
      "[[0.3276923 0.6723077]]\n",
      "[[0.32773328 0.6722668 ]]\n",
      "[[0.32777372 0.67222637]]\n",
      "[[0.32781342 0.6721866 ]]\n",
      "[[0.32785243 0.67214763]]\n",
      "[[0.32789066 0.67210937]]\n",
      "[[0.32792807 0.672072  ]]\n",
      "[[0.32796457 0.67203546]]\n",
      "[[0.3280002 0.6719999]]\n",
      "[[0.32803488 0.6719651 ]]\n",
      "[[0.32806867 0.6719314 ]]\n",
      "[[0.32810143 0.67189854]]\n",
      "[[0.32813329 0.6718668 ]]\n",
      "[[0.32816416 0.6718359 ]]\n",
      "[[0.32819405 0.671806  ]]\n",
      "[[0.328223 0.671777]]\n",
      "[[0.328251   0.67174906]]\n",
      "[[0.32827803 0.671722  ]]\n",
      "[[0.3283041  0.67169595]]\n",
      "[[0.32832924 0.6716708 ]]\n",
      "[[0.3283535 0.6716466]]\n",
      "[[0.3283768  0.67162323]]\n",
      "[[0.32839918 0.6716008 ]]\n",
      "[[0.32842073 0.6715793 ]]\n",
      "[[0.32844138 0.6715586 ]]\n",
      "[[0.32846117 0.6715389 ]]\n",
      "[[0.32848012 0.67151994]]\n",
      "[[0.32849827 0.67150176]]\n",
      "[[0.3285156 0.6714844]]\n",
      "[[0.32853213 0.6714679 ]]\n",
      "[[0.3285479  0.67145216]]\n",
      "[[0.32856292 0.67143714]]\n",
      "[[0.3285772  0.67142284]]\n",
      "[[0.32859072 0.6714093 ]]\n",
      "[[0.3286036 0.6713965]]\n",
      "[[0.3286157 0.6713844]]\n",
      "[[0.32862714 0.6713729 ]]\n",
      "[[0.3286379 0.6713621]]\n",
      "[[0.32864803 0.671352  ]]\n",
      "[[0.32865754 0.6713425 ]]\n",
      "[[0.3286664 0.6713337]]\n",
      "[[0.3286746  0.67132545]]\n",
      "[[0.32868227 0.6713178 ]]\n",
      "[[0.3286893 0.6713108]]\n",
      "[[0.32869574 0.67130435]]\n",
      "[[0.32870165 0.6712984 ]]\n",
      "[[0.32870692 0.67129314]]\n",
      "[[0.32871163 0.6712884 ]]\n",
      "[[0.32871583 0.6712842 ]]\n",
      "[[0.32871944 0.67128056]]\n",
      "[[0.32872257 0.67127746]]\n",
      "[[0.32872513 0.67127496]]\n",
      "[[0.32872713 0.67127293]]\n",
      "[[0.3287286  0.67127144]]\n",
      "[[0.32872954 0.6712705 ]]\n",
      "[[0.32872996 0.6712701 ]]\n",
      "[[0.32872984 0.6712702 ]]\n",
      "[[0.32872918 0.67127085]]\n",
      "[[0.328728   0.67127204]]\n",
      "[[0.3287263  0.67127377]]\n",
      "[[0.32872403 0.67127603]]\n",
      "[[0.32872123 0.6712788 ]]\n",
      "[[0.3287179 0.6712821]]\n",
      "[[0.32871398 0.67128605]]\n",
      "[[0.32870954 0.67129046]]\n",
      "[[0.32870457 0.6712955 ]]\n",
      "[[0.328699   0.67130107]]\n",
      "[[0.32869282 0.6713072 ]]\n",
      "[[0.32868606 0.671314  ]]\n",
      "[[0.3286787  0.67132133]]\n",
      "[[0.32867074 0.6713293 ]]\n",
      "[[0.32866216 0.67133784]]\n",
      "[[0.32865292 0.6713471 ]]\n",
      "[[0.32864305 0.671357  ]]\n",
      "[[0.32863253 0.6713675 ]]\n",
      "[[0.32862136 0.6713787 ]]\n",
      "[[0.32860944 0.6713906 ]]\n",
      "[[0.32859686 0.67140317]]\n",
      "[[0.32858354 0.67141646]]\n",
      "[[0.3285695 0.6714305]]\n",
      "[[0.32855472 0.67144537]]\n",
      "[[0.32853913 0.6714609 ]]\n",
      "[[0.32852277 0.6714773 ]]\n",
      "[[0.3285056 0.6714944]]\n",
      "[[0.3284876 0.6715124]]\n",
      "[[0.32846877 0.67153126]]\n",
      "[[0.32844907 0.6715509 ]]\n",
      "[[0.32842854 0.67157155]]\n",
      "[[0.32840705 0.67159295]]\n",
      "[[0.3283847  0.67161536]]\n",
      "[[0.32836136 0.6716386 ]]\n",
      "[[0.32833713 0.67166287]]\n",
      "[[0.32831192 0.6716881 ]]\n",
      "[[0.32828575 0.6717143 ]]\n",
      "[[0.32825857 0.6717415 ]]\n",
      "[[0.32823044 0.6717696 ]]\n",
      "[[0.32820126 0.6717988 ]]\n",
      "[[0.32817107 0.6718289 ]]\n",
      "[[0.32813987 0.67186016]]\n",
      "[[0.32810766 0.6718924 ]]\n",
      "[[0.32807443 0.6719256 ]]\n",
      "[[0.32804015 0.6719599 ]]\n",
      "[[0.3280049  0.67199516]]\n",
      "[[0.32796863 0.6720314 ]]\n",
      "[[0.32793134 0.67206866]]\n",
      "[[0.32789317 0.6721069 ]]\n",
      "[[0.327854  0.6721461]]\n",
      "[[0.32781392 0.67218614]]\n",
      "[[0.32777297 0.672227  ]]\n",
      "[[0.32773128 0.6722687 ]]\n",
      "[[0.32768884 0.6723112 ]]\n",
      "[[0.32764572 0.67235434]]\n",
      "[[0.327602   0.67239803]]\n",
      "[[0.32755777 0.67244226]]\n",
      "[[0.32751325 0.6724868 ]]\n",
      "[[0.32746848 0.67253155]]\n",
      "[[0.32742363 0.67257637]]\n",
      "[[0.32737896 0.67262113]]\n",
      "[[0.3273346 0.6726654]]\n",
      "[[0.32729086 0.67270917]]\n",
      "[[0.327248  0.6727521]]\n",
      "[[0.32720643 0.6727936 ]]\n",
      "[[0.32716638 0.6728336 ]]\n",
      "[[0.3271285 0.6728715]]\n",
      "[[0.3270932 0.6729068]]\n",
      "[[0.32706118 0.6729389 ]]\n",
      "[[0.327033 0.672967]]\n",
      "[[0.32700962 0.6729904 ]]\n",
      "[[0.32699192 0.6730081 ]]\n",
      "[[0.3269811 0.673019 ]]\n",
      "[[0.32697833 0.67302173]]\n",
      "[[0.32698527 0.67301476]]\n",
      "[[0.3270036  0.67299646]]\n",
      "[[0.32703552 0.6729645 ]]\n",
      "[[0.32708335 0.6729167 ]]\n",
      "[[0.32715014 0.6728499 ]]\n",
      "[[0.3272392  0.67276084]]\n",
      "[[0.3273547  0.67264533]]\n",
      "[[0.32750145 0.67249864]]\n",
      "[[0.3276853 0.6723147]]\n",
      "[[0.32791314 0.6720869 ]]\n",
      "[[0.32819346 0.67180663]]\n",
      "[[0.32853612 0.6714639 ]]\n",
      "[[0.3289534 0.6710467]]\n",
      "[[0.32945943 0.67054063]]\n",
      "[[0.3300711 0.6699289]]\n",
      "[[0.3308068  0.66919327]]\n",
      "[[0.33168554 0.6683145 ]]\n",
      "[[0.3327225 0.6672775]]\n",
      "[[0.3339217 0.6660783]]\n",
      "[[0.33526403 0.664736  ]]\n",
      "[[0.3366968  0.66330326]]\n",
      "[[0.3381376  0.66186243]]\n",
      "[[0.33950776 0.6604923 ]]\n",
      "[[0.34078345 0.65921664]]\n",
      "[[0.34202662 0.6579734 ]]\n",
      "[[0.34338176 0.65661824]]\n",
      "[[0.34505755 0.65494245]]\n",
      "[[0.34729046 0.65270954]]\n",
      "[[0.35013115 0.6498689 ]]\n",
      "[[0.35283443 0.6471656 ]]\n",
      "[[0.35460386 0.6453962 ]]\n",
      "[[0.35550895 0.6444911 ]]\n",
      "[[0.3557943  0.64420575]]\n",
      "[[0.35603365 0.6439664 ]]\n",
      "[[0.3563251  0.64367497]]\n",
      "[[0.35663936 0.6433607 ]]\n",
      "[[0.35689238 0.6431077 ]]\n",
      "[[0.35730535 0.6426947 ]]\n",
      "[[0.3576563  0.64234376]]\n",
      "[[0.35817128 0.6418288 ]]\n",
      "[[0.35866442 0.6413356 ]]\n",
      "[[0.35943815 0.64056194]]\n",
      "[[0.36026338 0.63973665]]\n",
      "[[0.36174518 0.6382549 ]]\n",
      "[[0.3641981 0.6358019]]\n",
      "[[0.36774072 0.6322593 ]]\n",
      "[[0.36570662 0.6342935 ]]\n",
      "[[0.35927203 0.64072806]]\n",
      "[[0.36646315 0.6335369 ]]\n",
      "[[0.36573657 0.6342634 ]]\n",
      "[[0.36456504 0.635435  ]]\n",
      "[[0.36656404 0.63343596]]\n",
      "[[0.4268387 0.5731613]]\n",
      "[[0.3764362 0.6235639]]\n",
      "[[0.40534934 0.5946507 ]]\n",
      "[[0.40933695 0.590663  ]]\n",
      "[[0.4312487 0.5687514]]\n",
      "[[0.43447942 0.5655207 ]]\n",
      "[[0.38554183 0.61445826]]\n",
      "[[0.37661067 0.6233895 ]]\n",
      "[[0.34556907 0.6544309 ]]\n",
      "[[0.4068397 0.5931604]]\n",
      "[[0.4459194  0.55408067]]\n",
      "[[0.3906061 0.6093939]]\n",
      "[[0.44276342 0.5572366 ]]\n",
      "[[0.4121283 0.5878717]]\n",
      "[[0.47984642 0.52015364]]\n",
      "[[0.5015265  0.49847355]]\n",
      "[[0.4118761 0.5881239]]\n",
      "[[0.5012779  0.49872214]]\n",
      "[[0.4820987 0.5179013]]\n",
      "[[0.39365774 0.6063423 ]]\n",
      "[[0.47461975 0.5253803 ]]\n",
      "[[0.47772858 0.5222715 ]]\n",
      "[[0.40641937 0.59358066]]\n",
      "[[0.59482336 0.4051766 ]]\n",
      "[[0.5047092  0.49529088]]\n",
      "[[0.36810395 0.6318961 ]]\n",
      "[[0.5661101  0.43388996]]\n",
      "[[0.48132896 0.518671  ]]\n",
      "[[0.40453252 0.59546745]]\n",
      "[[0.47172874 0.5282714 ]]\n",
      "[[0.5460308  0.45396924]]\n",
      "[[0.4363068 0.5636932]]\n",
      "[[0.48409885 0.51590127]]\n",
      "[[0.5027283  0.49727172]]\n",
      "[[0.44955924 0.55044085]]\n",
      "[[0.5266185  0.47338155]]\n",
      "[[0.6202757  0.37972444]]\n",
      "[[0.42628163 0.57371837]]\n",
      "[[0.5966146  0.40338534]]\n",
      "[[0.5260532  0.47394678]]\n",
      "[[0.48006183 0.5199381 ]]\n",
      "[[0.5828898  0.41711017]]\n",
      "[[0.5550963 0.4449036]]\n",
      "[[0.4375564  0.56244355]]\n",
      "[[0.55035704 0.449643  ]]\n",
      "[[0.6525006 0.3474994]]\n",
      "[[0.5913298 0.4086702]]\n"
     ]
    },
    {
     "name": "stdout",
     "output_type": "stream",
     "text": [
      "[[0.59721494 0.40278503]]\n",
      "[[0.628275 0.371725]]\n",
      "[[0.47807172 0.52192825]]\n",
      "[[0.5032596  0.49674028]]\n",
      "[[0.6578487 0.3421514]]\n",
      "[[0.6463826  0.35361752]]\n",
      "[[0.6299133  0.37008667]]\n",
      "[[0.54071623 0.45928374]]\n",
      "[[0.52381724 0.47618276]]\n",
      "[[0.5534036 0.4465964]]\n",
      "[[0.5873104 0.4126897]]\n",
      "[[0.5664889 0.4335111]]\n",
      "[[0.5703465 0.4296535]]\n",
      "[[0.5657226  0.43427736]]\n",
      "[[0.62244433 0.37755576]]\n",
      "[[0.6168671  0.38313296]]\n",
      "[[0.59776783 0.40223217]]\n",
      "[[0.6361017 0.3638983]]\n",
      "[[0.6353939  0.36460605]]\n",
      "[[0.6357237 0.3642762]]\n",
      "[[0.6568925  0.34310758]]\n",
      "[[0.6529596  0.34704036]]\n",
      "[[0.5593521 0.4406478]]\n",
      "[[0.6213294 0.3786706]]\n",
      "[[0.6545922  0.34540778]]\n",
      "[[0.65288544 0.34711462]]\n",
      "[[0.627468   0.37253204]]\n",
      "[[0.5835783  0.41642162]]\n",
      "[[0.6197083 0.3802916]]\n",
      "[[0.61101484 0.3889852 ]]\n",
      "[[0.6749102 0.3250898]]\n",
      "[[0.6683842  0.33161587]]\n",
      "[[0.6736442  0.32635587]]\n",
      "[[0.62811273 0.37188715]]\n",
      "[[0.6594431  0.34055695]]\n",
      "[[0.6495059  0.35049406]]\n",
      "[[0.5879568 0.4120431]]\n",
      "[[0.645805   0.35419503]]\n",
      "[[0.65723217 0.3427679 ]]\n",
      "[[0.6888713 0.3111287]]\n",
      "[[0.6791399  0.32086015]]\n",
      "[[0.67818946 0.32181054]]\n",
      "[[0.6854212  0.31457883]]\n",
      "[[0.6877128  0.31228724]]\n",
      "[[0.67959285 0.32040718]]\n",
      "[[0.6850487  0.31495136]]\n",
      "[[0.6904829  0.30951712]]\n",
      "[[0.68737584 0.31262425]]\n",
      "[[0.68031317 0.31968683]]\n",
      "[[0.6915648  0.30843523]]\n",
      "[[0.6947637 0.3052363]]\n",
      "[[0.6796869  0.32031313]]\n",
      "[[0.66177976 0.33822015]]\n",
      "[[0.6858353 0.3141647]]\n",
      "[[0.6811684  0.31883162]]\n",
      "[[0.68045723 0.31954274]]\n",
      "[[0.6592257  0.34077424]]\n",
      "[[0.6587602  0.34123975]]\n",
      "[[0.6683192  0.33168077]]\n",
      "[[0.6651143 0.3348857]]\n",
      "[[0.6740237  0.32597625]]\n",
      "[[0.6720029  0.32799712]]\n",
      "[[0.6753246  0.32467535]]\n",
      "[[0.6753625  0.32463738]]\n",
      "[[0.6772283  0.32277167]]\n",
      "[[0.68182904 0.31817093]]\n",
      "[[0.68076414 0.3192358 ]]\n",
      "[[0.6902037  0.30979618]]\n",
      "[[0.6853536  0.31464636]]\n",
      "[[0.69680345 0.3031965 ]]\n",
      "[[0.6883775  0.31162247]]\n",
      "[[0.6994222  0.30057785]]\n",
      "[[0.6895589  0.31044102]]\n",
      "[[0.70035917 0.29964083]]\n",
      "[[0.6901108  0.30988917]]\n",
      "[[0.7008699 0.2991301]]\n",
      "[[0.6904349  0.30956507]]\n",
      "[[0.7012037  0.29879624]]\n",
      "[[0.69063777 0.3093622 ]]\n",
      "[[0.7014303  0.29856962]]\n",
      "[[0.69076574 0.30923426]]\n",
      "[[0.70158315 0.2984168 ]]\n",
      "[[0.69084513 0.30915484]]\n",
      "[[0.70168185 0.29831815]]\n",
      "[[0.6908926  0.30910742]]\n",
      "[[0.7017386  0.29826137]]\n",
      "[[0.69091886 0.3090811 ]]\n",
      "[[0.7017618  0.29823813]]\n",
      "[[0.69093144 0.30906856]]\n",
      "[[0.70175725 0.29824275]]\n",
      "[[0.69093513 0.30906487]]\n",
      "[[0.70172876 0.29827124]]\n",
      "[[0.6909334  0.30906656]]\n",
      "[[0.7016793 0.2983207]]\n",
      "[[0.69092864 0.30907133]]\n",
      "[[0.7016108 0.2983892]]\n",
      "[[0.6909224  0.30907762]]\n",
      "[[0.70152485 0.2984752 ]]\n",
      "[[0.6909157 0.3090843]]\n",
      "[[0.70142233 0.2985776 ]]\n",
      "[[0.6909093  0.30909064]]\n",
      "[[0.70130444 0.29869553]]\n",
      "[[0.6909038 0.3090962]]\n",
      "[[0.70117176 0.2988282 ]]\n",
      "[[0.6908994  0.30910057]]\n",
      "[[0.7010251  0.29897487]]\n",
      "[[0.6908964  0.30910358]]\n",
      "[[0.70086515 0.29913482]]\n",
      "[[0.6908949  0.30910504]]\n",
      "[[0.7006927  0.29930723]]\n",
      "[[0.69089514 0.30910486]]\n",
      "[[0.70050883 0.2994912 ]]\n",
      "[[0.690897   0.30910295]]\n",
      "[[0.7003144  0.29968563]]\n",
      "[[0.6909007  0.30909926]]\n",
      "[[0.7001105 0.2998895]]\n",
      "[[0.69090617 0.30909374]]\n",
      "[[0.6998985  0.30010152]]\n",
      "[[0.69091356 0.3090864 ]]\n",
      "[[0.6996796  0.30032036]]\n",
      "[[0.69092286 0.30907708]]\n",
      "[[0.6994553  0.30054468]]\n",
      "[[0.69093406 0.30906585]]\n",
      "[[0.69922704 0.30077294]]\n",
      "[[0.6909473  0.30905268]]\n",
      "[[0.69899625 0.3010037 ]]\n",
      "[[0.69096243 0.30903754]]\n",
      "[[0.6987645  0.30123547]]\n",
      "[[0.69097954 0.3090204 ]]\n",
      "[[0.6985333 0.3014667]]\n",
      "[[0.69099855 0.3090014 ]]\n",
      "[[0.69830394 0.30169603]]\n",
      "[[0.69101954 0.30898046]]\n",
      "[[0.69807804 0.30192196]]\n",
      "[[0.6910422  0.30895773]]\n",
      "[[0.6978568  0.30214316]]\n",
      "[[0.6910667 0.3089333]]\n",
      "[[0.69764155 0.3023584 ]]\n",
      "[[0.69109267 0.3089073 ]]\n",
      "[[0.69743353 0.3025664 ]]\n",
      "[[0.69112015 0.30887988]]\n",
      "[[0.6972339  0.30276605]]\n",
      "[[0.6911487  0.30885127]]\n",
      "[[0.6970438 0.3029562]]\n",
      "[[0.6911783  0.30882168]]\n",
      "[[0.696864   0.30313596]]\n",
      "[[0.6912085  0.30879146]]\n",
      "[[0.6966956 0.3033043]]\n",
      "[[0.6912391  0.30876088]]\n",
      "[[0.6965395  0.30346045]]\n",
      "[[0.69126964 0.30873033]]\n",
      "[[0.69639647 0.30360347]]\n",
      "[[0.6912997 0.3087003]]\n",
      "[[0.69626737 0.30373266]]\n",
      "[[0.6913289  0.30867106]]\n",
      "[[0.6961528 0.3038472]]\n",
      "[[0.6913568 0.3086432]]\n",
      "[[0.69605356 0.3039464 ]]\n",
      "[[0.6913828  0.30861712]]\n",
      "[[0.69597036 0.3040296 ]]\n",
      "[[0.69140655 0.30859342]]\n",
      "[[0.6959039  0.30409604]]\n",
      "[[0.69142747 0.30857256]]\n",
      "[[0.6958549 0.3041451]]\n",
      "[[0.6914449  0.30855507]]\n",
      "[[0.695824   0.30417594]]\n",
      "[[0.6914585  0.30854145]]\n",
      "[[0.695812   0.30418795]]\n",
      "[[0.69146776 0.3085322 ]]\n",
      "[[0.69581956 0.3041804 ]]\n",
      "[[0.6914722  0.30852777]]\n",
      "[[0.69584745 0.30415255]]\n",
      "[[0.69147146 0.30852848]]\n",
      "[[0.69589627 0.30410373]]\n",
      "[[0.6914653 0.3085347]]\n",
      "[[0.6959665 0.3040335]]\n",
      "[[0.6914536  0.30854642]]\n",
      "[[0.6960585  0.30394152]]\n",
      "[[0.6914363  0.30856365]]\n",
      "[[0.6961723 0.3038277]]\n",
      "[[0.6914138  0.30858615]]\n",
      "[[0.69630754 0.30369237]]\n",
      "[[0.69138664 0.3086133 ]]\n",
      "[[0.69646347 0.30353647]]\n",
      "[[0.6913555  0.30864444]]\n",
      "[[0.6966387  0.30336124]]\n",
      "[[0.69132143 0.30867854]]\n",
      "[[0.69683146 0.30316845]]\n",
      "[[0.6912854  0.30871457]]\n",
      "[[0.6970396  0.30296037]]\n",
      "[[0.69124854 0.3087514 ]]\n",
      "[[0.6972606  0.30273935]]\n",
      "[[0.69121194 0.30878803]]\n",
      "[[0.697492   0.30250797]]\n",
      "[[0.69117635 0.30882356]]\n",
      "[[0.6977313  0.30226862]]\n",
      "[[0.6911426  0.30885738]]\n",
      "[[0.69797635 0.30202362]]\n",
      "[[0.691111   0.30888897]]\n",
      "[[0.6982251  0.30177492]]\n",
      "[[0.69108194 0.308918  ]]\n",
      "[[0.69847554 0.30152446]]\n",
      "[[0.6910556  0.30894437]]\n",
      "[[0.6987261  0.30127385]]\n",
      "[[0.69103193 0.30896804]]\n",
      "[[0.6989752  0.30102482]]\n",
      "[[0.691011   0.30898893]]\n",
      "[[0.69922113 0.3007788 ]]\n",
      "[[0.6909928  0.30900717]]\n",
      "[[0.69946265 0.30053732]]\n",
      "[[0.69097716 0.30902278]]\n",
      "[[0.69969815 0.30030182]]\n",
      "[[0.6909641 0.3090359]]\n",
      "[[0.6999263  0.30007365]]\n",
      "[[0.6909534  0.30904657]]\n",
      "[[0.7001459  0.29985407]]\n",
      "[[0.6909451 0.3090549]]\n",
      "[[0.70035565 0.29964432]]\n",
      "[[0.69093895 0.309061  ]]\n",
      "[[0.70055455 0.29944545]]\n",
      "[[0.690935   0.30906495]]\n",
      "[[0.70074147 0.29925844]]\n",
      "[[0.69093305 0.30906692]]\n",
      "[[0.70091575 0.29908422]]\n",
      "[[0.690933   0.30906698]]\n",
      "[[0.70107645 0.29892352]]\n",
      "[[0.69093466 0.3090653 ]]\n",
      "[[0.70122296 0.29877707]]\n",
      "[[0.6909378  0.30906215]]\n",
      "[[0.7013545 0.2986455]]\n",
      "[[0.69094217 0.3090578 ]]\n",
      "[[0.70147043 0.2985295 ]]\n",
      "[[0.69094735 0.30905262]]\n",
      "[[0.70157015 0.2984298 ]]\n",
      "[[0.6909527  0.30904725]]\n",
      "[[0.70165265 0.29834735]]\n",
      "[[0.6909574  0.30904254]]\n",
      "[[0.70171666 0.2982833 ]]\n",
      "[[0.6909602 0.3090397]]\n",
      "[[0.70176065 0.29823935]]\n",
      "[[0.6909593  0.30904064]]\n",
      "[[0.7017823  0.29821768]]\n",
      "[[0.6909521  0.30904782]]\n",
      "[[0.70177835 0.2982216 ]]\n",
      "[[0.690935   0.30906495]]\n",
      "[[0.70174456 0.29825544]]\n",
      "[[0.69090253 0.30909744]]\n",
      "[[0.7016744  0.29832557]]\n",
      "[[0.69084716 0.3091528 ]]\n",
      "[[0.70155925 0.29844072]]\n",
      "[[0.690758   0.30924192]]\n",
      "[[0.70138645 0.29861355]]\n",
      "[[0.6906195 0.3093804]]\n",
      "[[0.70113736 0.29886267]]\n",
      "[[0.69040906 0.3095909 ]]\n",
      "[[0.7007838  0.29921627]]\n",
      "[[0.6900932  0.30990678]]\n",
      "[[0.70028037 0.2997196 ]]\n",
      "[[0.68962103 0.3103789 ]]\n",
      "[[0.69955 0.30045]]\n",
      "[[0.68891037 0.31108958]]\n",
      "[[0.69844836 0.3015516 ]]\n",
      "[[0.6878182  0.31218168]]\n",
      "[[0.6966766  0.30332336]]\n",
      "[[0.6860722  0.31392777]]\n",
      "[[0.69353545 0.30646458]]\n",
      "[[0.6831305  0.31686947]]\n",
      "[[0.6872643  0.31273565]]\n",
      "[[0.6782305  0.32176945]]\n",
      "[[0.6748278 0.3251722]]\n",
      "[[0.6723233  0.32767668]]\n",
      "[[0.6603895  0.33961046]]\n",
      "[[0.66854215 0.33145785]]\n",
      "[[0.65496546 0.34503457]]\n",
      "[[0.66718197 0.332818  ]]\n",
      "[[0.65576315 0.34423682]]\n",
      "[[0.6674676  0.33253238]]\n",
      "[[0.65891767 0.34108236]]\n",
      "[[0.66614014 0.33385986]]\n",
      "[[0.6565424  0.34345758]]\n",
      "[[0.66446483 0.33553517]]\n",
      "[[0.6599803  0.34001973]]\n",
      "[[0.682      0.31800005]]\n",
      "[[0.68734264 0.31265736]]\n",
      "[[0.6756255  0.32437453]]\n",
      "[[0.650368   0.34963202]]\n",
      "[[0.665568   0.33443198]]\n",
      "[[0.68841773 0.3115823 ]]\n",
      "[[0.6896691  0.31033093]]\n",
      "[[0.6472987  0.35270128]]\n",
      "[[0.6342886  0.36571133]]\n",
      "[[0.7085346  0.29146546]]\n",
      "[[0.65033835 0.34966168]]\n",
      "[[0.5944884  0.40551153]]\n",
      "[[0.64499956 0.35500047]]\n",
      "[[0.6573767 0.3426233]]\n",
      "[[0.6668615  0.33313856]]\n",
      "[[0.6881874  0.31181258]]\n",
      "[[0.6614211  0.33857888]]\n",
      "[[0.65040946 0.3495905 ]]\n",
      "[[0.6289168 0.3710832]]\n",
      "[[0.60254   0.3974599]]\n",
      "[[0.5530538 0.4469462]]\n",
      "[[0.6420545  0.35794556]]\n",
      "[[0.56790626 0.43209377]]\n",
      "[[0.6597777  0.34022236]]\n",
      "[[0.63924736 0.3607526 ]]\n",
      "[[0.5759796  0.42402047]]\n",
      "[[0.59346247 0.4065375 ]]\n",
      "[[0.6283367  0.37166333]]\n",
      "[[0.6340825 0.3659176]]\n",
      "[[0.67174006 0.32826   ]]\n",
      "[[0.5729337  0.42706636]]\n",
      "[[0.5860902  0.41390982]]\n",
      "[[0.61642265 0.38357735]]\n",
      "[[0.5621848  0.43781522]]\n",
      "[[0.53095543 0.46904457]]\n",
      "[[0.5190382  0.48096177]]\n",
      "[[0.6318867 0.3681134]]\n",
      "[[0.5886714 0.4113287]]\n",
      "[[0.6193649  0.38063508]]\n",
      "[[0.549441   0.45055902]]\n",
      "[[0.5665318 0.4334681]]\n",
      "[[0.5318909  0.46810907]]\n",
      "[[0.58016235 0.41983765]]\n",
      "[[0.6255431 0.374457 ]]\n",
      "[[0.63299185 0.36700827]]\n",
      "[[0.5779791  0.42202094]]\n",
      "[[0.5392724 0.4607275]]\n",
      "[[0.5096401  0.49035987]]\n",
      "[[0.5721313  0.42786884]]\n",
      "[[0.5799543  0.42004576]]\n",
      "[[0.58105206 0.41894785]]\n",
      "[[0.49590695 0.50409305]]\n",
      "[[0.491448 0.508552]]\n",
      "[[0.48354876 0.5164512 ]]\n",
      "[[0.5067012  0.49329883]]\n",
      "[[0.5824201  0.41757995]]\n",
      "[[0.45372626 0.5462738 ]]\n",
      "[[0.45173836 0.54826164]]\n",
      "[[0.551551  0.4484491]]\n",
      "[[0.51957756 0.48042244]]\n",
      "[[0.48921415 0.5107858 ]]\n",
      "[[0.5240941 0.4759058]]\n",
      "[[0.4552606  0.54473937]]\n",
      "[[0.3885601 0.6114399]]\n",
      "[[0.63233405 0.3676661 ]]\n",
      "[[0.46550152 0.5344985 ]]\n",
      "[[0.42338037 0.5766196 ]]\n",
      "[[0.43397993 0.5660202 ]]\n",
      "[[0.49506247 0.5049375 ]]\n",
      "[[0.5621497  0.43785033]]\n",
      "[[0.47905964 0.52094036]]\n",
      "[[0.5208916 0.4791084]]\n",
      "[[0.4718587 0.5281413]]\n",
      "[[0.4365466  0.56345344]]\n",
      "[[0.6028406  0.39715946]]\n",
      "[[0.40747932 0.59252065]]\n",
      "[[0.39500323 0.60499686]]\n",
      "[[0.46176654 0.5382336 ]]\n",
      "[[0.42859557 0.57140446]]\n",
      "[[0.45263278 0.5473672 ]]\n",
      "[[0.38909096 0.6109091 ]]\n",
      "[[0.45020276 0.54979724]]\n",
      "[[0.53531635 0.46468362]]\n",
      "[[0.40374935 0.5962507 ]]\n",
      "[[0.4103705 0.5896296]]\n",
      "[[0.5284928  0.47150725]]\n",
      "[[0.4096092 0.5903909]]\n",
      "[[0.41162738 0.58837265]]\n",
      "[[0.39962825 0.6003718 ]]\n",
      "[[0.47528753 0.5247125 ]]\n",
      "[[0.4035831  0.59641695]]\n",
      "[[0.41360787 0.5863922 ]]\n",
      "[[0.41498503 0.58501506]]\n"
     ]
    },
    {
     "name": "stdout",
     "output_type": "stream",
     "text": [
      "[[0.37055466 0.6294453 ]]\n",
      "[[0.40397456 0.59602547]]\n",
      "[[0.37579468 0.62420535]]\n",
      "[[0.3863854 0.6136147]]\n",
      "[[0.38103157 0.6189685 ]]\n",
      "[[0.39480418 0.6051958 ]]\n",
      "[[0.38499823 0.61500186]]\n",
      "[[0.37108836 0.6289117 ]]\n",
      "[[0.40456203 0.59543806]]\n",
      "[[0.3779979 0.6220022]]\n",
      "[[0.36035013 0.6396499 ]]\n",
      "[[0.39758655 0.6024135 ]]\n",
      "[[0.37154725 0.62845284]]\n",
      "[[0.3632357 0.6367642]]\n",
      "[[0.40657845 0.59342164]]\n",
      "[[0.39458868 0.6054114 ]]\n",
      "[[0.3521408 0.6478592]]\n",
      "[[0.35287488 0.6471251 ]]\n",
      "[[0.33934078 0.6606592 ]]\n",
      "[[0.3645386 0.6354614]]\n",
      "[[0.36903724 0.6309628 ]]\n",
      "[[0.35932833 0.64067173]]\n",
      "[[0.36167133 0.6383287 ]]\n",
      "[[0.35466233 0.6453377 ]]\n",
      "[[0.35544786 0.6445522 ]]\n",
      "[[0.3523939 0.6476061]]\n",
      "[[0.3468626 0.6531374]]\n",
      "[[0.348289   0.65171105]]\n",
      "[[0.34794068 0.6520594 ]]\n",
      "[[0.34673744 0.6532626 ]]\n",
      "[[0.34523514 0.6547649 ]]\n",
      "[[0.3425778  0.65742224]]\n",
      "[[0.34000474 0.6599953 ]]\n",
      "[[0.3380562 0.6619438]]\n",
      "[[0.33704484 0.66295516]]\n",
      "[[0.3364272  0.66357285]]\n",
      "[[0.3356107 0.6643894]]\n",
      "[[0.334555 0.665445]]\n",
      "[[0.3333425  0.66665757]]\n",
      "[[0.33211342 0.6678866 ]]\n",
      "[[0.33099064 0.6690094 ]]\n",
      "[[0.33006236 0.6699376 ]]\n",
      "[[0.32933792 0.6706621 ]]\n",
      "[[0.3287913  0.67120874]]\n",
      "[[0.32837427 0.67162573]]\n",
      "[[0.32805648 0.6719435 ]]\n",
      "[[0.3278069 0.6721931]]\n",
      "[[0.32761502 0.67238504]]\n",
      "[[0.32746223 0.6725378 ]]\n",
      "[[0.32734773 0.6726523 ]]\n",
      "[[0.32725695 0.6727431 ]]\n",
      "[[0.3271938  0.67280626]]\n",
      "[[0.32714492 0.67285514]]\n",
      "[[0.327117   0.67288303]]\n",
      "[[0.32709712 0.6729029 ]]\n",
      "[[0.32709372 0.67290634]]\n",
      "[[0.32709423 0.6729058 ]]\n",
      "[[0.32710773 0.67289233]]\n",
      "[[0.3271226  0.67287743]]\n",
      "[[0.32714772 0.67285234]]\n",
      "[[0.32717273 0.67282736]]\n",
      "[[0.3272055 0.6727945]]\n",
      "[[0.3272376 0.6727624]]\n",
      "[[0.32727534 0.6727247 ]]\n",
      "[[0.32731217 0.6726879 ]]\n",
      "[[0.32735276 0.67264724]]\n",
      "[[0.3273926 0.6726074]]\n",
      "[[0.32743472 0.67256534]]\n",
      "[[0.32747614 0.67252386]]\n",
      "[[0.32751876 0.67248124]]\n",
      "[[0.32756078 0.6724393 ]]\n",
      "[[0.32760316 0.67239684]]\n",
      "[[0.32764497 0.67235506]]\n",
      "[[0.32768664 0.6723134 ]]\n",
      "[[0.32772765 0.6722724 ]]\n",
      "[[0.3277682 0.6722318]]\n",
      "[[0.32780802 0.672192  ]]\n",
      "[[0.32784715 0.6721529 ]]\n",
      "[[0.32788548 0.67211455]]\n",
      "[[0.32792297 0.67207706]]\n",
      "[[0.32795963 0.67204046]]\n",
      "[[0.32799536 0.67200464]]\n",
      "[[0.32803017 0.67196983]]\n",
      "[[0.32806405 0.671936  ]]\n",
      "[[0.328097 0.671903]]\n",
      "[[0.32812896 0.67187107]]\n",
      "[[0.32816   0.6718401]]\n",
      "[[0.32819    0.67181003]]\n",
      "[[0.3282191  0.67178094]]\n",
      "[[0.32824722 0.6717528 ]]\n",
      "[[0.32827437 0.67172563]]\n",
      "[[0.3283006  0.67169946]]\n",
      "[[0.32832587 0.6716742 ]]\n",
      "[[0.3283502 0.6716498]]\n",
      "[[0.32837364 0.67162645]]\n",
      "[[0.32839617 0.6716039 ]]\n",
      "[[0.32841778 0.6715822 ]]\n",
      "[[0.32843858 0.6715614 ]]\n",
      "[[0.3284585 0.6715415]]\n",
      "[[0.3284776  0.67152244]]\n",
      "[[0.32849583 0.6715042 ]]\n",
      "[[0.32851323 0.6714868 ]]\n",
      "[[0.32852992 0.67147017]]\n",
      "[[0.32854578 0.67145425]]\n",
      "[[0.3285609 0.6714391]]\n",
      "[[0.32857525 0.6714248 ]]\n",
      "[[0.3285889  0.67141116]]\n",
      "[[0.32860184 0.6713982 ]]\n",
      "[[0.32861406 0.671386  ]]\n",
      "[[0.32862562 0.67137444]]\n",
      "[[0.32863647 0.6713636 ]]\n",
      "[[0.3286467  0.67135334]]\n",
      "[[0.32865626 0.67134374]]\n",
      "[[0.3286652 0.6713348]]\n",
      "[[0.32867354 0.6713265 ]]\n",
      "[[0.32868123 0.67131877]]\n",
      "[[0.32868835 0.6713117 ]]\n",
      "[[0.3286949 0.6713052]]\n",
      "[[0.32870084 0.67129916]]\n",
      "[[0.32870623 0.67129385]]\n",
      "[[0.32871106 0.671289  ]]\n",
      "[[0.3287153  0.67128474]]\n",
      "[[0.32871902 0.67128104]]\n",
      "[[0.32872218 0.6712779 ]]\n",
      "[[0.3287248  0.67127526]]\n",
      "[[0.32872686 0.6712732 ]]\n",
      "[[0.32872844 0.6712717 ]]\n",
      "[[0.32872942 0.6712706 ]]\n",
      "[[0.32872993 0.67127013]]\n",
      "[[0.32872987 0.67127013]]\n",
      "[[0.3287293 0.6712707]]\n",
      "[[0.32872817 0.6712718 ]]\n",
      "[[0.32872656 0.67127347]]\n",
      "[[0.32872435 0.6712756 ]]\n",
      "[[0.32872164 0.67127836]]\n",
      "[[0.3287184  0.67128164]]\n",
      "[[0.32871458 0.67128545]]\n",
      "[[0.32871023 0.6712898 ]]\n",
      "[[0.32870528 0.67129475]]\n",
      "[[0.32869977 0.6713003 ]]\n",
      "[[0.3286937 0.6713064]]\n",
      "[[0.328687   0.67131305]]\n",
      "[[0.32867974 0.6713203 ]]\n",
      "[[0.32867187 0.6713282 ]]\n",
      "[[0.32866338 0.67133665]]\n",
      "[[0.32865423 0.6713458 ]]\n",
      "[[0.32864445 0.67135555]]\n",
      "[[0.32863402 0.671366  ]]\n",
      "[[0.3286229 0.6713771]]\n",
      "[[0.32861117 0.6713889 ]]\n",
      "[[0.32859868 0.6714014 ]]\n",
      "[[0.32858545 0.67141455]]\n",
      "[[0.32857147 0.67142856]]\n",
      "[[0.32855675 0.6714433 ]]\n",
      "[[0.3285413 0.6714587]]\n",
      "[[0.32852507 0.671475  ]]\n",
      "[[0.328508   0.67149204]]\n",
      "[[0.3284901 0.6715099]]\n",
      "[[0.32847142 0.67152864]]\n",
      "[[0.32845184 0.6715482 ]]\n",
      "[[0.3284314  0.67156863]]\n",
      "[[0.32841006 0.67159   ]]\n",
      "[[0.3283878  0.67161226]]\n",
      "[[0.3283646 0.6716354]]\n",
      "[[0.32834053 0.6716595 ]]\n",
      "[[0.32831544 0.67168456]]\n",
      "[[0.32828942 0.67171067]]\n",
      "[[0.32826242 0.6717377 ]]\n",
      "[[0.32823434 0.6717657 ]]\n",
      "[[0.32820535 0.6717947 ]]\n",
      "[[0.32817528 0.67182475]]\n",
      "[[0.32814425 0.67185587]]\n",
      "[[0.32811216 0.67188793]]\n",
      "[[0.32807904 0.67192096]]\n",
      "[[0.32804492 0.67195517]]\n",
      "[[0.3280098 0.6719902]]\n",
      "[[0.32797363 0.67202634]]\n",
      "[[0.32793653 0.6720635 ]]\n",
      "[[0.3278984  0.67210156]]\n",
      "[[0.32785943 0.6721406 ]]\n",
      "[[0.3278195 0.6721806]]\n",
      "[[0.3277787  0.67222136]]\n",
      "[[0.32773706 0.67226297]]\n"
     ]
    }
   ],
   "source": [
    "hist = []\n",
    "a = []\n",
    "b = []\n",
    "for i in range(1000):\n",
    "    rs = np.reshape(f50_100[0][i], (1,1,1))\n",
    "    predictions = model.predict(rs)\n",
    "    a.append(predictions[0][0])\n",
    "    b.append(predictions[0][1])\n",
    "    print(predictions)"
   ]
  },
  {
   "cell_type": "code",
   "execution_count": 60,
   "metadata": {},
   "outputs": [],
   "source": [
    "#print(a)"
   ]
  },
  {
   "cell_type": "code",
   "execution_count": 51,
   "metadata": {},
   "outputs": [],
   "source": [
    "y_test_target = np.array(f50_100_target)\n",
    "test_target_arr = y_test_target.argmax(1)"
   ]
  },
  {
   "cell_type": "code",
   "execution_count": 57,
   "metadata": {},
   "outputs": [
    {
     "data": {
      "text/plain": [
       "[<matplotlib.lines.Line2D at 0x7fbc381e6610>]"
      ]
     },
     "execution_count": 57,
     "metadata": {},
     "output_type": "execute_result"
    },
    {
     "data": {
      "image/png": "[encoded data removed]",
      "text/plain": [
       "<Figure size 432x288 with 1 Axes>"
      ]
     },
     "metadata": {
      "needs_background": "light"
     },
     "output_type": "display_data"
    }
   ],
   "source": [
    "plt.plot(a)\n",
    "plt.plot(b)\n",
    "plt.plot(f50_100[0])\n",
    "plt.plot(test_target_arr[0])\n",
    "# plt.plot(f50_100_target[0])"
   ]
  },
  {
   "cell_type": "code",
   "execution_count": 59,
   "metadata": {},
   "outputs": [
    {
     "data": {
      "text/plain": [
       "[<matplotlib.lines.Line2D at 0x7fbc381535d0>]"
      ]
     },
     "execution_count": 59,
     "metadata": {},
     "output_type": "execute_result"
    },
    {
     "data": {
      "image/png": "[encoded data removed]",
      "text/plain": [
       "<Figure size 432x288 with 1 Axes>"
      ]
     },
     "metadata": {
      "needs_background": "light"
     },
     "output_type": "display_data"
    }
   ],
   "source": [
    "plt.plot(test_target_arr[0])"
   ]
  },
  {
   "cell_type": "code",
   "execution_count": 56,
   "metadata": {},
   "outputs": [
    {
     "data": {
      "text/plain": [
       "[<matplotlib.lines.Line2D at 0x7fbc382cd9d0>]"
      ]
     },
     "execution_count": 56,
     "metadata": {},
     "output_type": "execute_result"
    },
    {
     "data": {
      "image/png": "[encoded data removed]",
      "text/plain": [
       "<Figure size 432x288 with 1 Axes>"
      ]
     },
     "metadata": {
      "needs_background": "light"
     },
     "output_type": "display_data"
    }
   ],
   "source": [
    "plt.plot(test_target_arr)"
   ]
  },
  {
   "cell_type": "code",
   "execution_count": null,
   "metadata": {},
   "outputs": [],
   "source": []
  },
  {
   "cell_type": "code",
   "execution_count": 23,
   "metadata": {},
   "outputs": [
    {
     "data": {
      "text/plain": [
       "[<matplotlib.lines.Line2D at 0x7fbc397127d0>]"
      ]
     },
     "execution_count": 23,
     "metadata": {},
     "output_type": "execute_result"
    },
    {
     "data": {
      "image/png": "[encoded data removed]",
      "text/plain": [
       "<Figure size 432x288 with 1 Axes>"
      ]
     },
     "metadata": {
      "needs_background": "light"
     },
     "output_type": "display_data"
    }
   ],
   "source": [
    "plt.plot(f50_100_target[0])"
   ]
  },
  {
   "cell_type": "code",
   "execution_count": 24,
   "metadata": {},
   "outputs": [
    {
     "data": {
      "text/plain": [
       "array([ 7.88165839e-01,  7.82429605e-01,  7.76626203e-01,  7.70756130e-01,\n",
       "        7.64819890e-01,  7.58817994e-01,  7.52750956e-01,  7.46619297e-01,\n",
       "        7.40423543e-01,  7.34164227e-01,  7.27841886e-01,  7.21457062e-01,\n",
       "        7.15010304e-01,  7.08502165e-01,  7.01933203e-01,  6.95303983e-01,\n",
       "        6.88615074e-01,  6.81867050e-01,  6.75060491e-01,  6.68195979e-01,\n",
       "        6.61274106e-01,  6.54295465e-01,  6.47260655e-01,  6.40170280e-01,\n",
       "        6.33024948e-01,  6.25825274e-01,  6.18571876e-01,  6.11265375e-01,\n",
       "        6.03906399e-01,  5.96495580e-01,  5.89033554e-01,  5.81520962e-01,\n",
       "        5.73958449e-01,  5.66346663e-01,  5.58686259e-01,  5.50977893e-01,\n",
       "        5.43222228e-01,  5.35419930e-01,  5.27571667e-01,  5.19678115e-01,\n",
       "        5.11739950e-01,  5.03757854e-01,  4.95732513e-01,  4.87664614e-01,\n",
       "        4.79554852e-01,  4.71403921e-01,  4.63212523e-01,  4.54981359e-01,\n",
       "        4.46711137e-01,  4.38402566e-01,  4.30056360e-01,  4.21673235e-01,\n",
       "        4.13253911e-01,  4.04799111e-01,  3.96309561e-01,  3.87785989e-01,\n",
       "        3.79229126e-01,  3.70639709e-01,  3.62018473e-01,  3.53366159e-01,\n",
       "        3.44683511e-01,  3.35971272e-01,  3.27230192e-01,  3.18461020e-01,\n",
       "        3.09664509e-01,  3.00841415e-01,  2.91992495e-01,  2.83118508e-01,\n",
       "        2.74220217e-01,  2.65298384e-01,  2.56353777e-01,  2.47387163e-01,\n",
       "        2.38399312e-01,  2.29390995e-01,  2.20362986e-01,  2.11316059e-01,\n",
       "        2.02250991e-01,  1.93168562e-01,  1.84069549e-01,  1.74954734e-01,\n",
       "        1.65824901e-01,  1.56680832e-01,  1.47523312e-01,  1.38353128e-01,\n",
       "        1.29171068e-01,  1.19977918e-01,  1.10774468e-01,  1.01561509e-01,\n",
       "        9.23398316e-02,  8.31102269e-02,  7.38734875e-02,  6.46304063e-02,\n",
       "        5.53817768e-02,  4.61283931e-02,  3.68710493e-02,  2.76105403e-02,\n",
       "        1.83476611e-02,  9.08320680e-03, -1.82027270e-04, -9.44724572e-03,\n",
       "       -1.87116532e-02, -2.79744543e-02, -3.72348539e-02, -4.64920570e-02,\n",
       "       -5.57452690e-02, -6.49936954e-02, -7.42365424e-02, -8.34730164e-02,\n",
       "       -9.27023246e-02, -1.01923675e-01, -1.11136275e-01, -1.20339335e-01,\n",
       "       -1.29532064e-01, -1.38713673e-01, -1.47883374e-01, -1.57040380e-01,\n",
       "       -1.66183904e-01, -1.75313162e-01, -1.84427371e-01, -1.93525747e-01,\n",
       "       -2.02607509e-01, -2.11671878e-01, -2.20718076e-01, -2.29745327e-01,\n",
       "       -2.38752854e-01, -2.47739885e-01, -2.56705649e-01, -2.65649376e-01,\n",
       "       -2.74570298e-01, -2.83467648e-01, -2.92340665e-01, -3.01188584e-01,\n",
       "       -3.10010648e-01, -3.18806099e-01, -3.27574181e-01, -3.36314143e-01,\n",
       "       -3.45025233e-01, -3.53706704e-01, -3.62357810e-01, -3.70977809e-01,\n",
       "       -3.79565962e-01, -3.88121530e-01, -3.96643779e-01, -4.05131978e-01,\n",
       "       -4.13585398e-01, -4.22003313e-01, -4.30385001e-01, -4.38729741e-01,\n",
       "       -4.47036819e-01, -4.55305520e-01, -4.63535134e-01, -4.71724956e-01,\n",
       "       -4.79874282e-01, -4.87982413e-01, -4.96048652e-01, -5.04072307e-01,\n",
       "       -5.12052690e-01, -5.19989115e-01, -5.27880900e-01, -5.35727369e-01,\n",
       "       -5.43527848e-01, -5.51281667e-01, -5.58988161e-01, -5.66646667e-01,\n",
       "       -5.74256529e-01, -5.81817093e-01, -5.89327711e-01, -5.96787737e-01,\n",
       "       -6.04196530e-01, -6.11553456e-01, -6.18857882e-01, -6.26109182e-01,\n",
       "       -6.33306733e-01, -6.40449916e-01, -6.47538119e-01, -6.54570734e-01,\n",
       "       -6.61547156e-01, -6.68466786e-01, -6.75329032e-01, -6.82133302e-01,\n",
       "       -6.88879015e-01, -6.95565589e-01, -7.02192452e-01, -7.08759034e-01,\n",
       "       -7.15264772e-01, -7.21709107e-01, -7.28091486e-01, -7.34411361e-01,\n",
       "       -7.40668190e-01, -7.46861435e-01, -7.52990565e-01, -7.59055053e-01,\n",
       "       -7.65054380e-01, -7.70988029e-01, -7.76855492e-01, -7.82656265e-01,\n",
       "       -7.88389849e-01, -7.94055753e-01, -7.99653491e-01, -8.05182581e-01,\n",
       "       -8.10642550e-01, -8.16032927e-01, -8.21353252e-01, -8.26603066e-01,\n",
       "       -8.31781920e-01, -8.36889368e-01, -8.41924972e-01, -8.46888300e-01,\n",
       "       -8.51778926e-01, -8.56596430e-01, -8.61340398e-01, -8.66010424e-01,\n",
       "       -8.70606105e-01, -8.75127049e-01, -8.79572866e-01, -8.83943175e-01,\n",
       "       -8.88237601e-01, -8.92455775e-01, -8.96597335e-01, -9.00661925e-01,\n",
       "       -9.04649197e-01, -9.08558808e-01, -9.12390423e-01, -9.16143712e-01,\n",
       "       -9.19818354e-01, -9.23414033e-01, -9.26930441e-01, -9.30367275e-01,\n",
       "       -9.33724240e-01, -9.37001048e-01, -9.40197419e-01, -9.43313077e-01,\n",
       "       -9.46347755e-01, -9.49301193e-01, -9.52173137e-01, -9.54963340e-01,\n",
       "       -9.57671563e-01, -9.60297574e-01, -9.62841147e-01, -9.65302063e-01,\n",
       "       -9.67680112e-01, -9.69975089e-01, -9.72186798e-01, -9.74315048e-01,\n",
       "       -9.76359656e-01, -9.78320448e-01, -9.80197254e-01, -9.81989915e-01,\n",
       "       -9.83698275e-01, -9.85322188e-01, -9.86861515e-01, -9.88316124e-01,\n",
       "       -9.89685889e-01, -9.90970694e-01, -9.92170427e-01, -9.93284987e-01,\n",
       "       -9.94314276e-01, -9.95258208e-01, -9.96116700e-01, -9.96889679e-01,\n",
       "       -9.97577079e-01, -9.98178841e-01, -9.98694913e-01, -9.99125250e-01,\n",
       "       -9.99469817e-01, -9.99728582e-01, -9.99901525e-01, -9.99988630e-01,\n",
       "       -9.99989890e-01, -9.99905304e-01, -9.99734880e-01, -9.99478633e-01,\n",
       "       -9.99136584e-01, -9.98708763e-01, -9.98195206e-01, -9.97595959e-01,\n",
       "       -9.96911071e-01, -9.96140602e-01, -9.95284618e-01, -9.94343193e-01,\n",
       "       -9.93316407e-01, -9.92204349e-01, -9.91007114e-01, -9.89724804e-01,\n",
       "       -9.88357530e-01, -9.86905410e-01, -9.85368567e-01, -9.83747134e-01,\n",
       "       -9.82041250e-01, -9.80251062e-01, -9.78376722e-01, -9.76418393e-01,\n",
       "       -9.74376242e-01, -9.72250444e-01, -9.70041182e-01, -9.67748646e-01,\n",
       "       -9.65373032e-01, -9.62914544e-01, -9.60373394e-01, -9.57749799e-01,\n",
       "       -9.55043985e-01, -9.52256185e-01, -9.49386636e-01, -9.46435586e-01,\n",
       "       -9.43403289e-01, -9.40290003e-01, -9.37095997e-01, -9.33821545e-01,\n",
       "       -9.30466928e-01, -9.27032434e-01, -9.23518358e-01, -9.19925001e-01,\n",
       "       -9.16252672e-01, -9.12501686e-01, -9.08672365e-01, -9.04765038e-01,\n",
       "       -9.00780040e-01, -8.96717714e-01, -8.92578408e-01, -8.88362477e-01,\n",
       "       -8.84070284e-01, -8.79702196e-01, -8.75258590e-01, -8.70739845e-01,\n",
       "       -8.66146351e-01, -8.61478502e-01, -8.56736698e-01, -8.51921346e-01,\n",
       "       -8.47032860e-01, -8.42071659e-01, -8.37038170e-01, -8.31932824e-01,\n",
       "       -8.26756060e-01, -8.21508321e-01, -8.16190060e-01, -8.10801731e-01,\n",
       "       -8.05343799e-01, -7.99816730e-01, -7.94221000e-01, -7.88557090e-01,\n",
       "       -7.82825484e-01, -7.77026676e-01, -7.71161163e-01, -7.65229449e-01,\n",
       "       -7.59232043e-01, -7.53169459e-01, -7.47042219e-01, -7.40850848e-01,\n",
       "       -7.34595878e-01, -7.28277845e-01, -7.21897292e-01, -7.15454768e-01,\n",
       "       -7.08950824e-01, -7.02386019e-01, -6.95760917e-01, -6.89076087e-01,\n",
       "       -6.82332102e-01, -6.75529541e-01, -6.68668989e-01, -6.61751034e-01,\n",
       "       -6.54776270e-01, -6.47745296e-01, -6.40658715e-01, -6.33517137e-01,\n",
       "       -6.26321173e-01, -6.19071442e-01, -6.11768566e-01, -6.04413172e-01,\n",
       "       -5.97005891e-01, -5.89547360e-01, -5.82038218e-01, -5.74479110e-01,\n",
       "       -5.66870685e-01, -5.59213597e-01, -5.51508502e-01, -5.43756063e-01,\n",
       "       -5.35956944e-01, -5.28111815e-01, -5.20221349e-01, -5.12286225e-01,\n",
       "       -5.04307123e-01, -4.96284728e-01, -4.88219728e-01, -4.80112817e-01,\n",
       "       -4.71964690e-01, -4.63776046e-01, -4.55547589e-01, -4.47280025e-01,\n",
       "       -4.38974064e-01, -4.30630419e-01, -4.22249805e-01, -4.13832943e-01,\n",
       "       -4.05380555e-01, -3.96893366e-01, -3.88372106e-01, -3.79817505e-01,\n",
       "       -3.71230298e-01, -3.62611223e-01, -3.53961019e-01, -3.45280428e-01,\n",
       "       -3.36570197e-01, -3.27831072e-01, -3.19063804e-01, -3.10269146e-01,\n",
       "       -3.01447852e-01, -2.92600680e-01, -2.83728390e-01, -2.74831742e-01,\n",
       "       -2.65911502e-01, -2.56968433e-01, -2.48003305e-01, -2.39016887e-01,\n",
       "       -2.30009950e-01, -2.20983267e-01, -2.11937614e-01, -2.02873767e-01,\n",
       "       -1.93792504e-01, -1.84694605e-01, -1.75580850e-01, -1.66452022e-01,\n",
       "       -1.57308905e-01, -1.48152284e-01, -1.38982944e-01, -1.29801673e-01,\n",
       "       -1.20609259e-01, -1.11406492e-01, -1.02194160e-01, -9.29730554e-02,\n",
       "       -8.37439695e-02, -7.45076944e-02, -6.52650232e-02, -5.60167492e-02,\n",
       "       -4.67636663e-02, -3.75065690e-02, -2.82462519e-02, -1.89835099e-02,\n",
       "       -9.71913830e-03, -4.53932322e-04,  8.81131263e-03,  1.80758012e-02,\n",
       "        2.73387379e-02,  3.65993278e-02,  4.58567757e-02,  5.51102870e-02,\n",
       "        6.43590673e-02,  7.36023226e-02,  8.28392595e-02,  9.20690848e-02,\n",
       "        1.01291006e-01,  1.10504233e-01,  1.19707972e-01,  1.28901436e-01,\n",
       "        1.38083833e-01,  1.47254377e-01,  1.56412279e-01,  1.65556754e-01,\n",
       "        1.74687017e-01,  1.83802283e-01,  1.92901771e-01,  2.01984698e-01,\n",
       "        2.11050286e-01,  2.20097756e-01,  2.29126332e-01,  2.38135238e-01,\n",
       "        2.47123701e-01,  2.56090949e-01,  2.65036213e-01,  2.73958724e-01,\n",
       "        2.82857717e-01,  2.91732428e-01,  3.00582095e-01,  3.09405958e-01,\n",
       "        3.18203259e-01,  3.26973244e-01,  3.35715160e-01,  3.44428255e-01,\n",
       "        3.53111783e-01,  3.61764998e-01,  3.70387156e-01,  3.78977518e-01,\n",
       "        3.87535346e-01,  3.96059905e-01,  4.04550465e-01,  4.13006295e-01,\n",
       "        4.21426670e-01,  4.29810868e-01,  4.38158167e-01,  4.46467853e-01,\n",
       "        4.54739210e-01,  4.62971530e-01,  4.71164106e-01,  4.79316234e-01,\n",
       "        4.87427215e-01,  4.95496352e-01,  5.03522952e-01,  5.11506326e-01,\n",
       "        5.19445790e-01,  5.27340661e-01,  5.35190263e-01,  5.42993920e-01,\n",
       "        5.50750962e-01,  5.58460726e-01,  5.66122547e-01,  5.73735769e-01,\n",
       "        5.81299737e-01,  5.88813804e-01,  5.96277323e-01,  6.03689653e-01,\n",
       "        6.11050159e-01,  6.18358209e-01,  6.25613175e-01,  6.32814435e-01,\n",
       "        6.39961370e-01,  6.47053366e-01,  6.54089815e-01,  6.61070113e-01,\n",
       "        6.67993661e-01,  6.74859864e-01,  6.81668133e-01,  6.88417883e-01,\n",
       "        6.95108535e-01,  7.01739515e-01,  7.08310253e-01,  7.14820185e-01,\n",
       "        7.21268752e-01,  7.27655402e-01,  7.33979584e-01,  7.40240758e-01,\n",
       "        7.46438384e-01,  7.52571931e-01,  7.58640873e-01,  7.64644689e-01,\n",
       "        7.70582863e-01,  7.76454884e-01,  7.82260251e-01,  7.87998463e-01,\n",
       "        7.93669028e-01,  7.99271460e-01,  8.04805277e-01,  8.10270005e-01,\n",
       "        8.15665174e-01,  8.20990322e-01,  8.26244990e-01,  8.31428729e-01,\n",
       "        8.36541092e-01,  8.41581641e-01,  8.46549944e-01,  8.51445574e-01,\n",
       "        8.56268110e-01,  8.61017139e-01,  8.65692252e-01,  8.70293050e-01,\n",
       "        8.74819135e-01,  8.79270121e-01,  8.83645625e-01,  8.87945271e-01,\n",
       "        8.92168691e-01,  8.96315521e-01,  9.00385405e-01,  9.04377995e-01,\n",
       "        9.08292948e-01,  9.12129927e-01,  9.15888603e-01,  9.19568653e-01,\n",
       "        9.23169762e-01,  9.26691620e-01,  9.30133925e-01,  9.33496382e-01,\n",
       "        9.36778701e-01,  9.39980602e-01,  9.43101809e-01,  9.46142053e-01,\n",
       "        9.49101076e-01,  9.51978621e-01,  9.54774443e-01,  9.57488300e-01,\n",
       "        9.60119961e-01,  9.62669200e-01,  9.65135796e-01,  9.67519540e-01,\n",
       "        9.69820225e-01,  9.72037655e-01,  9.74171639e-01,  9.76221995e-01,\n",
       "        9.78188545e-01,  9.80071121e-01,  9.81869562e-01,  9.83583713e-01,\n",
       "        9.85213427e-01,  9.86758565e-01,  9.88218992e-01,  9.89594585e-01,\n",
       "        9.90885225e-01,  9.92090801e-01,  9.93211209e-01,  9.94246355e-01,\n",
       "        9.95196148e-01,  9.96060507e-01,  9.96839358e-01,  9.97532634e-01,\n",
       "        9.98140275e-01,  9.98662230e-01,  9.99098454e-01,  9.99448908e-01,\n",
       "        9.99713564e-01,  9.99892398e-01,  9.99985395e-01,  9.99992547e-01,\n",
       "        9.99913854e-01,  9.99749321e-01,  9.99498964e-01,  9.99162803e-01,\n",
       "        9.98740869e-01,  9.98233196e-01,  9.97639828e-01,  9.96960817e-01,\n",
       "        9.96196220e-01,  9.95346104e-01,  9.94410541e-01,  9.93389611e-01,\n",
       "        9.92283403e-01,  9.91092011e-01,  9.89815537e-01,  9.88454091e-01,\n",
       "        9.87007791e-01,  9.85476759e-01,  9.83861128e-01,  9.82161036e-01,\n",
       "        9.80376629e-01,  9.78508060e-01,  9.76555491e-01,  9.74519087e-01,\n",
       "        9.72399025e-01,  9.70195486e-01,  9.67908659e-01,  9.65538741e-01,\n",
       "        9.63085935e-01,  9.60550452e-01,  9.57932509e-01,  9.55232331e-01,\n",
       "        9.52450151e-01,  9.49586205e-01,  9.46640742e-01,  9.43614012e-01,\n",
       "        9.40506277e-01,  9.37317803e-01,  9.34048864e-01,  9.30699740e-01,\n",
       "        9.27270720e-01,  9.23762096e-01,  9.20174171e-01,  9.16507252e-01,\n",
       "        9.12761655e-01,  9.08937700e-01,  9.05035717e-01,  9.01056040e-01,\n",
       "        8.96999010e-01,  8.92864976e-01,  8.88654293e-01,  8.84367323e-01,\n",
       "        8.80004433e-01,  8.75565998e-01,  8.71052399e-01,  8.66464023e-01,\n",
       "        8.61801264e-01,  8.57064523e-01,  8.52254206e-01,  8.47370727e-01,\n",
       "        8.42414504e-01,  8.37385962e-01,  8.32285535e-01,  8.27113658e-01,\n",
       "        8.21870777e-01,  8.16557342e-01,  8.11173808e-01,  8.05720638e-01,\n",
       "        8.00198299e-01,  7.94607267e-01,  7.88948021e-01,  7.83221046e-01,\n",
       "        7.77426835e-01,  7.71565885e-01,  7.65638698e-01,  7.59645784e-01,\n",
       "        7.53587658e-01,  7.47464839e-01,  7.41277853e-01,  7.35027231e-01,\n",
       "        7.28713509e-01,  7.22337230e-01,  7.15898942e-01,  7.09399196e-01,\n",
       "        7.02838551e-01,  6.96217569e-01,  6.89536820e-01,  6.82796877e-01,\n",
       "        6.75998318e-01,  6.69141728e-01,  6.62227694e-01,  6.55256810e-01,\n",
       "        6.48229675e-01,  6.41146892e-01,  6.34009069e-01,  6.26816818e-01,\n",
       "        6.19570758e-01,  6.12271510e-01,  6.04919700e-01,  5.97515960e-01,\n",
       "        5.90060926e-01,  5.82555238e-01,  5.74999539e-01,  5.67394479e-01,\n",
       "        5.59740710e-01,  5.52038889e-01,  5.44289678e-01,  5.36493741e-01,\n",
       "        5.28651749e-01,  5.20764374e-01,  5.12832293e-01,  5.04856187e-01,\n",
       "        4.96836742e-01,  4.88774645e-01,  4.80670588e-01,  4.72525267e-01,\n",
       "        4.64339383e-01,  4.56113636e-01,  4.47848733e-01,  4.39545385e-01,\n",
       "        4.31204303e-01,  4.22826204e-01,  4.14411807e-01,  4.05961834e-01,\n",
       "        3.97477010e-01,  3.88958065e-01,  3.80405730e-01,  3.71820738e-01,\n",
       "        3.63203826e-01,  3.54555735e-01,  3.45877206e-01,  3.37168985e-01,\n",
       "        3.28431820e-01,  3.19666460e-01,  3.10873657e-01,  3.02054168e-01,\n",
       "        2.93208748e-01,  2.84338157e-01,  2.75443157e-01,  2.66524511e-01,\n",
       "        2.57582985e-01,  2.48619347e-01,  2.39634365e-01,  2.30628812e-01,\n",
       "        2.21603460e-01,  2.12559084e-01,  2.03496461e-01,  1.94416368e-01,\n",
       "        1.85319586e-01,  1.76206894e-01,  1.67079076e-01,  1.57936915e-01,\n",
       "        1.48781195e-01,  1.39612703e-01,  1.30432226e-01,  1.21240552e-01,\n",
       "        1.12038470e-01,  1.02826769e-01,  9.36062416e-02,  8.43776782e-02,\n",
       "        7.51418712e-02,  6.58996137e-02,  5.66516988e-02,  4.73989207e-02,\n",
       "        3.81420735e-02,  2.88819520e-02,  1.96193511e-02,  1.03550659e-02,\n",
       "        1.08989173e-03, -8.17537597e-03, -1.74399418e-02, -2.67030105e-02,\n",
       "       -3.59637869e-02, -4.52214759e-02, -5.44752828e-02, -6.37244132e-02,\n",
       "       -7.29680731e-02, -8.22054690e-02, -9.14358078e-02, -1.00658297e-01,\n",
       "       -1.09872146e-01, -1.19076562e-01, -1.28270756e-01, -1.37453938e-01,\n",
       "       -1.46625320e-01, -1.55784115e-01, -1.64929537e-01, -1.74060800e-01,\n",
       "       -1.83177121e-01, -1.92277716e-01, -2.01361806e-01, -2.10428609e-01,\n",
       "       -2.19477347e-01, -2.28507245e-01, -2.37517525e-01, -2.46507416e-01,\n",
       "       -2.55476145e-01, -2.64422943e-01, -2.73347040e-01, -2.82247672e-01,\n",
       "       -2.91124074e-01, -2.99975484e-01, -3.08801142e-01, -3.17600291e-01,\n",
       "       -3.26372175e-01, -3.35116041e-01, -3.43831139e-01, -3.52516720e-01,\n",
       "       -3.61172039e-01, -3.69796352e-01, -3.78388920e-01, -3.86949005e-01,\n",
       "       -3.95475872e-01, -4.03968788e-01, -4.12427025e-01, -4.20849857e-01,\n",
       "       -4.29236561e-01, -4.37586416e-01, -4.45898706e-01, -4.54172717e-01,\n",
       "       -4.62407739e-01, -4.70603066e-01, -4.78757992e-01, -4.86871819e-01,\n",
       "       -4.94943850e-01, -5.02973392e-01, -5.10959756e-01, -5.18902256e-01,\n",
       "       -5.26800209e-01, -5.34652939e-01, -5.42459771e-01, -5.50220035e-01,\n",
       "       -5.57933064e-01, -5.65598197e-01, -5.73214776e-01, -5.80782146e-01,\n",
       "       -5.88299658e-01, -5.95766667e-01, -6.03182532e-01, -6.10546615e-01,\n",
       "       -6.17858286e-01, -6.25116915e-01, -6.32321881e-01, -6.39472564e-01,\n",
       "       -6.46568351e-01, -6.53608632e-01, -6.60592804e-01, -6.67520266e-01,\n",
       "       -6.74390424e-01, -6.81202688e-01, -6.87956473e-01, -6.94651200e-01,\n",
       "       -7.01286294e-01, -7.07861185e-01, -7.14375308e-01, -7.20828106e-01,\n",
       "       -7.27219022e-01, -7.33547510e-01, -7.39813026e-01, -7.46015031e-01,\n",
       "       -7.52152993e-01, -7.58226387e-01, -7.64234689e-01, -7.70177384e-01,\n",
       "       -7.76053963e-01, -7.81863920e-01, -7.87606758e-01, -7.93281982e-01,\n",
       "       -7.98889106e-01, -8.04427648e-01, -8.09897133e-01, -8.15297091e-01,\n",
       "       -8.20627060e-01, -8.25886580e-01, -8.31075201e-01, -8.36192478e-01,\n",
       "       -8.41237970e-01, -8.46211246e-01, -8.51111877e-01, -8.55939443e-01,\n",
       "       -8.60693531e-01, -8.65373731e-01, -8.69979642e-01, -8.74510868e-01,\n",
       "       -8.78967021e-01, -8.83347718e-01, -8.87652583e-01, -8.91881246e-01,\n",
       "       -8.96033344e-01, -9.00108522e-01, -9.04106428e-01, -9.08026720e-01,\n",
       "       -9.11869062e-01, -9.15633123e-01, -9.19318580e-01, -9.22925117e-01,\n",
       "       -9.26452425e-01, -9.29900200e-01, -9.33268146e-01, -9.36555975e-01,\n",
       "       -9.39763405e-01, -9.42890159e-01, -9.45935969e-01, -9.48900574e-01,\n",
       "       -9.51783720e-01, -9.54585159e-01, -9.57304650e-01, -9.59941960e-01,\n",
       "       -9.62496863e-01, -9.64969139e-01, -9.67358576e-01, -9.69664969e-01,\n",
       "       -9.71888119e-01, -9.74027837e-01, -9.76083938e-01, -9.78056246e-01,\n",
       "       -9.79944592e-01, -9.81748812e-01, -9.83468754e-01, -9.85104268e-01,\n",
       "       -9.86655215e-01, -9.88121461e-01, -9.89502881e-01, -9.90799355e-01,\n",
       "       -9.92010773e-01, -9.93137031e-01, -9.94178031e-01, -9.95133685e-01,\n",
       "       -9.96003911e-01, -9.96788633e-01, -9.97487785e-01, -9.98101306e-01,\n",
       "       -9.98629144e-01, -9.99071253e-01, -9.99427596e-01, -9.99698142e-01,\n",
       "       -9.99882867e-01, -9.99981756e-01, -9.99994800e-01, -9.99921999e-01,\n",
       "       -9.99763358e-01, -9.99518891e-01, -9.99188619e-01, -9.98772571e-01,\n",
       "       -9.98270781e-01, -9.97683294e-01, -9.97010159e-01, -9.96251435e-01,\n",
       "       -9.95407186e-01, -9.94477486e-01, -9.93462413e-01, -9.92362055e-01,\n",
       "       -9.91176507e-01, -9.89905869e-01, -9.88550252e-01, -9.87109772e-01,\n",
       "       -9.85584552e-01, -9.83974723e-01, -9.82280424e-01, -9.80501800e-01,\n",
       "       -9.78639003e-01, -9.76692194e-01, -9.74661539e-01, -9.72547213e-01,\n",
       "       -9.70349398e-01, -9.68068282e-01, -9.65704061e-01, -9.63256937e-01,\n",
       "       -9.60727122e-01, -9.58114832e-01, -9.55420291e-01, -9.52643731e-01,\n",
       "       -9.49785390e-01, -9.46845514e-01, -9.43824354e-01, -9.40722171e-01,\n",
       "       -9.37539230e-01, -9.34275805e-01, -9.30932176e-01, -9.27508630e-01,\n",
       "       -9.24005461e-01, -9.20422969e-01, -9.16761462e-01, -9.13021255e-01,\n",
       "       -9.09202668e-01, -9.05306030e-01, -9.01331675e-01, -8.97279943e-01,\n",
       "       -8.93151184e-01, -8.88945751e-01, -8.84664005e-01, -8.80306314e-01])"
      ]
     },
     "execution_count": 24,
     "metadata": {},
     "output_type": "execute_result"
    }
   ],
   "source": [
    "f50_100[0]"
   ]
  },
  {
   "cell_type": "code",
   "execution_count": 25,
   "metadata": {},
   "outputs": [],
   "source": [
    "hist_arr = (np.array(hist))"
   ]
  },
  {
   "cell_type": "code",
   "execution_count": 27,
   "metadata": {},
   "outputs": [],
   "source": [
    "#plt.plot(hist_arr[0])"
   ]
  },
  {
   "cell_type": "code",
   "execution_count": 28,
   "metadata": {},
   "outputs": [
    {
     "ename": "IndexError",
     "evalue": "index 1 is out of bounds for axis 0 with size 1",
     "output_type": "error",
     "traceback": [
      "\u001b[0;31m---------------------------------------------------------------------------\u001b[0m",
      "\u001b[0;31mIndexError\u001b[0m                                Traceback (most recent call last)",
      "\u001b[0;32m<ipython-input-28-9b26e803ff83>\u001b[0m in \u001b[0;36m<module>\u001b[0;34m\u001b[0m\n\u001b[0;32m----> 1\u001b[0;31m \u001b[0mplt\u001b[0m\u001b[0;34m.\u001b[0m\u001b[0mplot\u001b[0m\u001b[0;34m(\u001b[0m\u001b[0mrs\u001b[0m\u001b[0;34m[\u001b[0m\u001b[0;36m0\u001b[0m\u001b[0;34m]\u001b[0m\u001b[0;34m,\u001b[0m \u001b[0mrs\u001b[0m\u001b[0;34m[\u001b[0m\u001b[0;36m1\u001b[0m\u001b[0;34m]\u001b[0m\u001b[0;34m)\u001b[0m\u001b[0;34m\u001b[0m\u001b[0;34m\u001b[0m\u001b[0m\n\u001b[0m",
      "\u001b[0;31mIndexError\u001b[0m: index 1 is out of bounds for axis 0 with size 1"
     ]
    }
   ],
   "source": [
    "plt.plot(rs[0], rs[1])"
   ]
  },
  {
   "cell_type": "code",
   "execution_count": 29,
   "metadata": {},
   "outputs": [
    {
     "ename": "ValueError",
     "evalue": "In a stateful network, you should only pass inputs with a number of samples that can be divided by the batch size. Found: 40 samples. Batch size: 32.",
     "output_type": "error",
     "traceback": [
      "\u001b[0;31m---------------------------------------------------------------------------\u001b[0m",
      "\u001b[0;31mValueError\u001b[0m                                Traceback (most recent call last)",
      "\u001b[0;32m<ipython-input-29-6ae423a272ae>\u001b[0m in \u001b[0;36m<module>\u001b[0;34m\u001b[0m\n\u001b[0;32m----> 1\u001b[0;31m \u001b[0mpredictions\u001b[0m \u001b[0;34m=\u001b[0m \u001b[0mmodel\u001b[0m\u001b[0;34m.\u001b[0m\u001b[0mpredict\u001b[0m\u001b[0;34m(\u001b[0m\u001b[0mtest\u001b[0m\u001b[0;34m)\u001b[0m\u001b[0;34m\u001b[0m\u001b[0;34m\u001b[0m\u001b[0m\n\u001b[0m\u001b[1;32m      2\u001b[0m \u001b[0;32mfor\u001b[0m \u001b[0mi\u001b[0m \u001b[0;32min\u001b[0m \u001b[0mrange\u001b[0m\u001b[0;34m(\u001b[0m\u001b[0mlen\u001b[0m\u001b[0;34m(\u001b[0m\u001b[0mtest\u001b[0m\u001b[0;34m)\u001b[0m\u001b[0;34m)\u001b[0m\u001b[0;34m:\u001b[0m\u001b[0;34m\u001b[0m\u001b[0;34m\u001b[0m\u001b[0m\n\u001b[1;32m      3\u001b[0m     \u001b[0mprint\u001b[0m\u001b[0;34m(\u001b[0m\u001b[0mpredictions\u001b[0m\u001b[0;34m[\u001b[0m\u001b[0mi\u001b[0m\u001b[0;34m]\u001b[0m\u001b[0;34m,\u001b[0m \u001b[0;34m'expected'\u001b[0m\u001b[0;34m,\u001b[0m \u001b[0mtest_target\u001b[0m\u001b[0;34m[\u001b[0m\u001b[0mi\u001b[0m\u001b[0;34m]\u001b[0m\u001b[0;34m)\u001b[0m\u001b[0;34m\u001b[0m\u001b[0;34m\u001b[0m\u001b[0m\n",
      "\u001b[0;32m~/miniconda/lib/python3.7/site-packages/keras/engine/training.py\u001b[0m in \u001b[0;36mpredict\u001b[0;34m(self, x, batch_size, verbose, steps, callbacks, max_queue_size, workers, use_multiprocessing)\u001b[0m\n\u001b[1;32m   1447\u001b[0m                                  \u001b[0;34m'divided by the batch size. Found: '\u001b[0m \u001b[0;34m+\u001b[0m\u001b[0;34m\u001b[0m\u001b[0;34m\u001b[0m\u001b[0m\n\u001b[1;32m   1448\u001b[0m                                  \u001b[0mstr\u001b[0m\u001b[0;34m(\u001b[0m\u001b[0mx\u001b[0m\u001b[0;34m[\u001b[0m\u001b[0;36m0\u001b[0m\u001b[0;34m]\u001b[0m\u001b[0;34m.\u001b[0m\u001b[0mshape\u001b[0m\u001b[0;34m[\u001b[0m\u001b[0;36m0\u001b[0m\u001b[0;34m]\u001b[0m\u001b[0;34m)\u001b[0m \u001b[0;34m+\u001b[0m \u001b[0;34m' samples. '\u001b[0m\u001b[0;34m\u001b[0m\u001b[0;34m\u001b[0m\u001b[0m\n\u001b[0;32m-> 1449\u001b[0;31m                                  'Batch size: ' + str(batch_size) + '.')\n\u001b[0m\u001b[1;32m   1450\u001b[0m \u001b[0;34m\u001b[0m\u001b[0m\n\u001b[1;32m   1451\u001b[0m         \u001b[0;31m# Prepare inputs, delegate logic to `predict_loop`.\u001b[0m\u001b[0;34m\u001b[0m\u001b[0;34m\u001b[0m\u001b[0;34m\u001b[0m\u001b[0m\n",
      "\u001b[0;31mValueError\u001b[0m: In a stateful network, you should only pass inputs with a number of samples that can be divided by the batch size. Found: 40 samples. Batch size: 32."
     ]
    }
   ],
   "source": [
    "predictions = model.predict(test)\n",
    "for i in range(len(test)):\n",
    "    print(predictions[i], 'expected', test_target[i])"
   ]
  },
  {
   "cell_type": "code",
   "execution_count": null,
   "metadata": {},
   "outputs": [],
   "source": []
  },
  {
   "cell_type": "code",
   "execution_count": null,
   "metadata": {},
   "outputs": [],
   "source": [
    "for i in (test[0]):\n",
    "    rs = np.reshape(i, (1,1,1))\n",
    "    predictions = model.predict(rs)\n",
    "    print(predictions, 'expected', test_target[0])"
   ]
  },
  {
   "cell_type": "code",
   "execution_count": 30,
   "metadata": {},
   "outputs": [],
   "source": [
    "test_target_arr = np.array(test_target)"
   ]
  },
  {
   "cell_type": "code",
   "execution_count": 31,
   "metadata": {},
   "outputs": [],
   "source": [
    "predictions_rounded = np.matrix.round(predictions)"
   ]
  },
  {
   "cell_type": "code",
   "execution_count": 32,
   "metadata": {},
   "outputs": [],
   "source": [
    "y_test_classes = test_target_arr.argmax(1)\n",
    "y_pred_classes = predictions_rounded.argmax(1)"
   ]
  },
  {
   "cell_type": "code",
   "execution_count": 33,
   "metadata": {},
   "outputs": [
    {
     "data": {
      "text/plain": [
       "array([1])"
      ]
     },
     "execution_count": 33,
     "metadata": {},
     "output_type": "execute_result"
    }
   ],
   "source": [
    "y_pred_classes"
   ]
  },
  {
   "cell_type": "code",
   "execution_count": 34,
   "metadata": {},
   "outputs": [
    {
     "data": {
      "text/plain": [
       "array([1, 1, 1, 1, 1, 1, 1, 1, 1, 1, 1, 1, 1, 1, 1, 1, 1, 1, 1, 1, 0, 0,\n",
       "       0, 0, 0, 0, 0, 0, 0, 0, 0, 0, 0, 0, 0, 0, 0, 0, 0, 0])"
      ]
     },
     "execution_count": 34,
     "metadata": {},
     "output_type": "execute_result"
    }
   ],
   "source": [
    "y_test_classes"
   ]
  },
  {
   "cell_type": "code",
   "execution_count": 35,
   "metadata": {},
   "outputs": [
    {
     "ename": "ValueError",
     "evalue": "Found input variables with inconsistent numbers of samples: [1, 40]",
     "output_type": "error",
     "traceback": [
      "\u001b[0;31m---------------------------------------------------------------------------\u001b[0m",
      "\u001b[0;31mValueError\u001b[0m                                Traceback (most recent call last)",
      "\u001b[0;32m<ipython-input-35-117348e5c194>\u001b[0m in \u001b[0;36m<module>\u001b[0;34m\u001b[0m\n\u001b[1;32m      1\u001b[0m \u001b[0;32mfrom\u001b[0m \u001b[0msklearn\u001b[0m\u001b[0;34m.\u001b[0m\u001b[0mmetrics\u001b[0m \u001b[0;32mimport\u001b[0m \u001b[0mconfusion_matrix\u001b[0m\u001b[0;34m\u001b[0m\u001b[0;34m\u001b[0m\u001b[0m\n\u001b[0;32m----> 2\u001b[0;31m \u001b[0mmatrix\u001b[0m \u001b[0;34m=\u001b[0m \u001b[0mconfusion_matrix\u001b[0m\u001b[0;34m(\u001b[0m\u001b[0my_pred_classes\u001b[0m\u001b[0;34m,\u001b[0m \u001b[0my_test_classes\u001b[0m\u001b[0;34m)\u001b[0m\u001b[0;34m\u001b[0m\u001b[0;34m\u001b[0m\u001b[0m\n\u001b[0m",
      "\u001b[0;32m~/miniconda/lib/python3.7/site-packages/sklearn/metrics/_classification.py\u001b[0m in \u001b[0;36mconfusion_matrix\u001b[0;34m(y_true, y_pred, labels, sample_weight, normalize)\u001b[0m\n\u001b[1;32m    266\u001b[0m \u001b[0;34m\u001b[0m\u001b[0m\n\u001b[1;32m    267\u001b[0m     \"\"\"\n\u001b[0;32m--> 268\u001b[0;31m     \u001b[0my_type\u001b[0m\u001b[0;34m,\u001b[0m \u001b[0my_true\u001b[0m\u001b[0;34m,\u001b[0m \u001b[0my_pred\u001b[0m \u001b[0;34m=\u001b[0m \u001b[0m_check_targets\u001b[0m\u001b[0;34m(\u001b[0m\u001b[0my_true\u001b[0m\u001b[0;34m,\u001b[0m \u001b[0my_pred\u001b[0m\u001b[0;34m)\u001b[0m\u001b[0;34m\u001b[0m\u001b[0;34m\u001b[0m\u001b[0m\n\u001b[0m\u001b[1;32m    269\u001b[0m     \u001b[0;32mif\u001b[0m \u001b[0my_type\u001b[0m \u001b[0;32mnot\u001b[0m \u001b[0;32min\u001b[0m \u001b[0;34m(\u001b[0m\u001b[0;34m\"binary\"\u001b[0m\u001b[0;34m,\u001b[0m \u001b[0;34m\"multiclass\"\u001b[0m\u001b[0;34m)\u001b[0m\u001b[0;34m:\u001b[0m\u001b[0;34m\u001b[0m\u001b[0;34m\u001b[0m\u001b[0m\n\u001b[1;32m    270\u001b[0m         \u001b[0;32mraise\u001b[0m \u001b[0mValueError\u001b[0m\u001b[0;34m(\u001b[0m\u001b[0;34m\"%s is not supported\"\u001b[0m \u001b[0;34m%\u001b[0m \u001b[0my_type\u001b[0m\u001b[0;34m)\u001b[0m\u001b[0;34m\u001b[0m\u001b[0;34m\u001b[0m\u001b[0m\n",
      "\u001b[0;32m~/miniconda/lib/python3.7/site-packages/sklearn/metrics/_classification.py\u001b[0m in \u001b[0;36m_check_targets\u001b[0;34m(y_true, y_pred)\u001b[0m\n\u001b[1;32m     78\u001b[0m     \u001b[0my_pred\u001b[0m \u001b[0;34m:\u001b[0m \u001b[0marray\u001b[0m \u001b[0;32mor\u001b[0m \u001b[0mindicator\u001b[0m \u001b[0mmatrix\u001b[0m\u001b[0;34m\u001b[0m\u001b[0;34m\u001b[0m\u001b[0m\n\u001b[1;32m     79\u001b[0m     \"\"\"\n\u001b[0;32m---> 80\u001b[0;31m     \u001b[0mcheck_consistent_length\u001b[0m\u001b[0;34m(\u001b[0m\u001b[0my_true\u001b[0m\u001b[0;34m,\u001b[0m \u001b[0my_pred\u001b[0m\u001b[0;34m)\u001b[0m\u001b[0;34m\u001b[0m\u001b[0;34m\u001b[0m\u001b[0m\n\u001b[0m\u001b[1;32m     81\u001b[0m     \u001b[0mtype_true\u001b[0m \u001b[0;34m=\u001b[0m \u001b[0mtype_of_target\u001b[0m\u001b[0;34m(\u001b[0m\u001b[0my_true\u001b[0m\u001b[0;34m)\u001b[0m\u001b[0;34m\u001b[0m\u001b[0;34m\u001b[0m\u001b[0m\n\u001b[1;32m     82\u001b[0m     \u001b[0mtype_pred\u001b[0m \u001b[0;34m=\u001b[0m \u001b[0mtype_of_target\u001b[0m\u001b[0;34m(\u001b[0m\u001b[0my_pred\u001b[0m\u001b[0;34m)\u001b[0m\u001b[0;34m\u001b[0m\u001b[0;34m\u001b[0m\u001b[0m\n",
      "\u001b[0;32m~/miniconda/lib/python3.7/site-packages/sklearn/utils/validation.py\u001b[0m in \u001b[0;36mcheck_consistent_length\u001b[0;34m(*arrays)\u001b[0m\n\u001b[1;32m    210\u001b[0m     \u001b[0;32mif\u001b[0m \u001b[0mlen\u001b[0m\u001b[0;34m(\u001b[0m\u001b[0muniques\u001b[0m\u001b[0;34m)\u001b[0m \u001b[0;34m>\u001b[0m \u001b[0;36m1\u001b[0m\u001b[0;34m:\u001b[0m\u001b[0;34m\u001b[0m\u001b[0;34m\u001b[0m\u001b[0m\n\u001b[1;32m    211\u001b[0m         raise ValueError(\"Found input variables with inconsistent numbers of\"\n\u001b[0;32m--> 212\u001b[0;31m                          \" samples: %r\" % [int(l) for l in lengths])\n\u001b[0m\u001b[1;32m    213\u001b[0m \u001b[0;34m\u001b[0m\u001b[0m\n\u001b[1;32m    214\u001b[0m \u001b[0;34m\u001b[0m\u001b[0m\n",
      "\u001b[0;31mValueError\u001b[0m: Found input variables with inconsistent numbers of samples: [1, 40]"
     ]
    }
   ],
   "source": [
    "from sklearn.metrics import confusion_matrix\n",
    "matrix = confusion_matrix(y_pred_classes, y_test_classes)"
   ]
  },
  {
   "cell_type": "code",
   "execution_count": null,
   "metadata": {},
   "outputs": [],
   "source": [
    "print(matrix)"
   ]
  }
 ],
 "metadata": {
  "kernelspec": {
   "display_name": "Python 3",
   "language": "python",
   "name": "python3"
  },
  "language_info": {
   "codemirror_mode": {
    "name": "ipython",
    "version": 3
   },
   "file_extension": ".py",
   "mimetype": "text/x-python",
   "name": "python",
   "nbconvert_exporter": "python",
   "pygments_lexer": "ipython3",
   "version": "3.7.4"
  }
 },
 "nbformat": 4,
 "nbformat_minor": 4
}
