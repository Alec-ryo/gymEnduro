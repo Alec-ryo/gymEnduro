{
 "cells": [
  {
   "cell_type": "code",
   "execution_count": 1,
   "metadata": {},
   "outputs": [
    {
     "name": "stderr",
     "output_type": "stream",
     "text": [
      "Using TensorFlow backend.\n"
     ]
    }
   ],
   "source": [
    "import tensorflow\n",
    "import numpy as np\n",
    "from keras.models import Sequential\n",
    "from keras.layers import Dense, Flatten\n",
    "from keras.layers import TimeDistributed\n",
    "from keras.layers import SimpleRNN"
   ]
  },
  {
   "cell_type": "code",
   "execution_count": 2,
   "metadata": {},
   "outputs": [],
   "source": [
    "PNG_PATH = \"/home/ryo/Área de Trabalho/PIBIC/Database/img/\"\n",
    "NPZ_PATH = \"/home/ryo/Área de Trabalho/PIBIC/Database/npz/\""
   ]
  },
  {
   "cell_type": "code",
   "execution_count": 3,
   "metadata": {},
   "outputs": [],
   "source": [
    "circle = np.load(NPZ_PATH + 'bubbles.npz')\n",
    "square = np.load(NPZ_PATH + 'square.npz')"
   ]
  },
  {
   "cell_type": "code",
   "execution_count": 4,
   "metadata": {},
   "outputs": [],
   "source": [
    "circle_images = circle.f.arr_0\n",
    "square_images = square.f.arr_0"
   ]
  },
  {
   "cell_type": "code",
   "execution_count": 45,
   "metadata": {},
   "outputs": [
    {
     "data": {
      "text/plain": [
       "array([[[0., 0., 0., ..., 0., 0., 0.],\n",
       "        [0., 0., 0., ..., 0., 0., 0.],\n",
       "        [0., 0., 0., ..., 0., 0., 0.],\n",
       "        ...,\n",
       "        [0., 0., 0., ..., 0., 0., 0.],\n",
       "        [0., 0., 0., ..., 0., 0., 0.],\n",
       "        [0., 0., 0., ..., 0., 0., 0.]],\n",
       "\n",
       "       [[0., 0., 0., ..., 0., 0., 0.],\n",
       "        [0., 0., 0., ..., 0., 0., 0.],\n",
       "        [0., 0., 0., ..., 0., 0., 0.],\n",
       "        ...,\n",
       "        [0., 0., 0., ..., 0., 0., 0.],\n",
       "        [0., 0., 0., ..., 0., 0., 0.],\n",
       "        [0., 0., 0., ..., 0., 0., 0.]]], dtype=float32)"
      ]
     },
     "execution_count": 45,
     "metadata": {},
     "output_type": "execute_result"
    }
   ],
   "source": [
    "circle_images[:2]"
   ]
  },
  {
   "cell_type": "code",
   "execution_count": 6,
   "metadata": {},
   "outputs": [
    {
     "data": {
      "text/plain": [
       "array([[[0., 0., 0., ..., 0., 0., 0.],\n",
       "        [0., 0., 0., ..., 0., 0., 0.],\n",
       "        [0., 0., 0., ..., 0., 0., 0.],\n",
       "        ...,\n",
       "        [0., 0., 0., ..., 0., 0., 0.],\n",
       "        [0., 0., 0., ..., 0., 0., 0.],\n",
       "        [0., 0., 0., ..., 0., 0., 0.]],\n",
       "\n",
       "       [[0., 0., 0., ..., 0., 0., 0.],\n",
       "        [0., 0., 0., ..., 0., 0., 0.],\n",
       "        [0., 0., 0., ..., 0., 0., 0.],\n",
       "        ...,\n",
       "        [0., 0., 0., ..., 0., 0., 0.],\n",
       "        [0., 0., 0., ..., 0., 0., 0.],\n",
       "        [0., 0., 0., ..., 0., 0., 0.]]], dtype=float32)"
      ]
     },
     "execution_count": 6,
     "metadata": {},
     "output_type": "execute_result"
    }
   ],
   "source": [
    "square_images[:2]"
   ]
  },
  {
   "cell_type": "code",
   "execution_count": 5,
   "metadata": {},
   "outputs": [],
   "source": [
    "train_cir_img = circle_images[:80]\n",
    "train_sqr_img = square_images[:80]\n",
    "test_cir_img = circle_images[80:100]\n",
    "test_sqr_img = square_images[80:100]"
   ]
  },
  {
   "cell_type": "code",
   "execution_count": 7,
   "metadata": {},
   "outputs": [],
   "source": [
    "train_cir_sqr_img = np.concatenate((train_cir_img, train_sqr_img))\n",
    "test_cir_sqr_img = np.concatenate((test_cir_img, test_sqr_img))"
   ]
  },
  {
   "cell_type": "code",
   "execution_count": 8,
   "metadata": {},
   "outputs": [
    {
     "name": "stdout",
     "output_type": "stream",
     "text": [
      "160\n",
      "40\n"
     ]
    }
   ],
   "source": [
    "# o array tem 100 imagens de circulo e 100 de quadrados com formato 50x50\n",
    "print(len(train_cir_sqr_img))\n",
    "print(len(test_cir_sqr_img))"
   ]
  },
  {
   "cell_type": "code",
   "execution_count": 9,
   "metadata": {},
   "outputs": [],
   "source": [
    "train_images_target = []\n",
    "test_images_target = []\n",
    "for i in range(80):\n",
    "    zero_um = (0,1)\n",
    "    train_images_target.append(zero_um)\n",
    "    \n",
    "for i in range(80):\n",
    "    um_zero = (1,0)\n",
    "    train_images_target.append(um_zero)\n",
    "    \n",
    "for i in range(20):\n",
    "    zero_um = (0,1)\n",
    "    test_images_target.append(zero_um)\n",
    "    \n",
    "for i in range(20):\n",
    "    um_zero = (1,0)\n",
    "    test_images_target.append(um_zero)"
   ]
  },
  {
   "cell_type": "code",
   "execution_count": 10,
   "metadata": {},
   "outputs": [],
   "source": [
    "X = np.reshape(train_cir_sqr_img, (160, 50, 50))\n",
    "y = np.array(train_images_target)"
   ]
  },
  {
   "cell_type": "code",
   "execution_count": 11,
   "metadata": {},
   "outputs": [
    {
     "name": "stdout",
     "output_type": "stream",
     "text": [
      "nro de neurônios na hidden layer: 50\n"
     ]
    }
   ],
   "source": [
    "import math\n",
    "n_input_layer = 2500\n",
    "n_output_layer = 1\n",
    "n_hidden_layer = round(math.sqrt((n_input_layer*n_output_layer)))\n",
    "print(\"nro de neurônios na hidden layer:\", n_hidden_layer)"
   ]
  },
  {
   "cell_type": "code",
   "execution_count": 12,
   "metadata": {},
   "outputs": [],
   "source": [
    "from keras.callbacks import EarlyStopping\n",
    "from matplotlib import pyplot"
   ]
  },
  {
   "cell_type": "code",
   "execution_count": 13,
   "metadata": {
    "scrolled": true
   },
   "outputs": [
    {
     "name": "stdout",
     "output_type": "stream",
     "text": [
      "Model: \"sequential_1\"\n",
      "_________________________________________________________________\n",
      "Layer (type)                 Output Shape              Param #   \n",
      "=================================================================\n",
      "simple_rnn_1 (SimpleRNN)     (None, 50)                5050      \n",
      "_________________________________________________________________\n",
      "dense_1 (Dense)              (None, 2)                 102       \n",
      "=================================================================\n",
      "Total params: 5,152\n",
      "Trainable params: 5,152\n",
      "Non-trainable params: 0\n",
      "_________________________________________________________________\n"
     ]
    }
   ],
   "source": [
    "model=Sequential()\n",
    "model.add(SimpleRNN(n_hidden_layer, \n",
    "                    input_shape=(50,50), \n",
    "                    kernel_initializer='random_normal'))\n",
    "model.add(Dense(2, activation='sigmoid'))\n",
    "# model.compile(loss = 'mse', optimizer = 'rmsprop')\n",
    "model.compile(loss='binary_crossentropy', optimizer='adam', metrics=['accuracy'])\n",
    "model.summary()"
   ]
  },
  {
   "cell_type": "code",
   "execution_count": 14,
   "metadata": {
    "scrolled": true
   },
   "outputs": [
    {
     "data": {
      "image/png": "[encoded data removed]",
      "text/plain": [
       "<IPython.core.display.Image object>"
      ]
     },
     "execution_count": 14,
     "metadata": {},
     "output_type": "execute_result"
    }
   ],
   "source": [
    "from keras.utils.vis_utils import plot_model\n",
    "import graphviz\n",
    "from interface import implements, Interface\n",
    "plot_model(model, to_file='model_plot.png', show_shapes=True, show_layer_names=True)"
   ]
  },
  {
   "cell_type": "code",
   "execution_count": 15,
   "metadata": {},
   "outputs": [],
   "source": [
    "# simple early stopping\n",
    "es = EarlyStopping(monitor='val_loss', mode='min', verbose=1)"
   ]
  },
  {
   "cell_type": "code",
   "execution_count": 30,
   "metadata": {},
   "outputs": [
    {
     "name": "stdout",
     "output_type": "stream",
     "text": [
      "Epoch 1/100\n",
      "160/160 [==============================] - 0s 412us/step - loss: 1.0038 - accuracy: 0.6812\n",
      "Epoch 2/100\n",
      "160/160 [==============================] - 0s 410us/step - loss: 0.5716 - accuracy: 0.7531\n",
      "Epoch 3/100\n",
      "160/160 [==============================] - 0s 361us/step - loss: 0.6763 - accuracy: 0.6000\n",
      "Epoch 4/100\n",
      "160/160 [==============================] - 0s 321us/step - loss: 0.8260 - accuracy: 0.5437\n",
      "Epoch 5/100\n",
      " 32/160 [=====>........................] - ETA: 0s - loss: 0.8056 - accuracy: 0.5781"
     ]
    },
    {
     "name": "stderr",
     "output_type": "stream",
     "text": [
      "/home/ryo/miniconda/lib/python3.7/site-packages/keras/callbacks/callbacks.py:846: RuntimeWarning: Early stopping conditioned on metric `val_loss` which is not available. Available metrics are: loss,accuracy\n",
      "  (self.monitor, ','.join(list(logs.keys()))), RuntimeWarning\n"
     ]
    },
    {
     "name": "stdout",
     "output_type": "stream",
     "text": [
      "160/160 [==============================] - 0s 373us/step - loss: 0.7308 - accuracy: 0.6031\n",
      "Epoch 6/100\n",
      "160/160 [==============================] - 0s 342us/step - loss: 0.6696 - accuracy: 0.6406\n",
      "Epoch 7/100\n",
      "160/160 [==============================] - 0s 354us/step - loss: 0.5370 - accuracy: 0.7375\n",
      "Epoch 8/100\n",
      "160/160 [==============================] - 0s 358us/step - loss: 0.4936 - accuracy: 0.8188\n",
      "Epoch 9/100\n",
      "160/160 [==============================] - 0s 360us/step - loss: 0.4391 - accuracy: 0.8625\n",
      "Epoch 10/100\n",
      "160/160 [==============================] - 0s 357us/step - loss: 0.4006 - accuracy: 0.8562\n",
      "Epoch 11/100\n",
      "160/160 [==============================] - 0s 344us/step - loss: 0.3871 - accuracy: 0.8313\n",
      "Epoch 12/100\n",
      "160/160 [==============================] - 0s 347us/step - loss: 0.3683 - accuracy: 0.8781\n",
      "Epoch 13/100\n",
      "160/160 [==============================] - 0s 329us/step - loss: 0.3688 - accuracy: 0.8562\n",
      "Epoch 14/100\n",
      "160/160 [==============================] - 0s 396us/step - loss: 0.3490 - accuracy: 0.8781\n",
      "Epoch 15/100\n",
      "160/160 [==============================] - 0s 357us/step - loss: 0.3369 - accuracy: 0.8625\n",
      "Epoch 16/100\n",
      "160/160 [==============================] - 0s 311us/step - loss: 0.3594 - accuracy: 0.8438\n",
      "Epoch 17/100\n",
      "160/160 [==============================] - 0s 336us/step - loss: 0.3311 - accuracy: 0.8906\n",
      "Epoch 18/100\n",
      "160/160 [==============================] - 0s 411us/step - loss: 0.3040 - accuracy: 0.9031\n",
      "Epoch 19/100\n",
      "160/160 [==============================] - 0s 388us/step - loss: 0.2835 - accuracy: 0.9000\n",
      "Epoch 20/100\n",
      "160/160 [==============================] - 0s 381us/step - loss: 0.2593 - accuracy: 0.9312\n",
      "Epoch 21/100\n",
      "160/160 [==============================] - 0s 360us/step - loss: 0.2437 - accuracy: 0.9312\n",
      "Epoch 22/100\n",
      "160/160 [==============================] - 0s 352us/step - loss: 0.2093 - accuracy: 0.9438\n",
      "Epoch 23/100\n",
      "160/160 [==============================] - 0s 326us/step - loss: 0.1878 - accuracy: 0.9469\n",
      "Epoch 24/100\n",
      "160/160 [==============================] - 0s 380us/step - loss: 0.1200 - accuracy: 0.9937\n",
      "Epoch 25/100\n",
      "160/160 [==============================] - 0s 319us/step - loss: 0.1326 - accuracy: 0.9781\n",
      "Epoch 26/100\n",
      "160/160 [==============================] - 0s 371us/step - loss: 0.1096 - accuracy: 0.9969\n",
      "Epoch 27/100\n",
      "160/160 [==============================] - 0s 330us/step - loss: 0.1177 - accuracy: 0.9844\n",
      "Epoch 28/100\n",
      "160/160 [==============================] - 0s 361us/step - loss: 0.0919 - accuracy: 0.9906\n",
      "Epoch 29/100\n",
      "160/160 [==============================] - 0s 359us/step - loss: 0.0788 - accuracy: 0.9906\n",
      "Epoch 30/100\n",
      "160/160 [==============================] - 0s 411us/step - loss: 0.0600 - accuracy: 1.0000\n",
      "Epoch 31/100\n",
      "160/160 [==============================] - 0s 444us/step - loss: 0.0581 - accuracy: 0.9937\n",
      "Epoch 32/100\n",
      "160/160 [==============================] - 0s 406us/step - loss: 0.0499 - accuracy: 0.9969\n",
      "Epoch 33/100\n",
      "160/160 [==============================] - 0s 419us/step - loss: 0.0426 - accuracy: 1.0000\n",
      "Epoch 34/100\n",
      "160/160 [==============================] - 0s 342us/step - loss: 0.0356 - accuracy: 1.0000\n",
      "Epoch 35/100\n",
      "160/160 [==============================] - 0s 426us/step - loss: 0.1219 - accuracy: 0.9531\n",
      "Epoch 36/100\n",
      "160/160 [==============================] - 0s 380us/step - loss: 0.1046 - accuracy: 0.9750\n",
      "Epoch 37/100\n",
      "160/160 [==============================] - 0s 348us/step - loss: 0.0628 - accuracy: 0.9937\n",
      "Epoch 38/100\n",
      "160/160 [==============================] - 0s 369us/step - loss: 0.1088 - accuracy: 0.9750\n",
      "Epoch 39/100\n",
      "160/160 [==============================] - 0s 352us/step - loss: 0.0654 - accuracy: 0.9906\n",
      "Epoch 40/100\n",
      "160/160 [==============================] - 0s 327us/step - loss: 0.0667 - accuracy: 0.9844\n",
      "Epoch 41/100\n",
      "160/160 [==============================] - 0s 409us/step - loss: 0.0694 - accuracy: 0.9875\n",
      "Epoch 42/100\n",
      "160/160 [==============================] - 0s 448us/step - loss: 0.0317 - accuracy: 0.9969\n",
      "Epoch 43/100\n",
      "160/160 [==============================] - 0s 546us/step - loss: 0.0239 - accuracy: 1.0000\n",
      "Epoch 44/100\n",
      "160/160 [==============================] - 0s 482us/step - loss: 0.0214 - accuracy: 1.0000\n",
      "Epoch 45/100\n",
      "160/160 [==============================] - 0s 400us/step - loss: 0.0209 - accuracy: 1.0000\n",
      "Epoch 46/100\n",
      "160/160 [==============================] - 0s 388us/step - loss: 0.0186 - accuracy: 1.0000\n",
      "Epoch 47/100\n",
      "160/160 [==============================] - 0s 314us/step - loss: 0.0170 - accuracy: 1.0000\n",
      "Epoch 48/100\n",
      "160/160 [==============================] - 0s 330us/step - loss: 0.0168 - accuracy: 1.0000\n",
      "Epoch 49/100\n",
      "160/160 [==============================] - 0s 347us/step - loss: 0.0155 - accuracy: 1.0000\n",
      "Epoch 50/100\n",
      "160/160 [==============================] - 0s 392us/step - loss: 0.0149 - accuracy: 1.0000\n",
      "Epoch 51/100\n",
      "160/160 [==============================] - 0s 408us/step - loss: 0.0144 - accuracy: 1.0000\n",
      "Epoch 52/100\n",
      "160/160 [==============================] - 0s 378us/step - loss: 0.0137 - accuracy: 1.0000\n",
      "Epoch 53/100\n",
      "160/160 [==============================] - 0s 400us/step - loss: 0.0133 - accuracy: 1.0000\n",
      "Epoch 54/100\n",
      "160/160 [==============================] - 0s 330us/step - loss: 0.0127 - accuracy: 1.0000\n",
      "Epoch 55/100\n",
      "160/160 [==============================] - 0s 343us/step - loss: 0.0122 - accuracy: 1.0000\n",
      "Epoch 56/100\n",
      "160/160 [==============================] - 0s 331us/step - loss: 0.0118 - accuracy: 1.0000\n",
      "Epoch 57/100\n",
      "160/160 [==============================] - 0s 300us/step - loss: 0.0115 - accuracy: 1.0000\n",
      "Epoch 58/100\n",
      "160/160 [==============================] - 0s 377us/step - loss: 0.0111 - accuracy: 1.0000\n",
      "Epoch 59/100\n",
      "160/160 [==============================] - 0s 396us/step - loss: 0.0108 - accuracy: 1.0000\n",
      "Epoch 60/100\n",
      "160/160 [==============================] - 0s 466us/step - loss: 0.0105 - accuracy: 1.0000\n",
      "Epoch 61/100\n",
      "160/160 [==============================] - 0s 378us/step - loss: 0.0101 - accuracy: 1.0000\n",
      "Epoch 62/100\n",
      "160/160 [==============================] - 0s 309us/step - loss: 0.0099 - accuracy: 1.0000\n",
      "Epoch 63/100\n",
      "160/160 [==============================] - 0s 368us/step - loss: 0.0096 - accuracy: 1.0000\n",
      "Epoch 64/100\n",
      "160/160 [==============================] - 0s 334us/step - loss: 0.0093 - accuracy: 1.0000\n",
      "Epoch 65/100\n",
      "160/160 [==============================] - 0s 297us/step - loss: 0.0091 - accuracy: 1.0000\n",
      "Epoch 66/100\n",
      "160/160 [==============================] - 0s 323us/step - loss: 0.0088 - accuracy: 1.0000\n",
      "Epoch 67/100\n",
      "160/160 [==============================] - 0s 430us/step - loss: 0.0086 - accuracy: 1.0000\n",
      "Epoch 68/100\n",
      "160/160 [==============================] - 0s 461us/step - loss: 0.0084 - accuracy: 1.0000\n",
      "Epoch 69/100\n",
      "160/160 [==============================] - 0s 410us/step - loss: 0.0082 - accuracy: 1.0000\n",
      "Epoch 70/100\n",
      "160/160 [==============================] - 0s 379us/step - loss: 0.0080 - accuracy: 1.0000\n",
      "Epoch 71/100\n",
      "160/160 [==============================] - 0s 342us/step - loss: 0.0078 - accuracy: 1.0000\n",
      "Epoch 72/100\n",
      "160/160 [==============================] - 0s 358us/step - loss: 0.0076 - accuracy: 1.0000\n",
      "Epoch 73/100\n",
      "160/160 [==============================] - 0s 441us/step - loss: 0.0074 - accuracy: 1.0000\n",
      "Epoch 74/100\n",
      "160/160 [==============================] - 0s 429us/step - loss: 0.0073 - accuracy: 1.0000\n",
      "Epoch 75/100\n",
      "160/160 [==============================] - 0s 445us/step - loss: 0.0071 - accuracy: 1.0000\n",
      "Epoch 76/100\n",
      "160/160 [==============================] - 0s 340us/step - loss: 0.0070 - accuracy: 1.0000\n",
      "Epoch 77/100\n",
      "160/160 [==============================] - 0s 352us/step - loss: 0.0068 - accuracy: 1.0000\n",
      "Epoch 78/100\n",
      "160/160 [==============================] - 0s 302us/step - loss: 0.0067 - accuracy: 1.0000\n",
      "Epoch 79/100\n",
      "160/160 [==============================] - 0s 337us/step - loss: 0.0065 - accuracy: 1.0000\n",
      "Epoch 80/100\n",
      "160/160 [==============================] - 0s 353us/step - loss: 0.0064 - accuracy: 1.0000\n",
      "Epoch 81/100\n",
      "160/160 [==============================] - 0s 400us/step - loss: 0.0063 - accuracy: 1.0000\n",
      "Epoch 82/100\n",
      "160/160 [==============================] - 0s 389us/step - loss: 0.0061 - accuracy: 1.0000\n",
      "Epoch 83/100\n",
      "160/160 [==============================] - 0s 451us/step - loss: 0.0060 - accuracy: 1.0000\n"
     ]
    },
    {
     "name": "stdout",
     "output_type": "stream",
     "text": [
      "Epoch 84/100\n",
      "160/160 [==============================] - 0s 451us/step - loss: 0.0059 - accuracy: 1.0000\n",
      "Epoch 85/100\n",
      "160/160 [==============================] - 0s 406us/step - loss: 0.0058 - accuracy: 1.0000\n",
      "Epoch 86/100\n",
      "160/160 [==============================] - 0s 326us/step - loss: 0.0057 - accuracy: 1.0000\n",
      "Epoch 87/100\n",
      "160/160 [==============================] - 0s 325us/step - loss: 0.0056 - accuracy: 1.0000\n",
      "Epoch 88/100\n",
      "160/160 [==============================] - 0s 325us/step - loss: 0.0055 - accuracy: 1.0000\n",
      "Epoch 89/100\n",
      "160/160 [==============================] - 0s 325us/step - loss: 0.0054 - accuracy: 1.0000\n",
      "Epoch 90/100\n",
      "160/160 [==============================] - 0s 290us/step - loss: 0.0053 - accuracy: 1.0000\n",
      "Epoch 91/100\n",
      "160/160 [==============================] - 0s 360us/step - loss: 0.0052 - accuracy: 1.0000\n",
      "Epoch 92/100\n",
      "160/160 [==============================] - 0s 349us/step - loss: 0.0051 - accuracy: 1.0000\n",
      "Epoch 93/100\n",
      "160/160 [==============================] - 0s 290us/step - loss: 0.0050 - accuracy: 1.0000\n",
      "Epoch 94/100\n",
      "160/160 [==============================] - 0s 290us/step - loss: 0.0049 - accuracy: 1.0000\n",
      "Epoch 95/100\n",
      "160/160 [==============================] - 0s 338us/step - loss: 0.0048 - accuracy: 1.0000\n",
      "Epoch 96/100\n",
      "160/160 [==============================] - 0s 327us/step - loss: 0.0047 - accuracy: 1.0000\n",
      "Epoch 97/100\n",
      "160/160 [==============================] - 0s 316us/step - loss: 0.0047 - accuracy: 1.0000\n",
      "Epoch 98/100\n",
      "160/160 [==============================] - 0s 385us/step - loss: 0.0046 - accuracy: 1.0000\n",
      "Epoch 99/100\n",
      "160/160 [==============================] - 0s 343us/step - loss: 0.0045 - accuracy: 1.0000\n",
      "Epoch 100/100\n",
      "160/160 [==============================] - 0s 560us/step - loss: 0.0044 - accuracy: 1.0000\n"
     ]
    }
   ],
   "source": [
    "history = model.fit(X, y, epochs = 100, batch_size = 32, callbacks=[es])"
   ]
  },
  {
   "cell_type": "code",
   "execution_count": 31,
   "metadata": {},
   "outputs": [
    {
     "name": "stdout",
     "output_type": "stream",
     "text": [
      "dict_keys(['loss', 'accuracy'])\n"
     ]
    }
   ],
   "source": [
    "# list all data in history\n",
    "print(history.history.keys())"
   ]
  },
  {
   "cell_type": "code",
   "execution_count": 48,
   "metadata": {},
   "outputs": [
    {
     "data": {
      "text/plain": [
       "[<matplotlib.lines.Line2D at 0x7f10a6188350>]"
      ]
     },
     "execution_count": 48,
     "metadata": {},
     "output_type": "execute_result"
    },
    {
     "data": {
      "image/png": "[encoded data removed]",
      "text/plain": [
       "<Figure size 432x288 with 1 Axes>"
      ]
     },
     "metadata": {
      "needs_background": "light"
     },
     "output_type": "display_data"
    }
   ],
   "source": [
    "import matplotlib.pyplot as plt\n",
    "# summarize history for accuracy\n",
    "plt.plot(history.history['loss'], label='loss')\n",
    "plt.plot(history.history['accuracy'], label='accuracy')"
   ]
  },
  {
   "cell_type": "code",
   "execution_count": 33,
   "metadata": {},
   "outputs": [
    {
     "name": "stdout",
     "output_type": "stream",
     "text": [
      "Saved model to disk\n"
     ]
    }
   ],
   "source": [
    "# serialize model to JSON\n",
    "model_json = model.to_json()\n",
    "with open(\"model.json\", \"w\") as json_file:\n",
    "    json_file.write(model_json)\n",
    "# serialize weights to HDF5\n",
    "model.save_weights(\"model.h5\")\n",
    "print(\"Saved model to disk\")"
   ]
  },
  {
   "cell_type": "code",
   "execution_count": 36,
   "metadata": {},
   "outputs": [],
   "source": [
    "test = np.reshape(test, (40, 1000, 1))"
   ]
  },
  {
   "cell_type": "code",
   "execution_count": 37,
   "metadata": {},
   "outputs": [
    {
     "name": "stdout",
     "output_type": "stream",
     "text": [
      "[0.00196873 0.99789524] expected (0, 1)\n",
      "[0.00222432 0.9973966 ] expected (0, 1)\n",
      "[0.00681893 0.992297  ] expected (0, 1)\n",
      "[0.00195031 0.9981287 ] expected (0, 1)\n",
      "[0.01414254 0.99104214] expected (0, 1)\n",
      "[0.00429251 0.99463296] expected (0, 1)\n",
      "[0.0041846  0.99469876] expected (0, 1)\n",
      "[0.00900411 0.9926041 ] expected (0, 1)\n",
      "[0.00262401 0.99725205] expected (0, 1)\n",
      "[0.01526741 0.9905434 ] expected (0, 1)\n",
      "[0.01581786 0.98873246] expected (0, 1)\n",
      "[0.00323499 0.9960741 ] expected (0, 1)\n",
      "[0.01050632 0.989316  ] expected (0, 1)\n",
      "[0.00398723 0.99473286] expected (0, 1)\n",
      "[0.00376221 0.99494743] expected (0, 1)\n",
      "[0.00931295 0.98888063] expected (0, 1)\n",
      "[0.00322465 0.99542314] expected (0, 1)\n",
      "[0.00230203 0.9981458 ] expected (0, 1)\n",
      "[0.01692317 0.9901507 ] expected (0, 1)\n",
      "[0.00454706 0.99459296] expected (0, 1)\n",
      "[0.997358   0.00241079] expected (1, 0)\n",
      "[0.99745184 0.00258326] expected (1, 0)\n",
      "[0.9920294  0.00621794] expected (1, 0)\n",
      "[0.99739206 0.00242755] expected (1, 0)\n",
      "[0.9965373  0.00270983] expected (1, 0)\n",
      "[0.9971552  0.00241499] expected (1, 0)\n",
      "[0.9969285  0.00249973] expected (1, 0)\n",
      "[0.9960977  0.00300094] expected (1, 0)\n",
      "[0.9965378  0.00271139] expected (1, 0)\n",
      "[0.9944448  0.00429967] expected (1, 0)\n",
      "[0.9967062  0.00260882] expected (1, 0)\n",
      "[0.997317   0.00302264] expected (1, 0)\n",
      "[0.9966139  0.00266671] expected (1, 0)\n",
      "[0.9972362  0.00240116] expected (1, 0)\n",
      "[0.9967062  0.00260882] expected (1, 0)\n",
      "[0.99729747 0.00306342] expected (1, 0)\n",
      "[0.9952679  0.00362968] expected (1, 0)\n",
      "[0.9970157  0.00245836] expected (1, 0)\n",
      "[0.9965373  0.00270983] expected (1, 0)\n",
      "[0.9972362  0.00240115] expected (1, 0)\n"
     ]
    }
   ],
   "source": [
    "predictions = model.predict(test_cir_sqr_img)\n",
    "for i in range(len(test)):\n",
    "    print(predictions[i], 'expected', test_target[i])"
   ]
  },
  {
   "cell_type": "code",
   "execution_count": 38,
   "metadata": {},
   "outputs": [],
   "source": [
    "test_target_arr = np.array(test_target)"
   ]
  },
  {
   "cell_type": "code",
   "execution_count": 39,
   "metadata": {},
   "outputs": [],
   "source": [
    "predictions_rounded = np.matrix.round(predictions)"
   ]
  },
  {
   "cell_type": "code",
   "execution_count": 40,
   "metadata": {},
   "outputs": [],
   "source": [
    "y_test_classes = test_target_arr.argmax(1)\n",
    "y_pred_classes = predictions_rounded.argmax(1)"
   ]
  },
  {
   "cell_type": "code",
   "execution_count": 41,
   "metadata": {},
   "outputs": [
    {
     "data": {
      "text/plain": [
       "array([1, 1, 1, 1, 1, 1, 1, 1, 1, 1, 1, 1, 1, 1, 1, 1, 1, 1, 1, 1, 0, 0,\n",
       "       0, 0, 0, 0, 0, 0, 0, 0, 0, 0, 0, 0, 0, 0, 0, 0, 0, 0])"
      ]
     },
     "execution_count": 41,
     "metadata": {},
     "output_type": "execute_result"
    }
   ],
   "source": [
    "y_pred_classes"
   ]
  },
  {
   "cell_type": "code",
   "execution_count": 42,
   "metadata": {},
   "outputs": [
    {
     "data": {
      "text/plain": [
       "array([1, 1, 1, 1, 1, 1, 1, 1, 1, 1, 1, 1, 1, 1, 1, 1, 1, 1, 1, 1, 0, 0,\n",
       "       0, 0, 0, 0, 0, 0, 0, 0, 0, 0, 0, 0, 0, 0, 0, 0, 0, 0])"
      ]
     },
     "execution_count": 42,
     "metadata": {},
     "output_type": "execute_result"
    }
   ],
   "source": [
    "y_test_classes"
   ]
  },
  {
   "cell_type": "code",
   "execution_count": 43,
   "metadata": {},
   "outputs": [],
   "source": [
    "from sklearn.metrics import confusion_matrix\n",
    "matrix = confusion_matrix(y_pred_classes, y_test_classes)"
   ]
  },
  {
   "cell_type": "code",
   "execution_count": 44,
   "metadata": {},
   "outputs": [
    {
     "name": "stdout",
     "output_type": "stream",
     "text": [
      "[[20  0]\n",
      " [ 0 20]]\n"
     ]
    }
   ],
   "source": [
    "print(matrix)"
   ]
  }
 ],
 "metadata": {
  "kernelspec": {
   "display_name": "Python 3",
   "language": "python",
   "name": "python3"
  },
  "language_info": {
   "codemirror_mode": {
    "name": "ipython",
    "version": 3
   },
   "file_extension": ".py",
   "mimetype": "text/x-python",
   "name": "python",
   "nbconvert_exporter": "python",
   "pygments_lexer": "ipython3",
   "version": "3.7.4"
  }
 },
 "nbformat": 4,
 "nbformat_minor": 4
}
