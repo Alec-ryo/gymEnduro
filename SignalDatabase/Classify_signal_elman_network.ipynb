{
 "cells": [
  {
   "cell_type": "code",
   "execution_count": 1,
   "metadata": {},
   "outputs": [
    {
     "name": "stderr",
     "output_type": "stream",
     "text": [
      "Using TensorFlow backend.\n"
     ]
    }
   ],
   "source": [
    "import tensorflow\n",
    "import numpy as np\n",
    "from keras.models import Sequential\n",
    "from keras.layers import Dense, Flatten\n",
    "from keras.layers import TimeDistributed\n",
    "from keras.layers import SimpleRNN"
   ]
  },
  {
   "cell_type": "code",
   "execution_count": 2,
   "metadata": {},
   "outputs": [],
   "source": [
    "f50 = np.load(\"f50.npy\")\n",
    "f100 = np.load(\"f100.npy\")\n",
    "f150 = np.load(\"f150.npy\")\n",
    "f200 = np.load(\"f200.npy\")\n",
    "f50_100 = np.load(\"f50_100.npy\")"
   ]
  },
  {
   "cell_type": "code",
   "execution_count": 3,
   "metadata": {},
   "outputs": [],
   "source": [
    "f50_100_target = []\n",
    "for i in range(100):\n",
    "    zero_um = (0,1)\n",
    "    f50_100_target.append(zero_um)\n",
    "\n",
    "for i in range(100):\n",
    "    um_zero = (1,0)\n",
    "    f50_100_target.append(um_zero)"
   ]
  },
  {
   "cell_type": "code",
   "execution_count": 4,
   "metadata": {},
   "outputs": [],
   "source": [
    "# f50_100_target"
   ]
  },
  {
   "cell_type": "code",
   "execution_count": 5,
   "metadata": {},
   "outputs": [],
   "source": [
    "X = np.reshape(f50_100, (200, 1000, 1))\n",
    "y = np.array(f50_100_target)"
   ]
  },
  {
   "cell_type": "code",
   "execution_count": 6,
   "metadata": {},
   "outputs": [
    {
     "data": {
      "text/plain": [
       "array([[0, 1],\n",
       "       [0, 1],\n",
       "       [0, 1],\n",
       "       [0, 1],\n",
       "       [0, 1],\n",
       "       [0, 1],\n",
       "       [0, 1],\n",
       "       [0, 1],\n",
       "       [0, 1],\n",
       "       [0, 1],\n",
       "       [0, 1],\n",
       "       [0, 1],\n",
       "       [0, 1],\n",
       "       [0, 1],\n",
       "       [0, 1],\n",
       "       [0, 1],\n",
       "       [0, 1],\n",
       "       [0, 1],\n",
       "       [0, 1],\n",
       "       [0, 1],\n",
       "       [0, 1],\n",
       "       [0, 1],\n",
       "       [0, 1],\n",
       "       [0, 1],\n",
       "       [0, 1],\n",
       "       [0, 1],\n",
       "       [0, 1],\n",
       "       [0, 1],\n",
       "       [0, 1],\n",
       "       [0, 1],\n",
       "       [0, 1],\n",
       "       [0, 1],\n",
       "       [0, 1],\n",
       "       [0, 1],\n",
       "       [0, 1],\n",
       "       [0, 1],\n",
       "       [0, 1],\n",
       "       [0, 1],\n",
       "       [0, 1],\n",
       "       [0, 1],\n",
       "       [0, 1],\n",
       "       [0, 1],\n",
       "       [0, 1],\n",
       "       [0, 1],\n",
       "       [0, 1],\n",
       "       [0, 1],\n",
       "       [0, 1],\n",
       "       [0, 1],\n",
       "       [0, 1],\n",
       "       [0, 1],\n",
       "       [0, 1],\n",
       "       [0, 1],\n",
       "       [0, 1],\n",
       "       [0, 1],\n",
       "       [0, 1],\n",
       "       [0, 1],\n",
       "       [0, 1],\n",
       "       [0, 1],\n",
       "       [0, 1],\n",
       "       [0, 1],\n",
       "       [0, 1],\n",
       "       [0, 1],\n",
       "       [0, 1],\n",
       "       [0, 1],\n",
       "       [0, 1],\n",
       "       [0, 1],\n",
       "       [0, 1],\n",
       "       [0, 1],\n",
       "       [0, 1],\n",
       "       [0, 1],\n",
       "       [0, 1],\n",
       "       [0, 1],\n",
       "       [0, 1],\n",
       "       [0, 1],\n",
       "       [0, 1],\n",
       "       [0, 1],\n",
       "       [0, 1],\n",
       "       [0, 1],\n",
       "       [0, 1],\n",
       "       [0, 1],\n",
       "       [0, 1],\n",
       "       [0, 1],\n",
       "       [0, 1],\n",
       "       [0, 1],\n",
       "       [0, 1],\n",
       "       [0, 1],\n",
       "       [0, 1],\n",
       "       [0, 1],\n",
       "       [0, 1],\n",
       "       [0, 1],\n",
       "       [0, 1],\n",
       "       [0, 1],\n",
       "       [0, 1],\n",
       "       [0, 1],\n",
       "       [0, 1],\n",
       "       [0, 1],\n",
       "       [0, 1],\n",
       "       [0, 1],\n",
       "       [0, 1],\n",
       "       [0, 1],\n",
       "       [1, 0],\n",
       "       [1, 0],\n",
       "       [1, 0],\n",
       "       [1, 0],\n",
       "       [1, 0],\n",
       "       [1, 0],\n",
       "       [1, 0],\n",
       "       [1, 0],\n",
       "       [1, 0],\n",
       "       [1, 0],\n",
       "       [1, 0],\n",
       "       [1, 0],\n",
       "       [1, 0],\n",
       "       [1, 0],\n",
       "       [1, 0],\n",
       "       [1, 0],\n",
       "       [1, 0],\n",
       "       [1, 0],\n",
       "       [1, 0],\n",
       "       [1, 0],\n",
       "       [1, 0],\n",
       "       [1, 0],\n",
       "       [1, 0],\n",
       "       [1, 0],\n",
       "       [1, 0],\n",
       "       [1, 0],\n",
       "       [1, 0],\n",
       "       [1, 0],\n",
       "       [1, 0],\n",
       "       [1, 0],\n",
       "       [1, 0],\n",
       "       [1, 0],\n",
       "       [1, 0],\n",
       "       [1, 0],\n",
       "       [1, 0],\n",
       "       [1, 0],\n",
       "       [1, 0],\n",
       "       [1, 0],\n",
       "       [1, 0],\n",
       "       [1, 0],\n",
       "       [1, 0],\n",
       "       [1, 0],\n",
       "       [1, 0],\n",
       "       [1, 0],\n",
       "       [1, 0],\n",
       "       [1, 0],\n",
       "       [1, 0],\n",
       "       [1, 0],\n",
       "       [1, 0],\n",
       "       [1, 0],\n",
       "       [1, 0],\n",
       "       [1, 0],\n",
       "       [1, 0],\n",
       "       [1, 0],\n",
       "       [1, 0],\n",
       "       [1, 0],\n",
       "       [1, 0],\n",
       "       [1, 0],\n",
       "       [1, 0],\n",
       "       [1, 0],\n",
       "       [1, 0],\n",
       "       [1, 0],\n",
       "       [1, 0],\n",
       "       [1, 0],\n",
       "       [1, 0],\n",
       "       [1, 0],\n",
       "       [1, 0],\n",
       "       [1, 0],\n",
       "       [1, 0],\n",
       "       [1, 0],\n",
       "       [1, 0],\n",
       "       [1, 0],\n",
       "       [1, 0],\n",
       "       [1, 0],\n",
       "       [1, 0],\n",
       "       [1, 0],\n",
       "       [1, 0],\n",
       "       [1, 0],\n",
       "       [1, 0],\n",
       "       [1, 0],\n",
       "       [1, 0],\n",
       "       [1, 0],\n",
       "       [1, 0],\n",
       "       [1, 0],\n",
       "       [1, 0],\n",
       "       [1, 0],\n",
       "       [1, 0],\n",
       "       [1, 0],\n",
       "       [1, 0],\n",
       "       [1, 0],\n",
       "       [1, 0],\n",
       "       [1, 0],\n",
       "       [1, 0],\n",
       "       [1, 0],\n",
       "       [1, 0],\n",
       "       [1, 0],\n",
       "       [1, 0],\n",
       "       [1, 0],\n",
       "       [1, 0],\n",
       "       [1, 0]])"
      ]
     },
     "execution_count": 6,
     "metadata": {},
     "output_type": "execute_result"
    }
   ],
   "source": [
    "y"
   ]
  },
  {
   "cell_type": "code",
   "execution_count": 7,
   "metadata": {},
   "outputs": [
    {
     "name": "stdout",
     "output_type": "stream",
     "text": [
      "nro de neurônios na hidden layer: 32\n"
     ]
    }
   ],
   "source": [
    "import math\n",
    "n_input_layer = 1000\n",
    "n_output_layer = 1\n",
    "n_hidden_layer = round(math.sqrt((n_input_layer*n_output_layer)))\n",
    "print(\"nro de neurônios na hidden layer:\", n_hidden_layer)"
   ]
  },
  {
   "cell_type": "code",
   "execution_count": 8,
   "metadata": {},
   "outputs": [],
   "source": [
    "from keras.callbacks import EarlyStopping\n",
    "from matplotlib import pyplot"
   ]
  },
  {
   "cell_type": "code",
   "execution_count": 9,
   "metadata": {
    "scrolled": true
   },
   "outputs": [
    {
     "name": "stdout",
     "output_type": "stream",
     "text": [
      "Model: \"sequential_1\"\n",
      "_________________________________________________________________\n",
      "Layer (type)                 Output Shape              Param #   \n",
      "=================================================================\n",
      "simple_rnn_1 (SimpleRNN)     (None, 32)                1088      \n",
      "_________________________________________________________________\n",
      "dense_1 (Dense)              (None, 2)                 66        \n",
      "=================================================================\n",
      "Total params: 1,154\n",
      "Trainable params: 1,154\n",
      "Non-trainable params: 0\n",
      "_________________________________________________________________\n"
     ]
    }
   ],
   "source": [
    "model=Sequential()\n",
    "model.add(SimpleRNN(n_hidden_layer, \n",
    "                    input_shape=(1000,1), \n",
    "                    kernel_initializer='random_normal'))\n",
    "model.add(Dense(2, activation='sigmoid'))\n",
    "# model.compile(loss = 'mse', optimizer = 'rmsprop')\n",
    "model.compile(loss='binary_crossentropy', optimizer='adam', metrics=['accuracy'])\n",
    "model.summary()"
   ]
  },
  {
   "cell_type": "code",
   "execution_count": 10,
   "metadata": {
    "scrolled": true
   },
   "outputs": [
    {
     "data": {
      "image/png": "[encoded data removed]",
      "text/plain": [
       "<IPython.core.display.Image object>"
      ]
     },
     "execution_count": 10,
     "metadata": {},
     "output_type": "execute_result"
    }
   ],
   "source": [
    "from keras.utils.vis_utils import plot_model\n",
    "import graphviz\n",
    "from interface import implements, Interface\n",
    "plot_model(model, to_file='model_plot.png', show_shapes=True, show_layer_names=True)"
   ]
  },
  {
   "cell_type": "code",
   "execution_count": 11,
   "metadata": {},
   "outputs": [],
   "source": [
    "# simple early stopping\n",
    "es = EarlyStopping(monitor='val_loss', mode='min', verbose=1)"
   ]
  },
  {
   "cell_type": "code",
   "execution_count": 12,
   "metadata": {},
   "outputs": [
    {
     "name": "stdout",
     "output_type": "stream",
     "text": [
      "Epoch 1/20\n",
      "200/200 [==============================] - 2s 8ms/step - loss: 0.5511 - accuracy: 0.9200\n",
      "Epoch 2/20\n"
     ]
    },
    {
     "name": "stderr",
     "output_type": "stream",
     "text": [
      "/home/ryo/miniconda/lib/python3.7/site-packages/keras/callbacks/callbacks.py:846: RuntimeWarning: Early stopping conditioned on metric `val_loss` which is not available. Available metrics are: loss,accuracy\n",
      "  (self.monitor, ','.join(list(logs.keys()))), RuntimeWarning\n"
     ]
    },
    {
     "name": "stdout",
     "output_type": "stream",
     "text": [
      "200/200 [==============================] - 2s 8ms/step - loss: 0.3854 - accuracy: 1.0000\n",
      "Epoch 3/20\n",
      "200/200 [==============================] - 1s 6ms/step - loss: 0.2761 - accuracy: 1.0000\n",
      "Epoch 4/20\n",
      "200/200 [==============================] - 1s 5ms/step - loss: 0.1913 - accuracy: 1.0000\n",
      "Epoch 5/20\n",
      "200/200 [==============================] - 1s 5ms/step - loss: 0.2895 - accuracy: 0.9100\n",
      "Epoch 6/20\n",
      "200/200 [==============================] - 1s 5ms/step - loss: 0.1225 - accuracy: 1.0000\n",
      "Epoch 7/20\n",
      "200/200 [==============================] - 1s 5ms/step - loss: 0.0980 - accuracy: 1.0000\n",
      "Epoch 8/20\n",
      "200/200 [==============================] - 1s 6ms/step - loss: 0.1153 - accuracy: 0.9700\n",
      "Epoch 9/20\n",
      "200/200 [==============================] - 1s 6ms/step - loss: 0.1267 - accuracy: 1.0000\n",
      "Epoch 10/20\n",
      "200/200 [==============================] - 1s 7ms/step - loss: 0.1819 - accuracy: 1.0000\n",
      "Epoch 11/20\n",
      "200/200 [==============================] - 1s 6ms/step - loss: 0.1646 - accuracy: 1.0000\n",
      "Epoch 12/20\n",
      "200/200 [==============================] - 1s 6ms/step - loss: 0.1322 - accuracy: 1.0000\n",
      "Epoch 13/20\n",
      "200/200 [==============================] - 1s 7ms/step - loss: 0.1050 - accuracy: 1.0000\n",
      "Epoch 14/20\n",
      "200/200 [==============================] - 2s 9ms/step - loss: 0.0859 - accuracy: 1.0000\n",
      "Epoch 15/20\n",
      "200/200 [==============================] - 2s 10ms/step - loss: 0.0723 - accuracy: 1.0000\n",
      "Epoch 16/20\n",
      "200/200 [==============================] - 2s 9ms/step - loss: 0.0627 - accuracy: 1.0000\n",
      "Epoch 17/20\n",
      "200/200 [==============================] - 1s 6ms/step - loss: 0.0553 - accuracy: 1.0000\n",
      "Epoch 18/20\n",
      "200/200 [==============================] - 1s 6ms/step - loss: 0.0496 - accuracy: 1.0000\n",
      "Epoch 19/20\n",
      "200/200 [==============================] - 2s 8ms/step - loss: 0.0449 - accuracy: 1.0000\n",
      "Epoch 20/20\n",
      "200/200 [==============================] - 2s 10ms/step - loss: 0.0411 - accuracy: 1.0000\n"
     ]
    }
   ],
   "source": [
    "history = model.fit(X, y, epochs = 20, batch_size = 32, callbacks=[es])"
   ]
  },
  {
   "cell_type": "code",
   "execution_count": 13,
   "metadata": {},
   "outputs": [
    {
     "name": "stdout",
     "output_type": "stream",
     "text": [
      "dict_keys(['loss', 'accuracy'])\n"
     ]
    }
   ],
   "source": [
    "# list all data in history\n",
    "print(history.history.keys())"
   ]
  },
  {
   "cell_type": "code",
   "execution_count": 15,
   "metadata": {},
   "outputs": [
    {
     "data": {
      "text/plain": [
       "[<matplotlib.lines.Line2D at 0x7f985c7c5c90>]"
      ]
     },
     "execution_count": 15,
     "metadata": {},
     "output_type": "execute_result"
    },
    {
     "data": {
      "image/png": "[encoded data removed]",
      "text/plain": [
       "<Figure size 432x288 with 1 Axes>"
      ]
     },
     "metadata": {
      "needs_background": "light"
     },
     "output_type": "display_data"
    }
   ],
   "source": [
    "import matplotlib.pyplot as plt\n",
    "# summarize history for accuracy\n",
    "plt.plot(history.history['loss'], label='train')\n",
    "plt.plot(history.history['accuracy'], label='test')"
   ]
  },
  {
   "cell_type": "code",
   "execution_count": 16,
   "metadata": {},
   "outputs": [
    {
     "name": "stdout",
     "output_type": "stream",
     "text": [
      "Saved model to disk\n"
     ]
    }
   ],
   "source": [
    "# serialize model to JSON\n",
    "model_json = model.to_json()\n",
    "with open(\"model.json\", \"w\") as json_file:\n",
    "    json_file.write(model_json)\n",
    "# serialize weights to HDF5\n",
    "model.save_weights(\"model.h5\")\n",
    "print(\"Saved model to disk\")"
   ]
  },
  {
   "cell_type": "code",
   "execution_count": 17,
   "metadata": {},
   "outputs": [],
   "source": [
    "pi = 3.1415\n",
    "N = 1000\n",
    "t = np.arange(0,N)\n",
    "f = 100"
   ]
  },
  {
   "cell_type": "code",
   "execution_count": 18,
   "metadata": {},
   "outputs": [],
   "source": [
    "qtd_amostras = 20\n",
    "test = []\n",
    "test_target = []\n",
    "\n",
    "f = 50\n",
    "for onda_da_frequencia in range(qtd_amostras):\n",
    "    x=np.sin(2*pi*f*t+np.random.rand(1)) \n",
    "    test_target.append(zero_um)\n",
    "    test.append(x)\n",
    "    \n",
    "f = 100\n",
    "for onda_da_frequencia in range(qtd_amostras):\n",
    "    x=np.sin(2*pi*f*t+np.random.rand(1))    \n",
    "    test_target.append(um_zero)\n",
    "    test.append(x)\n",
    "    \n",
    "test = np.reshape(test, (40, 1000, 1))"
   ]
  },
  {
   "cell_type": "code",
   "execution_count": 19,
   "metadata": {},
   "outputs": [
    {
     "name": "stdout",
     "output_type": "stream",
     "text": [
      "[0.03413856 0.9593419 ] expected (0, 1)\n",
      "[0.04577486 0.950828  ] expected (0, 1)\n",
      "[0.04276916 0.95312613] expected (0, 1)\n",
      "[0.03777887 0.95681256] expected (0, 1)\n",
      "[0.03266821 0.9602979 ] expected (0, 1)\n",
      "[0.0373441 0.9571236] expected (0, 1)\n",
      "[0.03187777 0.9607869 ] expected (0, 1)\n",
      "[0.03797767 0.9566697 ] expected (0, 1)\n",
      "[0.03279895 0.9602151 ] expected (0, 1)\n",
      "[0.04682929 0.95001125] expected (0, 1)\n",
      "[0.04076264 0.9546309 ] expected (0, 1)\n",
      "[0.03657501 0.9576686 ] expected (0, 1)\n",
      "[0.03211332 0.9606435 ] expected (0, 1)\n",
      "[0.03409017 0.959374  ] expected (0, 1)\n",
      "[0.0363408 0.9578332] expected (0, 1)\n",
      "[0.03465313 0.9589964 ] expected (0, 1)\n",
      "[0.03258153 0.9603525 ] expected (0, 1)\n",
      "[0.03193441 0.96075255] expected (0, 1)\n",
      "[0.0329927 0.9600915] expected (0, 1)\n",
      "[0.03451763 0.95908785] expected (0, 1)\n",
      "[0.9671193  0.03987347] expected (1, 0)\n",
      "[0.96739745 0.03970918] expected (1, 0)\n",
      "[0.9692192  0.03873119] expected (1, 0)\n",
      "[0.96780413 0.03947413] expected (1, 0)\n",
      "[0.9688094  0.03892861] expected (1, 0)\n",
      "[0.96852267 0.03907768] expected (1, 0)\n",
      "[0.9691075  0.03878239] expected (1, 0)\n",
      "[0.9670332  0.03992489] expected (1, 0)\n",
      "[0.96728224 0.03977694] expected (1, 0)\n",
      "[0.96872103 0.03897381] expected (1, 0)\n",
      "[0.9653525  0.04096846] expected (1, 0)\n",
      "[0.9691246  0.03877437] expected (1, 0)\n",
      "[0.9660534  0.04052482] expected (1, 0)\n",
      "[0.96266633 0.04274799] expected (1, 0)\n",
      "[0.9669735  0.03996065] expected (1, 0)\n",
      "[0.9686196  0.03902656] expected (1, 0)\n",
      "[0.96858394 0.03904526] expected (1, 0)\n",
      "[0.96866345 0.03900366] expected (1, 0)\n",
      "[0.96864295 0.03901435] expected (1, 0)\n",
      "[0.963986   0.04186024] expected (1, 0)\n"
     ]
    }
   ],
   "source": [
    "predictions = model.predict(test)\n",
    "for i in range(len(test)):\n",
    "    print(predictions[i], 'expected', test_target[i])"
   ]
  },
  {
   "cell_type": "code",
   "execution_count": 20,
   "metadata": {},
   "outputs": [],
   "source": [
    "test_target_arr = np.array(test_target)"
   ]
  },
  {
   "cell_type": "code",
   "execution_count": 21,
   "metadata": {},
   "outputs": [],
   "source": [
    "predictions_rounded = np.matrix.round(predictions)"
   ]
  },
  {
   "cell_type": "code",
   "execution_count": 22,
   "metadata": {},
   "outputs": [],
   "source": [
    "y_test_classes = test_target_arr.argmax(1)\n",
    "y_pred_classes = predictions_rounded.argmax(1)"
   ]
  },
  {
   "cell_type": "code",
   "execution_count": 23,
   "metadata": {},
   "outputs": [
    {
     "data": {
      "text/plain": [
       "array([1, 1, 1, 1, 1, 1, 1, 1, 1, 1, 1, 1, 1, 1, 1, 1, 1, 1, 1, 1, 0, 0,\n",
       "       0, 0, 0, 0, 0, 0, 0, 0, 0, 0, 0, 0, 0, 0, 0, 0, 0, 0])"
      ]
     },
     "execution_count": 23,
     "metadata": {},
     "output_type": "execute_result"
    }
   ],
   "source": [
    "y_pred_classes"
   ]
  },
  {
   "cell_type": "code",
   "execution_count": 24,
   "metadata": {},
   "outputs": [
    {
     "data": {
      "text/plain": [
       "array([1, 1, 1, 1, 1, 1, 1, 1, 1, 1, 1, 1, 1, 1, 1, 1, 1, 1, 1, 1, 0, 0,\n",
       "       0, 0, 0, 0, 0, 0, 0, 0, 0, 0, 0, 0, 0, 0, 0, 0, 0, 0])"
      ]
     },
     "execution_count": 24,
     "metadata": {},
     "output_type": "execute_result"
    }
   ],
   "source": [
    "y_test_classes"
   ]
  },
  {
   "cell_type": "code",
   "execution_count": 25,
   "metadata": {},
   "outputs": [],
   "source": [
    "from sklearn.metrics import confusion_matrix\n",
    "matrix = confusion_matrix(y_pred_classes, y_test_classes)"
   ]
  },
  {
   "cell_type": "code",
   "execution_count": 26,
   "metadata": {},
   "outputs": [
    {
     "name": "stdout",
     "output_type": "stream",
     "text": [
      "[[20  0]\n",
      " [ 0 20]]\n"
     ]
    }
   ],
   "source": [
    "print(matrix)"
   ]
  }
 ],
 "metadata": {
  "kernelspec": {
   "display_name": "Python 3",
   "language": "python",
   "name": "python3"
  },
  "language_info": {
   "codemirror_mode": {
    "name": "ipython",
    "version": 3
   },
   "file_extension": ".py",
   "mimetype": "text/x-python",
   "name": "python",
   "nbconvert_exporter": "python",
   "pygments_lexer": "ipython3",
   "version": "3.7.4"
  }
 },
 "nbformat": 4,
 "nbformat_minor": 4
}
