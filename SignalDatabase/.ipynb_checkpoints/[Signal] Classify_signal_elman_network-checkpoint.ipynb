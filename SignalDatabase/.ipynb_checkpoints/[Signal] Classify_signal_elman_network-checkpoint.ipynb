{
 "cells": [
  {
   "cell_type": "code",
   "execution_count": 1,
   "metadata": {},
   "outputs": [
    {
     "name": "stderr",
     "output_type": "stream",
     "text": [
      "Using TensorFlow backend.\n"
     ]
    }
   ],
   "source": [
    "import tensorflow\n",
    "import numpy as np\n",
    "from keras.models import Sequential\n",
    "from keras.layers import Dense, Flatten\n",
    "from keras.layers import TimeDistributed\n",
    "from keras.layers import SimpleRNN"
   ]
  },
  {
   "cell_type": "code",
   "execution_count": 2,
   "metadata": {},
   "outputs": [],
   "source": [
    "f50 = np.load(\"f50.npy\")\n",
    "f100 = np.load(\"f100.npy\")\n",
    "f150 = np.load(\"f150.npy\")\n",
    "f200 = np.load(\"f200.npy\")\n",
    "f50_100 = np.load(\"f50_100.npy\")"
   ]
  },
  {
   "cell_type": "code",
   "execution_count": 3,
   "metadata": {},
   "outputs": [],
   "source": [
    "f50_100_target = []\n",
    "for i in range(100):\n",
    "    f50_100_target.append(0)\n",
    "\n",
    "for i in range(100):\n",
    "    f50_100_target.append(1)"
   ]
  },
  {
   "cell_type": "code",
   "execution_count": 4,
   "metadata": {},
   "outputs": [],
   "source": [
    "X = np.reshape(f50_100, (200, 1000, 1))\n",
    "y = np.array(f50_100_target)"
   ]
  },
  {
   "cell_type": "code",
   "execution_count": 5,
   "metadata": {},
   "outputs": [
    {
     "name": "stdout",
     "output_type": "stream",
     "text": [
      "Model: \"sequential_1\"\n",
      "_________________________________________________________________\n",
      "Layer (type)                 Output Shape              Param #   \n",
      "=================================================================\n",
      "simple_rnn_1 (SimpleRNN)     (None, 1000, 32)          1088      \n",
      "_________________________________________________________________\n",
      "time_distributed_1 (TimeDist (None, 1000, 1)           33        \n",
      "_________________________________________________________________\n",
      "flatten_1 (Flatten)          (None, 1000)              0         \n",
      "_________________________________________________________________\n",
      "dense_2 (Dense)              (None, 1)                 1001      \n",
      "=================================================================\n",
      "Total params: 2,122\n",
      "Trainable params: 2,122\n",
      "Non-trainable params: 0\n",
      "_________________________________________________________________\n"
     ]
    }
   ],
   "source": [
    "model=Sequential()\n",
    "model.add(SimpleRNN(units=32, \n",
    "                    input_shape=(1000,1), \n",
    "                    return_sequences=True, \n",
    "                    activation=\"relu\"))\n",
    "model.add(TimeDistributed(Dense(1)))\n",
    "model.add(Flatten())\n",
    "model.add(Dense(1, activation='sigmoid'))\n",
    "model.compile(loss = 'mse', optimizer = 'rmsprop')\n",
    "model.summary()"
   ]
  },
  {
   "cell_type": "code",
   "execution_count": null,
   "metadata": {},
   "outputs": [
    {
     "name": "stdout",
     "output_type": "stream",
     "text": [
      "Epoch 1/100\n",
      "200/200 [==============================] - 2s 9ms/step - loss: 0.1668\n",
      "Epoch 2/100\n",
      "200/200 [==============================] - 2s 8ms/step - loss: 0.0445\n",
      "Epoch 3/100\n",
      "200/200 [==============================] - 1s 6ms/step - loss: 0.0085\n",
      "Epoch 4/100\n",
      "200/200 [==============================] - 1s 7ms/step - loss: 0.0027\n",
      "Epoch 5/100\n",
      "200/200 [==============================] - 1s 6ms/step - loss: 0.0011\n",
      "Epoch 6/100\n",
      "200/200 [==============================] - 1s 7ms/step - loss: 4.9157e-04\n",
      "Epoch 7/100\n",
      "200/200 [==============================] - 1s 7ms/step - loss: 2.4543e-04\n",
      "Epoch 8/100\n",
      " 32/200 [===>..........................] - ETA: 0s - loss: 0.0016"
     ]
    }
   ],
   "source": [
    "model.fit(X, y, epochs = 100, batch_size = 32)"
   ]
  },
  {
   "cell_type": "code",
   "execution_count": null,
   "metadata": {},
   "outputs": [],
   "source": [
    "pi = 3.1415\n",
    "N = 1000\n",
    "t = np.arange(0,N)\n",
    "f = 100"
   ]
  },
  {
   "cell_type": "code",
   "execution_count": null,
   "metadata": {},
   "outputs": [],
   "source": [
    "qtd_amostras = 20\n",
    "test = []\n",
    "test_target = []\n",
    "\n",
    "f = 50\n",
    "for onda_da_frequencia in range(qtd_amostras):\n",
    "    x=np.sin(2*pi*f*t+np.random.rand(1)) \n",
    "    test_target.append(0)\n",
    "    test.append(x)\n",
    "    \n",
    "f = 100\n",
    "for onda_da_frequencia in range(qtd_amostras):\n",
    "    x=np.sin(2*pi*f*t+np.random.rand(1))    \n",
    "    test_target.append(1)\n",
    "    test.append(x)\n",
    "    \n",
    "test = np.reshape(test, (40, 1000, 1))"
   ]
  },
  {
   "cell_type": "code",
   "execution_count": null,
   "metadata": {},
   "outputs": [],
   "source": [
    "predictions = model.predict_classes(test)\n",
    "for i in range(len(test)):\n",
    "    print('%d: expected %d' % (predictions[i], test_target[i]))"
   ]
  },
  {
   "cell_type": "code",
   "execution_count": null,
   "metadata": {},
   "outputs": [],
   "source": []
  }
 ],
 "metadata": {
  "kernelspec": {
   "display_name": "Python 3",
   "language": "python",
   "name": "python3"
  },
  "language_info": {
   "codemirror_mode": {
    "name": "ipython",
    "version": 3
   },
   "file_extension": ".py",
   "mimetype": "text/x-python",
   "name": "python",
   "nbconvert_exporter": "python",
   "pygments_lexer": "ipython3",
   "version": "3.7.4"
  }
 },
 "nbformat": 4,
 "nbformat_minor": 4
}
