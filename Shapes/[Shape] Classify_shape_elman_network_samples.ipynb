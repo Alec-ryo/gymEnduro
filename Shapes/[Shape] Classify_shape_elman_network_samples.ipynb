{
 "cells": [
  {
   "cell_type": "code",
   "execution_count": 1,
   "metadata": {},
   "outputs": [
    {
     "name": "stderr",
     "output_type": "stream",
     "text": [
      "Using TensorFlow backend.\n"
     ]
    }
   ],
   "source": [
    "import tensorflow\n",
    "import numpy as np\n",
    "from keras.models import Sequential\n",
    "from keras.layers import Dense, Flatten\n",
    "from keras.layers import TimeDistributed\n",
    "from keras.layers import SimpleRNN"
   ]
  },
  {
   "cell_type": "code",
   "execution_count": 2,
   "metadata": {},
   "outputs": [],
   "source": [
    "PNG_PATH = \"/home/ryo/Área de Trabalho/PIBIC/Database/img/\"\n",
    "NPZ_PATH = \"/home/ryo/Área de Trabalho/PIBIC/Database/npz/\""
   ]
  },
  {
   "cell_type": "code",
   "execution_count": 3,
   "metadata": {},
   "outputs": [],
   "source": [
    "circle = np.load(NPZ_PATH + 'circular_mov.npz')\n",
    "square = np.load(NPZ_PATH + 'square_mov.npz')"
   ]
  },
  {
   "cell_type": "code",
   "execution_count": 4,
   "metadata": {},
   "outputs": [],
   "source": [
    "circle_images = circle.f.arr_0\n",
    "square_images = square.f.arr_0"
   ]
  },
  {
   "cell_type": "code",
   "execution_count": 5,
   "metadata": {},
   "outputs": [
    {
     "data": {
      "text/plain": [
       "array([[[0., 0., 0., ..., 0., 0., 0.],\n",
       "        [0., 0., 0., ..., 0., 0., 0.],\n",
       "        [0., 0., 0., ..., 0., 0., 0.],\n",
       "        ...,\n",
       "        [0., 0., 0., ..., 0., 0., 0.],\n",
       "        [0., 0., 0., ..., 0., 0., 0.],\n",
       "        [0., 0., 0., ..., 0., 0., 0.]],\n",
       "\n",
       "       [[0., 0., 0., ..., 0., 0., 0.],\n",
       "        [0., 0., 0., ..., 0., 0., 0.],\n",
       "        [0., 0., 0., ..., 0., 0., 0.],\n",
       "        ...,\n",
       "        [0., 0., 0., ..., 0., 0., 0.],\n",
       "        [0., 0., 0., ..., 0., 0., 0.],\n",
       "        [0., 0., 0., ..., 0., 0., 0.]]], dtype=float32)"
      ]
     },
     "execution_count": 5,
     "metadata": {},
     "output_type": "execute_result"
    }
   ],
   "source": [
    "circle_images[:2]"
   ]
  },
  {
   "cell_type": "code",
   "execution_count": 6,
   "metadata": {},
   "outputs": [
    {
     "data": {
      "text/plain": [
       "array([[[0., 0., 0., ..., 0., 0., 0.],\n",
       "        [0., 0., 0., ..., 0., 0., 0.],\n",
       "        [0., 0., 0., ..., 0., 0., 0.],\n",
       "        ...,\n",
       "        [0., 0., 0., ..., 0., 0., 0.],\n",
       "        [0., 0., 0., ..., 0., 0., 0.],\n",
       "        [0., 0., 0., ..., 0., 0., 0.]],\n",
       "\n",
       "       [[0., 0., 0., ..., 0., 0., 0.],\n",
       "        [0., 0., 0., ..., 0., 0., 0.],\n",
       "        [0., 0., 0., ..., 0., 0., 0.],\n",
       "        ...,\n",
       "        [0., 0., 0., ..., 0., 0., 0.],\n",
       "        [0., 0., 0., ..., 0., 0., 0.],\n",
       "        [0., 0., 0., ..., 0., 0., 0.]]], dtype=float32)"
      ]
     },
     "execution_count": 6,
     "metadata": {},
     "output_type": "execute_result"
    }
   ],
   "source": [
    "square_images[:2]"
   ]
  },
  {
   "cell_type": "code",
   "execution_count": 7,
   "metadata": {},
   "outputs": [],
   "source": [
    "train_cir_img = circle_images[:800]\n",
    "train_sqr_img = square_images[:800]\n",
    "test_cir_img = circle_images[800:1000]\n",
    "test_sqr_img = square_images[800:1000]"
   ]
  },
  {
   "cell_type": "code",
   "execution_count": 8,
   "metadata": {},
   "outputs": [],
   "source": [
    "train_cir_sqr_img = np.concatenate((train_cir_img, train_sqr_img))\n",
    "test_cir_sqr_img = np.concatenate((test_cir_img, test_sqr_img))"
   ]
  },
  {
   "cell_type": "code",
   "execution_count": 9,
   "metadata": {},
   "outputs": [
    {
     "name": "stdout",
     "output_type": "stream",
     "text": [
      "1600\n",
      "400\n"
     ]
    }
   ],
   "source": [
    "# o array tem 100 imagens de circulo e 100 de quadrados com formato 50x50\n",
    "print(len(train_cir_sqr_img))\n",
    "print(len(test_cir_sqr_img))"
   ]
  },
  {
   "cell_type": "code",
   "execution_count": 10,
   "metadata": {},
   "outputs": [],
   "source": [
    "train_images_target = []\n",
    "test_images_target = []\n",
    "for i in range(800):\n",
    "    zero_um = (0,1)\n",
    "    train_images_target.append(zero_um)\n",
    "    \n",
    "for i in range(800):\n",
    "    um_zero = (1,0)\n",
    "    train_images_target.append(um_zero)\n",
    "    \n",
    "for i in range(200):\n",
    "    zero_um = (0,1)\n",
    "    test_images_target.append(zero_um)\n",
    "    \n",
    "for i in range(200):\n",
    "    um_zero = (1,0)\n",
    "    test_images_target.append(um_zero)"
   ]
  },
  {
   "cell_type": "code",
   "execution_count": 11,
   "metadata": {},
   "outputs": [],
   "source": [
    "X = np.reshape(train_cir_sqr_img, (1600, 50, 50))\n",
    "y = np.array(train_images_target)"
   ]
  },
  {
   "cell_type": "code",
   "execution_count": 12,
   "metadata": {},
   "outputs": [
    {
     "name": "stdout",
     "output_type": "stream",
     "text": [
      "nro de neurônios na hidden layer: 50\n"
     ]
    }
   ],
   "source": [
    "import math\n",
    "n_input_layer = 2500\n",
    "n_output_layer = 1\n",
    "n_hidden_layer = round(math.sqrt((n_input_layer*n_output_layer)))\n",
    "print(\"nro de neurônios na hidden layer:\", n_hidden_layer)"
   ]
  },
  {
   "cell_type": "code",
   "execution_count": 13,
   "metadata": {},
   "outputs": [],
   "source": [
    "from keras.callbacks import EarlyStopping\n",
    "from matplotlib import pyplot"
   ]
  },
  {
   "cell_type": "code",
   "execution_count": 14,
   "metadata": {
    "scrolled": true
   },
   "outputs": [
    {
     "name": "stdout",
     "output_type": "stream",
     "text": [
      "Model: \"sequential_1\"\n",
      "_________________________________________________________________\n",
      "Layer (type)                 Output Shape              Param #   \n",
      "=================================================================\n",
      "simple_rnn_1 (SimpleRNN)     (None, 50)                5050      \n",
      "_________________________________________________________________\n",
      "dense_1 (Dense)              (None, 2)                 102       \n",
      "=================================================================\n",
      "Total params: 5,152\n",
      "Trainable params: 5,152\n",
      "Non-trainable params: 0\n",
      "_________________________________________________________________\n"
     ]
    }
   ],
   "source": [
    "model=Sequential()\n",
    "model.add(SimpleRNN(n_hidden_layer, \n",
    "                    input_shape=(50,50), \n",
    "                    kernel_initializer='random_normal'))\n",
    "model.add(Dense(2, activation='sigmoid'))\n",
    "# model.compile(loss = 'mse', optimizer = 'rmsprop')\n",
    "model.compile(loss='binary_crossentropy', optimizer='adam', metrics=['accuracy'])\n",
    "model.summary()"
   ]
  },
  {
   "cell_type": "code",
   "execution_count": 15,
   "metadata": {
    "scrolled": true
   },
   "outputs": [
    {
     "data": {
      "image/png": "[encoded data removed]",
      "text/plain": [
       "<IPython.core.display.Image object>"
      ]
     },
     "execution_count": 15,
     "metadata": {},
     "output_type": "execute_result"
    }
   ],
   "source": [
    "from keras.utils.vis_utils import plot_model\n",
    "import graphviz\n",
    "from interface import implements, Interface\n",
    "plot_model(model, to_file='model_plot.png', show_shapes=True, show_layer_names=True)"
   ]
  },
  {
   "cell_type": "code",
   "execution_count": 16,
   "metadata": {},
   "outputs": [],
   "source": [
    "# simple early stopping\n",
    "es = EarlyStopping(monitor='val_loss', mode='min', verbose=1)"
   ]
  },
  {
   "cell_type": "code",
   "execution_count": 17,
   "metadata": {},
   "outputs": [
    {
     "name": "stdout",
     "output_type": "stream",
     "text": [
      "Epoch 1/100\n",
      "1600/1600 [==============================] - 1s 491us/step - loss: 0.6545 - accuracy: 0.6109\n",
      "Epoch 2/100\n",
      " 576/1600 [=========>....................] - ETA: 0s - loss: 0.5394 - accuracy: 0.7491"
     ]
    },
    {
     "name": "stderr",
     "output_type": "stream",
     "text": [
      "/home/ryo/miniconda/lib/python3.7/site-packages/keras/callbacks/callbacks.py:846: RuntimeWarning: Early stopping conditioned on metric `val_loss` which is not available. Available metrics are: loss,accuracy\n",
      "  (self.monitor, ','.join(list(logs.keys()))), RuntimeWarning\n"
     ]
    },
    {
     "name": "stdout",
     "output_type": "stream",
     "text": [
      "1600/1600 [==============================] - 0s 292us/step - loss: 0.4827 - accuracy: 0.7850\n",
      "Epoch 3/100\n",
      "1600/1600 [==============================] - 0s 285us/step - loss: 0.3497 - accuracy: 0.8519\n",
      "Epoch 4/100\n",
      "1600/1600 [==============================] - 0s 289us/step - loss: 0.2993 - accuracy: 0.8644\n",
      "Epoch 5/100\n",
      "1600/1600 [==============================] - 0s 288us/step - loss: 0.2734 - accuracy: 0.8841\n",
      "Epoch 6/100\n",
      "1600/1600 [==============================] - 0s 284us/step - loss: 0.2593 - accuracy: 0.8769\n",
      "Epoch 7/100\n",
      "1600/1600 [==============================] - 0s 285us/step - loss: 0.2404 - accuracy: 0.8728\n",
      "Epoch 8/100\n",
      "1600/1600 [==============================] - 0s 284us/step - loss: 0.2283 - accuracy: 0.8709\n",
      "Epoch 9/100\n",
      "1600/1600 [==============================] - 0s 290us/step - loss: 0.2294 - accuracy: 0.8734\n",
      "Epoch 10/100\n",
      "1600/1600 [==============================] - 0s 291us/step - loss: 0.2118 - accuracy: 0.8800\n",
      "Epoch 11/100\n",
      "1600/1600 [==============================] - 0s 286us/step - loss: 0.2313 - accuracy: 0.8766\n",
      "Epoch 12/100\n",
      "1600/1600 [==============================] - 0s 285us/step - loss: 0.2076 - accuracy: 0.8847\n",
      "Epoch 13/100\n",
      "1600/1600 [==============================] - 0s 281us/step - loss: 0.2027 - accuracy: 0.8766\n",
      "Epoch 14/100\n",
      "1600/1600 [==============================] - 1s 315us/step - loss: 0.2011 - accuracy: 0.8747\n",
      "Epoch 15/100\n",
      "1600/1600 [==============================] - 0s 291us/step - loss: 0.1936 - accuracy: 0.8791\n",
      "Epoch 16/100\n",
      "1600/1600 [==============================] - 0s 285us/step - loss: 0.1943 - accuracy: 0.8716\n",
      "Epoch 17/100\n",
      "1600/1600 [==============================] - 0s 285us/step - loss: 0.1930 - accuracy: 0.8834\n",
      "Epoch 18/100\n",
      "1600/1600 [==============================] - 0s 301us/step - loss: 0.1947 - accuracy: 0.8819\n",
      "Epoch 19/100\n",
      "1600/1600 [==============================] - 0s 287us/step - loss: 0.1874 - accuracy: 0.8869\n",
      "Epoch 20/100\n",
      "1600/1600 [==============================] - 0s 292us/step - loss: 0.1934 - accuracy: 0.8781\n",
      "Epoch 21/100\n",
      "1600/1600 [==============================] - 0s 286us/step - loss: 0.1962 - accuracy: 0.8838\n",
      "Epoch 22/100\n",
      "1600/1600 [==============================] - 0s 286us/step - loss: 0.1956 - accuracy: 0.8797\n",
      "Epoch 23/100\n",
      "1600/1600 [==============================] - 0s 283us/step - loss: 0.1981 - accuracy: 0.8712\n",
      "Epoch 24/100\n",
      "1600/1600 [==============================] - 0s 290us/step - loss: 0.1900 - accuracy: 0.8731\n",
      "Epoch 25/100\n",
      "1600/1600 [==============================] - 0s 285us/step - loss: 0.1838 - accuracy: 0.8781\n",
      "Epoch 26/100\n",
      "1600/1600 [==============================] - 0s 292us/step - loss: 0.1846 - accuracy: 0.8831\n",
      "Epoch 27/100\n",
      "1600/1600 [==============================] - 0s 288us/step - loss: 0.1858 - accuracy: 0.8784\n",
      "Epoch 28/100\n",
      "1600/1600 [==============================] - 0s 289us/step - loss: 0.1940 - accuracy: 0.8741\n",
      "Epoch 29/100\n",
      "1600/1600 [==============================] - 0s 287us/step - loss: 0.1866 - accuracy: 0.8803\n",
      "Epoch 30/100\n",
      "1600/1600 [==============================] - 0s 282us/step - loss: 0.1842 - accuracy: 0.8875\n",
      "Epoch 31/100\n",
      "1600/1600 [==============================] - 0s 286us/step - loss: 0.1836 - accuracy: 0.8772\n",
      "Epoch 32/100\n",
      "1600/1600 [==============================] - 0s 283us/step - loss: 0.1898 - accuracy: 0.8750\n",
      "Epoch 33/100\n",
      "1600/1600 [==============================] - 1s 351us/step - loss: 0.2890 - accuracy: 0.8409\n",
      "Epoch 34/100\n",
      "1600/1600 [==============================] - 1s 364us/step - loss: 0.2194 - accuracy: 0.8637\n",
      "Epoch 35/100\n",
      "1600/1600 [==============================] - 1s 370us/step - loss: 0.1941 - accuracy: 0.8831\n",
      "Epoch 36/100\n",
      "1600/1600 [==============================] - 1s 341us/step - loss: 0.1841 - accuracy: 0.8856\n",
      "Epoch 37/100\n",
      "1600/1600 [==============================] - 0s 288us/step - loss: 0.1905 - accuracy: 0.8753\n",
      "Epoch 38/100\n",
      "1600/1600 [==============================] - 0s 291us/step - loss: 0.1864 - accuracy: 0.8806\n",
      "Epoch 39/100\n",
      "1600/1600 [==============================] - 0s 296us/step - loss: 0.1823 - accuracy: 0.8813\n",
      "Epoch 40/100\n",
      "1600/1600 [==============================] - 0s 281us/step - loss: 0.1773 - accuracy: 0.8897\n",
      "Epoch 41/100\n",
      "1600/1600 [==============================] - 1s 368us/step - loss: 0.1826 - accuracy: 0.8791\n",
      "Epoch 42/100\n",
      "1600/1600 [==============================] - 1s 372us/step - loss: 0.1807 - accuracy: 0.8816\n",
      "Epoch 43/100\n",
      "1600/1600 [==============================] - 1s 369us/step - loss: 0.1803 - accuracy: 0.8850\n",
      "Epoch 44/100\n",
      "1600/1600 [==============================] - 1s 338us/step - loss: 0.1809 - accuracy: 0.8822\n",
      "Epoch 45/100\n",
      "1600/1600 [==============================] - 0s 293us/step - loss: 0.1816 - accuracy: 0.8822\n",
      "Epoch 46/100\n",
      "1600/1600 [==============================] - 0s 284us/step - loss: 0.1865 - accuracy: 0.8838\n",
      "Epoch 47/100\n",
      "1600/1600 [==============================] - 0s 293us/step - loss: 0.1998 - accuracy: 0.8759\n",
      "Epoch 48/100\n",
      "1600/1600 [==============================] - 0s 294us/step - loss: 0.1977 - accuracy: 0.8784\n",
      "Epoch 49/100\n",
      "1600/1600 [==============================] - 1s 359us/step - loss: 0.1846 - accuracy: 0.8791\n",
      "Epoch 50/100\n",
      "1600/1600 [==============================] - 1s 366us/step - loss: 0.1787 - accuracy: 0.8828\n",
      "Epoch 51/100\n",
      "1600/1600 [==============================] - 1s 361us/step - loss: 0.1793 - accuracy: 0.8819\n",
      "Epoch 52/100\n",
      "1600/1600 [==============================] - 1s 346us/step - loss: 0.1794 - accuracy: 0.8844\n",
      "Epoch 53/100\n",
      "1600/1600 [==============================] - 0s 295us/step - loss: 0.1766 - accuracy: 0.8847\n",
      "Epoch 54/100\n",
      "1600/1600 [==============================] - 0s 282us/step - loss: 0.1773 - accuracy: 0.8900\n",
      "Epoch 55/100\n",
      "1600/1600 [==============================] - 0s 286us/step - loss: 0.1755 - accuracy: 0.8825\n",
      "Epoch 56/100\n",
      "1600/1600 [==============================] - 0s 295us/step - loss: 0.1845 - accuracy: 0.8863\n",
      "Epoch 57/100\n",
      "1600/1600 [==============================] - 1s 354us/step - loss: 0.1840 - accuracy: 0.8803\n",
      "Epoch 58/100\n",
      "1600/1600 [==============================] - 1s 361us/step - loss: 0.1810 - accuracy: 0.8891\n",
      "Epoch 59/100\n",
      "1600/1600 [==============================] - 1s 365us/step - loss: 0.1773 - accuracy: 0.8853\n",
      "Epoch 60/100\n",
      "1600/1600 [==============================] - 1s 363us/step - loss: 0.1782 - accuracy: 0.8850\n",
      "Epoch 61/100\n",
      "1600/1600 [==============================] - 0s 287us/step - loss: 0.1778 - accuracy: 0.8788\n",
      "Epoch 62/100\n",
      "1600/1600 [==============================] - 0s 287us/step - loss: 0.1791 - accuracy: 0.8859\n",
      "Epoch 63/100\n",
      "1600/1600 [==============================] - 0s 292us/step - loss: 0.1824 - accuracy: 0.8728\n",
      "Epoch 64/100\n",
      "1600/1600 [==============================] - 0s 292us/step - loss: 0.1762 - accuracy: 0.8847\n",
      "Epoch 65/100\n",
      "1600/1600 [==============================] - 1s 357us/step - loss: 0.1776 - accuracy: 0.8847\n",
      "Epoch 66/100\n",
      "1600/1600 [==============================] - 1s 372us/step - loss: 0.1777 - accuracy: 0.8881\n",
      "Epoch 67/100\n",
      "1600/1600 [==============================] - 1s 355us/step - loss: 0.1792 - accuracy: 0.8856\n",
      "Epoch 68/100\n",
      "1600/1600 [==============================] - 1s 346us/step - loss: 0.1785 - accuracy: 0.8834\n",
      "Epoch 69/100\n",
      "1600/1600 [==============================] - 0s 292us/step - loss: 0.1765 - accuracy: 0.8884\n",
      "Epoch 70/100\n",
      "1600/1600 [==============================] - 0s 291us/step - loss: 0.1773 - accuracy: 0.8778\n",
      "Epoch 71/100\n",
      "1600/1600 [==============================] - 1s 337us/step - loss: 0.1762 - accuracy: 0.8891\n",
      "Epoch 72/100\n",
      "1600/1600 [==============================] - 1s 416us/step - loss: 0.1754 - accuracy: 0.8884\n",
      "Epoch 73/100\n",
      "1600/1600 [==============================] - 1s 502us/step - loss: 0.1758 - accuracy: 0.8859\n",
      "Epoch 74/100\n",
      "1600/1600 [==============================] - 1s 427us/step - loss: 0.1808 - accuracy: 0.8872\n",
      "Epoch 75/100\n",
      "1600/1600 [==============================] - 1s 367us/step - loss: 0.1817 - accuracy: 0.8734\n",
      "Epoch 76/100\n",
      "1600/1600 [==============================] - 0s 296us/step - loss: 0.1832 - accuracy: 0.8844\n",
      "Epoch 77/100\n",
      "1600/1600 [==============================] - 0s 260us/step - loss: 0.1872 - accuracy: 0.8819\n",
      "Epoch 78/100\n",
      "1600/1600 [==============================] - 0s 278us/step - loss: 0.1772 - accuracy: 0.8834\n",
      "Epoch 79/100\n"
     ]
    },
    {
     "name": "stdout",
     "output_type": "stream",
     "text": [
      "1600/1600 [==============================] - 0s 259us/step - loss: 0.1757 - accuracy: 0.8856\n",
      "Epoch 80/100\n",
      "1600/1600 [==============================] - 0s 309us/step - loss: 0.1768 - accuracy: 0.8806\n",
      "Epoch 81/100\n",
      "1600/1600 [==============================] - 1s 324us/step - loss: 0.1768 - accuracy: 0.8856\n",
      "Epoch 82/100\n",
      "1600/1600 [==============================] - 1s 320us/step - loss: 0.1754 - accuracy: 0.8947\n",
      "Epoch 83/100\n",
      "1600/1600 [==============================] - 1s 325us/step - loss: 0.1750 - accuracy: 0.8841\n",
      "Epoch 84/100\n",
      "1600/1600 [==============================] - 0s 272us/step - loss: 0.1757 - accuracy: 0.8859\n",
      "Epoch 85/100\n",
      "1600/1600 [==============================] - 0s 261us/step - loss: 0.1756 - accuracy: 0.8856\n",
      "Epoch 86/100\n",
      "1600/1600 [==============================] - 0s 253us/step - loss: 0.1770 - accuracy: 0.8866\n",
      "Epoch 87/100\n",
      "1600/1600 [==============================] - 0s 259us/step - loss: 0.1749 - accuracy: 0.8819\n",
      "Epoch 88/100\n",
      "1600/1600 [==============================] - 0s 258us/step - loss: 0.1742 - accuracy: 0.8897\n",
      "Epoch 89/100\n",
      "1600/1600 [==============================] - 0s 306us/step - loss: 0.1755 - accuracy: 0.8822\n",
      "Epoch 90/100\n",
      "1600/1600 [==============================] - 1s 331us/step - loss: 0.1744 - accuracy: 0.8853\n",
      "Epoch 91/100\n",
      "1600/1600 [==============================] - 1s 328us/step - loss: 0.2124 - accuracy: 0.8772\n",
      "Epoch 92/100\n",
      "1600/1600 [==============================] - 1s 323us/step - loss: 0.6894 - accuracy: 0.6812\n",
      "Epoch 93/100\n",
      "1600/1600 [==============================] - 0s 275us/step - loss: 0.5800 - accuracy: 0.6938\n",
      "Epoch 94/100\n",
      "1600/1600 [==============================] - 0s 255us/step - loss: 0.4886 - accuracy: 0.7509\n",
      "Epoch 95/100\n",
      "1600/1600 [==============================] - 0s 257us/step - loss: 0.4567 - accuracy: 0.8069\n",
      "Epoch 96/100\n",
      "1600/1600 [==============================] - 0s 254us/step - loss: 0.4365 - accuracy: 0.8041\n",
      "Epoch 97/100\n",
      "1600/1600 [==============================] - 0s 255us/step - loss: 0.4336 - accuracy: 0.7997\n",
      "Epoch 98/100\n",
      "1600/1600 [==============================] - 0s 306us/step - loss: 0.4188 - accuracy: 0.7916\n",
      "Epoch 99/100\n",
      "1600/1600 [==============================] - 1s 329us/step - loss: 0.3542 - accuracy: 0.8334\n",
      "Epoch 100/100\n",
      "1600/1600 [==============================] - 1s 329us/step - loss: 0.3053 - accuracy: 0.8541\n"
     ]
    }
   ],
   "source": [
    "history = model.fit(X, y, epochs = 100, batch_size = 32, callbacks=[es])"
   ]
  },
  {
   "cell_type": "code",
   "execution_count": 18,
   "metadata": {},
   "outputs": [
    {
     "name": "stdout",
     "output_type": "stream",
     "text": [
      "dict_keys(['loss', 'accuracy'])\n"
     ]
    }
   ],
   "source": [
    "# list all data in history\n",
    "print(history.history.keys())"
   ]
  },
  {
   "cell_type": "code",
   "execution_count": 19,
   "metadata": {},
   "outputs": [
    {
     "data": {
      "text/plain": [
       "[<matplotlib.lines.Line2D at 0x7fdb144c6fd0>]"
      ]
     },
     "execution_count": 19,
     "metadata": {},
     "output_type": "execute_result"
    },
    {
     "data": {
      "image/png": "[encoded data removed]",
      "text/plain": [
       "<Figure size 432x288 with 1 Axes>"
      ]
     },
     "metadata": {
      "needs_background": "light"
     },
     "output_type": "display_data"
    }
   ],
   "source": [
    "import matplotlib.pyplot as plt\n",
    "# summarize history for accuracy\n",
    "plt.plot(history.history['loss'], label='loss')\n",
    "plt.plot(history.history['accuracy'], label='accuracy')"
   ]
  },
  {
   "cell_type": "code",
   "execution_count": 20,
   "metadata": {},
   "outputs": [
    {
     "name": "stdout",
     "output_type": "stream",
     "text": [
      "Saved model to disk\n"
     ]
    }
   ],
   "source": [
    "# serialize model to JSON\n",
    "model_json = model.to_json()\n",
    "with open(\"model.json\", \"w\") as json_file:\n",
    "    json_file.write(model_json)\n",
    "# serialize weights to HDF5\n",
    "model.save_weights(\"model.h5\")\n",
    "print(\"Saved model to disk\")"
   ]
  },
  {
   "cell_type": "code",
   "execution_count": 21,
   "metadata": {},
   "outputs": [],
   "source": [
    "# test = np.reshape(test, (40, 1000, 1))"
   ]
  },
  {
   "cell_type": "code",
   "execution_count": 22,
   "metadata": {},
   "outputs": [],
   "source": [
    "test = np.reshape(test_cir_sqr_img, (400, 50, 50))\n",
    "test_target = np.array(test_images_target)"
   ]
  },
  {
   "cell_type": "code",
   "execution_count": 23,
   "metadata": {},
   "outputs": [
    {
     "name": "stdout",
     "output_type": "stream",
     "text": [
      "[0.007133 0.991601] expected [0 1]\n",
      "[0.16118741 0.80898327] expected [0 1]\n",
      "[0.02051323 0.974739  ] expected [0 1]\n",
      "[0.3599261  0.64712584] expected [0 1]\n",
      "[0.5159158 0.4335484] expected [0 1]\n",
      "[0.00209738 0.9970618 ] expected [0 1]\n",
      "[0.41042125 0.5765637 ] expected [0 1]\n",
      "[0.08865412 0.9400868 ] expected [0 1]\n",
      "[0.16941349 0.7988181 ] expected [0 1]\n",
      "[0.36319616 0.62746125] expected [0 1]\n",
      "[0.2955236 0.7280309] expected [0 1]\n",
      "[0.02354398 0.9738481 ] expected [0 1]\n",
      "[0.40981045 0.53327215] expected [0 1]\n",
      "[0.1236017  0.91279006] expected [0 1]\n",
      "[0.6128343  0.35067216] expected [0 1]\n",
      "[0.05304538 0.94574577] expected [0 1]\n",
      "[0.00625989 0.99321413] expected [0 1]\n",
      "[0.07792624 0.9250142 ] expected [0 1]\n",
      "[0.03096084 0.97072583] expected [0 1]\n",
      "[0.02260289 0.9744187 ] expected [0 1]\n",
      "[0.00136699 0.99802375] expected [0 1]\n",
      "[0.36319616 0.62746125] expected [0 1]\n",
      "[0.00136699 0.99802375] expected [0 1]\n",
      "[0.9853307  0.01507884] expected [0 1]\n",
      "[0.4416059 0.549849 ] expected [0 1]\n",
      "[0.00276914 0.9962121 ] expected [0 1]\n",
      "[0.03096084 0.97072583] expected [0 1]\n",
      "[0.44286898 0.56627524] expected [0 1]\n",
      "[0.6128343  0.35067216] expected [0 1]\n",
      "[0.14846008 0.8820844 ] expected [0 1]\n",
      "[0.00939871 0.9900608 ] expected [0 1]\n",
      "[0.82196754 0.18583912] expected [0 1]\n",
      "[0.10585374 0.92756826] expected [0 1]\n",
      "[0.40981045 0.53327215] expected [0 1]\n",
      "[0.00276914 0.9962121 ] expected [0 1]\n",
      "[0.03655134 0.97175014] expected [0 1]\n",
      "[0.40485778 0.60530835] expected [0 1]\n",
      "[0.02194669 0.9782963 ] expected [0 1]\n",
      "[0.42677495 0.5925554 ] expected [0 1]\n",
      "[0.16941349 0.7988181 ] expected [0 1]\n",
      "[0.00953698 0.9881742 ] expected [0 1]\n",
      "[0.36319616 0.62746125] expected [0 1]\n",
      "[0.5209371  0.48340097] expected [0 1]\n",
      "[0.08129917 0.95101374] expected [0 1]\n",
      "[0.00136699 0.99802375] expected [0 1]\n",
      "[0.04901301 0.9496083 ] expected [0 1]\n",
      "[0.42677495 0.5925554 ] expected [0 1]\n",
      "[0.00953698 0.9881742 ] expected [0 1]\n",
      "[0.00764857 0.991134  ] expected [0 1]\n",
      "[0.42677495 0.5925554 ] expected [0 1]\n",
      "[0.26193452 0.71056926] expected [0 1]\n",
      "[0.00118913 0.9981883 ] expected [0 1]\n",
      "[0.5209371  0.48340097] expected [0 1]\n",
      "[0.2955236 0.7280309] expected [0 1]\n",
      "[0.0967654 0.9347144] expected [0 1]\n",
      "[0.26193452 0.71056926] expected [0 1]\n",
      "[0.08129917 0.95101374] expected [0 1]\n",
      "[0.03795766 0.95331657] expected [0 1]\n",
      "[0.3599261  0.64712584] expected [0 1]\n",
      "[0.35503957 0.6510635 ] expected [0 1]\n",
      "[0.16941349 0.7988181 ] expected [0 1]\n",
      "[0.00276914 0.9962121 ] expected [0 1]\n",
      "[0.40485752 0.6053085 ] expected [0 1]\n",
      "[0.10585363 0.92756826] expected [0 1]\n",
      "[0.08865412 0.9400868 ] expected [0 1]\n",
      "[0.52385086 0.4312934 ] expected [0 1]\n",
      "[0.04268916 0.96762735] expected [0 1]\n",
      "[0.02354398 0.9738481 ] expected [0 1]\n",
      "[0.00136699 0.99802375] expected [0 1]\n",
      "[0.5797438  0.37562105] expected [0 1]\n",
      "[0.5487778  0.40704378] expected [0 1]\n",
      "[0.16118741 0.80898327] expected [0 1]\n",
      "[0.00116716 0.9982785 ] expected [0 1]\n",
      "[0.2955236 0.7280309] expected [0 1]\n",
      "[0.02797784 0.97237927] expected [0 1]\n",
      "[0.00496084 0.99354964] expected [0 1]\n",
      "[0.03513359 0.9640177 ] expected [0 1]\n",
      "[0.02669474 0.96642816] expected [0 1]\n",
      "[0.00764857 0.991134  ] expected [0 1]\n",
      "[0.00209738 0.9970618 ] expected [0 1]\n",
      "[0.04268916 0.96762735] expected [0 1]\n",
      "[0.02354398 0.9738481 ] expected [0 1]\n",
      "[0.4394911  0.50611275] expected [0 1]\n",
      "[0.10917585 0.8888277 ] expected [0 1]\n",
      "[0.00209738 0.9970618 ] expected [0 1]\n",
      "[0.00625989 0.99321413] expected [0 1]\n",
      "[0.4206502 0.5428983] expected [0 1]\n",
      "[0.00700226 0.99543697] expected [0 1]\n",
      "[0.26193452 0.71056926] expected [0 1]\n",
      "[0.00748788 0.99140805] expected [0 1]\n",
      "[0.05428081 0.96689034] expected [0 1]\n",
      "[0.42251718 0.5720442 ] expected [0 1]\n",
      "[0.02354398 0.9738481 ] expected [0 1]\n",
      "[0.5797438  0.37562105] expected [0 1]\n",
      "[0.84073377 0.17139353] expected [0 1]\n",
      "[0.32581785 0.6604674 ] expected [0 1]\n",
      "[0.00939871 0.9900608 ] expected [0 1]\n",
      "[0.04268916 0.96762735] expected [0 1]\n",
      "[0.00136699 0.99802375] expected [0 1]\n",
      "[0.00209738 0.9970618 ] expected [0 1]\n",
      "[0.36319616 0.62746125] expected [0 1]\n",
      "[0.00910837 0.9901744 ] expected [0 1]\n",
      "[0.52385086 0.4312934 ] expected [0 1]\n",
      "[0.08244187 0.917929  ] expected [0 1]\n",
      "[0.6693078  0.30637878] expected [0 1]\n",
      "[0.00175385 0.9975763 ] expected [0 1]\n",
      "[0.00116716 0.9982785 ] expected [0 1]\n",
      "[0.10585374 0.92756826] expected [0 1]\n",
      "[0.02260289 0.9744187 ] expected [0 1]\n",
      "[0.7154816 0.2665187] expected [0 1]\n",
      "[0.6693078  0.30637878] expected [0 1]\n",
      "[0.0370656 0.974209 ] expected [0 1]\n",
      "[0.5159158 0.4335484] expected [0 1]\n",
      "[0.42251718 0.5720442 ] expected [0 1]\n",
      "[0.11185329 0.87654805] expected [0 1]\n",
      "[0.40485778 0.60530835] expected [0 1]\n",
      "[0.00116716 0.9982785 ] expected [0 1]\n",
      "[0.0967654 0.9347144] expected [0 1]\n",
      "[0.07792624 0.9250142 ] expected [0 1]\n",
      "[0.5159158 0.4335484] expected [0 1]\n",
      "[0.3719955 0.6296725] expected [0 1]\n",
      "[0.00910837 0.9901744 ] expected [0 1]\n",
      "[0.08244187 0.917929  ] expected [0 1]\n",
      "[0.44286898 0.56627524] expected [0 1]\n",
      "[0.5159158 0.4335484] expected [0 1]\n",
      "[0.08865412 0.9400868 ] expected [0 1]\n",
      "[0.52093744 0.48340064] expected [0 1]\n",
      "[0.02260285 0.9744187 ] expected [0 1]\n",
      "[0.40472788 0.57724375] expected [0 1]\n",
      "[0.00764857 0.991134  ] expected [0 1]\n",
      "[0.00128366 0.9981346 ] expected [0 1]\n",
      "[0.42251718 0.5720442 ] expected [0 1]\n",
      "[0.00175385 0.9975763 ] expected [0 1]\n",
      "[0.05428081 0.96689034] expected [0 1]\n",
      "[0.40472788 0.57724375] expected [0 1]\n",
      "[0.26193452 0.71056926] expected [0 1]\n",
      "[0.08865412 0.9400868 ] expected [0 1]\n",
      "[0.16118741 0.80898327] expected [0 1]\n",
      "[0.00748788 0.99140805] expected [0 1]\n",
      "[0.00118913 0.9981883 ] expected [0 1]\n",
      "[0.3868005 0.6263562] expected [0 1]\n",
      "[0.41042125 0.5765637 ] expected [0 1]\n",
      "[0.0967654 0.9347144] expected [0 1]\n",
      "[0.40485778 0.60530835] expected [0 1]\n",
      "[0.03391482 0.9766035 ] expected [0 1]\n",
      "[0.00844632 0.9946291 ] expected [0 1]\n",
      "[0.2955236 0.7280309] expected [0 1]\n",
      "[0.40981045 0.53327215] expected [0 1]\n",
      "[0.5797438  0.37562105] expected [0 1]\n",
      "[0.40981045 0.53327215] expected [0 1]\n",
      "[0.05428081 0.96689034] expected [0 1]\n",
      "[0.41042125 0.5765637 ] expected [0 1]\n",
      "[0.02194669 0.9782963 ] expected [0 1]\n",
      "[0.7154816 0.2665187] expected [0 1]\n",
      "[0.4394911  0.50611275] expected [0 1]\n",
      "[0.02194669 0.9782963 ] expected [0 1]\n",
      "[0.03655134 0.97175014] expected [0 1]\n",
      "[0.10585374 0.92756826] expected [0 1]\n",
      "[0.00136146 0.99800676] expected [0 1]\n",
      "[0.04477921 0.9671678 ] expected [0 1]\n",
      "[0.5487778  0.40704378] expected [0 1]\n",
      "[0.5797438  0.37562105] expected [0 1]\n",
      "[0.02038888 0.9794883 ] expected [0 1]\n",
      "[0.00910837 0.9901744 ] expected [0 1]\n",
      "[0.3719955 0.6296725] expected [0 1]\n",
      "[0.00764857 0.991134  ] expected [0 1]\n",
      "[0.44286898 0.56627524] expected [0 1]\n",
      "[0.04268916 0.96762735] expected [0 1]\n",
      "[0.41042125 0.5765637 ] expected [0 1]\n",
      "[0.4416059 0.549849 ] expected [0 1]\n",
      "[0.00939871 0.9900608 ] expected [0 1]\n",
      "[0.42677495 0.5925554 ] expected [0 1]\n",
      "[0.04410351 0.9668026 ] expected [0 1]\n",
      "[0.2955236 0.7280309] expected [0 1]\n",
      "[0.04410351 0.9668026 ] expected [0 1]\n",
      "[0.42677495 0.5925554 ] expected [0 1]\n",
      "[0.04268916 0.96762735] expected [0 1]\n",
      "[0.00496084 0.99354964] expected [0 1]\n",
      "[0.5487778  0.40704378] expected [0 1]\n",
      "[0.00136699 0.99802375] expected [0 1]\n",
      "[0.44834185 0.49279982] expected [0 1]\n",
      "[0.00209738 0.9970618 ] expected [0 1]\n",
      "[0.5487778  0.40704378] expected [0 1]\n",
      "[0.00136699 0.99802375] expected [0 1]\n",
      "[0.44834185 0.49279982] expected [0 1]\n",
      "[0.03795766 0.95331657] expected [0 1]\n",
      "[0.52385086 0.4312934 ] expected [0 1]\n",
      "[0.40472788 0.57724375] expected [0 1]\n",
      "[0.16118741 0.80898327] expected [0 1]\n",
      "[0.05304538 0.94574577] expected [0 1]\n",
      "[0.02260285 0.9744187 ] expected [0 1]\n",
      "[0.10585363 0.92756826] expected [0 1]\n",
      "[0.4346193  0.56717235] expected [0 1]\n",
      "[0.04410351 0.9668026 ] expected [0 1]\n",
      "[0.03632877 0.9560664 ] expected [0 1]\n",
      "[0.00764857 0.991134  ] expected [0 1]\n",
      "[0.35503957 0.6510635 ] expected [0 1]\n",
      "[0.03513359 0.9640177 ] expected [0 1]\n",
      "[0.00910837 0.9901744 ] expected [0 1]\n",
      "[0.03632877 0.9560664 ] expected [0 1]\n",
      "[0.44286898 0.56627524] expected [1 0]\n",
      "[0.39131638 0.61777717] expected [1 0]\n",
      "[0.98847955 0.01457677] expected [1 0]\n",
      "[0.5159158 0.4335484] expected [1 0]\n",
      "[0.9854709  0.01730606] expected [1 0]\n",
      "[0.8463669  0.16345935] expected [1 0]\n",
      "[0.40472788 0.57724375] expected [1 0]\n",
      "[0.32581842 0.66046697] expected [1 0]\n",
      "[0.7296252  0.31580487] expected [1 0]\n",
      "[0.9310615  0.06524648] expected [1 0]\n",
      "[0.9887509  0.01421107] expected [1 0]\n",
      "[0.4346193  0.56717235] expected [1 0]\n",
      "[0.39131638 0.61777717] expected [1 0]\n",
      "[0.99643195 0.00692128] expected [1 0]\n",
      "[0.9955504  0.00823532] expected [1 0]\n",
      "[0.98462474 0.0155204 ] expected [1 0]\n",
      "[0.9853307  0.01507884] expected [1 0]\n",
      "[0.5159158 0.4335484] expected [1 0]\n",
      "[0.9848631  0.01895766] expected [1 0]\n",
      "[0.8526329  0.16080315] expected [1 0]\n",
      "[0.9973252  0.00518536] expected [1 0]\n",
      "[0.32581842 0.66046697] expected [1 0]\n",
      "[0.9956927  0.00729447] expected [1 0]\n",
      "[0.93550104 0.07228128] expected [1 0]\n",
      "[0.9644546  0.03729719] expected [1 0]\n",
      "[0.953722   0.04874214] expected [1 0]\n",
      "[0.87623394 0.14117256] expected [1 0]\n",
      "[0.8468264  0.16328466] expected [1 0]\n",
      "[0.9887643  0.01330472] expected [1 0]\n",
      "[0.8299409 0.1769065] expected [1 0]\n",
      "[0.9864347  0.01410321] expected [1 0]\n",
      "[0.9848269  0.01710043] expected [1 0]\n",
      "[0.8698772  0.14190905] expected [1 0]\n",
      "[0.99648935 0.00678782] expected [1 0]\n",
      "[0.98724955 0.01612447] expected [1 0]\n",
      "[0.36319616 0.62746125] expected [1 0]\n",
      "[0.32581842 0.66046697] expected [1 0]\n",
      "[0.5797438  0.37562105] expected [1 0]\n",
      "[0.42251718 0.5720442 ] expected [1 0]\n",
      "[0.8526329  0.16080315] expected [1 0]\n",
      "[0.98493296 0.01951157] expected [1 0]\n",
      "[0.39131638 0.61777717] expected [1 0]\n",
      "[0.9881926  0.01452443] expected [1 0]\n",
      "[0.98473674 0.01701984] expected [1 0]\n",
      "[0.91762847 0.12180835] expected [1 0]\n",
      "[0.8085691  0.19558945] expected [1 0]\n",
      "[0.92024153 0.08024888] expected [1 0]\n",
      "[0.98417145 0.02086523] expected [1 0]\n",
      "[0.8698772  0.14190905] expected [1 0]\n",
      "[0.41042125 0.5765637 ] expected [1 0]\n",
      "[0.40116414 0.6081148 ] expected [1 0]\n",
      "[0.98473674 0.01701984] expected [1 0]\n",
      "[0.8905826 0.109947 ] expected [1 0]\n",
      "[0.98847955 0.01457677] expected [1 0]\n",
      "[0.9866627  0.01619049] expected [1 0]\n",
      "[0.9882371  0.01596795] expected [1 0]\n",
      "[0.98847955 0.01457677] expected [1 0]\n",
      "[0.7154816 0.2665187] expected [1 0]\n",
      "[0.5797438  0.37562105] expected [1 0]\n",
      "[0.84220487 0.16052744] expected [1 0]\n",
      "[0.8195912  0.18834195] expected [1 0]\n",
      "[0.9644546  0.03729719] expected [1 0]\n",
      "[0.7296252  0.31580487] expected [1 0]\n",
      "[0.98847955 0.01457677] expected [1 0]\n",
      "[0.7296252  0.31580487] expected [1 0]\n",
      "[0.5487778  0.40704378] expected [1 0]\n",
      "[0.9003081  0.10693293] expected [1 0]\n",
      "[0.6128343  0.35067216] expected [1 0]\n",
      "[0.83300227 0.17421283] expected [1 0]\n",
      "[0.89487326 0.10078675] expected [1 0]\n",
      "[0.9887509  0.01421107] expected [1 0]\n",
      "[0.68589044 0.3424116 ] expected [1 0]\n",
      "[0.79967314 0.21871534] expected [1 0]\n",
      "[0.99470055 0.00713835] expected [1 0]\n",
      "[0.8085691  0.19558945] expected [1 0]\n",
      "[0.99470055 0.00713835] expected [1 0]\n",
      "[0.9003877  0.09586241] expected [1 0]\n",
      "[0.5797438  0.37562105] expected [1 0]\n",
      "[0.99648935 0.00678782] expected [1 0]\n",
      "[0.84220487 0.16052744] expected [1 0]\n",
      "[0.6494566  0.35145736] expected [1 0]\n",
      "[0.40981045 0.53327215] expected [1 0]\n",
      "[0.99470055 0.00713835] expected [1 0]\n",
      "[0.79967314 0.21871534] expected [1 0]\n",
      "[0.9965424  0.00631349] expected [1 0]\n",
      "[0.98724955 0.01612447] expected [1 0]\n",
      "[0.8905826  0.10994698] expected [1 0]\n",
      "[0.99643195 0.00692129] expected [1 0]\n",
      "[0.98473674 0.01701984] expected [1 0]\n",
      "[0.8299409 0.1769065] expected [1 0]\n",
      "[0.9887509  0.01421107] expected [1 0]\n",
      "[0.9882371  0.01596793] expected [1 0]\n",
      "[0.9853307  0.01507884] expected [1 0]\n",
      "[0.42251718 0.5720442 ] expected [1 0]\n",
      "[0.44286898 0.56627524] expected [1 0]\n",
      "[0.9967495  0.00616246] expected [1 0]\n",
      "[0.40116414 0.6081148 ] expected [1 0]\n",
      "[0.79967314 0.21871534] expected [1 0]\n",
      "[0.81278706 0.19287322] expected [1 0]\n",
      "[0.40116414 0.6081148 ] expected [1 0]\n",
      "[0.36319616 0.62746125] expected [1 0]\n",
      "[0.52385086 0.4312934 ] expected [1 0]\n",
      "[0.40472788 0.57724375] expected [1 0]\n",
      "[0.42677495 0.5925554 ] expected [1 0]\n",
      "[0.40485778 0.60530835] expected [1 0]\n",
      "[0.6494566  0.35145736] expected [1 0]\n",
      "[0.9955504  0.00823532] expected [1 0]\n",
      "[0.9887509  0.01421107] expected [1 0]\n",
      "[0.98824316 0.01453897] expected [1 0]\n",
      "[0.9962119 0.0069836] expected [1 0]\n",
      "[0.9644546  0.03729719] expected [1 0]\n",
      "[0.953722   0.04874214] expected [1 0]\n",
      "[0.9967495  0.00616246] expected [1 0]\n",
      "[0.91762847 0.12180835] expected [1 0]\n",
      "[0.8085691  0.19558945] expected [1 0]\n",
      "[0.68589044 0.3424116 ] expected [1 0]\n",
      "[0.9945866 0.0099138] expected [1 0]\n",
      "[0.98824316 0.01453897] expected [1 0]\n",
      "[0.44834247 0.49279934] expected [1 0]\n",
      "[0.99648935 0.00678782] expected [1 0]\n",
      "[0.98462474 0.0155204 ] expected [1 0]\n",
      "[0.8400266  0.17093863] expected [1 0]\n",
      "[0.40485778 0.60530835] expected [1 0]\n",
      "[0.6494566  0.35145736] expected [1 0]\n",
      "[0.7296252  0.31580487] expected [1 0]\n",
      "[0.44834185 0.49279982] expected [1 0]\n",
      "[0.99708635 0.00431472] expected [1 0]\n",
      "[0.9967495  0.00616246] expected [1 0]\n",
      "[0.3868005 0.6263562] expected [1 0]\n",
      "[0.9881926  0.01452443] expected [1 0]\n",
      "[0.92024153 0.08024888] expected [1 0]\n",
      "[0.9454194  0.04783428] expected [1 0]\n",
      "[0.9003877  0.09586241] expected [1 0]\n",
      "[0.99648935 0.00678782] expected [1 0]\n",
      "[0.9848269  0.01710043] expected [1 0]\n",
      "[0.99553216 0.00770431] expected [1 0]\n",
      "[0.36319616 0.62746125] expected [1 0]\n",
      "[0.8526329  0.16080315] expected [1 0]\n",
      "[0.8468264  0.16328466] expected [1 0]\n",
      "[0.84220487 0.16052744] expected [1 0]\n",
      "[0.44286898 0.56627524] expected [1 0]\n",
      "[0.98493296 0.01951157] expected [1 0]\n",
      "[0.8788588  0.17541718] expected [1 0]\n",
      "[0.36319616 0.62746125] expected [1 0]\n",
      "[0.8468264  0.16328466] expected [1 0]\n",
      "[0.996049   0.00727797] expected [1 0]\n",
      "[0.8698772  0.14190905] expected [1 0]\n",
      "[0.8526329  0.16080315] expected [1 0]\n",
      "[0.42677495 0.5925554 ] expected [1 0]\n",
      "[0.7296252  0.31580487] expected [1 0]\n",
      "[0.9866627  0.01619049] expected [1 0]\n",
      "[0.98462474 0.0155204 ] expected [1 0]\n",
      "[0.39131638 0.61777717] expected [1 0]\n",
      "[0.9887643  0.01330472] expected [1 0]\n",
      "[0.83300227 0.17421283] expected [1 0]\n",
      "[0.40472788 0.57724375] expected [1 0]\n",
      "[0.9310615  0.06524648] expected [1 0]\n",
      "[0.9973252  0.00518536] expected [1 0]\n",
      "[0.8838478 0.1224919] expected [1 0]\n",
      "[0.84220487 0.16052744] expected [1 0]\n",
      "[0.98847955 0.01457677] expected [1 0]\n",
      "[0.8838478 0.1224919] expected [1 0]\n",
      "[0.9454194  0.04783428] expected [1 0]\n",
      "[0.9859313  0.01474736] expected [1 0]\n",
      "[0.8838478 0.1224919] expected [1 0]\n",
      "[0.9887509  0.01421107] expected [1 0]\n"
     ]
    },
    {
     "name": "stdout",
     "output_type": "stream",
     "text": [
      "[0.84220487 0.16052744] expected [1 0]\n",
      "[0.8400266  0.17093863] expected [1 0]\n",
      "[0.953722   0.04874214] expected [1 0]\n",
      "[0.98462474 0.0155204 ] expected [1 0]\n",
      "[0.98490113 0.01634937] expected [1 0]\n",
      "[0.93550086 0.07228146] expected [1 0]\n",
      "[0.4394911  0.50611275] expected [1 0]\n",
      "[0.99708635 0.00431472] expected [1 0]\n",
      "[0.40981045 0.53327215] expected [1 0]\n",
      "[0.4394911  0.50611275] expected [1 0]\n",
      "[0.8463669  0.16345935] expected [1 0]\n",
      "[0.8788588  0.17541718] expected [1 0]\n",
      "[0.99634874 0.00527617] expected [1 0]\n",
      "[0.99470055 0.00713835] expected [1 0]\n",
      "[0.9874069  0.01315109] expected [1 0]\n",
      "[0.99685585 0.00580746] expected [1 0]\n",
      "[0.40116408 0.608115  ] expected [1 0]\n",
      "[0.9454194 0.0478343] expected [1 0]\n",
      "[0.40472788 0.57724375] expected [1 0]\n",
      "[0.9310615  0.06524648] expected [1 0]\n",
      "[0.36319616 0.62746125] expected [1 0]\n",
      "[0.9945866 0.0099138] expected [1 0]\n",
      "[0.7154816 0.2665187] expected [1 0]\n",
      "[0.9863056 0.0146127] expected [1 0]\n",
      "[0.9887509  0.01421107] expected [1 0]\n",
      "[0.8526329  0.16080315] expected [1 0]\n",
      "[0.84220487 0.16052744] expected [1 0]\n",
      "[0.9874414  0.01428328] expected [1 0]\n",
      "[0.9838591  0.02124467] expected [1 0]\n",
      "[0.9967495  0.00616246] expected [1 0]\n",
      "[0.8463669  0.16345935] expected [1 0]\n",
      "[0.42251718 0.5720442 ] expected [1 0]\n",
      "[0.40981045 0.53327215] expected [1 0]\n",
      "[0.9848631  0.01895766] expected [1 0]\n"
     ]
    }
   ],
   "source": [
    "predictions = model.predict(test_cir_sqr_img)\n",
    "for i in range(len(test)):\n",
    "    print(predictions[i], 'expected', test_target[i])"
   ]
  },
  {
   "cell_type": "code",
   "execution_count": 24,
   "metadata": {},
   "outputs": [],
   "source": [
    "test_target_arr = np.array(test_target)"
   ]
  },
  {
   "cell_type": "code",
   "execution_count": 25,
   "metadata": {},
   "outputs": [],
   "source": [
    "predictions_rounded = np.matrix.round(predictions)"
   ]
  },
  {
   "cell_type": "code",
   "execution_count": 26,
   "metadata": {},
   "outputs": [],
   "source": [
    "y_test_classes = test_target_arr.argmax(1)\n",
    "y_pred_classes = predictions_rounded.argmax(1)"
   ]
  },
  {
   "cell_type": "code",
   "execution_count": 27,
   "metadata": {},
   "outputs": [
    {
     "data": {
      "text/plain": [
       "array([1, 1, 1, 1, 0, 1, 1, 1, 1, 1, 1, 1, 1, 1, 0, 1, 1, 1, 1, 1, 1, 1,\n",
       "       1, 0, 1, 1, 1, 1, 0, 1, 1, 0, 1, 1, 1, 1, 1, 1, 1, 1, 1, 1, 0, 1,\n",
       "       1, 1, 1, 1, 1, 1, 1, 1, 0, 1, 1, 1, 1, 1, 1, 1, 1, 1, 1, 1, 1, 0,\n",
       "       1, 1, 1, 0, 0, 1, 1, 1, 1, 1, 1, 1, 1, 1, 1, 1, 1, 1, 1, 1, 1, 1,\n",
       "       1, 1, 1, 1, 1, 0, 0, 1, 1, 1, 1, 1, 1, 1, 0, 1, 0, 1, 1, 1, 1, 0,\n",
       "       0, 1, 0, 1, 1, 1, 1, 1, 1, 0, 1, 1, 1, 1, 0, 1, 0, 1, 1, 1, 1, 1,\n",
       "       1, 1, 1, 1, 1, 1, 1, 1, 1, 1, 1, 1, 1, 1, 1, 1, 0, 1, 1, 1, 1, 0,\n",
       "       1, 1, 1, 1, 1, 1, 0, 0, 1, 1, 1, 1, 1, 1, 1, 1, 1, 1, 1, 1, 1, 1,\n",
       "       1, 1, 0, 1, 0, 1, 0, 1, 0, 1, 0, 1, 1, 1, 1, 1, 1, 1, 1, 1, 1, 1,\n",
       "       1, 1, 1, 1, 0, 0, 0, 0, 1, 1, 0, 0, 0, 1, 1, 0, 0, 0, 0, 0, 0, 0,\n",
       "       0, 1, 0, 0, 0, 0, 0, 0, 0, 0, 0, 0, 0, 0, 0, 1, 1, 0, 1, 0, 0, 1,\n",
       "       0, 0, 0, 0, 0, 0, 0, 1, 1, 0, 0, 0, 0, 0, 0, 0, 0, 0, 0, 0, 0, 0,\n",
       "       0, 0, 0, 0, 0, 0, 0, 0, 0, 0, 0, 0, 0, 0, 0, 0, 0, 1, 0, 0, 0, 0,\n",
       "       0, 0, 0, 0, 0, 0, 0, 1, 1, 0, 1, 0, 0, 1, 1, 0, 1, 1, 1, 0, 0, 0,\n",
       "       0, 0, 0, 0, 0, 0, 0, 0, 0, 0, 0, 0, 0, 0, 1, 0, 0, 0, 0, 0, 1, 0,\n",
       "       0, 0, 0, 0, 0, 0, 1, 0, 0, 0, 1, 0, 0, 1, 0, 0, 0, 0, 1, 0, 0, 0,\n",
       "       1, 0, 0, 1, 0, 0, 0, 0, 0, 0, 0, 0, 0, 0, 0, 0, 0, 0, 0, 0, 1, 0,\n",
       "       1, 1, 0, 0, 0, 0, 0, 0, 1, 0, 1, 0, 1, 0, 0, 0, 0, 0, 0, 0, 0, 0,\n",
       "       0, 1, 1, 0])"
      ]
     },
     "execution_count": 27,
     "metadata": {},
     "output_type": "execute_result"
    }
   ],
   "source": [
    "y_pred_classes"
   ]
  },
  {
   "cell_type": "code",
   "execution_count": 28,
   "metadata": {},
   "outputs": [
    {
     "data": {
      "text/plain": [
       "array([1, 1, 1, 1, 1, 1, 1, 1, 1, 1, 1, 1, 1, 1, 1, 1, 1, 1, 1, 1, 1, 1,\n",
       "       1, 1, 1, 1, 1, 1, 1, 1, 1, 1, 1, 1, 1, 1, 1, 1, 1, 1, 1, 1, 1, 1,\n",
       "       1, 1, 1, 1, 1, 1, 1, 1, 1, 1, 1, 1, 1, 1, 1, 1, 1, 1, 1, 1, 1, 1,\n",
       "       1, 1, 1, 1, 1, 1, 1, 1, 1, 1, 1, 1, 1, 1, 1, 1, 1, 1, 1, 1, 1, 1,\n",
       "       1, 1, 1, 1, 1, 1, 1, 1, 1, 1, 1, 1, 1, 1, 1, 1, 1, 1, 1, 1, 1, 1,\n",
       "       1, 1, 1, 1, 1, 1, 1, 1, 1, 1, 1, 1, 1, 1, 1, 1, 1, 1, 1, 1, 1, 1,\n",
       "       1, 1, 1, 1, 1, 1, 1, 1, 1, 1, 1, 1, 1, 1, 1, 1, 1, 1, 1, 1, 1, 1,\n",
       "       1, 1, 1, 1, 1, 1, 1, 1, 1, 1, 1, 1, 1, 1, 1, 1, 1, 1, 1, 1, 1, 1,\n",
       "       1, 1, 1, 1, 1, 1, 1, 1, 1, 1, 1, 1, 1, 1, 1, 1, 1, 1, 1, 1, 1, 1,\n",
       "       1, 1, 0, 0, 0, 0, 0, 0, 0, 0, 0, 0, 0, 0, 0, 0, 0, 0, 0, 0, 0, 0,\n",
       "       0, 0, 0, 0, 0, 0, 0, 0, 0, 0, 0, 0, 0, 0, 0, 0, 0, 0, 0, 0, 0, 0,\n",
       "       0, 0, 0, 0, 0, 0, 0, 0, 0, 0, 0, 0, 0, 0, 0, 0, 0, 0, 0, 0, 0, 0,\n",
       "       0, 0, 0, 0, 0, 0, 0, 0, 0, 0, 0, 0, 0, 0, 0, 0, 0, 0, 0, 0, 0, 0,\n",
       "       0, 0, 0, 0, 0, 0, 0, 0, 0, 0, 0, 0, 0, 0, 0, 0, 0, 0, 0, 0, 0, 0,\n",
       "       0, 0, 0, 0, 0, 0, 0, 0, 0, 0, 0, 0, 0, 0, 0, 0, 0, 0, 0, 0, 0, 0,\n",
       "       0, 0, 0, 0, 0, 0, 0, 0, 0, 0, 0, 0, 0, 0, 0, 0, 0, 0, 0, 0, 0, 0,\n",
       "       0, 0, 0, 0, 0, 0, 0, 0, 0, 0, 0, 0, 0, 0, 0, 0, 0, 0, 0, 0, 0, 0,\n",
       "       0, 0, 0, 0, 0, 0, 0, 0, 0, 0, 0, 0, 0, 0, 0, 0, 0, 0, 0, 0, 0, 0,\n",
       "       0, 0, 0, 0])"
      ]
     },
     "execution_count": 28,
     "metadata": {},
     "output_type": "execute_result"
    }
   ],
   "source": [
    "y_test_classes"
   ]
  },
  {
   "cell_type": "code",
   "execution_count": 29,
   "metadata": {},
   "outputs": [],
   "source": [
    "from sklearn.metrics import confusion_matrix\n",
    "matrix = confusion_matrix(y_pred_classes, y_test_classes)"
   ]
  },
  {
   "cell_type": "code",
   "execution_count": 30,
   "metadata": {},
   "outputs": [
    {
     "name": "stdout",
     "output_type": "stream",
     "text": [
      "[[162  29]\n",
      " [ 38 171]]\n"
     ]
    }
   ],
   "source": [
    "print(matrix)"
   ]
  }
 ],
 "metadata": {
  "kernelspec": {
   "display_name": "Python 3",
   "language": "python",
   "name": "python3"
  },
  "language_info": {
   "codemirror_mode": {
    "name": "ipython",
    "version": 3
   },
   "file_extension": ".py",
   "mimetype": "text/x-python",
   "name": "python",
   "nbconvert_exporter": "python",
   "pygments_lexer": "ipython3",
   "version": "3.7.4"
  }
 },
 "nbformat": 4,
 "nbformat_minor": 4
}
