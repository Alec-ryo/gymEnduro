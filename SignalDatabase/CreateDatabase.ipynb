{
 "cells": [
  {
   "cell_type": "code",
   "execution_count": 1,
   "metadata": {},
   "outputs": [],
   "source": [
    "import pandas as pd\n",
    "import numpy as np\n",
    "import matplotlib.pyplot as plt"
   ]
  },
  {
   "cell_type": "code",
   "execution_count": 2,
   "metadata": {},
   "outputs": [],
   "source": [
    "step = 4\n",
    "N = 1000\n",
    "Tp = 800\n",
    "pi = 3.1415"
   ]
  },
  {
   "cell_type": "code",
   "execution_count": 3,
   "metadata": {},
   "outputs": [],
   "source": [
    "frequencias = [50,100,150,200]\n",
    "qtd_amostras = 100\n",
    "t=np.arange(0,N)\n",
    "\n",
    "f50,f100,f150,f200 = [],[],[],[]\n",
    "\n",
    "f = 50\n",
    "for onda_da_frequencia in range(qtd_amostras):\n",
    "    x=np.sin(2*pi*f*t+np.random.rand(1))    \n",
    "    f50.append(x)\n",
    "\n",
    "f = 100\n",
    "for onda_da_frequencia in range(qtd_amostras):\n",
    "    x=np.sin(2*pi*f*t+np.random.rand(1))    \n",
    "    f100.append(x)\n",
    "  \n",
    "f = 150\n",
    "for onda_da_frequencia in range(qtd_amostras):\n",
    "    x=np.sin(2*pi*f*t+np.random.rand(1))    \n",
    "    f150.append(x)\n",
    "    \n",
    "f = 200\n",
    "for onda_da_frequencia in range(qtd_amostras):\n",
    "    x=np.sin(2*pi*f*t+np.random.rand(1))    \n",
    "    f200.append(x)"
   ]
  },
  {
   "cell_type": "code",
   "execution_count": 4,
   "metadata": {},
   "outputs": [],
   "source": [
    "f50_100 = []\n",
    "\n",
    "qtd_amostras = 100\n",
    "t=np.arange(0,N)\n",
    "\n",
    "f = 50\n",
    "for onda_da_frequencia in range(qtd_amostras):\n",
    "    x=np.sin(2*pi*f*t+np.random.rand(1))    \n",
    "    f50_100.append(x)\n",
    "    \n",
    "f = 100\n",
    "for onda_da_frequencia in range(qtd_amostras):\n",
    "    x=np.sin(2*pi*f*t+np.random.rand(1))    \n",
    "    f50_100.append(x)"
   ]
  },
  {
   "cell_type": "code",
   "execution_count": 8,
   "metadata": {},
   "outputs": [
    {
     "data": {
      "text/plain": [
       "200"
      ]
     },
     "execution_count": 8,
     "metadata": {},
     "output_type": "execute_result"
    }
   ],
   "source": [
    "len(f50_100)"
   ]
  },
  {
   "cell_type": "code",
   "execution_count": 9,
   "metadata": {},
   "outputs": [],
   "source": [
    "np.save(\"f50\", f50)\n",
    "np.save(\"f100\", f100)\n",
    "np.save(\"f150\", f150)\n",
    "np.save(\"f200\", f200)\n",
    "np.save(\"f50_100\", f50_100)"
   ]
  },
  {
   "cell_type": "code",
   "execution_count": null,
   "metadata": {},
   "outputs": [],
   "source": []
  },
  {
   "cell_type": "code",
   "execution_count": 6,
   "metadata": {},
   "outputs": [
    {
     "data": {
      "image/png": "[encoded data removed]",
      "text/plain": [
       "<Figure size 432x288 with 1 Axes>"
      ]
     },
     "metadata": {
      "needs_background": "light"
     },
     "output_type": "display_data"
    }
   ],
   "source": [
    "plt.plot(f50[2])\n",
    "plt.show()"
   ]
  }
 ],
 "metadata": {
  "kernelspec": {
   "display_name": "Python 3",
   "language": "python",
   "name": "python3"
  },
  "language_info": {
   "codemirror_mode": {
    "name": "ipython",
    "version": 3
   },
   "file_extension": ".py",
   "mimetype": "text/x-python",
   "name": "python",
   "nbconvert_exporter": "python",
   "pygments_lexer": "ipython3",
   "version": "3.7.4"
  }
 },
 "nbformat": 4,
 "nbformat_minor": 4
}
