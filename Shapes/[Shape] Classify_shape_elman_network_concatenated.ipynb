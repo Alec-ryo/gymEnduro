{
 "cells": [
  {
   "cell_type": "code",
   "execution_count": 1,
   "metadata": {},
   "outputs": [
    {
     "name": "stderr",
     "output_type": "stream",
     "text": [
      "Using TensorFlow backend.\n"
     ]
    }
   ],
   "source": [
    "import tensorflow\n",
    "import numpy as np\n",
    "from keras.models import Sequential\n",
    "from keras.layers import Dense, Flatten\n",
    "from keras.layers import TimeDistributed\n",
    "from keras.layers import SimpleRNN"
   ]
  },
  {
   "cell_type": "code",
   "execution_count": 2,
   "metadata": {},
   "outputs": [],
   "source": [
    "PNG_PATH = \"/home/ryo/Área de Trabalho/PIBIC/Database/img/\"\n",
    "NPZ_PATH = \"/home/ryo/Área de Trabalho/PIBIC/Database/npz/\""
   ]
  },
  {
   "cell_type": "code",
   "execution_count": 3,
   "metadata": {},
   "outputs": [],
   "source": [
    "circle = np.load(NPZ_PATH + 'bubbles.npz')\n",
    "square = np.load(NPZ_PATH + 'square.npz')"
   ]
  },
  {
   "cell_type": "code",
   "execution_count": 4,
   "metadata": {},
   "outputs": [],
   "source": [
    "circle_images = circle.f.arr_0\n",
    "square_images = square.f.arr_0"
   ]
  },
  {
   "cell_type": "code",
   "execution_count": 5,
   "metadata": {},
   "outputs": [
    {
     "data": {
      "text/plain": [
       "array([[[0., 0., 0., ..., 0., 0., 0.],\n",
       "        [0., 0., 0., ..., 0., 0., 0.],\n",
       "        [0., 0., 0., ..., 0., 0., 0.],\n",
       "        ...,\n",
       "        [0., 0., 0., ..., 0., 0., 0.],\n",
       "        [0., 0., 0., ..., 0., 0., 0.],\n",
       "        [0., 0., 0., ..., 0., 0., 0.]],\n",
       "\n",
       "       [[0., 0., 0., ..., 0., 0., 0.],\n",
       "        [0., 0., 0., ..., 0., 0., 0.],\n",
       "        [0., 0., 0., ..., 0., 0., 0.],\n",
       "        ...,\n",
       "        [0., 0., 0., ..., 0., 0., 0.],\n",
       "        [0., 0., 0., ..., 0., 0., 0.],\n",
       "        [0., 0., 0., ..., 0., 0., 0.]]], dtype=float32)"
      ]
     },
     "execution_count": 5,
     "metadata": {},
     "output_type": "execute_result"
    }
   ],
   "source": [
    "circle_images[:2]"
   ]
  },
  {
   "cell_type": "code",
   "execution_count": 6,
   "metadata": {},
   "outputs": [
    {
     "data": {
      "text/plain": [
       "array([[[0., 0., 0., ..., 0., 0., 0.],\n",
       "        [0., 0., 0., ..., 0., 0., 0.],\n",
       "        [0., 0., 0., ..., 0., 0., 0.],\n",
       "        ...,\n",
       "        [0., 0., 0., ..., 0., 0., 0.],\n",
       "        [0., 0., 0., ..., 0., 0., 0.],\n",
       "        [0., 0., 0., ..., 0., 0., 0.]],\n",
       "\n",
       "       [[0., 0., 0., ..., 0., 0., 0.],\n",
       "        [0., 0., 0., ..., 0., 0., 0.],\n",
       "        [0., 0., 0., ..., 0., 0., 0.],\n",
       "        ...,\n",
       "        [0., 0., 0., ..., 0., 0., 0.],\n",
       "        [0., 0., 0., ..., 0., 0., 0.],\n",
       "        [0., 0., 0., ..., 0., 0., 0.]]], dtype=float32)"
      ]
     },
     "execution_count": 6,
     "metadata": {},
     "output_type": "execute_result"
    }
   ],
   "source": [
    "square_images[:2]"
   ]
  },
  {
   "cell_type": "code",
   "execution_count": 7,
   "metadata": {},
   "outputs": [],
   "source": [
    "train_cir_img = circle_images[:80]\n",
    "train_sqr_img = square_images[:80]\n",
    "test_cir_img = circle_images[80:100]\n",
    "test_sqr_img = square_images[80:100]"
   ]
  },
  {
   "cell_type": "code",
   "execution_count": 8,
   "metadata": {},
   "outputs": [],
   "source": [
    "train_cir_sqr_img = np.concatenate((train_cir_img, train_sqr_img))\n",
    "test_cir_sqr_img = np.concatenate((test_cir_img, test_sqr_img))"
   ]
  },
  {
   "cell_type": "code",
   "execution_count": 9,
   "metadata": {},
   "outputs": [
    {
     "name": "stdout",
     "output_type": "stream",
     "text": [
      "160\n",
      "40\n"
     ]
    }
   ],
   "source": [
    "# o array tem 100 imagens de circulo e 100 de quadrados com formato 50x50\n",
    "print(len(train_cir_sqr_img))\n",
    "print(len(test_cir_sqr_img))"
   ]
  },
  {
   "cell_type": "code",
   "execution_count": 10,
   "metadata": {},
   "outputs": [],
   "source": [
    "train_images_target = []\n",
    "test_images_target = []\n",
    "for i in range(80):\n",
    "    zero_um = (0,1)\n",
    "    train_images_target.append(zero_um)\n",
    "    \n",
    "for i in range(80):\n",
    "    um_zero = (1,0)\n",
    "    train_images_target.append(um_zero)\n",
    "    \n",
    "for i in range(20):\n",
    "    zero_um = (0,1)\n",
    "    test_images_target.append(zero_um)\n",
    "    \n",
    "for i in range(20):\n",
    "    um_zero = (1,0)\n",
    "    test_images_target.append(um_zero)"
   ]
  },
  {
   "cell_type": "code",
   "execution_count": 11,
   "metadata": {},
   "outputs": [],
   "source": [
    "X = np.reshape(train_cir_sqr_img, (160, 50, 50))\n",
    "y = np.array(train_images_target)"
   ]
  },
  {
   "cell_type": "code",
   "execution_count": 43,
   "metadata": {},
   "outputs": [],
   "source": []
  },
  {
   "cell_type": "code",
   "execution_count": 12,
   "metadata": {},
   "outputs": [
    {
     "name": "stdout",
     "output_type": "stream",
     "text": [
      "nro de neurônios na hidden layer: 50\n"
     ]
    }
   ],
   "source": [
    "import math\n",
    "n_input_layer = 2500\n",
    "n_output_layer = 1\n",
    "n_hidden_layer = round(math.sqrt((n_input_layer*n_output_layer)))\n",
    "print(\"nro de neurônios na hidden layer:\", n_hidden_layer)"
   ]
  },
  {
   "cell_type": "code",
   "execution_count": 13,
   "metadata": {},
   "outputs": [],
   "source": [
    "from keras.callbacks import EarlyStopping\n",
    "from matplotlib import pyplot"
   ]
  },
  {
   "cell_type": "code",
   "execution_count": 25,
   "metadata": {},
   "outputs": [
    {
     "name": "stdout",
     "output_type": "stream",
     "text": [
      "Model: \"sequential_5\"\n",
      "_________________________________________________________________\n",
      "Layer (type)                 Output Shape              Param #   \n",
      "=================================================================\n",
      "simple_rnn_5 (SimpleRNN)     (1, 50)                   5050      \n",
      "_________________________________________________________________\n",
      "dense_4 (Dense)              (1, 2)                    102       \n",
      "=================================================================\n",
      "Total params: 5,152\n",
      "Trainable params: 5,152\n",
      "Non-trainable params: 0\n",
      "_________________________________________________________________\n"
     ]
    }
   ],
   "source": [
    "model=Sequential()\n",
    "model.add(SimpleRNN(n_hidden_layer, \n",
    "                    input_shape=(50,50), \n",
    "                    kernel_initializer='random_normal',\n",
    "                    stateful = True,\n",
    "                    batch_size = 1\n",
    "                    ))\n",
    "model.add(Dense(2, activation='sigmoid'))\n",
    "model.compile(loss = 'mse', optimizer = 'rmsprop')\n",
    "model.summary()"
   ]
  },
  {
   "cell_type": "code",
   "execution_count": 21,
   "metadata": {
    "scrolled": true
   },
   "outputs": [
    {
     "name": "stdout",
     "output_type": "stream",
     "text": [
      "Model: \"sequential_4\"\n",
      "_________________________________________________________________\n",
      "Layer (type)                 Output Shape              Param #   \n",
      "=================================================================\n",
      "simple_rnn_4 (SimpleRNN)     (None, 50)                5050      \n",
      "_________________________________________________________________\n",
      "dense_3 (Dense)              (None, 2)                 102       \n",
      "=================================================================\n",
      "Total params: 5,152\n",
      "Trainable params: 5,152\n",
      "Non-trainable params: 0\n",
      "_________________________________________________________________\n"
     ]
    }
   ],
   "source": [
    "'''\n",
    "model=Sequential()\n",
    "model.add(SimpleRNN(n_hidden_layer, \n",
    "                    input_shape=(50,50), \n",
    "                    kernel_initializer='random_normal'))\n",
    "model.add(Dense(2, activation='sigmoid'))\n",
    "# model.compile(loss = 'mse', optimizer = 'rmsprop')\n",
    "model.compile(loss='binary_crossentropy', optimizer='adam', metrics=['accuracy'])\n",
    "model.summary()\n",
    "'''"
   ]
  },
  {
   "cell_type": "code",
   "execution_count": 26,
   "metadata": {
    "scrolled": true
   },
   "outputs": [
    {
     "data": {
      "image/png": "[encoded data removed]",
      "text/plain": [
       "<IPython.core.display.Image object>"
      ]
     },
     "execution_count": 26,
     "metadata": {},
     "output_type": "execute_result"
    }
   ],
   "source": [
    "from keras.utils.vis_utils import plot_model\n",
    "import graphviz\n",
    "from interface import implements, Interface\n",
    "plot_model(model, to_file='model_plot.png', show_shapes=True, show_layer_names=True)"
   ]
  },
  {
   "cell_type": "code",
   "execution_count": 27,
   "metadata": {},
   "outputs": [],
   "source": [
    "# simple early stopping\n",
    "es = EarlyStopping(monitor='val_loss', mode='min', verbose=1)"
   ]
  },
  {
   "cell_type": "code",
   "execution_count": 29,
   "metadata": {},
   "outputs": [
    {
     "name": "stdout",
     "output_type": "stream",
     "text": [
      "Epoch 1/100\n",
      "160/160 [==============================] - 2s 11ms/step - loss: 0.2224\n",
      "Epoch 2/100\n",
      " 15/160 [=>............................] - ETA: 1s - loss: 0.1993"
     ]
    },
    {
     "name": "stderr",
     "output_type": "stream",
     "text": [
      "/home/ryo/miniconda/lib/python3.7/site-packages/keras/callbacks/callbacks.py:846: RuntimeWarning: Early stopping conditioned on metric `val_loss` which is not available. Available metrics are: loss\n",
      "  (self.monitor, ','.join(list(logs.keys()))), RuntimeWarning\n"
     ]
    },
    {
     "name": "stdout",
     "output_type": "stream",
     "text": [
      "160/160 [==============================] - 2s 11ms/step - loss: 0.2063\n",
      "Epoch 3/100\n",
      "160/160 [==============================] - 2s 11ms/step - loss: 0.1541\n",
      "Epoch 4/100\n",
      "160/160 [==============================] - 2s 12ms/step - loss: 0.1027\n",
      "Epoch 5/100\n",
      "160/160 [==============================] - 2s 11ms/step - loss: 0.1033\n",
      "Epoch 6/100\n",
      "160/160 [==============================] - 2s 14ms/step - loss: 0.0718\n",
      "Epoch 7/100\n",
      "160/160 [==============================] - 2s 11ms/step - loss: 0.0678\n",
      "Epoch 8/100\n",
      "160/160 [==============================] - 2s 13ms/step - loss: 0.0527\n",
      "Epoch 9/100\n",
      "160/160 [==============================] - 2s 10ms/step - loss: 0.0688\n",
      "Epoch 10/100\n",
      "160/160 [==============================] - 2s 12ms/step - loss: 0.0489\n",
      "Epoch 11/100\n",
      "160/160 [==============================] - 2s 11ms/step - loss: 0.0459\n",
      "Epoch 12/100\n",
      "160/160 [==============================] - 2s 11ms/step - loss: 0.0370\n",
      "Epoch 13/100\n",
      "160/160 [==============================] - 2s 12ms/step - loss: 0.0270\n",
      "Epoch 14/100\n",
      "160/160 [==============================] - 2s 11ms/step - loss: 0.0341\n",
      "Epoch 15/100\n",
      "160/160 [==============================] - 2s 12ms/step - loss: 0.0379\n",
      "Epoch 16/100\n",
      "160/160 [==============================] - 2s 10ms/step - loss: 0.0162\n",
      "Epoch 17/100\n",
      "160/160 [==============================] - 2s 13ms/step - loss: 0.0443\n",
      "Epoch 18/100\n",
      "160/160 [==============================] - 2s 10ms/step - loss: 0.0240\n",
      "Epoch 19/100\n",
      "160/160 [==============================] - 2s 11ms/step - loss: 0.0243\n",
      "Epoch 20/100\n",
      "160/160 [==============================] - 2s 11ms/step - loss: 0.0199\n",
      "Epoch 21/100\n",
      "160/160 [==============================] - 2s 11ms/step - loss: 0.0147\n",
      "Epoch 22/100\n",
      "160/160 [==============================] - 2s 13ms/step - loss: 0.0176\n",
      "Epoch 23/100\n",
      "160/160 [==============================] - 2s 10ms/step - loss: 0.0382\n",
      "Epoch 24/100\n",
      "160/160 [==============================] - 2s 13ms/step - loss: 0.0345\n",
      "Epoch 25/100\n",
      "160/160 [==============================] - 2s 10ms/step - loss: 0.0047\n",
      "Epoch 26/100\n",
      "160/160 [==============================] - 2s 12ms/step - loss: 0.0023\n",
      "Epoch 27/100\n",
      "160/160 [==============================] - 2s 12ms/step - loss: 0.0216\n",
      "Epoch 28/100\n",
      "160/160 [==============================] - 2s 11ms/step - loss: 0.0144\n",
      "Epoch 29/100\n",
      "160/160 [==============================] - 2s 13ms/step - loss: 0.0093\n",
      "Epoch 30/100\n",
      "160/160 [==============================] - 2s 11ms/step - loss: 0.0090\n",
      "Epoch 31/100\n",
      "160/160 [==============================] - 2s 13ms/step - loss: 0.0113\n",
      "Epoch 32/100\n",
      "160/160 [==============================] - 2s 10ms/step - loss: 0.0123\n",
      "Epoch 33/100\n",
      "160/160 [==============================] - 2s 12ms/step - loss: 0.0134\n",
      "Epoch 34/100\n",
      "160/160 [==============================] - 2s 10ms/step - loss: 6.5863e-05\n",
      "Epoch 35/100\n",
      "160/160 [==============================] - 2s 11ms/step - loss: 0.0097\n",
      "Epoch 36/100\n",
      "160/160 [==============================] - 2s 11ms/step - loss: 0.0109\n",
      "Epoch 37/100\n",
      "160/160 [==============================] - 2s 10ms/step - loss: 0.0121\n",
      "Epoch 38/100\n",
      "160/160 [==============================] - 2s 12ms/step - loss: 0.0083\n",
      "Epoch 39/100\n",
      "160/160 [==============================] - 2s 10ms/step - loss: 0.0128\n",
      "Epoch 40/100\n",
      "160/160 [==============================] - 2s 13ms/step - loss: 0.0063\n",
      "Epoch 41/100\n",
      "160/160 [==============================] - 2s 11ms/step - loss: 0.0265\n",
      "Epoch 42/100\n",
      "160/160 [==============================] - 2s 11ms/step - loss: 1.2697e-05\n",
      "Epoch 43/100\n",
      "160/160 [==============================] - 2s 12ms/step - loss: 0.0062\n",
      "Epoch 44/100\n",
      "160/160 [==============================] - 2s 11ms/step - loss: 0.0064\n",
      "Epoch 45/100\n",
      "160/160 [==============================] - 2s 13ms/step - loss: 0.0127\n",
      "Epoch 46/100\n",
      "160/160 [==============================] - 2s 10ms/step - loss: 0.0081\n",
      "Epoch 47/100\n",
      "160/160 [==============================] - 2s 13ms/step - loss: 4.7478e-05\n",
      "Epoch 48/100\n",
      "160/160 [==============================] - 2s 10ms/step - loss: 7.3700e-05\n",
      "Epoch 49/100\n",
      "160/160 [==============================] - 2s 12ms/step - loss: 0.0124\n",
      "Epoch 50/100\n",
      "160/160 [==============================] - 2s 11ms/step - loss: 0.0285\n",
      "Epoch 51/100\n",
      "160/160 [==============================] - 2s 11ms/step - loss: 9.8114e-04\n",
      "Epoch 52/100\n",
      "160/160 [==============================] - 2s 12ms/step - loss: 5.8533e-05\n",
      "Epoch 53/100\n",
      "160/160 [==============================] - 2s 10ms/step - loss: 3.6569e-08\n",
      "Epoch 54/100\n",
      "160/160 [==============================] - 2s 12ms/step - loss: 0.0533\n",
      "Epoch 55/100\n",
      "160/160 [==============================] - 2s 10ms/step - loss: 3.4784e-05\n",
      "Epoch 56/100\n",
      "160/160 [==============================] - 2s 12ms/step - loss: 1.5350e-04\n",
      "Epoch 57/100\n",
      "160/160 [==============================] - 2s 11ms/step - loss: 0.0110\n",
      "Epoch 58/100\n",
      "160/160 [==============================] - 2s 11ms/step - loss: 1.5586e-05\n",
      "Epoch 59/100\n",
      "160/160 [==============================] - 2s 12ms/step - loss: 0.0443\n",
      "Epoch 60/100\n",
      "160/160 [==============================] - 2s 10ms/step - loss: 9.4058e-04\n",
      "Epoch 61/100\n",
      "160/160 [==============================] - 2s 12ms/step - loss: 0.0049\n",
      "Epoch 62/100\n",
      "160/160 [==============================] - 2s 11ms/step - loss: 0.0059\n",
      "Epoch 63/100\n",
      "160/160 [==============================] - 2s 12ms/step - loss: 4.7172e-07\n",
      "Epoch 64/100\n",
      "160/160 [==============================] - 2s 11ms/step - loss: 0.0150\n",
      "Epoch 65/100\n",
      "160/160 [==============================] - 2s 11ms/step - loss: 0.0063\n",
      "Epoch 66/100\n",
      "160/160 [==============================] - 2s 12ms/step - loss: 9.2978e-07\n",
      "Epoch 67/100\n",
      "160/160 [==============================] - 2s 10ms/step - loss: 3.7519e-09\n",
      "Epoch 68/100\n",
      "160/160 [==============================] - 2s 13ms/step - loss: 5.3968e-10\n",
      "Epoch 69/100\n",
      "160/160 [==============================] - 2s 10ms/step - loss: 0.0015\n",
      "Epoch 70/100\n",
      "160/160 [==============================] - 2s 12ms/step - loss: 3.3432e-09\n",
      "Epoch 71/100\n",
      "160/160 [==============================] - 2s 11ms/step - loss: 0.0106\n",
      "Epoch 72/100\n",
      "160/160 [==============================] - 2s 11ms/step - loss: 0.0062\n",
      "Epoch 73/100\n",
      "160/160 [==============================] - 2s 12ms/step - loss: 4.6469e-08\n",
      "Epoch 74/100\n",
      "160/160 [==============================] - 2s 10ms/step - loss: 1.4451e-09\n",
      "Epoch 75/100\n",
      "160/160 [==============================] - 2s 13ms/step - loss: 6.9587e-10\n",
      "Epoch 76/100\n",
      "160/160 [==============================] - 2s 10ms/step - loss: 3.1234e-10\n",
      "Epoch 77/100\n",
      "160/160 [==============================] - 2s 12ms/step - loss: 1.9722e-10\n",
      "Epoch 78/100\n",
      "160/160 [==============================] - 2s 11ms/step - loss: 1.4965e-10\n",
      "Epoch 79/100\n",
      "160/160 [==============================] - 2s 12ms/step - loss: 1.4987e-10\n",
      "Epoch 80/100\n",
      "160/160 [==============================] - 2s 12ms/step - loss: 1.4984e-10\n",
      "Epoch 81/100\n",
      "160/160 [==============================] - 2s 10ms/step - loss: 1.1839e-10\n",
      "Epoch 82/100\n",
      "160/160 [==============================] - 2s 13ms/step - loss: 1.0045e-10\n",
      "Epoch 83/100\n",
      "160/160 [==============================] - 2s 10ms/step - loss: 1.0789e-10\n",
      "Epoch 84/100\n",
      "160/160 [==============================] - 2s 13ms/step - loss: 1.1582e-10\n",
      "Epoch 85/100\n",
      "160/160 [==============================] - 2s 11ms/step - loss: 9.1515e-11\n",
      "Epoch 86/100\n",
      "160/160 [==============================] - 2s 11ms/step - loss: 7.5981e-11\n",
      "Epoch 87/100\n",
      "160/160 [==============================] - 2s 11ms/step - loss: 1.0736e-10\n",
      "Epoch 88/100\n",
      "160/160 [==============================] - 2s 11ms/step - loss: 7.2837e-11\n",
      "Epoch 89/100\n",
      "160/160 [==============================] - 2s 13ms/step - loss: 6.8737e-11\n",
      "Epoch 90/100\n",
      "160/160 [==============================] - 2s 10ms/step - loss: 6.8619e-11\n",
      "Epoch 91/100\n",
      "160/160 [==============================] - 2s 12ms/step - loss: 6.3743e-11\n",
      "Epoch 92/100\n",
      "160/160 [==============================] - 2s 10ms/step - loss: 7.7712e-11\n",
      "Epoch 93/100\n",
      "160/160 [==============================] - 2s 12ms/step - loss: 6.1692e-11\n",
      "Epoch 94/100\n",
      "160/160 [==============================] - 2s 12ms/step - loss: 7.3011e-11\n",
      "Epoch 95/100\n",
      "160/160 [==============================] - 2s 11ms/step - loss: 5.5281e-11\n",
      "Epoch 96/100\n",
      "160/160 [==============================] - 2s 12ms/step - loss: 5.6154e-11\n",
      "Epoch 97/100\n"
     ]
    },
    {
     "name": "stdout",
     "output_type": "stream",
     "text": [
      "160/160 [==============================] - 2s 10ms/step - loss: 5.1642e-11\n",
      "Epoch 98/100\n",
      "160/160 [==============================] - 2s 12ms/step - loss: 4.9622e-11\n",
      "Epoch 99/100\n",
      "160/160 [==============================] - 2s 10ms/step - loss: 7.9758e-11\n",
      "Epoch 100/100\n",
      "160/160 [==============================] - 2s 11ms/step - loss: 7.5887e-11\n"
     ]
    }
   ],
   "source": [
    "history = model.fit(X, y, epochs = 100, batch_size = 1, callbacks=[es])"
   ]
  },
  {
   "cell_type": "code",
   "execution_count": 41,
   "metadata": {},
   "outputs": [
    {
     "data": {
      "text/plain": [
       "50"
      ]
     },
     "execution_count": 41,
     "metadata": {},
     "output_type": "execute_result"
    }
   ],
   "source": [
    "len(X[0])"
   ]
  },
  {
   "cell_type": "code",
   "execution_count": 30,
   "metadata": {},
   "outputs": [
    {
     "name": "stdout",
     "output_type": "stream",
     "text": [
      "dict_keys(['loss'])\n"
     ]
    }
   ],
   "source": [
    "# list all data in history\n",
    "print(history.history.keys())"
   ]
  },
  {
   "cell_type": "code",
   "execution_count": 32,
   "metadata": {},
   "outputs": [
    {
     "data": {
      "text/plain": [
       "[<matplotlib.lines.Line2D at 0x7f644d50df10>]"
      ]
     },
     "execution_count": 32,
     "metadata": {},
     "output_type": "execute_result"
    },
    {
     "data": {
      "image/png": "[encoded data removed]",
      "text/plain": [
       "<Figure size 432x288 with 1 Axes>"
      ]
     },
     "metadata": {
      "needs_background": "light"
     },
     "output_type": "display_data"
    }
   ],
   "source": [
    "import matplotlib.pyplot as plt\n",
    "# summarize history for accuracy\n",
    "plt.plot(history.history['loss'], label='loss')\n",
    "# plt.plot(history.history['accuracy'], label='accuracy')"
   ]
  },
  {
   "cell_type": "code",
   "execution_count": 33,
   "metadata": {},
   "outputs": [
    {
     "name": "stdout",
     "output_type": "stream",
     "text": [
      "Saved model to disk\n"
     ]
    }
   ],
   "source": [
    "# serialize model to JSON\n",
    "model_json = model.to_json()\n",
    "with open(\"model.json\", \"w\") as json_file:\n",
    "    json_file.write(model_json)\n",
    "# serialize weights to HDF5\n",
    "model.save_weights(\"model.h5\")\n",
    "print(\"Saved model to disk\")"
   ]
  },
  {
   "cell_type": "code",
   "execution_count": 46,
   "metadata": {},
   "outputs": [],
   "source": [
    "test = np.reshape(test_cir_sqr_img, (40, 50, 50))\n",
    "test_target = np.array(test_images_target)"
   ]
  },
  {
   "cell_type": "code",
   "execution_count": 58,
   "metadata": {},
   "outputs": [
    {
     "data": {
      "text/plain": [
       "[(0, 1),\n",
       " (0, 1),\n",
       " (0, 1),\n",
       " (0, 1),\n",
       " (0, 1),\n",
       " (0, 1),\n",
       " (0, 1),\n",
       " (0, 1),\n",
       " (0, 1),\n",
       " (0, 1),\n",
       " (0, 1),\n",
       " (0, 1),\n",
       " (0, 1),\n",
       " (0, 1),\n",
       " (0, 1),\n",
       " (0, 1),\n",
       " (0, 1),\n",
       " (0, 1),\n",
       " (0, 1),\n",
       " (0, 1),\n",
       " (1, 0),\n",
       " (1, 0),\n",
       " (1, 0),\n",
       " (1, 0),\n",
       " (1, 0),\n",
       " (1, 0),\n",
       " (1, 0),\n",
       " (1, 0),\n",
       " (1, 0),\n",
       " (1, 0),\n",
       " (1, 0),\n",
       " (1, 0),\n",
       " (1, 0),\n",
       " (1, 0),\n",
       " (1, 0),\n",
       " (1, 0),\n",
       " (1, 0),\n",
       " (1, 0),\n",
       " (1, 0),\n",
       " (1, 0)]"
      ]
     },
     "execution_count": 58,
     "metadata": {},
     "output_type": "execute_result"
    }
   ],
   "source": [
    "test_images_target"
   ]
  },
  {
   "cell_type": "code",
   "execution_count": 47,
   "metadata": {},
   "outputs": [
    {
     "name": "stdout",
     "output_type": "stream",
     "text": [
      "[6.4162227e-06 9.9999464e-01] expected [0 1]\n",
      "[6.384812e-06 9.999945e-01] expected [0 1]\n",
      "[6.5351900e-04 9.9924064e-01] expected [0 1]\n",
      "[6.1288533e-06 9.9999499e-01] expected [0 1]\n",
      "[6.6176594e-06 9.9998784e-01] expected [0 1]\n",
      "[7.256333e-06 9.999945e-01] expected [0 1]\n",
      "[3.8993767e-06 9.9999642e-01] expected [0 1]\n",
      "[2.4220337e-06 9.9999595e-01] expected [0 1]\n",
      "[5.6772842e-06 9.9999523e-01] expected [0 1]\n",
      "[1.9308070e-05 9.9997103e-01] expected [0 1]\n",
      "[8.6231803e-06 9.9999416e-01] expected [0 1]\n",
      "[5.0582562e-06 9.9999523e-01] expected [0 1]\n",
      "[5.077627e-06 9.999963e-01] expected [0 1]\n",
      "[7.7114428e-06 9.9999404e-01] expected [0 1]\n",
      "[9.729016e-06 9.999918e-01] expected [0 1]\n",
      "[3.3089084e-06 9.9999666e-01] expected [0 1]\n",
      "[1.4875901e-05 9.9998605e-01] expected [0 1]\n",
      "[7.751893e-06 9.999951e-01] expected [0 1]\n",
      "[1.0286129e-05 9.9998498e-01] expected [0 1]\n",
      "[4.6140460e-05 9.9997187e-01] expected [0 1]\n",
      "[9.999931e-01 8.674856e-06] expected [1 0]\n",
      "[9.9999726e-01 3.7054472e-06] expected [1 0]\n",
      "[9.9999440e-01 1.4293027e-05] expected [1 0]\n",
      "[9.9999022e-01 1.3962972e-05] expected [1 0]\n",
      "[9.9999738e-01 3.6138056e-06] expected [1 0]\n",
      "[9.9999535e-01 4.0274590e-06] expected [1 0]\n",
      "[9.999944e-01 6.935815e-06] expected [1 0]\n",
      "[9.9999726e-01 3.7168006e-06] expected [1 0]\n",
      "[9.9999285e-01 6.9991770e-06] expected [1 0]\n",
      "[9.9999607e-01 5.6971130e-06] expected [1 0]\n",
      "[9.9999487e-01 4.2248716e-06] expected [1 0]\n",
      "[9.9999547e-01 6.0228890e-06] expected [1 0]\n",
      "[9.999975e-01 5.444469e-06] expected [1 0]\n",
      "[9.9999535e-01 4.8195393e-06] expected [1 0]\n",
      "[9.9999475e-01 4.1884368e-06] expected [1 0]\n",
      "[9.9999619e-01 5.5032374e-06] expected [1 0]\n",
      "[9.9999774e-01 4.6896662e-06] expected [1 0]\n",
      "[9.9999261e-01 7.1908544e-06] expected [1 0]\n",
      "[9.9999726e-01 4.6349419e-06] expected [1 0]\n",
      "[9.9999547e-01 4.6673576e-06] expected [1 0]\n"
     ]
    }
   ],
   "source": [
    "predictions = model.predict(test_cir_sqr_img, batch_size=1)\n",
    "for i in range(len(test)):\n",
    "    print(predictions[i], 'expected', test_target[i])"
   ]
  },
  {
   "cell_type": "code",
   "execution_count": 48,
   "metadata": {},
   "outputs": [],
   "source": [
    "test_target_arr = np.array(test_target)"
   ]
  },
  {
   "cell_type": "code",
   "execution_count": 57,
   "metadata": {},
   "outputs": [
    {
     "data": {
      "text/plain": [
       "array([[0, 1],\n",
       "       [0, 1],\n",
       "       [0, 1],\n",
       "       [0, 1],\n",
       "       [0, 1],\n",
       "       [0, 1],\n",
       "       [0, 1],\n",
       "       [0, 1],\n",
       "       [0, 1],\n",
       "       [0, 1],\n",
       "       [0, 1],\n",
       "       [0, 1],\n",
       "       [0, 1],\n",
       "       [0, 1],\n",
       "       [0, 1],\n",
       "       [0, 1],\n",
       "       [0, 1],\n",
       "       [0, 1],\n",
       "       [0, 1],\n",
       "       [0, 1],\n",
       "       [1, 0],\n",
       "       [1, 0],\n",
       "       [1, 0],\n",
       "       [1, 0],\n",
       "       [1, 0],\n",
       "       [1, 0],\n",
       "       [1, 0],\n",
       "       [1, 0],\n",
       "       [1, 0],\n",
       "       [1, 0],\n",
       "       [1, 0],\n",
       "       [1, 0],\n",
       "       [1, 0],\n",
       "       [1, 0],\n",
       "       [1, 0],\n",
       "       [1, 0],\n",
       "       [1, 0],\n",
       "       [1, 0],\n",
       "       [1, 0],\n",
       "       [1, 0]])"
      ]
     },
     "execution_count": 57,
     "metadata": {},
     "output_type": "execute_result"
    }
   ],
   "source": [
    "test_target"
   ]
  },
  {
   "cell_type": "code",
   "execution_count": 49,
   "metadata": {},
   "outputs": [],
   "source": [
    "predictions_rounded = np.matrix.round(predictions)"
   ]
  },
  {
   "cell_type": "code",
   "execution_count": 50,
   "metadata": {},
   "outputs": [],
   "source": [
    "y_test_classes = test_target_arr.argmax(1)\n",
    "y_pred_classes = predictions_rounded.argmax(1)"
   ]
  },
  {
   "cell_type": "code",
   "execution_count": 51,
   "metadata": {},
   "outputs": [
    {
     "data": {
      "text/plain": [
       "array([1, 1, 1, 1, 1, 1, 1, 1, 1, 1, 1, 1, 1, 1, 1, 1, 1, 1, 1, 1, 0, 0,\n",
       "       0, 0, 0, 0, 0, 0, 0, 0, 0, 0, 0, 0, 0, 0, 0, 0, 0, 0])"
      ]
     },
     "execution_count": 51,
     "metadata": {},
     "output_type": "execute_result"
    }
   ],
   "source": [
    "y_pred_classes"
   ]
  },
  {
   "cell_type": "code",
   "execution_count": 52,
   "metadata": {},
   "outputs": [
    {
     "data": {
      "text/plain": [
       "array([1, 1, 1, 1, 1, 1, 1, 1, 1, 1, 1, 1, 1, 1, 1, 1, 1, 1, 1, 1, 0, 0,\n",
       "       0, 0, 0, 0, 0, 0, 0, 0, 0, 0, 0, 0, 0, 0, 0, 0, 0, 0])"
      ]
     },
     "execution_count": 52,
     "metadata": {},
     "output_type": "execute_result"
    }
   ],
   "source": [
    "y_test_classes"
   ]
  },
  {
   "cell_type": "code",
   "execution_count": 53,
   "metadata": {},
   "outputs": [],
   "source": [
    "from sklearn.metrics import confusion_matrix\n",
    "matrix = confusion_matrix(y_pred_classes, y_test_classes)"
   ]
  },
  {
   "cell_type": "code",
   "execution_count": 54,
   "metadata": {},
   "outputs": [
    {
     "name": "stdout",
     "output_type": "stream",
     "text": [
      "[[20  0]\n",
      " [ 0 20]]\n"
     ]
    }
   ],
   "source": [
    "print(matrix)"
   ]
  }
 ],
 "metadata": {
  "kernelspec": {
   "display_name": "Python 3",
   "language": "python",
   "name": "python3"
  },
  "language_info": {
   "codemirror_mode": {
    "name": "ipython",
    "version": 3
   },
   "file_extension": ".py",
   "mimetype": "text/x-python",
   "name": "python",
   "nbconvert_exporter": "python",
   "pygments_lexer": "ipython3",
   "version": "3.7.4"
  }
 },
 "nbformat": 4,
 "nbformat_minor": 4
}
