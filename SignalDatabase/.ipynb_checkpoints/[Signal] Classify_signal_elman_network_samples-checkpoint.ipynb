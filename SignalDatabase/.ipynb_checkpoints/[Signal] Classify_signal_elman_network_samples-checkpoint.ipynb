{
 "cells": [
  {
   "cell_type": "code",
   "execution_count": 1,
   "metadata": {},
   "outputs": [
    {
     "name": "stderr",
     "output_type": "stream",
     "text": [
      "Using TensorFlow backend.\n"
     ]
    }
   ],
   "source": [
    "import tensorflow\n",
    "import numpy as np\n",
    "from keras.models import Sequential\n",
    "from keras.layers import Dense, Flatten\n",
    "from keras.layers import TimeDistributed\n",
    "from keras.layers import SimpleRNN"
   ]
  },
  {
   "cell_type": "code",
   "execution_count": 2,
   "metadata": {},
   "outputs": [],
   "source": [
    "f50 = np.load(\"f50.npy\")\n",
    "f100 = np.load(\"f100.npy\")\n",
    "f150 = np.load(\"f150.npy\")\n",
    "f200 = np.load(\"f200.npy\")\n",
    "f50_100 = np.load(\"f50_100.npy\")"
   ]
  },
  {
   "cell_type": "code",
   "execution_count": 3,
   "metadata": {},
   "outputs": [],
   "source": [
    "f50_100_target = []\n",
    "for i in range(100):\n",
    "    zero_um = (0,1)\n",
    "    f50_100_target.append(zero_um)\n",
    "\n",
    "for i in range(100):\n",
    "    um_zero = (1,0)\n",
    "    f50_100_target.append(um_zero)"
   ]
  },
  {
   "cell_type": "code",
   "execution_count": 4,
   "metadata": {},
   "outputs": [],
   "source": [
    "# f50_100_target"
   ]
  },
  {
   "cell_type": "code",
   "execution_count": 5,
   "metadata": {},
   "outputs": [],
   "source": [
    "X = np.reshape(f50_100, (200, 1000, 1))\n",
    "y = np.array(f50_100_target)"
   ]
  },
  {
   "cell_type": "code",
   "execution_count": 6,
   "metadata": {},
   "outputs": [],
   "source": [
    "# y"
   ]
  },
  {
   "cell_type": "code",
   "execution_count": 7,
   "metadata": {},
   "outputs": [
    {
     "name": "stdout",
     "output_type": "stream",
     "text": [
      "nro de neurônios na hidden layer: 32\n"
     ]
    }
   ],
   "source": [
    "import math\n",
    "n_input_layer = 1000\n",
    "n_output_layer = 1\n",
    "n_hidden_layer = round(math.sqrt((n_input_layer*n_output_layer)))\n",
    "print(\"nro de neurônios na hidden layer:\", n_hidden_layer)"
   ]
  },
  {
   "cell_type": "code",
   "execution_count": 8,
   "metadata": {},
   "outputs": [],
   "source": [
    "from keras.callbacks import EarlyStopping\n",
    "from matplotlib import pyplot"
   ]
  },
  {
   "cell_type": "code",
   "execution_count": 9,
   "metadata": {
    "scrolled": true
   },
   "outputs": [
    {
     "name": "stdout",
     "output_type": "stream",
     "text": [
      "Model: \"sequential_1\"\n",
      "_________________________________________________________________\n",
      "Layer (type)                 Output Shape              Param #   \n",
      "=================================================================\n",
      "simple_rnn_1 (SimpleRNN)     (None, 32)                1088      \n",
      "_________________________________________________________________\n",
      "dense_1 (Dense)              (None, 2)                 66        \n",
      "=================================================================\n",
      "Total params: 1,154\n",
      "Trainable params: 1,154\n",
      "Non-trainable params: 0\n",
      "_________________________________________________________________\n"
     ]
    }
   ],
   "source": [
    "model=Sequential()\n",
    "model.add(SimpleRNN(n_hidden_layer, \n",
    "                    input_shape=(1000,1), \n",
    "                    kernel_initializer='random_normal'))\n",
    "model.add(Dense(2, activation='sigmoid'))\n",
    "# model.compile(loss = 'mse', optimizer = 'rmsprop')\n",
    "model.compile(loss='binary_crossentropy', optimizer='adam', metrics=['accuracy'])\n",
    "model.summary()"
   ]
  },
  {
   "cell_type": "code",
   "execution_count": 10,
   "metadata": {
    "scrolled": true
   },
   "outputs": [
    {
     "data": {
      "image/png": "[encoded data removed]",
      "text/plain": [
       "<IPython.core.display.Image object>"
      ]
     },
     "execution_count": 10,
     "metadata": {},
     "output_type": "execute_result"
    }
   ],
   "source": [
    "from keras.utils.vis_utils import plot_model\n",
    "import graphviz\n",
    "from interface import implements, Interface\n",
    "plot_model(model, to_file='model_plot.png', show_shapes=True, show_layer_names=True)"
   ]
  },
  {
   "cell_type": "code",
   "execution_count": 11,
   "metadata": {},
   "outputs": [],
   "source": [
    "# simple early stopping\n",
    "es = EarlyStopping(monitor='val_loss', mode='min', verbose=1)"
   ]
  },
  {
   "cell_type": "code",
   "execution_count": 12,
   "metadata": {},
   "outputs": [
    {
     "name": "stdout",
     "output_type": "stream",
     "text": [
      "Epoch 1/20\n",
      "200/200 [==============================] - 2s 9ms/step - loss: 0.5005 - accuracy: 1.0000\n",
      "Epoch 2/20\n",
      " 32/200 [===>..........................] - ETA: 0s - loss: 0.4005 - accuracy: 1.0000"
     ]
    },
    {
     "name": "stderr",
     "output_type": "stream",
     "text": [
      "/home/ryo/miniconda/lib/python3.7/site-packages/keras/callbacks/callbacks.py:846: RuntimeWarning: Early stopping conditioned on metric `val_loss` which is not available. Available metrics are: loss,accuracy\n",
      "  (self.monitor, ','.join(list(logs.keys()))), RuntimeWarning\n"
     ]
    },
    {
     "name": "stdout",
     "output_type": "stream",
     "text": [
      "200/200 [==============================] - 2s 8ms/step - loss: 0.3745 - accuracy: 0.9950\n",
      "Epoch 3/20\n",
      "200/200 [==============================] - 1s 7ms/step - loss: 0.3077 - accuracy: 1.0000\n",
      "Epoch 4/20\n",
      "200/200 [==============================] - 1s 6ms/step - loss: 0.2426 - accuracy: 1.0000\n",
      "Epoch 5/20\n",
      "200/200 [==============================] - 1s 6ms/step - loss: 0.1862 - accuracy: 1.0000\n",
      "Epoch 6/20\n",
      "200/200 [==============================] - 1s 6ms/step - loss: 0.1495 - accuracy: 1.0000\n",
      "Epoch 7/20\n",
      "200/200 [==============================] - 1s 6ms/step - loss: 0.1181 - accuracy: 1.0000\n",
      "Epoch 8/20\n",
      "200/200 [==============================] - 1s 6ms/step - loss: 0.1969 - accuracy: 0.9500\n",
      "Epoch 9/20\n",
      "200/200 [==============================] - 1s 6ms/step - loss: 0.0804 - accuracy: 1.0000\n",
      "Epoch 10/20\n",
      "200/200 [==============================] - 1s 6ms/step - loss: 0.0681 - accuracy: 1.0000\n",
      "Epoch 11/20\n",
      "200/200 [==============================] - 1s 5ms/step - loss: 0.0569 - accuracy: 1.0000\n",
      "Epoch 12/20\n",
      "200/200 [==============================] - 1s 5ms/step - loss: 0.0490 - accuracy: 1.0000\n",
      "Epoch 13/20\n",
      "200/200 [==============================] - 1s 5ms/step - loss: 0.0421 - accuracy: 1.0000\n",
      "Epoch 14/20\n",
      "200/200 [==============================] - 1s 6ms/step - loss: 0.0433 - accuracy: 1.0000\n",
      "Epoch 15/20\n",
      "200/200 [==============================] - 1s 5ms/step - loss: 0.0801 - accuracy: 0.9900\n",
      "Epoch 16/20\n",
      "200/200 [==============================] - 1s 5ms/step - loss: 0.1090 - accuracy: 0.9900\n",
      "Epoch 17/20\n",
      "200/200 [==============================] - 1s 5ms/step - loss: 0.0655 - accuracy: 1.0000\n",
      "Epoch 18/20\n",
      "200/200 [==============================] - 1s 5ms/step - loss: 0.0530 - accuracy: 1.0000\n",
      "Epoch 19/20\n",
      "200/200 [==============================] - 1s 5ms/step - loss: 0.0458 - accuracy: 1.0000\n",
      "Epoch 20/20\n",
      "200/200 [==============================] - 1s 5ms/step - loss: 0.0408 - accuracy: 1.0000\n"
     ]
    }
   ],
   "source": [
    "history = model.fit(X, y, epochs = 20, batch_size = 32, callbacks=[es])"
   ]
  },
  {
   "cell_type": "code",
   "execution_count": 13,
   "metadata": {},
   "outputs": [
    {
     "name": "stdout",
     "output_type": "stream",
     "text": [
      "dict_keys(['loss', 'accuracy'])\n"
     ]
    }
   ],
   "source": [
    "# list all data in history\n",
    "print(history.history.keys())"
   ]
  },
  {
   "cell_type": "code",
   "execution_count": 14,
   "metadata": {},
   "outputs": [
    {
     "data": {
      "text/plain": [
       "[<matplotlib.lines.Line2D at 0x7fc9c86faad0>]"
      ]
     },
     "execution_count": 14,
     "metadata": {},
     "output_type": "execute_result"
    },
    {
     "data": {
      "image/png": "[encoded data removed]",
      "text/plain": [
       "<Figure size 432x288 with 1 Axes>"
      ]
     },
     "metadata": {
      "needs_background": "light"
     },
     "output_type": "display_data"
    }
   ],
   "source": [
    "import matplotlib.pyplot as plt\n",
    "# summarize history for accuracy\n",
    "plt.plot(history.history['loss'], label='train')\n",
    "plt.plot(history.history['accuracy'], label='test')"
   ]
  },
  {
   "cell_type": "code",
   "execution_count": 15,
   "metadata": {},
   "outputs": [
    {
     "name": "stdout",
     "output_type": "stream",
     "text": [
      "Saved model to disk\n"
     ]
    }
   ],
   "source": [
    "# serialize model to JSON\n",
    "model_json = model.to_json()\n",
    "with open(\"model.json\", \"w\") as json_file:\n",
    "    json_file.write(model_json)\n",
    "# serialize weights to HDF5\n",
    "model.save_weights(\"model.h5\")\n",
    "print(\"Saved model to disk\")"
   ]
  },
  {
   "cell_type": "code",
   "execution_count": 16,
   "metadata": {},
   "outputs": [],
   "source": [
    "pi = 3.1415\n",
    "N = 1000\n",
    "t = np.arange(0,N)\n",
    "f = 100"
   ]
  },
  {
   "cell_type": "code",
   "execution_count": 17,
   "metadata": {},
   "outputs": [],
   "source": [
    "qtd_amostras = 20\n",
    "test = []\n",
    "test_target = []\n",
    "\n",
    "f = 50\n",
    "for onda_da_frequencia in range(qtd_amostras):\n",
    "    x=np.sin(2*pi*f*t+np.random.rand(1)) \n",
    "    test_target.append(zero_um)\n",
    "    test.append(x)\n",
    "    \n",
    "f = 100\n",
    "for onda_da_frequencia in range(qtd_amostras):\n",
    "    x=np.sin(2*pi*f*t+np.random.rand(1))    \n",
    "    test_target.append(um_zero)\n",
    "    test.append(x)\n",
    "    \n",
    "test = np.reshape(test, (40, 1000, 1))"
   ]
  },
  {
   "cell_type": "code",
   "execution_count": 18,
   "metadata": {},
   "outputs": [
    {
     "name": "stdout",
     "output_type": "stream",
     "text": [
      "[0.02025321 0.96071213] expected (0, 1)\n",
      "[0.02468045 0.95272505] expected (0, 1)\n",
      "[0.02225621 0.95702606] expected (0, 1)\n",
      "[0.02015446 0.96089745] expected (0, 1)\n",
      "[0.02855043 0.94615126] expected (0, 1)\n",
      "[0.02089934 0.9595084 ] expected (0, 1)\n",
      "[0.02386178 0.95416   ] expected (0, 1)\n",
      "[0.02436209 0.95328104] expected (0, 1)\n",
      "[0.02029942 0.9606256 ] expected (0, 1)\n",
      "[0.02252821 0.9565354 ] expected (0, 1)\n",
      "[0.02804923 0.9469849 ] expected (0, 1)\n",
      "[0.0274141 0.9480485] expected (0, 1)\n",
      "[0.02394219 0.9540181 ] expected (0, 1)\n",
      "[0.0201301 0.9609433] expected (0, 1)\n",
      "[0.0208337  0.95962995] expected (0, 1)\n",
      "[0.02331194 0.9551334 ] expected (0, 1)\n",
      "[0.03399362 0.93738115] expected (0, 1)\n",
      "[0.02906777 0.9452957 ] expected (0, 1)\n",
      "[0.02338428 0.9550049 ] expected (0, 1)\n",
      "[0.02877179 0.94578457] expected (0, 1)\n",
      "[0.96796966 0.05753423] expected (1, 0)\n",
      "[0.9696388  0.05493619] expected (1, 0)\n",
      "[0.97623   0.0442101] expected (1, 0)\n",
      "[0.97158617 0.05185105] expected (1, 0)\n",
      "[0.9760429  0.04452763] expected (1, 0)\n",
      "[0.9727294  0.05001024] expected (1, 0)\n",
      "[0.9760321  0.04454613] expected (1, 0)\n",
      "[0.97433555 0.04738237] expected (1, 0)\n",
      "[0.97663736 0.04351366] expected (1, 0)\n",
      "[0.9722741  0.05074612] expected (1, 0)\n",
      "[0.96074617 0.06836445] expected (1, 0)\n",
      "[0.9690517 0.0558546] expected (1, 0)\n",
      "[0.9689237  0.05605424] expected (1, 0)\n",
      "[0.97549987 0.04544348] expected (1, 0)\n",
      "[0.9680002  0.05748717] expected (1, 0)\n",
      "[0.97488266 0.04647511] expected (1, 0)\n",
      "[0.97631764 0.04406096] expected (1, 0)\n",
      "[0.9634768  0.06434234] expected (1, 0)\n",
      "[0.9766385  0.04351183] expected (1, 0)\n",
      "[0.9760192  0.04456775] expected (1, 0)\n"
     ]
    }
   ],
   "source": [
    "predictions = model.predict(test)\n",
    "for i in range(len(test)):\n",
    "    print(predictions[i], 'expected', test_target[i])"
   ]
  },
  {
   "cell_type": "code",
   "execution_count": 19,
   "metadata": {},
   "outputs": [],
   "source": [
    "test_target_arr = np.array(test_target)"
   ]
  },
  {
   "cell_type": "code",
   "execution_count": 20,
   "metadata": {},
   "outputs": [],
   "source": [
    "predictions_rounded = np.matrix.round(predictions)"
   ]
  },
  {
   "cell_type": "code",
   "execution_count": 21,
   "metadata": {},
   "outputs": [],
   "source": [
    "y_test_classes = test_target_arr.argmax(1)\n",
    "y_pred_classes = predictions_rounded.argmax(1)"
   ]
  },
  {
   "cell_type": "code",
   "execution_count": 22,
   "metadata": {},
   "outputs": [
    {
     "data": {
      "text/plain": [
       "array([1, 1, 1, 1, 1, 1, 1, 1, 1, 1, 1, 1, 1, 1, 1, 1, 1, 1, 1, 1, 0, 0,\n",
       "       0, 0, 0, 0, 0, 0, 0, 0, 0, 0, 0, 0, 0, 0, 0, 0, 0, 0])"
      ]
     },
     "execution_count": 22,
     "metadata": {},
     "output_type": "execute_result"
    }
   ],
   "source": [
    "y_pred_classes"
   ]
  },
  {
   "cell_type": "code",
   "execution_count": 23,
   "metadata": {},
   "outputs": [
    {
     "data": {
      "text/plain": [
       "array([1, 1, 1, 1, 1, 1, 1, 1, 1, 1, 1, 1, 1, 1, 1, 1, 1, 1, 1, 1, 0, 0,\n",
       "       0, 0, 0, 0, 0, 0, 0, 0, 0, 0, 0, 0, 0, 0, 0, 0, 0, 0])"
      ]
     },
     "execution_count": 23,
     "metadata": {},
     "output_type": "execute_result"
    }
   ],
   "source": [
    "y_test_classes"
   ]
  },
  {
   "cell_type": "code",
   "execution_count": 24,
   "metadata": {},
   "outputs": [],
   "source": [
    "from sklearn.metrics import confusion_matrix\n",
    "matrix = confusion_matrix(y_pred_classes, y_test_classes)"
   ]
  },
  {
   "cell_type": "code",
   "execution_count": 25,
   "metadata": {},
   "outputs": [
    {
     "name": "stdout",
     "output_type": "stream",
     "text": [
      "[[20  0]\n",
      " [ 0 20]]\n"
     ]
    }
   ],
   "source": [
    "print(matrix)"
   ]
  }
 ],
 "metadata": {
  "kernelspec": {
   "display_name": "Python 3",
   "language": "python",
   "name": "python3"
  },
  "language_info": {
   "codemirror_mode": {
    "name": "ipython",
    "version": 3
   },
   "file_extension": ".py",
   "mimetype": "text/x-python",
   "name": "python",
   "nbconvert_exporter": "python",
   "pygments_lexer": "ipython3",
   "version": "3.7.4"
  }
 },
 "nbformat": 4,
 "nbformat_minor": 4
}
