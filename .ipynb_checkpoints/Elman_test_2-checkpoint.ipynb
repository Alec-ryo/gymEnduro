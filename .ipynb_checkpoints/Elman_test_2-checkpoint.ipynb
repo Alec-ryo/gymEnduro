{
 "cells": [
  {
   "cell_type": "code",
   "execution_count": 20,
   "metadata": {},
   "outputs": [],
   "source": [
    "import numpy as np\n",
    "import pandas as pd\n",
    "import matplotlib.pyplot as plt\n",
    "%matplotlib inline\n",
    "from statsmodels.tools.eval_measures import rmse\n",
    "from sklearn.preprocessing import MinMaxScaler\n",
    "from keras.preprocessing.sequence import TimeseriesGenerator\n",
    "from keras.models import Sequential\n",
    "from keras.layers import Dense\n",
    "from keras.layers import TimeDistributed\n",
    "from keras.layers import SimpleRNN\n",
    "import warnings\n",
    "warnings.filterwarnings(\"ignore\")\n",
    "\n",
    "df = pd.read_csv('AirPassengers.csv')"
   ]
  },
  {
   "cell_type": "code",
   "execution_count": 21,
   "metadata": {},
   "outputs": [],
   "source": [
    "df.Month = pd.to_datetime(df.Month)\n",
    "df = df.set_index(\"Month\")"
   ]
  },
  {
   "cell_type": "code",
   "execution_count": 22,
   "metadata": {},
   "outputs": [],
   "source": [
    "train, test = df[:-12], df[-12:]"
   ]
  },
  {
   "cell_type": "code",
   "execution_count": 23,
   "metadata": {},
   "outputs": [],
   "source": [
    "scaler = MinMaxScaler()\n",
    "scaler.fit(train)\n",
    "train = scaler.transform(train)\n",
    "test = scaler.transform(test)"
   ]
  },
  {
   "cell_type": "code",
   "execution_count": 24,
   "metadata": {},
   "outputs": [],
   "source": [
    "n_input = 12\n",
    "n_features = 1\n",
    "generator = TimeseriesGenerator(train, train, length=n_input, batch_size=6)"
   ]
  },
  {
   "cell_type": "code",
   "execution_count": 25,
   "metadata": {},
   "outputs": [],
   "source": [
    "model = Sequential()\n",
    "model.add(LSTM(200, activation='relu', input_shape=(n_input, n_features)))\n",
    "model.add(Dropout(0.15))\n",
    "model.add(Dense(1))\n",
    "model.compile(optimizer='adam', loss='mse')"
   ]
  },
  {
   "cell_type": "code",
   "execution_count": 7,
   "metadata": {
    "scrolled": false
   },
   "outputs": [
    {
     "name": "stdout",
     "output_type": "stream",
     "text": [
      "Epoch 1/90\n",
      "20/20 [==============================] - 1s 36ms/step - loss: 0.0570\n",
      "Epoch 2/90\n",
      "20/20 [==============================] - 0s 13ms/step - loss: 0.0158\n",
      "Epoch 3/90\n",
      "20/20 [==============================] - 0s 14ms/step - loss: 0.0127\n",
      "Epoch 4/90\n",
      "20/20 [==============================] - 0s 13ms/step - loss: 0.0113\n",
      "Epoch 5/90\n",
      "20/20 [==============================] - 0s 13ms/step - loss: 0.0123\n",
      "Epoch 6/90\n",
      "20/20 [==============================] - 0s 14ms/step - loss: 0.0122\n",
      "Epoch 7/90\n",
      "20/20 [==============================] - 0s 13ms/step - loss: 0.0120\n",
      "Epoch 8/90\n",
      "20/20 [==============================] - 0s 13ms/step - loss: 0.0121\n",
      "Epoch 9/90\n",
      "20/20 [==============================] - 0s 13ms/step - loss: 0.0132\n",
      "Epoch 10/90\n",
      "20/20 [==============================] - 0s 14ms/step - loss: 0.0099\n",
      "Epoch 11/90\n",
      "20/20 [==============================] - 0s 14ms/step - loss: 0.0084\n",
      "Epoch 12/90\n",
      "20/20 [==============================] - 0s 13ms/step - loss: 0.0108\n",
      "Epoch 13/90\n",
      "20/20 [==============================] - 0s 14ms/step - loss: 0.0107\n",
      "Epoch 14/90\n",
      "20/20 [==============================] - 0s 15ms/step - loss: 0.0085\n",
      "Epoch 15/90\n",
      "20/20 [==============================] - 0s 13ms/step - loss: 0.0081\n",
      "Epoch 16/90\n",
      "20/20 [==============================] - 0s 14ms/step - loss: 0.0067\n",
      "Epoch 17/90\n",
      "20/20 [==============================] - 0s 13ms/step - loss: 0.0119\n",
      "Epoch 18/90\n",
      "20/20 [==============================] - 0s 13ms/step - loss: 0.0092\n",
      "Epoch 19/90\n",
      "20/20 [==============================] - 0s 13ms/step - loss: 0.0082\n",
      "Epoch 20/90\n",
      "20/20 [==============================] - 0s 14ms/step - loss: 0.0085\n",
      "Epoch 21/90\n",
      "20/20 [==============================] - 0s 15ms/step - loss: 0.0093\n",
      "Epoch 22/90\n",
      "20/20 [==============================] - 0s 14ms/step - loss: 0.0060\n",
      "Epoch 23/90\n",
      "20/20 [==============================] - 0s 13ms/step - loss: 0.0059\n",
      "Epoch 24/90\n",
      "20/20 [==============================] - 0s 13ms/step - loss: 0.0038\n",
      "Epoch 25/90\n",
      "20/20 [==============================] - 0s 13ms/step - loss: 0.0046\n",
      "Epoch 26/90\n",
      "20/20 [==============================] - 0s 13ms/step - loss: 0.0069\n",
      "Epoch 27/90\n",
      "20/20 [==============================] - 0s 14ms/step - loss: 0.0048\n",
      "Epoch 28/90\n",
      "20/20 [==============================] - 0s 14ms/step - loss: 0.0061\n",
      "Epoch 29/90\n",
      "20/20 [==============================] - 0s 13ms/step - loss: 0.0188\n",
      "Epoch 30/90\n",
      "20/20 [==============================] - 0s 13ms/step - loss: 0.0095\n",
      "Epoch 31/90\n",
      "20/20 [==============================] - 0s 14ms/step - loss: 0.0059\n",
      "Epoch 32/90\n",
      "20/20 [==============================] - 0s 13ms/step - loss: 0.0061\n",
      "Epoch 33/90\n",
      "20/20 [==============================] - 0s 13ms/step - loss: 0.0043\n",
      "Epoch 34/90\n",
      "20/20 [==============================] - 0s 13ms/step - loss: 0.0048\n",
      "Epoch 35/90\n",
      "20/20 [==============================] - 0s 14ms/step - loss: 0.0056\n",
      "Epoch 36/90\n",
      "20/20 [==============================] - 0s 13ms/step - loss: 0.0055\n",
      "Epoch 37/90\n",
      "20/20 [==============================] - 0s 13ms/step - loss: 0.0032\n",
      "Epoch 38/90\n",
      "20/20 [==============================] - 0s 14ms/step - loss: 0.0038\n",
      "Epoch 39/90\n",
      "20/20 [==============================] - 0s 13ms/step - loss: 0.0036\n",
      "Epoch 40/90\n",
      "20/20 [==============================] - 0s 13ms/step - loss: 0.0040\n",
      "Epoch 41/90\n",
      "20/20 [==============================] - 0s 14ms/step - loss: 0.0032\n",
      "Epoch 42/90\n",
      "20/20 [==============================] - 0s 13ms/step - loss: 0.0037\n",
      "Epoch 43/90\n",
      "20/20 [==============================] - 0s 13ms/step - loss: 0.0044\n",
      "Epoch 44/90\n",
      "20/20 [==============================] - 0s 14ms/step - loss: 0.0028\n",
      "Epoch 45/90\n",
      "20/20 [==============================] - 0s 13ms/step - loss: 0.0034\n",
      "Epoch 46/90\n",
      "20/20 [==============================] - 0s 15ms/step - loss: 0.0089\n",
      "Epoch 47/90\n",
      "20/20 [==============================] - 0s 14ms/step - loss: 0.0032\n",
      "Epoch 48/90\n",
      "20/20 [==============================] - 0s 15ms/step - loss: 0.0031\n",
      "Epoch 49/90\n",
      "20/20 [==============================] - 0s 13ms/step - loss: 0.0031\n",
      "Epoch 50/90\n",
      "20/20 [==============================] - 0s 14ms/step - loss: 0.0018\n",
      "Epoch 51/90\n",
      "20/20 [==============================] - 0s 16ms/step - loss: 0.0021\n",
      "Epoch 52/90\n",
      "20/20 [==============================] - 0s 16ms/step - loss: 0.0026\n",
      "Epoch 53/90\n",
      "20/20 [==============================] - 0s 16ms/step - loss: 0.0036\n",
      "Epoch 54/90\n",
      "20/20 [==============================] - 0s 16ms/step - loss: 0.0030\n",
      "Epoch 55/90\n",
      "20/20 [==============================] - 0s 16ms/step - loss: 0.0052\n",
      "Epoch 56/90\n",
      "20/20 [==============================] - 0s 15ms/step - loss: 0.0044\n",
      "Epoch 57/90\n",
      "20/20 [==============================] - 0s 14ms/step - loss: 0.0033\n",
      "Epoch 58/90\n",
      "20/20 [==============================] - 0s 13ms/step - loss: 0.0026\n",
      "Epoch 59/90\n",
      "20/20 [==============================] - 0s 15ms/step - loss: 0.0039\n",
      "Epoch 60/90\n",
      "20/20 [==============================] - 0s 14ms/step - loss: 0.0035\n",
      "Epoch 61/90\n",
      "20/20 [==============================] - 1s 28ms/step - loss: 0.0026\n",
      "Epoch 62/90\n",
      "20/20 [==============================] - 0s 15ms/step - loss: 0.0024\n",
      "Epoch 63/90\n",
      "20/20 [==============================] - 0s 17ms/step - loss: 0.0032\n",
      "Epoch 64/90\n",
      "20/20 [==============================] - 0s 13ms/step - loss: 0.0023\n",
      "Epoch 65/90\n",
      "20/20 [==============================] - 0s 15ms/step - loss: 0.0030\n",
      "Epoch 66/90\n",
      "20/20 [==============================] - 0s 14ms/step - loss: 0.0026\n",
      "Epoch 67/90\n",
      "20/20 [==============================] - 0s 19ms/step - loss: 0.0023\n",
      "Epoch 68/90\n",
      "20/20 [==============================] - 0s 20ms/step - loss: 0.0026\n",
      "Epoch 69/90\n",
      "20/20 [==============================] - 0s 18ms/step - loss: 0.0018\n",
      "Epoch 70/90\n",
      "20/20 [==============================] - 0s 18ms/step - loss: 0.0023\n",
      "Epoch 71/90\n",
      "20/20 [==============================] - 0s 19ms/step - loss: 0.0021\n",
      "Epoch 72/90\n",
      "20/20 [==============================] - 0s 18ms/step - loss: 0.0034\n",
      "Epoch 73/90\n",
      "20/20 [==============================] - 0s 18ms/step - loss: 0.0022\n",
      "Epoch 74/90\n",
      "20/20 [==============================] - 0s 18ms/step - loss: 0.0018\n",
      "Epoch 75/90\n",
      "20/20 [==============================] - 0s 18ms/step - loss: 0.0026\n",
      "Epoch 76/90\n",
      "20/20 [==============================] - 0s 18ms/step - loss: 0.0034\n",
      "Epoch 77/90\n",
      "20/20 [==============================] - 0s 19ms/step - loss: 0.0027\n",
      "Epoch 78/90\n",
      "20/20 [==============================] - 0s 14ms/step - loss: 0.0031\n",
      "Epoch 79/90\n",
      "20/20 [==============================] - 0s 14ms/step - loss: 0.0020\n",
      "Epoch 80/90\n",
      "20/20 [==============================] - 0s 13ms/step - loss: 0.0020\n",
      "Epoch 81/90\n",
      "20/20 [==============================] - 0s 14ms/step - loss: 0.0031\n",
      "Epoch 82/90\n",
      "20/20 [==============================] - 0s 13ms/step - loss: 0.0041\n",
      "Epoch 83/90\n",
      "20/20 [==============================] - 0s 14ms/step - loss: 0.0026\n",
      "Epoch 84/90\n",
      "20/20 [==============================] - 0s 14ms/step - loss: 0.0018\n",
      "Epoch 85/90\n",
      "20/20 [==============================] - 0s 14ms/step - loss: 0.0017\n",
      "Epoch 86/90\n",
      "20/20 [==============================] - 0s 13ms/step - loss: 0.0032\n",
      "Epoch 87/90\n",
      "20/20 [==============================] - 0s 14ms/step - loss: 0.0024\n",
      "Epoch 88/90\n",
      "20/20 [==============================] - 0s 14ms/step - loss: 0.0020\n",
      "Epoch 89/90\n",
      "20/20 [==============================] - 0s 13ms/step - loss: 0.0029\n",
      "Epoch 90/90\n",
      "20/20 [==============================] - 0s 14ms/step - loss: 0.0020\n"
     ]
    },
    {
     "data": {
      "text/plain": [
       "<keras.callbacks.callbacks.History at 0x7f0d205eea50>"
      ]
     },
     "execution_count": 7,
     "metadata": {},
     "output_type": "execute_result"
    }
   ],
   "source": [
    "model.fit_generator(generator,epochs=90)"
   ]
  },
  {
   "cell_type": "code",
   "execution_count": 8,
   "metadata": {},
   "outputs": [],
   "source": [
    "pred_list = []\n",
    "\n",
    "batch = train[-n_input:].reshape((1, n_input, n_features))\n",
    "\n",
    "for i in range(n_input):   \n",
    "    pred_list.append(model.predict(batch)[0]) \n",
    "    batch = np.append(batch[:,1:,:],[[pred_list[i]]],axis=1)"
   ]
  },
  {
   "cell_type": "code",
   "execution_count": 9,
   "metadata": {},
   "outputs": [],
   "source": [
    "df_predict = pd.DataFrame(scaler.inverse_transform(pred_list),\n",
    "                          index=df[-n_input:].index, columns=['Prediction'])\n",
    "\n",
    "df_test = pd.concat([df,df_predict], axis=1)"
   ]
  },
  {
   "cell_type": "code",
   "execution_count": 10,
   "metadata": {},
   "outputs": [
    {
     "name": "stderr",
     "output_type": "stream",
     "text": [
      "No handles with labels found to put in legend.\n"
     ]
    },
    {
     "data": {
      "image/png": "[encoded data removed]",
      "text/plain": [
       "<Figure size 1440x360 with 1 Axes>"
      ]
     },
     "metadata": {
      "needs_background": "light"
     },
     "output_type": "display_data"
    }
   ],
   "source": [
    "plt.figure(figsize=(20, 5))\n",
    "plt.plot(df_test.index, df_test['AirPassengers'])\n",
    "plt.plot(df_test.index, df_test['Prediction'], color='r')\n",
    "plt.legend(loc='best', fontsize='xx-large')\n",
    "plt.xticks(fontsize=18)\n",
    "plt.yticks(fontsize=16)\n",
    "plt.show()"
   ]
  },
  {
   "cell_type": "code",
   "execution_count": 11,
   "metadata": {},
   "outputs": [
    {
     "name": "stdout",
     "output_type": "stream",
     "text": [
      "rmse:  [22.61152011]\n"
     ]
    }
   ],
   "source": [
    "pred_actual_rmse = rmse(df_test.iloc[-n_input:, [0]], df_test.iloc[-n_input:, [1]])\n",
    "print(\"rmse: \", pred_actual_rmse)"
   ]
  },
  {
   "cell_type": "code",
   "execution_count": 12,
   "metadata": {},
   "outputs": [],
   "source": [
    "train = df"
   ]
  },
  {
   "cell_type": "code",
   "execution_count": 13,
   "metadata": {},
   "outputs": [],
   "source": [
    "scaler.fit(train)\n",
    "train = scaler.transform(train)"
   ]
  },
  {
   "cell_type": "code",
   "execution_count": 14,
   "metadata": {},
   "outputs": [],
   "source": [
    "n_input = 12\n",
    "n_features = 1\n",
    "generator = TimeseriesGenerator(train, train, length=n_input, batch_size=6)"
   ]
  },
  {
   "cell_type": "code",
   "execution_count": 15,
   "metadata": {},
   "outputs": [
    {
     "name": "stdout",
     "output_type": "stream",
     "text": [
      "Epoch 1/90\n",
      "22/22 [==============================] - 0s 13ms/step - loss: 0.0025\n",
      "Epoch 2/90\n",
      "22/22 [==============================] - 0s 13ms/step - loss: 0.0020\n",
      "Epoch 3/90\n",
      "22/22 [==============================] - 0s 13ms/step - loss: 0.0018\n",
      "Epoch 4/90\n",
      "22/22 [==============================] - 0s 13ms/step - loss: 0.0019\n",
      "Epoch 5/90\n",
      "22/22 [==============================] - 0s 13ms/step - loss: 0.0021\n",
      "Epoch 6/90\n",
      "22/22 [==============================] - 0s 13ms/step - loss: 0.0014\n",
      "Epoch 7/90\n",
      "22/22 [==============================] - 0s 13ms/step - loss: 0.0014\n",
      "Epoch 8/90\n",
      "22/22 [==============================] - 0s 13ms/step - loss: 0.0022\n",
      "Epoch 9/90\n",
      "22/22 [==============================] - 0s 13ms/step - loss: 0.0025\n",
      "Epoch 10/90\n",
      "22/22 [==============================] - 0s 13ms/step - loss: 0.0027\n",
      "Epoch 11/90\n",
      "22/22 [==============================] - 0s 13ms/step - loss: 0.0025\n",
      "Epoch 12/90\n",
      "22/22 [==============================] - 0s 13ms/step - loss: 0.0015\n",
      "Epoch 13/90\n",
      "22/22 [==============================] - 0s 13ms/step - loss: 0.0013\n",
      "Epoch 14/90\n",
      "22/22 [==============================] - 0s 14ms/step - loss: 0.0015\n",
      "Epoch 15/90\n",
      "22/22 [==============================] - 0s 15ms/step - loss: 0.0035\n",
      "Epoch 16/90\n",
      "22/22 [==============================] - 0s 15ms/step - loss: 0.0023\n",
      "Epoch 17/90\n",
      "22/22 [==============================] - 0s 20ms/step - loss: 0.0022\n",
      "Epoch 18/90\n",
      "22/22 [==============================] - 0s 15ms/step - loss: 0.0026\n",
      "Epoch 19/90\n",
      "22/22 [==============================] - 0s 14ms/step - loss: 0.0030\n",
      "Epoch 20/90\n",
      "22/22 [==============================] - 0s 15ms/step - loss: 0.0020\n",
      "Epoch 21/90\n",
      "22/22 [==============================] - 0s 13ms/step - loss: 0.0018\n",
      "Epoch 22/90\n",
      "22/22 [==============================] - 0s 14ms/step - loss: 0.0015\n",
      "Epoch 23/90\n",
      "22/22 [==============================] - 0s 14ms/step - loss: 0.0016\n",
      "Epoch 24/90\n",
      "22/22 [==============================] - 0s 13ms/step - loss: 0.0013\n",
      "Epoch 25/90\n",
      "22/22 [==============================] - 0s 13ms/step - loss: 0.0018\n",
      "Epoch 26/90\n",
      "22/22 [==============================] - 0s 15ms/step - loss: 0.0022\n",
      "Epoch 27/90\n",
      "22/22 [==============================] - 0s 18ms/step - loss: 0.0020\n",
      "Epoch 28/90\n",
      "22/22 [==============================] - 0s 17ms/step - loss: 0.0020\n",
      "Epoch 29/90\n",
      "22/22 [==============================] - 0s 17ms/step - loss: 0.0015\n",
      "Epoch 30/90\n",
      "22/22 [==============================] - 0s 17ms/step - loss: 0.0017\n",
      "Epoch 31/90\n",
      "22/22 [==============================] - 0s 18ms/step - loss: 0.0012\n",
      "Epoch 32/90\n",
      "22/22 [==============================] - 0s 18ms/step - loss: 0.0022\n",
      "Epoch 33/90\n",
      "22/22 [==============================] - 0s 18ms/step - loss: 0.0015\n",
      "Epoch 34/90\n",
      "22/22 [==============================] - 0s 19ms/step - loss: 0.0018\n",
      "Epoch 35/90\n",
      "22/22 [==============================] - 0s 17ms/step - loss: 0.0019\n",
      "Epoch 36/90\n",
      "22/22 [==============================] - 0s 18ms/step - loss: 0.0015\n",
      "Epoch 37/90\n",
      "22/22 [==============================] - 0s 17ms/step - loss: 0.0020\n",
      "Epoch 38/90\n",
      "22/22 [==============================] - 0s 18ms/step - loss: 0.0022\n",
      "Epoch 39/90\n",
      "22/22 [==============================] - 0s 18ms/step - loss: 0.0015\n",
      "Epoch 40/90\n",
      "22/22 [==============================] - 0s 15ms/step - loss: 0.0022\n",
      "Epoch 41/90\n",
      "22/22 [==============================] - 0s 20ms/step - loss: 0.0023\n",
      "Epoch 42/90\n",
      "22/22 [==============================] - 0s 15ms/step - loss: 0.0018\n",
      "Epoch 43/90\n",
      "22/22 [==============================] - 0s 16ms/step - loss: 0.0013\n",
      "Epoch 44/90\n",
      "22/22 [==============================] - 0s 19ms/step - loss: 0.0017\n",
      "Epoch 45/90\n",
      "22/22 [==============================] - 0s 18ms/step - loss: 0.0021\n",
      "Epoch 46/90\n",
      "22/22 [==============================] - 0s 19ms/step - loss: 0.0018\n",
      "Epoch 47/90\n",
      "22/22 [==============================] - 0s 16ms/step - loss: 0.0028\n",
      "Epoch 48/90\n",
      "22/22 [==============================] - 0s 16ms/step - loss: 0.0023\n",
      "Epoch 49/90\n",
      "22/22 [==============================] - 0s 23ms/step - loss: 0.0018\n",
      "Epoch 50/90\n",
      "22/22 [==============================] - 0s 16ms/step - loss: 0.0037\n",
      "Epoch 51/90\n",
      "22/22 [==============================] - 0s 16ms/step - loss: 0.0016\n",
      "Epoch 52/90\n",
      "22/22 [==============================] - 0s 15ms/step - loss: 0.0014\n",
      "Epoch 53/90\n",
      "22/22 [==============================] - 0s 18ms/step - loss: 0.0012\n",
      "Epoch 54/90\n",
      "22/22 [==============================] - 0s 18ms/step - loss: 0.0015\n",
      "Epoch 55/90\n",
      "22/22 [==============================] - 0s 17ms/step - loss: 0.0015\n",
      "Epoch 56/90\n",
      "22/22 [==============================] - 0s 15ms/step - loss: 0.0020\n",
      "Epoch 57/90\n",
      "22/22 [==============================] - 0s 17ms/step - loss: 0.0025\n",
      "Epoch 58/90\n",
      "22/22 [==============================] - 0s 16ms/step - loss: 0.0019\n",
      "Epoch 59/90\n",
      "22/22 [==============================] - 0s 17ms/step - loss: 0.0014\n",
      "Epoch 60/90\n",
      "22/22 [==============================] - 0s 18ms/step - loss: 0.0019\n",
      "Epoch 61/90\n",
      "22/22 [==============================] - 0s 18ms/step - loss: 0.0020\n",
      "Epoch 62/90\n",
      "22/22 [==============================] - 0s 18ms/step - loss: 0.0032\n",
      "Epoch 63/90\n",
      "22/22 [==============================] - 0s 15ms/step - loss: 0.0022\n",
      "Epoch 64/90\n",
      "22/22 [==============================] - 0s 19ms/step - loss: 0.0017\n",
      "Epoch 65/90\n",
      "22/22 [==============================] - 0s 17ms/step - loss: 0.0020\n",
      "Epoch 66/90\n",
      "22/22 [==============================] - 0s 19ms/step - loss: 0.0017\n",
      "Epoch 67/90\n",
      "22/22 [==============================] - 0s 17ms/step - loss: 0.0016\n",
      "Epoch 68/90\n",
      "22/22 [==============================] - 0s 17ms/step - loss: 0.0017\n",
      "Epoch 69/90\n",
      "22/22 [==============================] - 0s 18ms/step - loss: 0.0016\n",
      "Epoch 70/90\n",
      "22/22 [==============================] - 0s 17ms/step - loss: 0.0032\n",
      "Epoch 71/90\n",
      "22/22 [==============================] - 0s 17ms/step - loss: 0.0025\n",
      "Epoch 72/90\n",
      "22/22 [==============================] - 0s 17ms/step - loss: 0.0032\n",
      "Epoch 73/90\n",
      "22/22 [==============================] - 0s 17ms/step - loss: 0.0044\n",
      "Epoch 74/90\n",
      "22/22 [==============================] - 0s 18ms/step - loss: 0.0020\n",
      "Epoch 75/90\n",
      "22/22 [==============================] - 0s 15ms/step - loss: 0.0015\n",
      "Epoch 76/90\n",
      "22/22 [==============================] - 0s 18ms/step - loss: 0.0015\n",
      "Epoch 77/90\n",
      "22/22 [==============================] - 0s 18ms/step - loss: 0.0020\n",
      "Epoch 78/90\n",
      "22/22 [==============================] - 0s 17ms/step - loss: 0.0026\n",
      "Epoch 79/90\n",
      "22/22 [==============================] - 0s 17ms/step - loss: 0.0031\n",
      "Epoch 80/90\n",
      "22/22 [==============================] - 0s 17ms/step - loss: 0.0026\n",
      "Epoch 81/90\n",
      "22/22 [==============================] - 0s 15ms/step - loss: 0.0016\n",
      "Epoch 82/90\n",
      "22/22 [==============================] - 0s 17ms/step - loss: 0.0016\n",
      "Epoch 83/90\n",
      "22/22 [==============================] - 0s 18ms/step - loss: 0.0016\n",
      "Epoch 84/90\n",
      "22/22 [==============================] - 0s 19ms/step - loss: 0.0017\n",
      "Epoch 85/90\n",
      "22/22 [==============================] - 0s 18ms/step - loss: 0.0016\n",
      "Epoch 86/90\n",
      "22/22 [==============================] - 0s 17ms/step - loss: 0.0020\n",
      "Epoch 87/90\n",
      "22/22 [==============================] - 0s 18ms/step - loss: 0.0018\n",
      "Epoch 88/90\n",
      "22/22 [==============================] - 0s 16ms/step - loss: 0.0015\n",
      "Epoch 89/90\n",
      "22/22 [==============================] - 0s 16ms/step - loss: 0.0015\n",
      "Epoch 90/90\n",
      "22/22 [==============================] - 0s 18ms/step - loss: 0.0013\n"
     ]
    },
    {
     "data": {
      "text/plain": [
       "<keras.callbacks.callbacks.History at 0x7f0c80116ad0>"
      ]
     },
     "execution_count": 15,
     "metadata": {},
     "output_type": "execute_result"
    }
   ],
   "source": [
    "model.fit_generator(generator,epochs=90)"
   ]
  },
  {
   "cell_type": "code",
   "execution_count": 16,
   "metadata": {},
   "outputs": [],
   "source": [
    "pred_list = []\n",
    "\n",
    "batch = train[-n_input:].reshape((1, n_input, n_features))\n",
    "\n",
    "for i in range(n_input):   \n",
    "    pred_list.append(model.predict(batch)[0]) \n",
    "    batch = np.append(batch[:,1:,:],[[pred_list[i]]],axis=1)"
   ]
  },
  {
   "cell_type": "code",
   "execution_count": 17,
   "metadata": {},
   "outputs": [],
   "source": [
    "from pandas.tseries.offsets import DateOffset\n",
    "add_dates = [df.index[-1] + DateOffset(months=x) for x in range(0,13) ]\n",
    "future_dates = pd.DataFrame(index=add_dates[1:],columns=df.columns)"
   ]
  },
  {
   "cell_type": "code",
   "execution_count": 18,
   "metadata": {},
   "outputs": [],
   "source": [
    "df_predict = pd.DataFrame(scaler.inverse_transform(pred_list),\n",
    "                          index=future_dates[-n_input:].index, columns=['Prediction'])\n",
    "\n",
    "df_proj = pd.concat([df,df_predict], axis=1)"
   ]
  },
  {
   "cell_type": "code",
   "execution_count": 19,
   "metadata": {},
   "outputs": [
    {
     "name": "stderr",
     "output_type": "stream",
     "text": [
      "No handles with labels found to put in legend.\n"
     ]
    },
    {
     "data": {
      "image/png": "[encoded data removed]",
      "text/plain": [
       "<Figure size 1440x360 with 1 Axes>"
      ]
     },
     "metadata": {
      "needs_background": "light"
     },
     "output_type": "display_data"
    }
   ],
   "source": [
    "plt.figure(figsize=(20, 5))\n",
    "plt.plot(df_proj.index, df_proj['AirPassengers'])\n",
    "plt.plot(df_proj.index, df_proj['Prediction'], color='r')\n",
    "plt.legend(loc='best', fontsize='xx-large')\n",
    "plt.xticks(fontsize=18)\n",
    "plt.yticks(fontsize=16)\n",
    "plt.show()"
   ]
  }
 ],
 "metadata": {
  "kernelspec": {
   "display_name": "Python 3",
   "language": "python",
   "name": "python3"
  },
  "language_info": {
   "codemirror_mode": {
    "name": "ipython",
    "version": 3
   },
   "file_extension": ".py",
   "mimetype": "text/x-python",
   "name": "python",
   "nbconvert_exporter": "python",
   "pygments_lexer": "ipython3",
   "version": "3.7.4"
  }
 },
 "nbformat": 4,
 "nbformat_minor": 2
}
