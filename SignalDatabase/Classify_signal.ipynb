{
 "cells": [
  {
   "cell_type": "code",
   "execution_count": 1,
   "metadata": {},
   "outputs": [],
   "source": [
    "import pandas as pd\n",
    "import numpy as np\n",
    "import matplotlib.pyplot as plt\n",
    "from tensorflow.keras.models import Sequential\n",
    "from tensorflow.keras.layers import Dense, SimpleRNN"
   ]
  },
  {
   "cell_type": "code",
   "execution_count": 2,
   "metadata": {},
   "outputs": [],
   "source": [
    "f50 = np.load(\"f50.npy\")\n",
    "f100 = np.load(\"f100.npy\")\n",
    "f150 = np.load(\"f150.npy\")\n",
    "f200 = np.load(\"f200.npy\")\n",
    "f50_100 = np.load(\"f50_100.npy\")"
   ]
  },
  {
   "cell_type": "code",
   "execution_count": 3,
   "metadata": {},
   "outputs": [
    {
     "data": {
      "text/plain": [
       "200"
      ]
     },
     "execution_count": 3,
     "metadata": {},
     "output_type": "execute_result"
    }
   ],
   "source": [
    "len(f50_100)"
   ]
  },
  {
   "cell_type": "code",
   "execution_count": 4,
   "metadata": {},
   "outputs": [],
   "source": [
    "f50_target, f100_target = [],[]\n",
    "for i in range(100):\n",
    "    f50_target.append(0)\n",
    "    f100_target.append(1)"
   ]
  },
  {
   "cell_type": "code",
   "execution_count": 5,
   "metadata": {},
   "outputs": [],
   "source": [
    "f50_100_target = []\n",
    "for i in range(100):\n",
    "    f50_100_target.append(0)\n",
    "\n",
    "for i in range(100):\n",
    "    f50_100_target.append(1)"
   ]
  },
  {
   "cell_type": "code",
   "execution_count": 6,
   "metadata": {},
   "outputs": [
    {
     "data": {
      "text/plain": [
       "[1, 1, 1, 1, 1, 1, 1, 1, 1, 1, 1, 1, 1, 1, 1, 1, 1, 1, 1, 1]"
      ]
     },
     "execution_count": 6,
     "metadata": {},
     "output_type": "execute_result"
    }
   ],
   "source": [
    "f50_100_target[100:120]"
   ]
  },
  {
   "cell_type": "code",
   "execution_count": 7,
   "metadata": {},
   "outputs": [],
   "source": [
    "X = np.reshape(f50_100, (200, 1000, 1))\n",
    "y = np.array(f50_100_target)"
   ]
  },
  {
   "cell_type": "code",
   "execution_count": 8,
   "metadata": {},
   "outputs": [
    {
     "data": {
      "text/plain": [
       "[0, 0, 0, 0, 0, 0, 0, 0, 0, 0, 0, 0, 0, 0, 0, 0, 0, 0, 0, 0]"
      ]
     },
     "execution_count": 8,
     "metadata": {},
     "output_type": "execute_result"
    }
   ],
   "source": [
    "f50_target[:20]"
   ]
  },
  {
   "cell_type": "code",
   "execution_count": 9,
   "metadata": {},
   "outputs": [
    {
     "data": {
      "text/plain": [
       "[1, 1, 1, 1, 1, 1, 1, 1, 1, 1, 1, 1, 1, 1, 1, 1, 1, 1, 1, 1]"
      ]
     },
     "execution_count": 9,
     "metadata": {},
     "output_type": "execute_result"
    }
   ],
   "source": [
    "f100_target[:20]"
   ]
  },
  {
   "cell_type": "code",
   "execution_count": 10,
   "metadata": {},
   "outputs": [
    {
     "name": "stdout",
     "output_type": "stream",
     "text": [
      "Model: \"sequential\"\n",
      "_________________________________________________________________\n",
      "Layer (type)                 Output Shape              Param #   \n",
      "=================================================================\n",
      "simple_rnn (SimpleRNN)       (None, 32)                1088      \n",
      "_________________________________________________________________\n",
      "dense (Dense)                (None, 8)                 264       \n",
      "_________________________________________________________________\n",
      "dense_1 (Dense)              (None, 1)                 9         \n",
      "=================================================================\n",
      "Total params: 1,361\n",
      "Trainable params: 1,361\n",
      "Non-trainable params: 0\n",
      "_________________________________________________________________\n"
     ]
    }
   ],
   "source": [
    "model = Sequential()\n",
    "model.add(SimpleRNN(units=32, input_shape=(1000,1), activation=\"relu\"))\n",
    "model.add(Dense(8, activation=\"relu\")) \n",
    "model.add(Dense(1))\n",
    "model.compile(loss='mean_squared_error', optimizer='rmsprop')\n",
    "model.summary()"
   ]
  },
  {
   "cell_type": "code",
   "execution_count": 11,
   "metadata": {},
   "outputs": [
    {
     "name": "stdout",
     "output_type": "stream",
     "text": [
      "Train on 200 samples\n",
      "Epoch 1/100\n",
      "200/200 - 4s - loss: 0.4312\n",
      "Epoch 2/100\n",
      "200/200 - 3s - loss: 0.1402\n",
      "Epoch 3/100\n",
      "200/200 - 3s - loss: 0.0135\n",
      "Epoch 4/100\n",
      "200/200 - 2s - loss: 0.0131\n",
      "Epoch 5/100\n",
      "200/200 - 2s - loss: 0.0134\n",
      "Epoch 6/100\n",
      "200/200 - 2s - loss: 0.0102\n",
      "Epoch 7/100\n",
      "200/200 - 2s - loss: 0.0117\n",
      "Epoch 8/100\n",
      "200/200 - 2s - loss: 0.0113\n",
      "Epoch 9/100\n",
      "200/200 - 2s - loss: 0.0095\n",
      "Epoch 10/100\n",
      "200/200 - 2s - loss: 0.0086\n",
      "Epoch 11/100\n",
      "200/200 - 2s - loss: 0.0080\n",
      "Epoch 12/100\n",
      "200/200 - 3s - loss: 0.0082\n",
      "Epoch 13/100\n",
      "200/200 - 3s - loss: 0.0063\n",
      "Epoch 14/100\n",
      "200/200 - 3s - loss: 0.0066\n",
      "Epoch 15/100\n",
      "200/200 - 3s - loss: 0.0064\n",
      "Epoch 16/100\n",
      "200/200 - 2s - loss: 0.0049\n",
      "Epoch 17/100\n",
      "200/200 - 3s - loss: 0.0058\n",
      "Epoch 18/100\n",
      "200/200 - 2s - loss: 0.0046\n",
      "Epoch 19/100\n",
      "200/200 - 2s - loss: 0.0049\n",
      "Epoch 20/100\n",
      "200/200 - 2s - loss: 0.0042\n",
      "Epoch 21/100\n",
      "200/200 - 2s - loss: 0.0033\n",
      "Epoch 22/100\n",
      "200/200 - 2s - loss: 0.0030\n",
      "Epoch 23/100\n",
      "200/200 - 2s - loss: 0.0034\n",
      "Epoch 24/100\n",
      "200/200 - 2s - loss: 0.0030\n",
      "Epoch 25/100\n",
      "200/200 - 2s - loss: 0.0028\n",
      "Epoch 26/100\n",
      "200/200 - 2s - loss: 0.0022\n",
      "Epoch 27/100\n",
      "200/200 - 2s - loss: 0.0024\n",
      "Epoch 28/100\n",
      "200/200 - 2s - loss: 0.0023\n",
      "Epoch 29/100\n",
      "200/200 - 2s - loss: 0.0020\n",
      "Epoch 30/100\n",
      "200/200 - 2s - loss: 0.0025\n",
      "Epoch 31/100\n",
      "200/200 - 2s - loss: 0.0020\n",
      "Epoch 32/100\n",
      "200/200 - 2s - loss: 0.0012\n",
      "Epoch 33/100\n",
      "200/200 - 2s - loss: 0.0019\n",
      "Epoch 34/100\n",
      "200/200 - 2s - loss: 0.0012\n",
      "Epoch 35/100\n",
      "200/200 - 2s - loss: 0.0017\n",
      "Epoch 36/100\n",
      "200/200 - 2s - loss: 6.3850e-04\n",
      "Epoch 37/100\n",
      "200/200 - 2s - loss: 0.0017\n",
      "Epoch 38/100\n",
      "200/200 - 2s - loss: 0.0013\n",
      "Epoch 39/100\n",
      "200/200 - 2s - loss: 6.4807e-04\n",
      "Epoch 40/100\n",
      "200/200 - 2s - loss: 0.0012\n",
      "Epoch 41/100\n",
      "200/200 - 2s - loss: 0.0011\n",
      "Epoch 42/100\n",
      "200/200 - 2s - loss: 8.9764e-04\n",
      "Epoch 43/100\n",
      "200/200 - 2s - loss: 9.9086e-04\n",
      "Epoch 44/100\n",
      "200/200 - 3s - loss: 2.5845e-04\n",
      "Epoch 45/100\n",
      "200/200 - 2s - loss: 0.0010\n",
      "Epoch 46/100\n",
      "200/200 - 2s - loss: 7.8468e-04\n",
      "Epoch 47/100\n",
      "200/200 - 2s - loss: 7.3401e-04\n",
      "Epoch 48/100\n",
      "200/200 - 2s - loss: 8.3784e-04\n",
      "Epoch 49/100\n",
      "200/200 - 2s - loss: 3.8923e-04\n",
      "Epoch 50/100\n",
      "200/200 - 2s - loss: 0.0011\n",
      "Epoch 51/100\n",
      "200/200 - 2s - loss: 1.9649e-04\n",
      "Epoch 52/100\n",
      "200/200 - 2s - loss: 9.6542e-04\n",
      "Epoch 53/100\n",
      "200/200 - 2s - loss: 4.5465e-04\n",
      "Epoch 54/100\n",
      "200/200 - 2s - loss: 9.0163e-04\n",
      "Epoch 55/100\n",
      "200/200 - 2s - loss: 6.2534e-04\n",
      "Epoch 56/100\n",
      "200/200 - 2s - loss: 6.3828e-04\n",
      "Epoch 57/100\n",
      "200/200 - 2s - loss: 4.0116e-04\n",
      "Epoch 58/100\n",
      "200/200 - 2s - loss: 7.8819e-04\n",
      "Epoch 59/100\n",
      "200/200 - 2s - loss: 4.3614e-04\n",
      "Epoch 60/100\n",
      "200/200 - 2s - loss: 7.1784e-04\n",
      "Epoch 61/100\n",
      "200/200 - 2s - loss: 1.9539e-04\n",
      "Epoch 62/100\n",
      "200/200 - 2s - loss: 4.9755e-04\n",
      "Epoch 63/100\n",
      "200/200 - 2s - loss: 7.8975e-04\n",
      "Epoch 64/100\n",
      "200/200 - 3s - loss: 6.5399e-04\n",
      "Epoch 65/100\n",
      "200/200 - 3s - loss: 2.3062e-04\n",
      "Epoch 66/100\n",
      "200/200 - 3s - loss: 4.1894e-04\n",
      "Epoch 67/100\n",
      "200/200 - 3s - loss: 5.4821e-04\n",
      "Epoch 68/100\n",
      "200/200 - 2s - loss: 3.7684e-04\n",
      "Epoch 69/100\n",
      "200/200 - 2s - loss: 7.3909e-04\n",
      "Epoch 70/100\n",
      "200/200 - 2s - loss: 2.9423e-04\n",
      "Epoch 71/100\n",
      "200/200 - 3s - loss: 5.3259e-04\n",
      "Epoch 72/100\n",
      "200/200 - 3s - loss: 4.4237e-04\n",
      "Epoch 73/100\n",
      "200/200 - 3s - loss: 5.6493e-04\n",
      "Epoch 74/100\n",
      "200/200 - 3s - loss: 3.7156e-04\n",
      "Epoch 75/100\n",
      "200/200 - 3s - loss: 7.3846e-04\n",
      "Epoch 76/100\n",
      "200/200 - 2s - loss: 2.1856e-04\n",
      "Epoch 77/100\n",
      "200/200 - 2s - loss: 3.2563e-04\n",
      "Epoch 78/100\n",
      "200/200 - 2s - loss: 6.9590e-04\n",
      "Epoch 79/100\n",
      "200/200 - 2s - loss: 4.7865e-04\n",
      "Epoch 80/100\n",
      "200/200 - 2s - loss: 1.0652e-04\n",
      "Epoch 81/100\n",
      "200/200 - 2s - loss: 4.1895e-04\n",
      "Epoch 82/100\n",
      "200/200 - 2s - loss: 5.0415e-04\n",
      "Epoch 83/100\n",
      "200/200 - 2s - loss: 6.6321e-04\n",
      "Epoch 84/100\n",
      "200/200 - 2s - loss: 6.3132e-05\n",
      "Epoch 85/100\n",
      "200/200 - 2s - loss: 6.6841e-04\n",
      "Epoch 86/100\n",
      "200/200 - 2s - loss: 6.6964e-05\n",
      "Epoch 87/100\n",
      "200/200 - 2s - loss: 3.8971e-04\n",
      "Epoch 88/100\n",
      "200/200 - 2s - loss: 5.2577e-04\n",
      "Epoch 89/100\n",
      "200/200 - 2s - loss: 2.2129e-04\n",
      "Epoch 90/100\n",
      "200/200 - 2s - loss: 6.2058e-04\n",
      "Epoch 91/100\n",
      "200/200 - 2s - loss: 3.7815e-05\n",
      "Epoch 92/100\n",
      "200/200 - 3s - loss: 3.5300e-04\n",
      "Epoch 93/100\n",
      "200/200 - 2s - loss: 3.7173e-04\n",
      "Epoch 94/100\n",
      "200/200 - 3s - loss: 3.2296e-04\n",
      "Epoch 95/100\n",
      "200/200 - 2s - loss: 3.5958e-04\n",
      "Epoch 96/100\n",
      "200/200 - 2s - loss: 3.4942e-04\n",
      "Epoch 97/100\n",
      "200/200 - 2s - loss: 2.3076e-04\n",
      "Epoch 98/100\n",
      "200/200 - 2s - loss: 4.0781e-04\n",
      "Epoch 99/100\n",
      "200/200 - 2s - loss: 3.0402e-04\n",
      "Epoch 100/100\n",
      "200/200 - 2s - loss: 3.8717e-04\n"
     ]
    },
    {
     "data": {
      "text/plain": [
       "<tensorflow.python.keras.callbacks.History at 0x7f83701a0390>"
      ]
     },
     "execution_count": 11,
     "metadata": {},
     "output_type": "execute_result"
    }
   ],
   "source": [
    "model.fit(X, y, epochs=100, batch_size=16, verbose=2)"
   ]
  },
  {
   "cell_type": "code",
   "execution_count": 22,
   "metadata": {},
   "outputs": [],
   "source": [
    "pi = 3.1415\n",
    "N = 1000\n",
    "t = np.arange(0,N)\n",
    "f = 100\n",
    "x = np.sin(2*pi*f*t)   \n",
    "x = np.reshape(x, (1, 1000, 1))"
   ]
  },
  {
   "cell_type": "code",
   "execution_count": 23,
   "metadata": {},
   "outputs": [],
   "source": [
    "predictions = model.predict_classes(x)"
   ]
  },
  {
   "cell_type": "code",
   "execution_count": 24,
   "metadata": {},
   "outputs": [
    {
     "data": {
      "text/plain": [
       "array([[1]], dtype=int32)"
      ]
     },
     "execution_count": 24,
     "metadata": {},
     "output_type": "execute_result"
    }
   ],
   "source": [
    "predictions"
   ]
  }
 ],
 "metadata": {
  "kernelspec": {
   "display_name": "Python 3",
   "language": "python",
   "name": "python3"
  },
  "language_info": {
   "codemirror_mode": {
    "name": "ipython",
    "version": 3
   },
   "file_extension": ".py",
   "mimetype": "text/x-python",
   "name": "python",
   "nbconvert_exporter": "python",
   "pygments_lexer": "ipython3",
   "version": "3.7.4"
  }
 },
 "nbformat": 4,
 "nbformat_minor": 4
}
