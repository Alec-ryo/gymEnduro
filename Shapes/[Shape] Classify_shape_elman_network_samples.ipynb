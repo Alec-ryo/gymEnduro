{
 "cells": [
  {
   "cell_type": "code",
   "execution_count": 1,
   "metadata": {},
   "outputs": [
    {
     "name": "stderr",
     "output_type": "stream",
     "text": [
      "Using TensorFlow backend.\n"
     ]
    }
   ],
   "source": [
    "import tensorflow\n",
    "import numpy as np\n",
    "from keras.models import Sequential\n",
    "from keras.layers import Dense, Flatten\n",
    "from keras.layers import TimeDistributed\n",
    "from keras.layers import SimpleRNN"
   ]
  },
  {
   "cell_type": "code",
   "execution_count": 2,
   "metadata": {},
   "outputs": [],
   "source": [
    "PNG_PATH = \"/home/ryo/Área de Trabalho/PIBIC/Database/img/\"\n",
    "NPZ_PATH = \"/home/ryo/Área de Trabalho/PIBIC/Database/npz/\""
   ]
  },
  {
   "cell_type": "code",
   "execution_count": 3,
   "metadata": {},
   "outputs": [],
   "source": [
    "circle = np.load(NPZ_PATH + 'circular_mov.npz')\n",
    "square = np.load(NPZ_PATH + 'square_mov.npz')"
   ]
  },
  {
   "cell_type": "code",
   "execution_count": 4,
   "metadata": {},
   "outputs": [],
   "source": [
    "circle_images = circle.f.arr_0\n",
    "square_images = square.f.arr_0"
   ]
  },
  {
   "cell_type": "code",
   "execution_count": 5,
   "metadata": {},
   "outputs": [
    {
     "data": {
      "text/plain": [
       "array([[[0., 0., 0., ..., 0., 0., 0.],\n",
       "        [0., 0., 0., ..., 0., 0., 0.],\n",
       "        [0., 0., 0., ..., 0., 0., 0.],\n",
       "        ...,\n",
       "        [0., 0., 0., ..., 0., 0., 0.],\n",
       "        [0., 0., 0., ..., 0., 0., 0.],\n",
       "        [0., 0., 0., ..., 0., 0., 0.]],\n",
       "\n",
       "       [[0., 0., 0., ..., 0., 0., 0.],\n",
       "        [0., 0., 0., ..., 0., 0., 0.],\n",
       "        [0., 0., 0., ..., 0., 0., 0.],\n",
       "        ...,\n",
       "        [0., 0., 0., ..., 0., 0., 0.],\n",
       "        [0., 0., 0., ..., 0., 0., 0.],\n",
       "        [0., 0., 0., ..., 0., 0., 0.]]], dtype=float32)"
      ]
     },
     "execution_count": 5,
     "metadata": {},
     "output_type": "execute_result"
    }
   ],
   "source": [
    "circle_images[:2]"
   ]
  },
  {
   "cell_type": "code",
   "execution_count": 6,
   "metadata": {},
   "outputs": [
    {
     "data": {
      "text/plain": [
       "array([[[0., 0., 0., ..., 0., 0., 0.],\n",
       "        [0., 0., 0., ..., 0., 0., 0.],\n",
       "        [0., 0., 0., ..., 0., 0., 0.],\n",
       "        ...,\n",
       "        [0., 0., 0., ..., 0., 0., 0.],\n",
       "        [0., 0., 0., ..., 0., 0., 0.],\n",
       "        [0., 0., 0., ..., 0., 0., 0.]],\n",
       "\n",
       "       [[0., 0., 0., ..., 0., 0., 0.],\n",
       "        [0., 0., 0., ..., 0., 0., 0.],\n",
       "        [0., 0., 0., ..., 0., 0., 0.],\n",
       "        ...,\n",
       "        [0., 0., 0., ..., 0., 0., 0.],\n",
       "        [0., 0., 0., ..., 0., 0., 0.],\n",
       "        [0., 0., 0., ..., 0., 0., 0.]]], dtype=float32)"
      ]
     },
     "execution_count": 6,
     "metadata": {},
     "output_type": "execute_result"
    }
   ],
   "source": [
    "square_images[:2]"
   ]
  },
  {
   "cell_type": "code",
   "execution_count": 7,
   "metadata": {},
   "outputs": [],
   "source": [
    "train_cir_img = circle_images[:800]\n",
    "train_sqr_img = square_images[:800]\n",
    "test_cir_img = circle_images[800:1000]\n",
    "test_sqr_img = square_images[800:1000]"
   ]
  },
  {
   "cell_type": "code",
   "execution_count": 8,
   "metadata": {},
   "outputs": [],
   "source": [
    "train_cir_sqr_img = np.concatenate((train_cir_img, train_sqr_img))\n",
    "test_cir_sqr_img = np.concatenate((test_cir_img, test_sqr_img))"
   ]
  },
  {
   "cell_type": "code",
   "execution_count": 9,
   "metadata": {},
   "outputs": [
    {
     "name": "stdout",
     "output_type": "stream",
     "text": [
      "1600\n",
      "400\n"
     ]
    }
   ],
   "source": [
    "# o array tem 100 imagens de circulo e 100 de quadrados com formato 50x50\n",
    "print(len(train_cir_sqr_img))\n",
    "print(len(test_cir_sqr_img))"
   ]
  },
  {
   "cell_type": "code",
   "execution_count": 10,
   "metadata": {},
   "outputs": [],
   "source": [
    "train_images_target = []\n",
    "test_images_target = []\n",
    "for i in range(800):\n",
    "    zero_um = (0,1)\n",
    "    train_images_target.append(zero_um)\n",
    "    \n",
    "for i in range(800):\n",
    "    um_zero = (1,0)\n",
    "    train_images_target.append(um_zero)\n",
    "    \n",
    "for i in range(200):\n",
    "    zero_um = (0,1)\n",
    "    test_images_target.append(zero_um)\n",
    "    \n",
    "for i in range(200):\n",
    "    um_zero = (1,0)\n",
    "    test_images_target.append(um_zero)"
   ]
  },
  {
   "cell_type": "code",
   "execution_count": 11,
   "metadata": {},
   "outputs": [],
   "source": [
    "X = np.reshape(train_cir_sqr_img, (1600, 50, 50))\n",
    "y = np.array(train_images_target)"
   ]
  },
  {
   "cell_type": "code",
   "execution_count": 12,
   "metadata": {},
   "outputs": [
    {
     "name": "stdout",
     "output_type": "stream",
     "text": [
      "nro de neurônios na hidden layer: 50\n"
     ]
    }
   ],
   "source": [
    "import math\n",
    "n_input_layer = 2500\n",
    "n_output_layer = 1\n",
    "n_hidden_layer = round(math.sqrt((n_input_layer*n_output_layer)))\n",
    "print(\"nro de neurônios na hidden layer:\", n_hidden_layer)"
   ]
  },
  {
   "cell_type": "code",
   "execution_count": 13,
   "metadata": {},
   "outputs": [],
   "source": [
    "from keras.callbacks import EarlyStopping\n",
    "from matplotlib import pyplot"
   ]
  },
  {
   "cell_type": "code",
   "execution_count": 14,
   "metadata": {
    "scrolled": true
   },
   "outputs": [
    {
     "name": "stdout",
     "output_type": "stream",
     "text": [
      "Model: \"sequential_1\"\n",
      "_________________________________________________________________\n",
      "Layer (type)                 Output Shape              Param #   \n",
      "=================================================================\n",
      "simple_rnn_1 (SimpleRNN)     (None, 50)                5050      \n",
      "_________________________________________________________________\n",
      "dense_1 (Dense)              (None, 2)                 102       \n",
      "=================================================================\n",
      "Total params: 5,152\n",
      "Trainable params: 5,152\n",
      "Non-trainable params: 0\n",
      "_________________________________________________________________\n"
     ]
    }
   ],
   "source": [
    "model=Sequential()\n",
    "model.add(SimpleRNN(n_hidden_layer, \n",
    "                    input_shape=(50,50), \n",
    "                    kernel_initializer='random_normal'))\n",
    "model.add(Dense(2, activation='sigmoid'))\n",
    "# model.compile(loss = 'mse', optimizer = 'rmsprop')\n",
    "model.compile(loss='binary_crossentropy', optimizer='adam', metrics=['accuracy'])\n",
    "model.summary()"
   ]
  },
  {
   "cell_type": "code",
   "execution_count": 15,
   "metadata": {
    "scrolled": true
   },
   "outputs": [
    {
     "data": {
      "image/png": "[encoded data removed]",
      "text/plain": [
       "<IPython.core.display.Image object>"
      ]
     },
     "execution_count": 15,
     "metadata": {},
     "output_type": "execute_result"
    }
   ],
   "source": [
    "from keras.utils.vis_utils import plot_model\n",
    "import graphviz\n",
    "from interface import implements, Interface\n",
    "plot_model(model, to_file='model_plot.png', show_shapes=True, show_layer_names=True)"
   ]
  },
  {
   "cell_type": "code",
   "execution_count": 16,
   "metadata": {},
   "outputs": [],
   "source": [
    "# simple early stopping\n",
    "es = EarlyStopping(monitor='val_loss', mode='min', verbose=1)"
   ]
  },
  {
   "cell_type": "code",
   "execution_count": 17,
   "metadata": {},
   "outputs": [
    {
     "name": "stdout",
     "output_type": "stream",
     "text": [
      "Epoch 1/100\n",
      "1600/1600 [==============================] - 1s 544us/step - loss: 0.5777 - accuracy: 0.7138\n",
      "Epoch 2/100\n",
      " 544/1600 [=========>....................] - ETA: 0s - loss: 0.4954 - accuracy: 0.7601"
     ]
    },
    {
     "name": "stderr",
     "output_type": "stream",
     "text": [
      "/home/ryo/miniconda/lib/python3.7/site-packages/keras/callbacks/callbacks.py:846: RuntimeWarning: Early stopping conditioned on metric `val_loss` which is not available. Available metrics are: loss,accuracy\n",
      "  (self.monitor, ','.join(list(logs.keys()))), RuntimeWarning\n"
     ]
    },
    {
     "name": "stdout",
     "output_type": "stream",
     "text": [
      "1600/1600 [==============================] - 0s 311us/step - loss: 0.4668 - accuracy: 0.7866\n",
      "Epoch 3/100\n",
      "1600/1600 [==============================] - 1s 322us/step - loss: 0.4254 - accuracy: 0.8019\n",
      "Epoch 4/100\n",
      "1600/1600 [==============================] - 0s 312us/step - loss: 0.3450 - accuracy: 0.8519\n",
      "Epoch 5/100\n",
      "1600/1600 [==============================] - 1s 317us/step - loss: 0.3299 - accuracy: 0.8556\n",
      "Epoch 6/100\n",
      "1600/1600 [==============================] - 0s 306us/step - loss: 0.3477 - accuracy: 0.8462\n",
      "Epoch 7/100\n",
      "1600/1600 [==============================] - 0s 301us/step - loss: 0.3191 - accuracy: 0.8578\n",
      "Epoch 8/100\n",
      "1600/1600 [==============================] - 0s 301us/step - loss: 0.2853 - accuracy: 0.8706\n",
      "Epoch 9/100\n",
      "1600/1600 [==============================] - 0s 309us/step - loss: 0.2932 - accuracy: 0.8728\n",
      "Epoch 10/100\n",
      "1600/1600 [==============================] - 0s 292us/step - loss: 0.2621 - accuracy: 0.8744\n",
      "Epoch 11/100\n",
      "1600/1600 [==============================] - 0s 294us/step - loss: 0.2623 - accuracy: 0.8697\n",
      "Epoch 12/100\n",
      "1600/1600 [==============================] - 0s 305us/step - loss: 0.2516 - accuracy: 0.8778\n",
      "Epoch 13/100\n",
      "1600/1600 [==============================] - 0s 295us/step - loss: 0.2430 - accuracy: 0.8834\n",
      "Epoch 14/100\n",
      "1600/1600 [==============================] - 0s 290us/step - loss: 0.2429 - accuracy: 0.8766\n",
      "Epoch 15/100\n",
      "1600/1600 [==============================] - 0s 293us/step - loss: 0.2370 - accuracy: 0.8700\n",
      "Epoch 16/100\n",
      "1600/1600 [==============================] - 0s 296us/step - loss: 0.2318 - accuracy: 0.8769\n",
      "Epoch 17/100\n",
      "1600/1600 [==============================] - 0s 292us/step - loss: 0.2407 - accuracy: 0.8734\n",
      "Epoch 18/100\n",
      "1600/1600 [==============================] - 0s 299us/step - loss: 0.2290 - accuracy: 0.8809\n",
      "Epoch 19/100\n",
      "1600/1600 [==============================] - 0s 297us/step - loss: 0.2259 - accuracy: 0.8750\n",
      "Epoch 20/100\n",
      "1600/1600 [==============================] - 0s 299us/step - loss: 0.2111 - accuracy: 0.8813\n",
      "Epoch 21/100\n",
      "1600/1600 [==============================] - 0s 308us/step - loss: 0.2557 - accuracy: 0.8637\n",
      "Epoch 22/100\n",
      "1600/1600 [==============================] - 0s 311us/step - loss: 0.2167 - accuracy: 0.8747\n",
      "Epoch 23/100\n",
      "1600/1600 [==============================] - 1s 313us/step - loss: 0.1972 - accuracy: 0.8813\n",
      "Epoch 24/100\n",
      "1600/1600 [==============================] - 0s 309us/step - loss: 0.2116 - accuracy: 0.8784\n",
      "Epoch 25/100\n",
      "1600/1600 [==============================] - 0s 307us/step - loss: 0.2059 - accuracy: 0.8831\n",
      "Epoch 26/100\n",
      "1600/1600 [==============================] - 1s 362us/step - loss: 0.1947 - accuracy: 0.8828\n",
      "Epoch 27/100\n",
      "1600/1600 [==============================] - 0s 309us/step - loss: 0.1933 - accuracy: 0.8763\n",
      "Epoch 28/100\n",
      "1600/1600 [==============================] - 0s 306us/step - loss: 0.2269 - accuracy: 0.8744\n",
      "Epoch 29/100\n",
      "1600/1600 [==============================] - 0s 298us/step - loss: 0.2900 - accuracy: 0.8591\n",
      "Epoch 30/100\n",
      "1600/1600 [==============================] - 0s 301us/step - loss: 0.2436 - accuracy: 0.8794\n",
      "Epoch 31/100\n",
      "1600/1600 [==============================] - 1s 341us/step - loss: 0.2144 - accuracy: 0.8875\n",
      "Epoch 32/100\n",
      "1600/1600 [==============================] - 1s 361us/step - loss: 0.2068 - accuracy: 0.8863\n",
      "Epoch 33/100\n",
      "1600/1600 [==============================] - 0s 298us/step - loss: 0.2074 - accuracy: 0.8750\n",
      "Epoch 34/100\n",
      "1600/1600 [==============================] - 0s 299us/step - loss: 0.1998 - accuracy: 0.8716\n",
      "Epoch 35/100\n",
      "1600/1600 [==============================] - 0s 292us/step - loss: 0.1963 - accuracy: 0.8825\n",
      "Epoch 36/100\n",
      "1600/1600 [==============================] - 1s 365us/step - loss: 0.2076 - accuracy: 0.8763\n",
      "Epoch 37/100\n",
      "1600/1600 [==============================] - 1s 377us/step - loss: 0.1965 - accuracy: 0.8841\n",
      "Epoch 38/100\n",
      "1600/1600 [==============================] - 1s 347us/step - loss: 0.2257 - accuracy: 0.8684\n",
      "Epoch 39/100\n",
      "1600/1600 [==============================] - 1s 346us/step - loss: 0.2077 - accuracy: 0.8784\n",
      "Epoch 40/100\n",
      "1600/1600 [==============================] - 1s 342us/step - loss: 0.2062 - accuracy: 0.8809\n",
      "Epoch 41/100\n",
      "1600/1600 [==============================] - 1s 398us/step - loss: 0.3114 - accuracy: 0.8394\n",
      "Epoch 42/100\n",
      "1600/1600 [==============================] - 1s 404us/step - loss: 0.2476 - accuracy: 0.8691\n",
      "Epoch 43/100\n",
      "1600/1600 [==============================] - 1s 360us/step - loss: 0.2027 - accuracy: 0.8809\n",
      "Epoch 44/100\n",
      "1600/1600 [==============================] - 0s 295us/step - loss: 0.1888 - accuracy: 0.8772\n",
      "Epoch 45/100\n",
      "1600/1600 [==============================] - 0s 289us/step - loss: 0.1902 - accuracy: 0.8816\n",
      "Epoch 46/100\n",
      "1600/1600 [==============================] - 0s 304us/step - loss: 0.1999 - accuracy: 0.8759\n",
      "Epoch 47/100\n",
      "1600/1600 [==============================] - 0s 293us/step - loss: 0.2630 - accuracy: 0.8531\n",
      "Epoch 48/100\n",
      "1600/1600 [==============================] - 1s 354us/step - loss: 0.1965 - accuracy: 0.8838\n",
      "Epoch 49/100\n",
      "1600/1600 [==============================] - 1s 365us/step - loss: 0.1858 - accuracy: 0.8809\n",
      "Epoch 50/100\n",
      "1600/1600 [==============================] - 1s 374us/step - loss: 0.1823 - accuracy: 0.8838\n",
      "Epoch 51/100\n",
      "1600/1600 [==============================] - 1s 361us/step - loss: 0.1866 - accuracy: 0.8838\n",
      "Epoch 52/100\n",
      "1600/1600 [==============================] - 0s 298us/step - loss: 0.1891 - accuracy: 0.8813\n",
      "Epoch 53/100\n",
      "1600/1600 [==============================] - 0s 297us/step - loss: 0.1824 - accuracy: 0.8863\n",
      "Epoch 54/100\n",
      "1600/1600 [==============================] - 0s 295us/step - loss: 0.1821 - accuracy: 0.8872\n",
      "Epoch 55/100\n",
      "1600/1600 [==============================] - 0s 295us/step - loss: 0.1840 - accuracy: 0.8831\n",
      "Epoch 56/100\n",
      "1600/1600 [==============================] - 1s 359us/step - loss: 0.1839 - accuracy: 0.8788\n",
      "Epoch 57/100\n",
      "1600/1600 [==============================] - 1s 373us/step - loss: 0.1881 - accuracy: 0.8778\n",
      "Epoch 58/100\n",
      "1600/1600 [==============================] - 1s 373us/step - loss: 0.1870 - accuracy: 0.8809\n",
      "Epoch 59/100\n",
      "1600/1600 [==============================] - 1s 342us/step - loss: 0.1778 - accuracy: 0.8919\n",
      "Epoch 60/100\n",
      "1600/1600 [==============================] - 0s 300us/step - loss: 0.1793 - accuracy: 0.8794\n",
      "Epoch 61/100\n",
      "1600/1600 [==============================] - 0s 298us/step - loss: 0.1818 - accuracy: 0.8775\n",
      "Epoch 62/100\n",
      "1600/1600 [==============================] - 0s 296us/step - loss: 0.1780 - accuracy: 0.8863\n",
      "Epoch 63/100\n",
      "1600/1600 [==============================] - 0s 305us/step - loss: 0.1922 - accuracy: 0.8831\n",
      "Epoch 64/100\n",
      "1600/1600 [==============================] - 1s 375us/step - loss: 0.1942 - accuracy: 0.8825\n",
      "Epoch 65/100\n",
      "1600/1600 [==============================] - 1s 362us/step - loss: 0.2058 - accuracy: 0.8772\n",
      "Epoch 66/100\n",
      "1600/1600 [==============================] - 1s 366us/step - loss: 0.1974 - accuracy: 0.8712\n",
      "Epoch 67/100\n",
      "1600/1600 [==============================] - 1s 337us/step - loss: 0.1942 - accuracy: 0.8753\n",
      "Epoch 68/100\n",
      "1600/1600 [==============================] - 0s 297us/step - loss: 0.1876 - accuracy: 0.8816\n",
      "Epoch 69/100\n",
      "1600/1600 [==============================] - 0s 302us/step - loss: 0.1859 - accuracy: 0.8809\n",
      "Epoch 70/100\n",
      "1600/1600 [==============================] - 0s 288us/step - loss: 0.1819 - accuracy: 0.8844\n",
      "Epoch 71/100\n",
      "1600/1600 [==============================] - 0s 309us/step - loss: 0.1773 - accuracy: 0.8847\n",
      "Epoch 72/100\n",
      "1600/1600 [==============================] - 1s 387us/step - loss: 0.4329 - accuracy: 0.7609\n",
      "Epoch 73/100\n",
      "1600/1600 [==============================] - 1s 377us/step - loss: 0.5097 - accuracy: 0.7113\n",
      "Epoch 74/100\n",
      "1600/1600 [==============================] - 1s 382us/step - loss: 0.4184 - accuracy: 0.8066\n",
      "Epoch 75/100\n",
      "1600/1600 [==============================] - 1s 320us/step - loss: 0.3320 - accuracy: 0.8303\n",
      "Epoch 76/100\n",
      "1600/1600 [==============================] - 1s 340us/step - loss: 0.3037 - accuracy: 0.8306\n",
      "Epoch 77/100\n",
      "1600/1600 [==============================] - 1s 440us/step - loss: 0.3370 - accuracy: 0.8153\n",
      "Epoch 78/100\n",
      "1600/1600 [==============================] - 1s 318us/step - loss: 0.2519 - accuracy: 0.8653\n",
      "Epoch 79/100\n"
     ]
    },
    {
     "name": "stdout",
     "output_type": "stream",
     "text": [
      "1600/1600 [==============================] - 1s 365us/step - loss: 0.2474 - accuracy: 0.8553\n",
      "Epoch 80/100\n",
      "1600/1600 [==============================] - 1s 362us/step - loss: 0.2300 - accuracy: 0.8775\n",
      "Epoch 81/100\n",
      "1600/1600 [==============================] - 1s 368us/step - loss: 0.2169 - accuracy: 0.8678\n",
      "Epoch 82/100\n",
      "1600/1600 [==============================] - 1s 326us/step - loss: 0.2009 - accuracy: 0.8763\n",
      "Epoch 83/100\n",
      "1600/1600 [==============================] - 0s 300us/step - loss: 0.1964 - accuracy: 0.8872\n",
      "Epoch 84/100\n",
      "1600/1600 [==============================] - 0s 289us/step - loss: 0.3227 - accuracy: 0.8347\n",
      "Epoch 85/100\n",
      "1600/1600 [==============================] - 0s 292us/step - loss: 0.2622 - accuracy: 0.8609\n",
      "Epoch 86/100\n",
      "1600/1600 [==============================] - 0s 300us/step - loss: 0.2547 - accuracy: 0.8556\n",
      "Epoch 87/100\n",
      "1600/1600 [==============================] - 1s 372us/step - loss: 0.2698 - accuracy: 0.8528\n",
      "Epoch 88/100\n",
      "1600/1600 [==============================] - 1s 378us/step - loss: 0.2215 - accuracy: 0.8666\n",
      "Epoch 89/100\n",
      "1600/1600 [==============================] - 1s 375us/step - loss: 0.2095 - accuracy: 0.8875\n",
      "Epoch 90/100\n",
      "1600/1600 [==============================] - 1s 315us/step - loss: 0.2036 - accuracy: 0.8788\n",
      "Epoch 91/100\n",
      "1600/1600 [==============================] - 0s 307us/step - loss: 0.1985 - accuracy: 0.8791\n",
      "Epoch 92/100\n",
      "1600/1600 [==============================] - 0s 293us/step - loss: 0.2095 - accuracy: 0.8753\n",
      "Epoch 93/100\n",
      "1600/1600 [==============================] - 0s 301us/step - loss: 0.2106 - accuracy: 0.8709\n",
      "Epoch 94/100\n",
      "1600/1600 [==============================] - 1s 314us/step - loss: 0.2688 - accuracy: 0.8363\n",
      "Epoch 95/100\n",
      "1600/1600 [==============================] - 1s 381us/step - loss: 0.2370 - accuracy: 0.8534\n",
      "Epoch 96/100\n",
      "1600/1600 [==============================] - 1s 379us/step - loss: 0.1939 - accuracy: 0.8766\n",
      "Epoch 97/100\n",
      "1600/1600 [==============================] - 1s 375us/step - loss: 0.1878 - accuracy: 0.8822\n",
      "Epoch 98/100\n",
      "1600/1600 [==============================] - 1s 314us/step - loss: 0.1909 - accuracy: 0.8737\n",
      "Epoch 99/100\n",
      "1600/1600 [==============================] - 0s 293us/step - loss: 0.1844 - accuracy: 0.8875\n",
      "Epoch 100/100\n",
      "1600/1600 [==============================] - 0s 298us/step - loss: 0.1902 - accuracy: 0.8831\n"
     ]
    }
   ],
   "source": [
    "history = model.fit(X, y, epochs = 100, batch_size = 32, callbacks=[es])"
   ]
  },
  {
   "cell_type": "code",
   "execution_count": 18,
   "metadata": {},
   "outputs": [
    {
     "name": "stdout",
     "output_type": "stream",
     "text": [
      "dict_keys(['loss', 'accuracy'])\n"
     ]
    }
   ],
   "source": [
    "# list all data in history\n",
    "print(history.history.keys())"
   ]
  },
  {
   "cell_type": "code",
   "execution_count": 19,
   "metadata": {},
   "outputs": [
    {
     "data": {
      "text/plain": [
       "[<matplotlib.lines.Line2D at 0x7fd32c36cfd0>]"
      ]
     },
     "execution_count": 19,
     "metadata": {},
     "output_type": "execute_result"
    },
    {
     "data": {
      "image/png": "[encoded data removed]",
      "text/plain": [
       "<Figure size 432x288 with 1 Axes>"
      ]
     },
     "metadata": {
      "needs_background": "light"
     },
     "output_type": "display_data"
    }
   ],
   "source": [
    "import matplotlib.pyplot as plt\n",
    "# summarize history for accuracy\n",
    "plt.plot(history.history['loss'], label='loss')\n",
    "plt.plot(history.history['accuracy'], label='accuracy')"
   ]
  },
  {
   "cell_type": "code",
   "execution_count": 20,
   "metadata": {},
   "outputs": [
    {
     "name": "stdout",
     "output_type": "stream",
     "text": [
      "Saved model to disk\n"
     ]
    }
   ],
   "source": [
    "# serialize model to JSON\n",
    "model_json = model.to_json()\n",
    "with open(\"model.json\", \"w\") as json_file:\n",
    "    json_file.write(model_json)\n",
    "# serialize weights to HDF5\n",
    "model.save_weights(\"model.h5\")\n",
    "print(\"Saved model to disk\")"
   ]
  },
  {
   "cell_type": "code",
   "execution_count": 21,
   "metadata": {},
   "outputs": [],
   "source": [
    "# test = np.reshape(test, (40, 1000, 1))"
   ]
  },
  {
   "cell_type": "code",
   "execution_count": 22,
   "metadata": {},
   "outputs": [],
   "source": [
    "test = np.reshape(test_cir_sqr_img, (400, 50, 50))\n",
    "test_target = np.array(test_images_target)"
   ]
  },
  {
   "cell_type": "code",
   "execution_count": 23,
   "metadata": {},
   "outputs": [
    {
     "name": "stdout",
     "output_type": "stream",
     "text": [
      "[7.2025473e-04 9.9921155e-01] expected [0 1]\n",
      "[0.00249231 0.9966904 ] expected [0 1]\n",
      "[0.00239535 0.9978461 ] expected [0 1]\n",
      "[0.00354459 0.9966497 ] expected [0 1]\n",
      "[0.45170665 0.54576623] expected [0 1]\n",
      "[9.320923e-04 9.993755e-01] expected [0 1]\n",
      "[0.4079806  0.58030784] expected [0 1]\n",
      "[0.0028569 0.9975218] expected [0 1]\n",
      "[0.01026901 0.98903966] expected [0 1]\n",
      "[0.33732805 0.7042633 ] expected [0 1]\n",
      "[0.49939883 0.49927863] expected [0 1]\n",
      "[0.00331703 0.99693584] expected [0 1]\n",
      "[0.45129713 0.546113  ] expected [0 1]\n",
      "[0.00259546 0.9977316 ] expected [0 1]\n",
      "[0.45364127 0.54382014] expected [0 1]\n",
      "[0.00459425 0.99451315] expected [0 1]\n",
      "[0.00160646 0.9988034 ] expected [0 1]\n",
      "[0.00697488 0.9943516 ] expected [0 1]\n",
      "[6.6773716e-04 9.9931777e-01] expected [0 1]\n",
      "[4.7203232e-04 9.9975401e-01] expected [0 1]\n",
      "[6.2328432e-04 9.9958605e-01] expected [0 1]\n",
      "[0.33732805 0.7042633 ] expected [0 1]\n",
      "[6.2328432e-04 9.9958605e-01] expected [0 1]\n",
      "[0.4754414 0.5282207] expected [0 1]\n",
      "[0.00353105 0.9966497 ] expected [0 1]\n",
      "[5.663381e-04 9.996075e-01] expected [0 1]\n",
      "[6.6773716e-04 9.9931777e-01] expected [0 1]\n",
      "[0.4535785  0.54697204] expected [0 1]\n",
      "[0.45364127 0.54382014] expected [0 1]\n",
      "[0.00449766 0.99533135] expected [0 1]\n",
      "[0.00115958 0.9987925 ] expected [0 1]\n",
      "[0.46895695 0.5316508 ] expected [0 1]\n",
      "[0.00138611 0.99862325] expected [0 1]\n",
      "[0.45129713 0.546113  ] expected [0 1]\n",
      "[5.663381e-04 9.996075e-01] expected [0 1]\n",
      "[0.00141384 0.99879265] expected [0 1]\n",
      "[0.42487824 0.5691215 ] expected [0 1]\n",
      "[0.00139614 0.9982493 ] expected [0 1]\n",
      "[0.45057467 0.5483491 ] expected [0 1]\n",
      "[0.01026901 0.98903966] expected [0 1]\n",
      "[6.885657e-04 9.995371e-01] expected [0 1]\n",
      "[0.33732805 0.7042633 ] expected [0 1]\n",
      "[0.04050624 0.9636398 ] expected [0 1]\n",
      "[0.0025409 0.998135 ] expected [0 1]\n",
      "[6.2328432e-04 9.9958605e-01] expected [0 1]\n",
      "[7.8340445e-04 9.9909353e-01] expected [0 1]\n",
      "[0.45057467 0.5483491 ] expected [0 1]\n",
      "[6.885657e-04 9.995371e-01] expected [0 1]\n",
      "[8.3584135e-04 9.9920851e-01] expected [0 1]\n",
      "[0.45057467 0.5483491 ] expected [0 1]\n",
      "[0.04799834 0.9457351 ] expected [0 1]\n",
      "[6.5464387e-04 9.9958211e-01] expected [0 1]\n",
      "[0.04050624 0.9636398 ] expected [0 1]\n",
      "[0.49939883 0.49927863] expected [0 1]\n",
      "[0.01187464 0.97794455] expected [0 1]\n",
      "[0.04799834 0.9457351 ] expected [0 1]\n",
      "[0.0025409 0.998135 ] expected [0 1]\n",
      "[0.00136031 0.99921703] expected [0 1]\n",
      "[0.00354459 0.9966497 ] expected [0 1]\n",
      "[0.4699987  0.52737707] expected [0 1]\n",
      "[0.01026901 0.98903966] expected [0 1]\n",
      "[5.663381e-04 9.996075e-01] expected [0 1]\n",
      "[0.42487836 0.5691215 ] expected [0 1]\n",
      "[0.00138611 0.99862325] expected [0 1]\n",
      "[0.0028569 0.9975218] expected [0 1]\n",
      "[0.45411557 0.5436937 ] expected [0 1]\n",
      "[0.00281849 0.9975122 ] expected [0 1]\n",
      "[0.00331703 0.99693584] expected [0 1]\n",
      "[6.2328432e-04 9.9958605e-01] expected [0 1]\n",
      "[0.4534513 0.5441609] expected [0 1]\n",
      "[0.45364758 0.54379153] expected [0 1]\n",
      "[0.00249231 0.9966904 ] expected [0 1]\n",
      "[5.3864752e-04 9.9958843e-01] expected [0 1]\n",
      "[0.49939883 0.49927863] expected [0 1]\n",
      "[0.00326457 0.9970071 ] expected [0 1]\n",
      "[0.00205623 0.9985726 ] expected [0 1]\n",
      "[6.261112e-04 9.993247e-01] expected [0 1]\n",
      "[9.600052e-04 9.987418e-01] expected [0 1]\n",
      "[8.3584135e-04 9.9920851e-01] expected [0 1]\n",
      "[9.320923e-04 9.993755e-01] expected [0 1]\n",
      "[0.00281849 0.9975122 ] expected [0 1]\n",
      "[0.00331703 0.99693584] expected [0 1]\n",
      "[0.4583491  0.53972244] expected [0 1]\n",
      "[0.00646139 0.9940904 ] expected [0 1]\n",
      "[9.320923e-04 9.993755e-01] expected [0 1]\n",
      "[0.00160646 0.9988034 ] expected [0 1]\n",
      "[0.00254241 0.9968022 ] expected [0 1]\n",
      "[6.4347463e-04 9.9937963e-01] expected [0 1]\n",
      "[0.04799834 0.9457351 ] expected [0 1]\n",
      "[7.7062467e-04 9.9928671e-01] expected [0 1]\n",
      "[0.00112398 0.9986802 ] expected [0 1]\n",
      "[0.39866322 0.58695084] expected [0 1]\n",
      "[0.00331703 0.99693584] expected [0 1]\n",
      "[0.4534513 0.5441609] expected [0 1]\n",
      "[0.4529213 0.5465652] expected [0 1]\n",
      "[0.25039184 0.7945446 ] expected [0 1]\n",
      "[0.00115958 0.9987925 ] expected [0 1]\n",
      "[0.00281849 0.9975122 ] expected [0 1]\n",
      "[6.2328432e-04 9.9958605e-01] expected [0 1]\n",
      "[9.320923e-04 9.993755e-01] expected [0 1]\n",
      "[0.33732805 0.7042633 ] expected [0 1]\n",
      "[0.00129935 0.99890065] expected [0 1]\n",
      "[0.45411557 0.5436937 ] expected [0 1]\n",
      "[0.00301071 0.9952636 ] expected [0 1]\n",
      "[0.4857899 0.5143127] expected [0 1]\n",
      "[6.769732e-04 9.995559e-01] expected [0 1]\n",
      "[5.3864752e-04 9.9958843e-01] expected [0 1]\n",
      "[0.00138611 0.99862325] expected [0 1]\n",
      "[4.7203232e-04 9.9975401e-01] expected [0 1]\n",
      "[0.45294228 0.5442381 ] expected [0 1]\n",
      "[0.4857899 0.5143127] expected [0 1]\n",
      "[7.3923607e-04 9.9914074e-01] expected [0 1]\n",
      "[0.45170665 0.54576623] expected [0 1]\n",
      "[0.39866322 0.58695084] expected [0 1]\n",
      "[0.00191468 0.9973024 ] expected [0 1]\n",
      "[0.42487824 0.5691215 ] expected [0 1]\n",
      "[5.3864752e-04 9.9958843e-01] expected [0 1]\n",
      "[0.01187464 0.97794455] expected [0 1]\n",
      "[0.00697488 0.9943516 ] expected [0 1]\n",
      "[0.45170665 0.54576623] expected [0 1]\n",
      "[0.01077641 0.98081183] expected [0 1]\n",
      "[0.00129935 0.99890065] expected [0 1]\n",
      "[0.00301071 0.9952636 ] expected [0 1]\n",
      "[0.4535785  0.54697204] expected [0 1]\n",
      "[0.45170665 0.54576623] expected [0 1]\n",
      "[0.0028569 0.9975218] expected [0 1]\n",
      "[0.04050624 0.9636399 ] expected [0 1]\n",
      "[4.7203188e-04 9.9975401e-01] expected [0 1]\n",
      "[0.37396967 0.60075563] expected [0 1]\n",
      "[8.3584135e-04 9.9920851e-01] expected [0 1]\n",
      "[5.7941285e-04 9.9960619e-01] expected [0 1]\n",
      "[0.39866322 0.58695084] expected [0 1]\n",
      "[6.769732e-04 9.995559e-01] expected [0 1]\n",
      "[0.00112398 0.9986802 ] expected [0 1]\n",
      "[0.37396967 0.60075563] expected [0 1]\n",
      "[0.04799834 0.9457351 ] expected [0 1]\n",
      "[0.0028569 0.9975218] expected [0 1]\n",
      "[0.00249231 0.9966904 ] expected [0 1]\n",
      "[7.7062467e-04 9.9928671e-01] expected [0 1]\n",
      "[6.5464387e-04 9.9958211e-01] expected [0 1]\n",
      "[0.42037   0.5759232] expected [0 1]\n",
      "[0.4079806  0.58030784] expected [0 1]\n",
      "[0.01187464 0.97794455] expected [0 1]\n",
      "[0.42487824 0.5691215 ] expected [0 1]\n",
      "[0.0043957 0.9947883] expected [0 1]\n",
      "[6.202769e-04 9.993327e-01] expected [0 1]\n",
      "[0.49939883 0.49927863] expected [0 1]\n",
      "[0.45129713 0.546113  ] expected [0 1]\n",
      "[0.4534513 0.5441609] expected [0 1]\n",
      "[0.45129713 0.546113  ] expected [0 1]\n",
      "[0.00112398 0.9986802 ] expected [0 1]\n",
      "[0.4079806  0.58030784] expected [0 1]\n",
      "[0.00139614 0.9982493 ] expected [0 1]\n",
      "[0.45294228 0.5442381 ] expected [0 1]\n",
      "[0.4583491  0.53972244] expected [0 1]\n",
      "[0.00139614 0.9982493 ] expected [0 1]\n",
      "[0.00141384 0.99879265] expected [0 1]\n",
      "[0.00138611 0.99862325] expected [0 1]\n",
      "[5.8211439e-04 9.9960583e-01] expected [0 1]\n",
      "[9.016929e-04 9.988901e-01] expected [0 1]\n",
      "[0.45364758 0.54379153] expected [0 1]\n",
      "[0.4534513 0.5441609] expected [0 1]\n",
      "[6.7139394e-04 9.9925798e-01] expected [0 1]\n",
      "[0.00129935 0.99890065] expected [0 1]\n",
      "[0.01077641 0.98081183] expected [0 1]\n",
      "[8.3584135e-04 9.9920851e-01] expected [0 1]\n",
      "[0.4535785  0.54697204] expected [0 1]\n",
      "[0.00281849 0.9975122 ] expected [0 1]\n",
      "[0.4079806  0.58030784] expected [0 1]\n",
      "[0.00353105 0.9966497 ] expected [0 1]\n",
      "[0.00115958 0.9987925 ] expected [0 1]\n",
      "[0.45057467 0.5483491 ] expected [0 1]\n",
      "[0.00335503 0.9969194 ] expected [0 1]\n",
      "[0.49939883 0.49927863] expected [0 1]\n",
      "[0.00335503 0.9969194 ] expected [0 1]\n",
      "[0.45057467 0.5483491 ] expected [0 1]\n",
      "[0.00281849 0.9975122 ] expected [0 1]\n",
      "[0.00205623 0.9985726 ] expected [0 1]\n",
      "[0.45364758 0.54379153] expected [0 1]\n",
      "[6.2328432e-04 9.9958605e-01] expected [0 1]\n",
      "[0.4523022 0.5454315] expected [0 1]\n",
      "[9.320923e-04 9.993755e-01] expected [0 1]\n",
      "[0.45364758 0.54379153] expected [0 1]\n",
      "[6.2328432e-04 9.9958605e-01] expected [0 1]\n",
      "[0.4523022 0.5454315] expected [0 1]\n",
      "[0.00136031 0.99921703] expected [0 1]\n",
      "[0.45411557 0.5436937 ] expected [0 1]\n",
      "[0.37396967 0.60075563] expected [0 1]\n",
      "[0.00249231 0.9966904 ] expected [0 1]\n",
      "[0.00459425 0.99451315] expected [0 1]\n",
      "[4.7203188e-04 9.9975401e-01] expected [0 1]\n",
      "[0.00138611 0.99862325] expected [0 1]\n",
      "[0.38371232 0.59219843] expected [0 1]\n",
      "[0.00335503 0.9969194 ] expected [0 1]\n",
      "[0.01118131 0.9854569 ] expected [0 1]\n",
      "[8.3584135e-04 9.9920851e-01] expected [0 1]\n",
      "[0.4699987  0.52737707] expected [0 1]\n",
      "[6.261112e-04 9.993247e-01] expected [0 1]\n",
      "[0.00129935 0.99890065] expected [0 1]\n",
      "[0.01118131 0.9854569 ] expected [0 1]\n",
      "[0.4535785  0.54697204] expected [1 0]\n",
      "[0.9721919  0.03269874] expected [1 0]\n",
      "[0.99840623 0.00172728] expected [1 0]\n",
      "[0.45170665 0.54576623] expected [1 0]\n",
      "[9.9914360e-01 6.2018173e-04] expected [1 0]\n",
      "[0.9926985  0.00637595] expected [1 0]\n",
      "[0.37396967 0.60075563] expected [1 0]\n",
      "[0.250392   0.79454446] expected [1 0]\n",
      "[0.99613106 0.00350646] expected [1 0]\n",
      "[0.9951521  0.00580078] expected [1 0]\n",
      "[0.99933547 0.00113126] expected [1 0]\n",
      "[0.38371232 0.59219843] expected [1 0]\n",
      "[0.9721919  0.03269874] expected [1 0]\n",
      "[0.9979194  0.00365958] expected [1 0]\n",
      "[0.99821836 0.00346367] expected [1 0]\n",
      "[0.9932133  0.00583948] expected [1 0]\n",
      "[0.4754414 0.5282207] expected [1 0]\n",
      "[0.45170665 0.54576623] expected [1 0]\n",
      "[9.9898285e-01 6.8141491e-04] expected [1 0]\n",
      "[0.9911703  0.00878637] expected [1 0]\n",
      "[0.9978956  0.00536252] expected [1 0]\n",
      "[0.250392   0.79454446] expected [1 0]\n",
      "[0.99857867 0.00234575] expected [1 0]\n",
      "[0.995321   0.00564917] expected [1 0]\n",
      "[0.9920185  0.00791252] expected [1 0]\n",
      "[0.9935753  0.00684507] expected [1 0]\n",
      "[0.9908071  0.00855827] expected [1 0]\n",
      "[0.99068755 0.00801182] expected [1 0]\n",
      "[0.9987349  0.00111472] expected [1 0]\n",
      "[0.99054295 0.00815132] expected [1 0]\n",
      "[9.9970716e-01 3.7225653e-04] expected [1 0]\n",
      "[0.9960581  0.00515306] expected [1 0]\n",
      "[0.9865993  0.01419365] expected [1 0]\n",
      "[0.9979596  0.00344048] expected [1 0]\n",
      "[0.9905686  0.00834254] expected [1 0]\n",
      "[0.33732805 0.7042633 ] expected [1 0]\n",
      "[0.250392   0.79454446] expected [1 0]\n",
      "[0.4534513 0.5441609] expected [1 0]\n",
      "[0.39866322 0.58695084] expected [1 0]\n",
      "[0.9911703  0.00878637] expected [1 0]\n",
      "[0.99292713 0.00605315] expected [1 0]\n",
      "[0.9721919  0.03269874] expected [1 0]\n",
      "[0.9970701  0.00383321] expected [1 0]\n",
      "[9.9988723e-01 1.5700946e-04] expected [1 0]\n",
      "[0.99780124 0.00205163] expected [1 0]\n",
      "[0.99497026 0.00457886] expected [1 0]\n",
      "[0.98962665 0.00986184] expected [1 0]\n",
      "[0.9984719  0.00141233] expected [1 0]\n",
      "[0.9865993  0.01419365] expected [1 0]\n",
      "[0.4079806  0.58030784] expected [1 0]\n",
      "[0.99812347 0.00216367] expected [1 0]\n",
      "[9.9988723e-01 1.5700946e-04] expected [1 0]\n",
      "[0.9813539  0.02031263] expected [1 0]\n",
      "[0.99840623 0.00172728] expected [1 0]\n",
      "[9.9936050e-01 9.1083074e-04] expected [1 0]\n",
      "[9.9987817e-01 1.3512709e-04] expected [1 0]\n",
      "[0.99840623 0.00172728] expected [1 0]\n",
      "[0.45294228 0.5442381 ] expected [1 0]\n",
      "[0.4534513 0.5441609] expected [1 0]\n",
      "[0.9913054 0.0074237] expected [1 0]\n",
      "[0.99083203 0.00875473] expected [1 0]\n",
      "[0.9920185  0.00791252] expected [1 0]\n",
      "[0.99613106 0.00350646] expected [1 0]\n",
      "[0.99840623 0.00172728] expected [1 0]\n",
      "[0.99613106 0.00350646] expected [1 0]\n",
      "[0.45364758 0.54379153] expected [1 0]\n",
      "[0.99020153 0.00859004] expected [1 0]\n",
      "[0.45364127 0.54382014] expected [1 0]\n",
      "[0.9925264  0.00677391] expected [1 0]\n",
      "[0.98889685 0.01047719] expected [1 0]\n",
      "[0.99933547 0.00113126] expected [1 0]\n",
      "[0.9919071  0.00831082] expected [1 0]\n",
      "[0.99144334 0.00730586] expected [1 0]\n",
      "[0.99701536 0.0030273 ] expected [1 0]\n",
      "[0.99497026 0.00457886] expected [1 0]\n",
      "[0.99701536 0.0030273 ] expected [1 0]\n",
      "[0.9955017  0.00527004] expected [1 0]\n",
      "[0.4534513 0.5441609] expected [1 0]\n",
      "[0.9979596  0.00344048] expected [1 0]\n",
      "[0.9913054 0.0074237] expected [1 0]\n",
      "[0.99134713 0.00741274] expected [1 0]\n",
      "[0.45129713 0.546113  ] expected [1 0]\n",
      "[0.99701536 0.0030273 ] expected [1 0]\n",
      "[0.99144334 0.00730586] expected [1 0]\n",
      "[0.9974118  0.00546031] expected [1 0]\n",
      "[0.9905686  0.00834254] expected [1 0]\n",
      "[0.9813541  0.02031244] expected [1 0]\n",
      "[0.9979194  0.00365958] expected [1 0]\n",
      "[9.9988723e-01 1.5700946e-04] expected [1 0]\n",
      "[0.99054295 0.00815132] expected [1 0]\n",
      "[0.99933547 0.00113126] expected [1 0]\n",
      "[9.9987817e-01 1.3512709e-04] expected [1 0]\n",
      "[0.4754414 0.5282207] expected [1 0]\n",
      "[0.39866322 0.58695084] expected [1 0]\n",
      "[0.4535785  0.54697204] expected [1 0]\n",
      "[0.9976211  0.00436606] expected [1 0]\n",
      "[0.99812347 0.00216367] expected [1 0]\n",
      "[0.99144334 0.00730586] expected [1 0]\n",
      "[0.9921272 0.006897 ] expected [1 0]\n",
      "[0.99812347 0.00216367] expected [1 0]\n",
      "[0.33732805 0.7042633 ] expected [1 0]\n",
      "[0.45411557 0.5436937 ] expected [1 0]\n",
      "[0.37396967 0.60075563] expected [1 0]\n",
      "[0.45057467 0.5483491 ] expected [1 0]\n",
      "[0.42487824 0.5691215 ] expected [1 0]\n",
      "[0.99134713 0.00741274] expected [1 0]\n",
      "[0.99821836 0.00346367] expected [1 0]\n",
      "[0.99933547 0.00113126] expected [1 0]\n",
      "[0.9992924  0.00120778] expected [1 0]\n",
      "[0.9983157  0.00307297] expected [1 0]\n",
      "[0.9920185  0.00791252] expected [1 0]\n",
      "[0.9935753  0.00684507] expected [1 0]\n",
      "[0.9976211  0.00436606] expected [1 0]\n",
      "[0.99780124 0.00205163] expected [1 0]\n",
      "[0.99497026 0.00457886] expected [1 0]\n",
      "[0.9919071  0.00831082] expected [1 0]\n",
      "[0.99821717 0.00361915] expected [1 0]\n",
      "[0.9992924  0.00120778] expected [1 0]\n",
      "[0.45230228 0.5454313 ] expected [1 0]\n",
      "[0.9979596  0.00344048] expected [1 0]\n",
      "[0.9932133  0.00583948] expected [1 0]\n",
      "[0.9905606  0.00813951] expected [1 0]\n",
      "[0.42487824 0.5691215 ] expected [1 0]\n",
      "[0.99134713 0.00741274] expected [1 0]\n",
      "[0.99613106 0.00350646] expected [1 0]\n",
      "[0.4523022 0.5454315] expected [1 0]\n",
      "[0.98970187 0.01051177] expected [1 0]\n",
      "[0.9976211  0.00436606] expected [1 0]\n",
      "[0.42037   0.5759232] expected [1 0]\n",
      "[0.9970701  0.00383321] expected [1 0]\n",
      "[0.98962665 0.00986184] expected [1 0]\n",
      "[0.99286807 0.00787487] expected [1 0]\n",
      "[0.9955017  0.00527004] expected [1 0]\n",
      "[0.9979596  0.00344048] expected [1 0]\n",
      "[0.9960581  0.00515306] expected [1 0]\n",
      "[0.9894525  0.01940249] expected [1 0]\n",
      "[0.33732805 0.7042633 ] expected [1 0]\n",
      "[0.9911703  0.00878637] expected [1 0]\n",
      "[0.99068755 0.00801182] expected [1 0]\n",
      "[0.9913054 0.0074237] expected [1 0]\n",
      "[0.4535785  0.54697204] expected [1 0]\n",
      "[0.99292713 0.00605315] expected [1 0]\n",
      "[0.9975237  0.00224464] expected [1 0]\n",
      "[0.33732805 0.7042633 ] expected [1 0]\n",
      "[0.99068755 0.00801182] expected [1 0]\n",
      "[0.99801034 0.00379715] expected [1 0]\n",
      "[0.9865993  0.01419365] expected [1 0]\n",
      "[0.9911703  0.00878637] expected [1 0]\n",
      "[0.45057467 0.5483491 ] expected [1 0]\n",
      "[0.99613106 0.00350646] expected [1 0]\n",
      "[9.9936050e-01 9.1083074e-04] expected [1 0]\n",
      "[0.9932133  0.00583948] expected [1 0]\n",
      "[0.9721919  0.03269874] expected [1 0]\n",
      "[0.9987349  0.00111472] expected [1 0]\n",
      "[0.9925264  0.00677391] expected [1 0]\n",
      "[0.37396967 0.60075563] expected [1 0]\n",
      "[0.9951521  0.00580078] expected [1 0]\n",
      "[0.9978956  0.00536252] expected [1 0]\n",
      "[0.9916432  0.00814447] expected [1 0]\n",
      "[0.9913054 0.0074237] expected [1 0]\n",
      "[0.99840623 0.00172728] expected [1 0]\n",
      "[0.9916432  0.00814447] expected [1 0]\n",
      "[0.99286807 0.00787487] expected [1 0]\n",
      "[0.99299026 0.00553855] expected [1 0]\n",
      "[0.9916432  0.00814447] expected [1 0]\n",
      "[0.99933547 0.00113126] expected [1 0]\n",
      "[0.9913054 0.0074237] expected [1 0]\n",
      "[0.9905606  0.00813951] expected [1 0]\n",
      "[0.9935753  0.00684507] expected [1 0]\n",
      "[0.9932133  0.00583948] expected [1 0]\n",
      "[9.993218e-01 6.650311e-04] expected [1 0]\n",
      "[0.995321   0.00564917] expected [1 0]\n",
      "[0.4583491  0.53972244] expected [1 0]\n",
      "[0.98970187 0.01051177] expected [1 0]\n",
      "[0.45129713 0.546113  ] expected [1 0]\n",
      "[0.4583491  0.53972244] expected [1 0]\n",
      "[0.9926985  0.00637595] expected [1 0]\n",
      "[0.9975237  0.00224464] expected [1 0]\n",
      "[0.99150616 0.00852853] expected [1 0]\n",
      "[0.99701536 0.0030273 ] expected [1 0]\n",
      "[0.9941267  0.00664709] expected [1 0]\n",
      "[0.99788034 0.00415029] expected [1 0]\n",
      "[0.99812347 0.00216368] expected [1 0]\n",
      "[0.99286807 0.00787487] expected [1 0]\n",
      "[0.37396967 0.60075563] expected [1 0]\n",
      "[0.9951521  0.00580078] expected [1 0]\n",
      "[0.33732805 0.7042633 ] expected [1 0]\n",
      "[0.99821717 0.00361915] expected [1 0]\n",
      "[0.45294228 0.5442381 ] expected [1 0]\n",
      "[0.9820395  0.01723652] expected [1 0]\n",
      "[0.99933547 0.00113126] expected [1 0]\n",
      "[0.9911703  0.00878637] expected [1 0]\n",
      "[0.9913054 0.0074237] expected [1 0]\n",
      "[0.9930293  0.01101399] expected [1 0]\n",
      "[9.9877506e-01 8.1711210e-04] expected [1 0]\n",
      "[0.9976211  0.00436606] expected [1 0]\n",
      "[0.9926985  0.00637595] expected [1 0]\n",
      "[0.39866322 0.58695084] expected [1 0]\n",
      "[0.45129713 0.546113  ] expected [1 0]\n",
      "[9.9898285e-01 6.8141491e-04] expected [1 0]\n"
     ]
    }
   ],
   "source": [
    "predictions = model.predict(test_cir_sqr_img)\n",
    "for i in range(len(test)):\n",
    "    print(predictions[i], 'expected', test_target[i])"
   ]
  },
  {
   "cell_type": "code",
   "execution_count": 24,
   "metadata": {},
   "outputs": [],
   "source": [
    "test_target_arr = np.array(test_target)"
   ]
  },
  {
   "cell_type": "code",
   "execution_count": 25,
   "metadata": {},
   "outputs": [],
   "source": [
    "predictions_rounded = np.matrix.round(predictions)"
   ]
  },
  {
   "cell_type": "code",
   "execution_count": 26,
   "metadata": {},
   "outputs": [],
   "source": [
    "y_test_classes = test_target_arr.argmax(1)\n",
    "y_pred_classes = predictions_rounded.argmax(1)"
   ]
  },
  {
   "cell_type": "code",
   "execution_count": 27,
   "metadata": {},
   "outputs": [
    {
     "data": {
      "text/plain": [
       "array([1, 1, 1, 1, 1, 1, 1, 1, 1, 1, 0, 1, 1, 1, 1, 1, 1, 1, 1, 1, 1, 1,\n",
       "       1, 1, 1, 1, 1, 1, 1, 1, 1, 1, 1, 1, 1, 1, 1, 1, 1, 1, 1, 1, 1, 1,\n",
       "       1, 1, 1, 1, 1, 1, 1, 1, 1, 0, 1, 1, 1, 1, 1, 1, 1, 1, 1, 1, 1, 1,\n",
       "       1, 1, 1, 1, 1, 1, 1, 0, 1, 1, 1, 1, 1, 1, 1, 1, 1, 1, 1, 1, 1, 1,\n",
       "       1, 1, 1, 1, 1, 1, 1, 1, 1, 1, 1, 1, 1, 1, 1, 1, 1, 1, 1, 1, 1, 1,\n",
       "       1, 1, 1, 1, 1, 1, 1, 1, 1, 1, 1, 1, 1, 1, 1, 1, 1, 1, 1, 1, 1, 1,\n",
       "       1, 1, 1, 1, 1, 1, 1, 1, 1, 1, 1, 1, 1, 1, 0, 1, 1, 1, 1, 1, 1, 1,\n",
       "       1, 1, 1, 1, 1, 1, 1, 1, 1, 1, 1, 1, 1, 1, 1, 1, 1, 1, 1, 0, 1, 1,\n",
       "       1, 1, 1, 1, 1, 1, 1, 1, 1, 1, 1, 1, 1, 1, 1, 1, 1, 1, 1, 1, 1, 1,\n",
       "       1, 1, 1, 0, 0, 1, 0, 0, 1, 1, 0, 0, 0, 1, 0, 0, 0, 0, 1, 1, 0, 0,\n",
       "       0, 1, 0, 0, 0, 0, 0, 0, 0, 0, 0, 0, 0, 0, 0, 1, 1, 1, 1, 0, 0, 0,\n",
       "       0, 0, 0, 0, 0, 0, 0, 1, 0, 0, 0, 0, 0, 0, 0, 1, 1, 0, 0, 0, 0, 0,\n",
       "       0, 1, 0, 1, 0, 0, 0, 0, 0, 0, 0, 0, 0, 1, 0, 0, 0, 1, 0, 0, 0, 0,\n",
       "       0, 0, 0, 0, 0, 0, 1, 1, 1, 0, 0, 0, 0, 0, 1, 1, 1, 1, 1, 0, 0, 0,\n",
       "       0, 0, 0, 0, 0, 0, 0, 0, 0, 0, 1, 0, 0, 0, 1, 0, 0, 1, 0, 0, 1, 0,\n",
       "       0, 0, 0, 0, 0, 0, 1, 0, 0, 0, 1, 0, 0, 1, 0, 0, 0, 0, 1, 0, 0, 0,\n",
       "       0, 0, 0, 1, 0, 0, 0, 0, 0, 0, 0, 0, 0, 0, 0, 0, 0, 0, 0, 0, 1, 0,\n",
       "       1, 1, 0, 0, 0, 0, 0, 0, 0, 0, 1, 0, 1, 0, 1, 0, 0, 0, 0, 0, 0, 0,\n",
       "       0, 1, 1, 0])"
      ]
     },
     "execution_count": 27,
     "metadata": {},
     "output_type": "execute_result"
    }
   ],
   "source": [
    "y_pred_classes"
   ]
  },
  {
   "cell_type": "code",
   "execution_count": 28,
   "metadata": {},
   "outputs": [
    {
     "data": {
      "text/plain": [
       "array([1, 1, 1, 1, 1, 1, 1, 1, 1, 1, 1, 1, 1, 1, 1, 1, 1, 1, 1, 1, 1, 1,\n",
       "       1, 1, 1, 1, 1, 1, 1, 1, 1, 1, 1, 1, 1, 1, 1, 1, 1, 1, 1, 1, 1, 1,\n",
       "       1, 1, 1, 1, 1, 1, 1, 1, 1, 1, 1, 1, 1, 1, 1, 1, 1, 1, 1, 1, 1, 1,\n",
       "       1, 1, 1, 1, 1, 1, 1, 1, 1, 1, 1, 1, 1, 1, 1, 1, 1, 1, 1, 1, 1, 1,\n",
       "       1, 1, 1, 1, 1, 1, 1, 1, 1, 1, 1, 1, 1, 1, 1, 1, 1, 1, 1, 1, 1, 1,\n",
       "       1, 1, 1, 1, 1, 1, 1, 1, 1, 1, 1, 1, 1, 1, 1, 1, 1, 1, 1, 1, 1, 1,\n",
       "       1, 1, 1, 1, 1, 1, 1, 1, 1, 1, 1, 1, 1, 1, 1, 1, 1, 1, 1, 1, 1, 1,\n",
       "       1, 1, 1, 1, 1, 1, 1, 1, 1, 1, 1, 1, 1, 1, 1, 1, 1, 1, 1, 1, 1, 1,\n",
       "       1, 1, 1, 1, 1, 1, 1, 1, 1, 1, 1, 1, 1, 1, 1, 1, 1, 1, 1, 1, 1, 1,\n",
       "       1, 1, 0, 0, 0, 0, 0, 0, 0, 0, 0, 0, 0, 0, 0, 0, 0, 0, 0, 0, 0, 0,\n",
       "       0, 0, 0, 0, 0, 0, 0, 0, 0, 0, 0, 0, 0, 0, 0, 0, 0, 0, 0, 0, 0, 0,\n",
       "       0, 0, 0, 0, 0, 0, 0, 0, 0, 0, 0, 0, 0, 0, 0, 0, 0, 0, 0, 0, 0, 0,\n",
       "       0, 0, 0, 0, 0, 0, 0, 0, 0, 0, 0, 0, 0, 0, 0, 0, 0, 0, 0, 0, 0, 0,\n",
       "       0, 0, 0, 0, 0, 0, 0, 0, 0, 0, 0, 0, 0, 0, 0, 0, 0, 0, 0, 0, 0, 0,\n",
       "       0, 0, 0, 0, 0, 0, 0, 0, 0, 0, 0, 0, 0, 0, 0, 0, 0, 0, 0, 0, 0, 0,\n",
       "       0, 0, 0, 0, 0, 0, 0, 0, 0, 0, 0, 0, 0, 0, 0, 0, 0, 0, 0, 0, 0, 0,\n",
       "       0, 0, 0, 0, 0, 0, 0, 0, 0, 0, 0, 0, 0, 0, 0, 0, 0, 0, 0, 0, 0, 0,\n",
       "       0, 0, 0, 0, 0, 0, 0, 0, 0, 0, 0, 0, 0, 0, 0, 0, 0, 0, 0, 0, 0, 0,\n",
       "       0, 0, 0, 0])"
      ]
     },
     "execution_count": 28,
     "metadata": {},
     "output_type": "execute_result"
    }
   ],
   "source": [
    "y_test_classes"
   ]
  },
  {
   "cell_type": "code",
   "execution_count": 29,
   "metadata": {},
   "outputs": [],
   "source": [
    "from sklearn.metrics import confusion_matrix\n",
    "matrix = confusion_matrix(y_pred_classes, y_test_classes)"
   ]
  },
  {
   "cell_type": "code",
   "execution_count": 30,
   "metadata": {},
   "outputs": [
    {
     "name": "stdout",
     "output_type": "stream",
     "text": [
      "[[156   5]\n",
      " [ 44 195]]\n"
     ]
    }
   ],
   "source": [
    "print(matrix)"
   ]
  }
 ],
 "metadata": {
  "kernelspec": {
   "display_name": "Python 3",
   "language": "python",
   "name": "python3"
  },
  "language_info": {
   "codemirror_mode": {
    "name": "ipython",
    "version": 3
   },
   "file_extension": ".py",
   "mimetype": "text/x-python",
   "name": "python",
   "nbconvert_exporter": "python",
   "pygments_lexer": "ipython3",
   "version": "3.7.4"
  }
 },
 "nbformat": 4,
 "nbformat_minor": 4
}
